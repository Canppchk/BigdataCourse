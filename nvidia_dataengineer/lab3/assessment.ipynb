{
 "cells": [
  {
   "cell_type": "markdown",
   "id": "d1e406a3",
   "metadata": {},
   "source": [
    "<a href=\"https://www.nvidia.com/dli\"> <img src=\"images/DLI_Header.png\" alt=\"Header\" style=\"width: 400px;\"/> </a>"
   ]
  },
  {
   "cell_type": "markdown",
   "id": "acd78eef",
   "metadata": {},
   "source": [
    "# Final Project: Data Detective\n",
    "\n",
    "Here is the story: You have inherited this dashboard from a coworker that has gone on vacation. We want to let users query across stations, but *ughhhh* it's too slow!\n",
    "\n",
    "### Running the App\n",
    "The app is very similar to what we have worked in the previous set of notebooks. In fact, it uses the same set of ports, so please click the circle <img src=images/kernel.png width=15px/> to the left to make sure the kernels for the previous notebooks have been stopped. Press the ↻ above to restart the kernel for this notebook.\n",
    "\n",
    "Run the two cells below to build the link to the dashboard and build the dashboard itself. Unlike before, this dashboard runs continuously, so press the ■ above to stop it in order to make changes. Because of this, make sure to build the link to the dashboard before launching the dashboard itself.\n",
    "\n",
    "### Changing the Code\n",
    "Speaking of changes, our coworker has kindly left a handoff list with ideas on how to improve the dashboard. The code for the app is under [assessment/dash_app.py](assessment/dash_app.py).\n",
    "\n",
    "*Dear Colleague,*\n",
    "\n",
    "*I don't know how long I'll stay on this tropical island. Hopefully, forever. Here is a list of small fixes I wish I could do:*\n",
    "* *Right now, I'm only reading the data for one station. How do I get all of them?* \n",
    " * *I think I should update `lines 24 - 25`, and I'll need to add `compute()` somewhere...*\n",
    "* *The `to_pandas()` on `line 58` seems to be in a bad spot.*\n",
    " * *Should I delete it and add a `to_pandas()` line in `update_map` and `update_series`?*\n",
    "* *Right now, `update_series` produces a line for all loaded stations, but I want to make it show only one station.*\n",
    " * *I should update `line 218` and delete `line 219`.*\n",
    "* *I should make a test for data quality. Maybe I should add a `print(df.describe())` somewhere.*\n",
    " * *If something is wrong, bet I can fix it by adding one line.*\n",
    " \n",
    "*If I implement the above, I believe I can get each method to run under one second!*\n",
    " \n",
    "See if you can take your coworker up on their challenge. The assessment will be graded like so:\n",
    "\n",
    "Total available points: **100pts**\n",
    "Points needed to pass: **90pts**\n",
    "* `update_map` - This function will be called on five different days. **+10pts** for each day accurately evaluated **under one second**. \n",
    "* `update_series` - This function will be called on five different stations. **+10pts** for each station accurately evaulated **under one second**.\n",
    "\n",
    "We have left a copy of the original file in [assessment/copy.py](assessment/copy.py) for reference. Good luck!"
   ]
  },
  {
   "cell_type": "code",
   "execution_count": 6,
   "id": "15b2b92e",
   "metadata": {},
   "outputs": [
    {
     "data": {
      "text/html": [
       "<a href=\"assessment/copy.py.com/plotly\">Link to Dashboard</a>"
      ],
      "text/plain": [
       "<IPython.core.display.HTML object>"
      ]
     },
     "metadata": {},
     "output_type": "display_data"
    }
   ],
   "source": [
    "from IPython.core.display import display, HTML\n",
    "my_url = \"assessment/dash_app.py\"\n",
    "my_url = my_url.rsplit(\".com\", 1)[0] + \".com/plotly\"\n",
    "display(HTML('<a href=\"' + my_url + '\">Link to Dashboard</a>'))"
   ]
  },
  {
   "cell_type": "markdown",
   "id": "dfcb87cf",
   "metadata": {},
   "source": [
    "Build and run app. Press ■ to stop and make changes."
   ]
  },
  {
   "cell_type": "code",
   "execution_count": null,
   "id": "d9a64885",
   "metadata": {},
   "outputs": [
    {
     "name": "stdout",
     "output_type": "stream",
     "text": [
      "Loading data...\n",
      "       STATION   LATITUDE   LONGITUDE        DATE  DlySum\n",
      "0  AQC00914902 -14.272799 -170.692001  2020-04-06       0\n",
      "1  AQC00914902 -14.272799 -170.692001  2020-04-10       0\n",
      "2  AQC00914902 -14.272799 -170.692001  2020-04-27       0\n",
      "3  AQC00914902 -14.272799 -170.692001  2020-05-03       0\n",
      "4  AQC00914902 -14.272799 -170.692001  2020-05-04       0\n",
      "1.0033278465270996 seconds\n",
      "Data loaded. Defining columns...\n",
      "0.11972975730895996 seconds\n",
      "Data computed. Defining Dash App...\n",
      "0.007699489593505859 seconds\n",
      "App defined. Creating Callbacks...\n",
      "0.00010442733764648438 seconds\n",
      "Callbacks created. App finished building.\n",
      "Dash is running on http://0.0.0.0:8050/\n",
      "\n",
      " * Serving Flask app 'dash_app' (lazy loading)\n",
      " * Environment: production\n",
      "\u001b[31m   WARNING: This is a development server. Do not use it in a production deployment.\u001b[0m\n",
      "\u001b[2m   Use a production WSGI server instead.\u001b[0m\n",
      " * Debug mode: off\n",
      " * Running on all addresses.\n",
      "   WARNING: This is a development server. Do not use it in a production deployment.\n",
      " * Running on http://172.18.0.4:8050/ (Press CTRL+C to quit)\n"
     ]
    }
   ],
   "source": [
    "!python3 -m assessment.dash_app"
   ]
  },
  {
   "cell_type": "markdown",
   "id": "98ffbda4",
   "metadata": {},
   "source": [
    "## Run the Assessment\n",
    "\n",
    "To assess your solution, run the following cell after stopping (■) the previous cell. It will compare your solution to ours in order to verify accuracy. It will build `dash_app` in order to assess it, which takes a few minutes, so please double check your solution before submitting."
   ]
  },
  {
   "cell_type": "code",
   "execution_count": null,
   "id": "918d08fa",
   "metadata": {},
   "outputs": [],
   "source": [
    "!python3 -m run_assessment"
   ]
  },
  {
   "cell_type": "markdown",
   "id": "0cf74316",
   "metadata": {},
   "source": [
    "## Generate a Certificate\n",
    "\n",
    "If you passed the assessment, please return to the course page (shown below) and click the \"ASSESS TASK\" button, which will generate your certificate for the course.\n",
    "\n",
    "<img src=\"./images/assess_task.png\" style=\"width: 800px;\">"
   ]
  },
  {
   "cell_type": "markdown",
   "id": "a0fdded6",
   "metadata": {},
   "source": [
    "<a href=\"https://www.nvidia.com/dli\"> <img src=\"images/DLI_Header.png\" alt=\"Header\" style=\"width: 400px;\"/> </a>"
   ]
  }
 ],
 "metadata": {
  "kernelspec": {
   "display_name": "Python 3.9.1 64-bit",
   "language": "python",
   "name": "python3"
  },
  "language_info": {
   "codemirror_mode": {
    "name": "ipython",
    "version": 3
   },
   "file_extension": ".py",
   "mimetype": "text/x-python",
   "name": "python",
   "nbconvert_exporter": "python",
   "pygments_lexer": "ipython3",
   "version": "3.9.1"
  },
  "vscode": {
   "interpreter": {
    "hash": "e8bcb7b02199aad12110b46bca1de1b9c5d7283b49c4854b38d5c679784056a5"
   }
  }
 },
 "nbformat": 4,
 "nbformat_minor": 5
}
