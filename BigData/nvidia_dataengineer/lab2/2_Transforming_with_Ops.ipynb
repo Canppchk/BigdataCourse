{
 "cells": [
  {
   "cell_type": "markdown",
   "id": "a94b383c",
   "metadata": {},
   "source": [
    "<a href=\"https://www.nvidia.com/dli\"> <img src=\"images/DLI_Header.png\" alt=\"Header\" style=\"width: 400px;\"/> </a>"
   ]
  },
  {
   "cell_type": "markdown",
   "id": "2a5e790c",
   "metadata": {},
   "source": [
    "# Transforming with Ops"
   ]
  },
  {
   "cell_type": "markdown",
   "id": "97481f23",
   "metadata": {},
   "source": [
    "In the previous notebook, we learned how to use NVTabular to Extract data from one data source and Load it into a different file format, but we are still missing the T from ETL: Transform. In this notebook, we will learn how to transform with [Ops](https://nvidia-merlin.github.io/NVTabular/main/api/ops/index.html).<br><br>\n",
    "<b>Learning Objectives</b>:\n",
    "* Learn how to use prebuilt Ops.\n",
    "* Learn how create user defined Ops with the [LambdaOp](https://nvidia-merlin.github.io/NVTabular/main/api/ops/lambdaop.html).\n",
    "* Learn why and how to [fit](https://nvidia-merlin.github.io/NVTabular/main/api/workflow.html#nvtabular.workflow.Workflow.fit) the dataset.\n",
    "\n",
    "First, let's load our libraries and a view of our data."
   ]
  },
  {
   "cell_type": "code",
   "execution_count": 1,
   "id": "813827f2",
   "metadata": {},
   "outputs": [
    {
     "data": {
      "text/html": [
       "<div>\n",
       "<style scoped>\n",
       "    .dataframe tbody tr th:only-of-type {\n",
       "        vertical-align: middle;\n",
       "    }\n",
       "\n",
       "    .dataframe tbody tr th {\n",
       "        vertical-align: top;\n",
       "    }\n",
       "\n",
       "    .dataframe thead th {\n",
       "        text-align: right;\n",
       "    }\n",
       "</style>\n",
       "<table border=\"1\" class=\"dataframe\">\n",
       "  <thead>\n",
       "    <tr style=\"text-align: right;\">\n",
       "      <th></th>\n",
       "      <th>STATION</th>\n",
       "      <th>DATE</th>\n",
       "      <th>HourlyDewPointTemperature</th>\n",
       "      <th>HourlyDryBulbTemperature</th>\n",
       "      <th>HourlyPrecipitation</th>\n",
       "      <th>HourlyRelativeHumidity</th>\n",
       "      <th>HourlyWetBulbTemperature</th>\n",
       "      <th>HourlyWindDirection</th>\n",
       "      <th>HourlyWindSpeed</th>\n",
       "    </tr>\n",
       "  </thead>\n",
       "  <tbody>\n",
       "    <tr>\n",
       "      <th>0</th>\n",
       "      <td>72058700184</td>\n",
       "      <td>2011-05-01T00:00:00</td>\n",
       "      <td>72.0</td>\n",
       "      <td>75.0</td>\n",
       "      <td>&lt;NA&gt;</td>\n",
       "      <td>89.0</td>\n",
       "      <td>&lt;NA&gt;</td>\n",
       "      <td>130.0</td>\n",
       "      <td>9.0</td>\n",
       "    </tr>\n",
       "    <tr>\n",
       "      <th>1</th>\n",
       "      <td>72058700184</td>\n",
       "      <td>2011-05-01T00:15:00</td>\n",
       "      <td>72.0</td>\n",
       "      <td>75.0</td>\n",
       "      <td>&lt;NA&gt;</td>\n",
       "      <td>89.0</td>\n",
       "      <td>&lt;NA&gt;</td>\n",
       "      <td>120.0</td>\n",
       "      <td>9.0</td>\n",
       "    </tr>\n",
       "    <tr>\n",
       "      <th>2</th>\n",
       "      <td>72058700184</td>\n",
       "      <td>2011-05-01T00:35:00</td>\n",
       "      <td>72.0</td>\n",
       "      <td>75.0</td>\n",
       "      <td>&lt;NA&gt;</td>\n",
       "      <td>89.0</td>\n",
       "      <td>&lt;NA&gt;</td>\n",
       "      <td>120.0</td>\n",
       "      <td>11.0</td>\n",
       "    </tr>\n",
       "    <tr>\n",
       "      <th>3</th>\n",
       "      <td>72058700184</td>\n",
       "      <td>2011-05-01T01:00:00</td>\n",
       "      <td>72.0</td>\n",
       "      <td>75.0</td>\n",
       "      <td>&lt;NA&gt;</td>\n",
       "      <td>89.0</td>\n",
       "      <td>&lt;NA&gt;</td>\n",
       "      <td>130.0</td>\n",
       "      <td>14.0</td>\n",
       "    </tr>\n",
       "    <tr>\n",
       "      <th>4</th>\n",
       "      <td>72058700184</td>\n",
       "      <td>2011-05-01T01:15:00</td>\n",
       "      <td>72.0</td>\n",
       "      <td>75.0</td>\n",
       "      <td>&lt;NA&gt;</td>\n",
       "      <td>89.0</td>\n",
       "      <td>&lt;NA&gt;</td>\n",
       "      <td>130.0</td>\n",
       "      <td>13.0</td>\n",
       "    </tr>\n",
       "  </tbody>\n",
       "</table>\n",
       "</div>"
      ],
      "text/plain": [
       "       STATION                 DATE  HourlyDewPointTemperature  \\\n",
       "0  72058700184  2011-05-01T00:00:00                       72.0   \n",
       "1  72058700184  2011-05-01T00:15:00                       72.0   \n",
       "2  72058700184  2011-05-01T00:35:00                       72.0   \n",
       "3  72058700184  2011-05-01T01:00:00                       72.0   \n",
       "4  72058700184  2011-05-01T01:15:00                       72.0   \n",
       "\n",
       "   HourlyDryBulbTemperature HourlyPrecipitation  HourlyRelativeHumidity  \\\n",
       "0                      75.0                <NA>                    89.0   \n",
       "1                      75.0                <NA>                    89.0   \n",
       "2                      75.0                <NA>                    89.0   \n",
       "3                      75.0                <NA>                    89.0   \n",
       "4                      75.0                <NA>                    89.0   \n",
       "\n",
       "  HourlyWetBulbTemperature  HourlyWindDirection  HourlyWindSpeed  \n",
       "0                     <NA>                130.0              9.0  \n",
       "1                     <NA>                120.0              9.0  \n",
       "2                     <NA>                120.0             11.0  \n",
       "3                     <NA>                130.0             14.0  \n",
       "4                     <NA>                130.0             13.0  "
      ]
     },
     "execution_count": 1,
     "metadata": {},
     "output_type": "execute_result"
    }
   ],
   "source": [
    "import cudf\n",
    "import glob\n",
    "import nvtabular as nvt\n",
    "\n",
    "df = cudf.read_parquet(\"data/parquet_out/*.parquet\")\n",
    "df.head()"
   ]
  },
  {
   "cell_type": "code",
   "execution_count": 3,
   "id": "fc69eb92",
   "metadata": {},
   "outputs": [
    {
     "data": {
      "text/html": [
       "<div>\n",
       "<style scoped>\n",
       "    .dataframe tbody tr th:only-of-type {\n",
       "        vertical-align: middle;\n",
       "    }\n",
       "\n",
       "    .dataframe tbody tr th {\n",
       "        vertical-align: top;\n",
       "    }\n",
       "\n",
       "    .dataframe thead th {\n",
       "        text-align: right;\n",
       "    }\n",
       "</style>\n",
       "<table border=\"1\" class=\"dataframe\">\n",
       "  <thead>\n",
       "    <tr style=\"text-align: right;\">\n",
       "      <th></th>\n",
       "      <th>STATION</th>\n",
       "      <th>HourlyDewPointTemperature</th>\n",
       "      <th>HourlyDryBulbTemperature</th>\n",
       "      <th>HourlyPrecipitation</th>\n",
       "      <th>HourlyRelativeHumidity</th>\n",
       "      <th>HourlyWetBulbTemperature</th>\n",
       "      <th>HourlyWindDirection</th>\n",
       "      <th>HourlyWindSpeed</th>\n",
       "    </tr>\n",
       "  </thead>\n",
       "  <tbody>\n",
       "    <tr>\n",
       "      <th>count</th>\n",
       "      <td>4.857160e+05</td>\n",
       "      <td>466931.000000</td>\n",
       "      <td>467217.000000</td>\n",
       "      <td>181930.000000</td>\n",
       "      <td>466923.000000</td>\n",
       "      <td>385802.000000</td>\n",
       "      <td>457207.000000</td>\n",
       "      <td>467754.000000</td>\n",
       "    </tr>\n",
       "    <tr>\n",
       "      <th>mean</th>\n",
       "      <td>7.220550e+10</td>\n",
       "      <td>51.801150</td>\n",
       "      <td>64.647738</td>\n",
       "      <td>0.012144</td>\n",
       "      <td>69.356162</td>\n",
       "      <td>56.517037</td>\n",
       "      <td>146.610354</td>\n",
       "      <td>6.693965</td>\n",
       "    </tr>\n",
       "    <tr>\n",
       "      <th>std</th>\n",
       "      <td>1.601237e+08</td>\n",
       "      <td>19.543238</td>\n",
       "      <td>16.780893</td>\n",
       "      <td>0.061679</td>\n",
       "      <td>25.092902</td>\n",
       "      <td>15.570599</td>\n",
       "      <td>118.231871</td>\n",
       "      <td>6.197363</td>\n",
       "    </tr>\n",
       "    <tr>\n",
       "      <th>min</th>\n",
       "      <td>7.205870e+10</td>\n",
       "      <td>-37.000000</td>\n",
       "      <td>-5.000000</td>\n",
       "      <td>0.000000</td>\n",
       "      <td>0.000000</td>\n",
       "      <td>-6.000000</td>\n",
       "      <td>0.000000</td>\n",
       "      <td>0.000000</td>\n",
       "    </tr>\n",
       "    <tr>\n",
       "      <th>25%</th>\n",
       "      <td>7.205870e+10</td>\n",
       "      <td>36.000000</td>\n",
       "      <td>53.000000</td>\n",
       "      <td>0.000000</td>\n",
       "      <td>52.000000</td>\n",
       "      <td>45.000000</td>\n",
       "      <td>20.000000</td>\n",
       "      <td>3.000000</td>\n",
       "    </tr>\n",
       "    <tr>\n",
       "      <th>50%</th>\n",
       "      <td>7.205870e+10</td>\n",
       "      <td>56.000000</td>\n",
       "      <td>68.000000</td>\n",
       "      <td>0.000000</td>\n",
       "      <td>74.000000</td>\n",
       "      <td>59.000000</td>\n",
       "      <td>140.000000</td>\n",
       "      <td>6.000000</td>\n",
       "    </tr>\n",
       "    <tr>\n",
       "      <th>75%</th>\n",
       "      <td>7.242309e+10</td>\n",
       "      <td>69.000000</td>\n",
       "      <td>77.000000</td>\n",
       "      <td>0.000000</td>\n",
       "      <td>90.000000</td>\n",
       "      <td>70.000000</td>\n",
       "      <td>240.000000</td>\n",
       "      <td>9.000000</td>\n",
       "    </tr>\n",
       "    <tr>\n",
       "      <th>max</th>\n",
       "      <td>7.242309e+10</td>\n",
       "      <td>88.000000</td>\n",
       "      <td>108.000000</td>\n",
       "      <td>2.000000</td>\n",
       "      <td>100.000000</td>\n",
       "      <td>84.000000</td>\n",
       "      <td>360.000000</td>\n",
       "      <td>2237.000000</td>\n",
       "    </tr>\n",
       "  </tbody>\n",
       "</table>\n",
       "</div>"
      ],
      "text/plain": [
       "            STATION  HourlyDewPointTemperature  HourlyDryBulbTemperature  \\\n",
       "count  4.857160e+05              466931.000000             467217.000000   \n",
       "mean   7.220550e+10                  51.801150                 64.647738   \n",
       "std    1.601237e+08                  19.543238                 16.780893   \n",
       "min    7.205870e+10                 -37.000000                 -5.000000   \n",
       "25%    7.205870e+10                  36.000000                 53.000000   \n",
       "50%    7.205870e+10                  56.000000                 68.000000   \n",
       "75%    7.242309e+10                  69.000000                 77.000000   \n",
       "max    7.242309e+10                  88.000000                108.000000   \n",
       "\n",
       "       HourlyPrecipitation  HourlyRelativeHumidity  HourlyWetBulbTemperature  \\\n",
       "count        181930.000000           466923.000000             385802.000000   \n",
       "mean              0.012144               69.356162                 56.517037   \n",
       "std               0.061679               25.092902                 15.570599   \n",
       "min               0.000000                0.000000                 -6.000000   \n",
       "25%               0.000000               52.000000                 45.000000   \n",
       "50%               0.000000               74.000000                 59.000000   \n",
       "75%               0.000000               90.000000                 70.000000   \n",
       "max               2.000000              100.000000                 84.000000   \n",
       "\n",
       "       HourlyWindDirection  HourlyWindSpeed  \n",
       "count        457207.000000    467754.000000  \n",
       "mean            146.610354         6.693965  \n",
       "std             118.231871         6.197363  \n",
       "min               0.000000         0.000000  \n",
       "25%              20.000000         3.000000  \n",
       "50%             140.000000         6.000000  \n",
       "75%             240.000000         9.000000  \n",
       "max             360.000000      2237.000000  "
      ]
     },
     "execution_count": 3,
     "metadata": {},
     "output_type": "execute_result"
    }
   ],
   "source": [
    "df.describe()"
   ]
  },
  {
   "cell_type": "markdown",
   "id": "e2167ee5",
   "metadata": {},
   "source": [
    "### Prebuilt Ops\n",
    "\n",
    "NVTabular has a few prebuilt [Ops](https://nvidia-merlin.github.io/NVTabular/main/api/ops/index.html). What is a high [dry bulb temperature](https://www.weather.gov/source/zhu/ZHU_Training_Page/definitions/dry_wet_bulb_definition/dry_wet_bulb.html)? What is a low wet bulb temperature? Let's [Normalize](https://nvidia-merlin.github.io/NVTabular/main/api/ops/normalize.html) these two columns to answer these questions. [Standardizing](https://stats.idre.ucla.edu/stata/faq/how-do-i-standardize-variables-in-stata/) our data gives us a scale invariant way to compare our numbers, so let's do so with the `Normalize` Op. \n",
    "\n",
    "Ops can be applied to a [ColumnGroup](https://nvidia-merlin.github.io/NVTabular/main/resources/architecture.html?highlight=columngroup) like so:\n",
    "\n",
    "`features = [ column_name, ...] >> op1 >> op2 >> ...`\n",
    "\n",
    "Note that when we apply an Op to a list of strings, it will automatically turn the list into a ColumnGroup."
   ]
  },
  {
   "cell_type": "code",
   "execution_count": 4,
   "id": "2d5e8cbb",
   "metadata": {},
   "outputs": [
    {
     "data": {
      "image/svg+xml": "<?xml version=\"1.0\" encoding=\"UTF-8\" standalone=\"no\"?>\n<!DOCTYPE svg PUBLIC \"-//W3C//DTD SVG 1.1//EN\"\n \"http://www.w3.org/Graphics/SVG/1.1/DTD/svg11.dtd\">\n<!-- Generated by graphviz version 2.40.1 (20161225.0304)\n -->\n<!-- Title: %3 Pages: 1 -->\n<svg width=\"701pt\" height=\"188pt\"\n viewBox=\"0.00 0.00 700.84 188.00\" xmlns=\"http://www.w3.org/2000/svg\" xmlns:xlink=\"http://www.w3.org/1999/xlink\">\n<g id=\"graph0\" class=\"graph\" transform=\"scale(1 1) rotate(0) translate(4 184)\">\n<title>%3</title>\n<polygon fill=\"#ffffff\" stroke=\"transparent\" points=\"-4,4 -4,-184 696.8385,-184 696.8385,4 -4,4\"/>\n<!-- 0 -->\n<g id=\"node1\" class=\"node\">\n<title>0</title>\n<ellipse fill=\"none\" stroke=\"#000000\" cx=\"346.4193\" cy=\"-162\" rx=\"340.6396\" ry=\"18\"/>\n<text text-anchor=\"middle\" x=\"346.4193\" y=\"-158.3\" font-family=\"Times,serif\" font-size=\"14.00\" fill=\"#000000\">input cols=[HourlyDryBulbTemperature, HourlyWetBulbTemperature]</text>\n</g>\n<!-- 1 -->\n<g id=\"node2\" class=\"node\">\n<title>1</title>\n<ellipse fill=\"none\" stroke=\"#000000\" cx=\"346.4193\" cy=\"-90\" rx=\"59.2899\" ry=\"18\"/>\n<text text-anchor=\"middle\" x=\"346.4193\" y=\"-86.3\" font-family=\"Times,serif\" font-size=\"14.00\" fill=\"#000000\">Normalize</text>\n</g>\n<!-- 0&#45;&gt;1 -->\n<g id=\"edge1\" class=\"edge\">\n<title>0&#45;&gt;1</title>\n<path fill=\"none\" stroke=\"#000000\" d=\"M346.4193,-143.8314C346.4193,-136.131 346.4193,-126.9743 346.4193,-118.4166\"/>\n<polygon fill=\"#000000\" stroke=\"#000000\" points=\"349.9194,-118.4132 346.4193,-108.4133 342.9194,-118.4133 349.9194,-118.4132\"/>\n</g>\n<!-- 2 -->\n<g id=\"node3\" class=\"node\">\n<title>2</title>\n<ellipse fill=\"none\" stroke=\"#000000\" cx=\"346.4193\" cy=\"-18\" rx=\"346.3385\" ry=\"18\"/>\n<text text-anchor=\"middle\" x=\"346.4193\" y=\"-14.3\" font-family=\"Times,serif\" font-size=\"14.00\" fill=\"#000000\">output cols=[HourlyDryBulbTemperature, HourlyWetBulbTemperature]</text>\n</g>\n<!-- 1&#45;&gt;2 -->\n<g id=\"edge2\" class=\"edge\">\n<title>1&#45;&gt;2</title>\n<path fill=\"none\" stroke=\"#000000\" d=\"M346.4193,-71.8314C346.4193,-64.131 346.4193,-54.9743 346.4193,-46.4166\"/>\n<polygon fill=\"#000000\" stroke=\"#000000\" points=\"349.9194,-46.4132 346.4193,-36.4133 342.9194,-46.4133 349.9194,-46.4132\"/>\n</g>\n</g>\n</svg>\n",
      "text/plain": [
       "<graphviz.dot.Digraph at 0x7ffa90ec7b10>"
      ]
     },
     "execution_count": 4,
     "metadata": {},
     "output_type": "execute_result"
    }
   ],
   "source": [
    "columns = [\"HourlyDryBulbTemperature\", \"HourlyWetBulbTemperature\"]\n",
    "normalized_cols = columns >> nvt.ops.Normalize()\n",
    "normalized_cols.graph"
   ]
  },
  {
   "cell_type": "markdown",
   "id": "fa4fb116",
   "metadata": {},
   "source": [
    "### The LambdaOp\n",
    "While the prebuilt operations are useful, we can build our own with the [LambdaOp](https://nvidia-merlin.github.io/NVTabular/main/api/ops/lambdaop.html).\n",
    "\n",
    "In the data [documentation](https://www1.ncdc.noaa.gov/pub/data/cdo/documentation/LCD_documentation.pdf), it states that the temperatures are in Fahrenheit. Let's convert `HourlyDewPointTemperature` to Celsius, which is frequently used in scientific analysis."
   ]
  },
  {
   "cell_type": "code",
   "execution_count": 5,
   "id": "39eeb19d",
   "metadata": {},
   "outputs": [
    {
     "data": {
      "image/svg+xml": "<?xml version=\"1.0\" encoding=\"UTF-8\" standalone=\"no\"?>\n<!DOCTYPE svg PUBLIC \"-//W3C//DTD SVG 1.1//EN\"\n \"http://www.w3.org/Graphics/SVG/1.1/DTD/svg11.dtd\">\n<!-- Generated by graphviz version 2.40.1 (20161225.0304)\n -->\n<!-- Title: %3 Pages: 1 -->\n<svg width=\"437pt\" height=\"188pt\"\n viewBox=\"0.00 0.00 436.96 188.00\" xmlns=\"http://www.w3.org/2000/svg\" xmlns:xlink=\"http://www.w3.org/1999/xlink\">\n<g id=\"graph0\" class=\"graph\" transform=\"scale(1 1) rotate(0) translate(4 184)\">\n<title>%3</title>\n<polygon fill=\"#ffffff\" stroke=\"transparent\" points=\"-4,4 -4,-184 432.9619,-184 432.9619,4 -4,4\"/>\n<!-- 0 -->\n<g id=\"node1\" class=\"node\">\n<title>0</title>\n<ellipse fill=\"none\" stroke=\"#000000\" cx=\"214.481\" cy=\"-90\" rx=\"61.99\" ry=\"18\"/>\n<text text-anchor=\"middle\" x=\"214.481\" y=\"-86.3\" font-family=\"Times,serif\" font-size=\"14.00\" fill=\"#000000\">LambdaOp</text>\n</g>\n<!-- 2 -->\n<g id=\"node3\" class=\"node\">\n<title>2</title>\n<ellipse fill=\"none\" stroke=\"#000000\" cx=\"214.481\" cy=\"-18\" rx=\"214.4619\" ry=\"18\"/>\n<text text-anchor=\"middle\" x=\"214.481\" y=\"-14.3\" font-family=\"Times,serif\" font-size=\"14.00\" fill=\"#000000\">output cols=[HourlyDewPointTemperature]</text>\n</g>\n<!-- 0&#45;&gt;2 -->\n<g id=\"edge2\" class=\"edge\">\n<title>0&#45;&gt;2</title>\n<path fill=\"none\" stroke=\"#000000\" d=\"M214.481,-71.8314C214.481,-64.131 214.481,-54.9743 214.481,-46.4166\"/>\n<polygon fill=\"#000000\" stroke=\"#000000\" points=\"217.9811,-46.4132 214.481,-36.4133 210.9811,-46.4133 217.9811,-46.4132\"/>\n</g>\n<!-- 1 -->\n<g id=\"node2\" class=\"node\">\n<title>1</title>\n<ellipse fill=\"none\" stroke=\"#000000\" cx=\"214.481\" cy=\"-162\" rx=\"207.9631\" ry=\"18\"/>\n<text text-anchor=\"middle\" x=\"214.481\" y=\"-158.3\" font-family=\"Times,serif\" font-size=\"14.00\" fill=\"#000000\">input cols=[HourlyDewPointTemperature]</text>\n</g>\n<!-- 1&#45;&gt;0 -->\n<g id=\"edge1\" class=\"edge\">\n<title>1&#45;&gt;0</title>\n<path fill=\"none\" stroke=\"#000000\" d=\"M214.481,-143.8314C214.481,-136.131 214.481,-126.9743 214.481,-118.4166\"/>\n<polygon fill=\"#000000\" stroke=\"#000000\" points=\"217.9811,-118.4132 214.481,-108.4133 210.9811,-118.4133 217.9811,-118.4132\"/>\n</g>\n</g>\n</svg>\n",
      "text/plain": [
       "<graphviz.dot.Digraph at 0x7ff952b47e90>"
      ]
     },
     "execution_count": 5,
     "metadata": {},
     "output_type": "execute_result"
    }
   ],
   "source": [
    "columns = [\"HourlyDewPointTemperature\"]\n",
    "\n",
    "def fahrenheit_to_celsius(col):\n",
    "    return (col - 32) * (5 / 9)\n",
    "\n",
    "celsius_cols = columns >> nvt.ops.LambdaOp(fahrenheit_to_celsius)\n",
    "celsius_cols.graph"
   ]
  },
  {
   "cell_type": "markdown",
   "id": "c31291e5",
   "metadata": {},
   "source": [
    "### Difference Lag\n",
    "If we want to see the difference between the rows, we can use the [DifferenceLag](https://nvidia-merlin.github.io/NVTabular/main/api/ops/differencelag.html) Op. In order to use it, our data must already be ordered. Thankfully, it is as shown by the `DATE` column. We can also specify partitions with the `partition_cols` parameter to prevent calculating a difference between different sets if data, like between our different `Station`s.\n",
    "\n",
    "**TODO**: Update the code below to calculate the `1` lag difference for `HourlyWindSpeed`. Use the [documentation](https://nvidia-merlin.github.io/NVTabular/main/api/ops/differencelag.html) as a hint or click the `...` for an answer."
   ]
  },
  {
   "cell_type": "code",
   "execution_count": 8,
   "id": "69f16da1",
   "metadata": {
    "tags": []
   },
   "outputs": [
    {
     "data": {
      "image/svg+xml": "<?xml version=\"1.0\" encoding=\"UTF-8\" standalone=\"no\"?>\n<!DOCTYPE svg PUBLIC \"-//W3C//DTD SVG 1.1//EN\"\n \"http://www.w3.org/Graphics/SVG/1.1/DTD/svg11.dtd\">\n<!-- Generated by graphviz version 2.40.1 (20161225.0304)\n -->\n<!-- Title: %3 Pages: 1 -->\n<svg width=\"572pt\" height=\"188pt\"\n viewBox=\"0.00 0.00 571.98 188.00\" xmlns=\"http://www.w3.org/2000/svg\" xmlns:xlink=\"http://www.w3.org/1999/xlink\">\n<g id=\"graph0\" class=\"graph\" transform=\"scale(1 1) rotate(0) translate(4 184)\">\n<title>%3</title>\n<polygon fill=\"#ffffff\" stroke=\"transparent\" points=\"-4,4 -4,-184 567.9758,-184 567.9758,4 -4,4\"/>\n<!-- 0 -->\n<g id=\"node1\" class=\"node\">\n<title>0</title>\n<ellipse fill=\"none\" stroke=\"#000000\" cx=\"156.6361\" cy=\"-162\" rx=\"156.7723\" ry=\"18\"/>\n<text text-anchor=\"middle\" x=\"156.6361\" y=\"-158.3\" font-family=\"Times,serif\" font-size=\"14.00\" fill=\"#000000\">input cols=[HourlyWindSpeed]</text>\n</g>\n<!-- 2 -->\n<g id=\"node3\" class=\"node\">\n<title>2</title>\n<ellipse fill=\"none\" stroke=\"#000000\" cx=\"301.6361\" cy=\"-90\" rx=\"77.1866\" ry=\"18\"/>\n<text text-anchor=\"middle\" x=\"301.6361\" y=\"-86.3\" font-family=\"Times,serif\" font-size=\"14.00\" fill=\"#000000\">DifferenceLag</text>\n</g>\n<!-- 0&#45;&gt;2 -->\n<g id=\"edge1\" class=\"edge\">\n<title>0&#45;&gt;2</title>\n<path fill=\"none\" stroke=\"#000000\" d=\"M192.1071,-144.3868C212.4106,-134.3051 238.0103,-121.5935 259.3543,-110.9951\"/>\n<polygon fill=\"#000000\" stroke=\"#000000\" points=\"261.1193,-114.0265 268.5193,-106.4442 258.0061,-107.7569 261.1193,-114.0265\"/>\n</g>\n<!-- 1 -->\n<g id=\"node2\" class=\"node\">\n<title>1</title>\n<ellipse fill=\"none\" stroke=\"#000000\" cx=\"447.6361\" cy=\"-162\" rx=\"116.1796\" ry=\"18\"/>\n<text text-anchor=\"middle\" x=\"447.6361\" y=\"-158.3\" font-family=\"Times,serif\" font-size=\"14.00\" fill=\"#000000\">input cols=[STATION]</text>\n</g>\n<!-- 1&#45;&gt;2 -->\n<g id=\"edge2\" class=\"edge\">\n<title>1&#45;&gt;2</title>\n<path fill=\"none\" stroke=\"#000000\" d=\"M412.6655,-144.7542C391.997,-134.5616 365.6857,-121.5861 343.8646,-110.825\"/>\n<polygon fill=\"#000000\" stroke=\"#000000\" points=\"345.3339,-107.6472 334.8171,-106.3632 342.2378,-113.9253 345.3339,-107.6472\"/>\n</g>\n<!-- 3 -->\n<g id=\"node4\" class=\"node\">\n<title>3</title>\n<ellipse fill=\"none\" stroke=\"#000000\" cx=\"301.6361\" cy=\"-18\" rx=\"245.0565\" ry=\"18\"/>\n<text text-anchor=\"middle\" x=\"301.6361\" y=\"-14.3\" font-family=\"Times,serif\" font-size=\"14.00\" fill=\"#000000\">output cols=[HourlyWindSpeed_difference_lag_1]</text>\n</g>\n<!-- 2&#45;&gt;3 -->\n<g id=\"edge3\" class=\"edge\">\n<title>2&#45;&gt;3</title>\n<path fill=\"none\" stroke=\"#000000\" d=\"M301.6361,-71.8314C301.6361,-64.131 301.6361,-54.9743 301.6361,-46.4166\"/>\n<polygon fill=\"#000000\" stroke=\"#000000\" points=\"305.1362,-46.4132 301.6361,-36.4133 298.1362,-46.4133 305.1362,-46.4132\"/>\n</g>\n</g>\n</svg>\n",
      "text/plain": [
       "<graphviz.dot.Digraph at 0x7ff953395310>"
      ]
     },
     "execution_count": 8,
     "metadata": {},
     "output_type": "execute_result"
    }
   ],
   "source": [
    "lagged_cols = (\n",
    "    [\"HourlyWindSpeed\"]\n",
    "    >> nvt.ops.DifferenceLag(partition_cols=[\"STATION\"], shift=1)\n",
    ")\n",
    "lagged_cols.graph"
   ]
  },
  {
   "cell_type": "code",
   "execution_count": 9,
   "id": "20c634a0",
   "metadata": {
    "tags": []
   },
   "outputs": [
    {
     "data": {
      "image/svg+xml": "<?xml version=\"1.0\" encoding=\"UTF-8\" standalone=\"no\"?>\n<!DOCTYPE svg PUBLIC \"-//W3C//DTD SVG 1.1//EN\"\n \"http://www.w3.org/Graphics/SVG/1.1/DTD/svg11.dtd\">\n<!-- Generated by graphviz version 2.40.1 (20161225.0304)\n -->\n<!-- Title: %3 Pages: 1 -->\n<svg width=\"572pt\" height=\"188pt\"\n viewBox=\"0.00 0.00 571.98 188.00\" xmlns=\"http://www.w3.org/2000/svg\" xmlns:xlink=\"http://www.w3.org/1999/xlink\">\n<g id=\"graph0\" class=\"graph\" transform=\"scale(1 1) rotate(0) translate(4 184)\">\n<title>%3</title>\n<polygon fill=\"#ffffff\" stroke=\"transparent\" points=\"-4,4 -4,-184 567.9758,-184 567.9758,4 -4,4\"/>\n<!-- 0 -->\n<g id=\"node1\" class=\"node\">\n<title>0</title>\n<ellipse fill=\"none\" stroke=\"#000000\" cx=\"116.3397\" cy=\"-162\" rx=\"116.1796\" ry=\"18\"/>\n<text text-anchor=\"middle\" x=\"116.3397\" y=\"-158.3\" font-family=\"Times,serif\" font-size=\"14.00\" fill=\"#000000\">input cols=[STATION]</text>\n</g>\n<!-- 2 -->\n<g id=\"node3\" class=\"node\">\n<title>2</title>\n<ellipse fill=\"none\" stroke=\"#000000\" cx=\"261.3397\" cy=\"-90\" rx=\"77.1866\" ry=\"18\"/>\n<text text-anchor=\"middle\" x=\"261.3397\" y=\"-86.3\" font-family=\"Times,serif\" font-size=\"14.00\" fill=\"#000000\">DifferenceLag</text>\n</g>\n<!-- 0&#45;&gt;2 -->\n<g id=\"edge2\" class=\"edge\">\n<title>0&#45;&gt;2</title>\n<path fill=\"none\" stroke=\"#000000\" d=\"M151.0708,-144.7542C171.5977,-134.5616 197.7287,-121.5861 219.4004,-110.825\"/>\n<polygon fill=\"#000000\" stroke=\"#000000\" points=\"220.9859,-113.9455 228.3859,-106.3632 217.8727,-107.6759 220.9859,-113.9455\"/>\n</g>\n<!-- 1 -->\n<g id=\"node2\" class=\"node\">\n<title>1</title>\n<ellipse fill=\"none\" stroke=\"#000000\" cx=\"407.3397\" cy=\"-162\" rx=\"156.7723\" ry=\"18\"/>\n<text text-anchor=\"middle\" x=\"407.3397\" y=\"-158.3\" font-family=\"Times,serif\" font-size=\"14.00\" fill=\"#000000\">input cols=[HourlyWindSpeed]</text>\n</g>\n<!-- 1&#45;&gt;2 -->\n<g id=\"edge1\" class=\"edge\">\n<title>1&#45;&gt;2</title>\n<path fill=\"none\" stroke=\"#000000\" d=\"M371.6241,-144.3868C351.1805,-134.3051 325.4043,-121.5935 303.9131,-110.9951\"/>\n<polygon fill=\"#000000\" stroke=\"#000000\" points=\"305.2016,-107.7281 294.6849,-106.4442 302.1056,-114.0062 305.2016,-107.7281\"/>\n</g>\n<!-- 3 -->\n<g id=\"node4\" class=\"node\">\n<title>3</title>\n<ellipse fill=\"none\" stroke=\"#000000\" cx=\"261.3397\" cy=\"-18\" rx=\"245.0565\" ry=\"18\"/>\n<text text-anchor=\"middle\" x=\"261.3397\" y=\"-14.3\" font-family=\"Times,serif\" font-size=\"14.00\" fill=\"#000000\">output cols=[HourlyWindSpeed_difference_lag_1]</text>\n</g>\n<!-- 2&#45;&gt;3 -->\n<g id=\"edge3\" class=\"edge\">\n<title>2&#45;&gt;3</title>\n<path fill=\"none\" stroke=\"#000000\" d=\"M261.3397,-71.8314C261.3397,-64.131 261.3397,-54.9743 261.3397,-46.4166\"/>\n<polygon fill=\"#000000\" stroke=\"#000000\" points=\"264.8398,-46.4132 261.3397,-36.4133 257.8398,-46.4133 264.8398,-46.4132\"/>\n</g>\n</g>\n</svg>\n",
      "text/plain": [
       "<graphviz.dot.Digraph at 0x7ff952b4f790>"
      ]
     },
     "execution_count": 9,
     "metadata": {},
     "output_type": "execute_result"
    }
   ],
   "source": [
    "lagged_cols = (\n",
    "    [\"HourlyWindSpeed\"]\n",
    "    >> nvt.ops.DifferenceLag(partition_cols=[\"STATION\"], shift=1)\n",
    ")\n",
    "lagged_cols.graph"
   ]
  },
  {
   "cell_type": "markdown",
   "id": "5a31917f",
   "metadata": {},
   "source": [
    "### Data Quality Tools\n",
    "\n",
    "Even though we have already removed columns with empty values, we can see that there are still individual cells with empty values. We could fill these missing values with a constant value or a median, but if we do, we would also like to leave a flag to indicate that these values were altered.\n",
    "\n",
    "NVTabular has built in operations to do both steps at once. They will create a new column with a binary flagged tracking the changed columns.\n",
    "* [FillMissing](https://nvidia-merlin.github.io/NVTabular/main/api/ops/fillmissing.html): Replaces missing values with a constant pre-defined value.\n",
    "* [FillMedian](https://nvidia-merlin.github.io/NVTabular/main/api/ops/fillmedian.html): Replaces missing values with the median value for the column.\n",
    "\n",
    "**TODO**: Choose either `FillMissing` or `FillMedian` and apply it to all of the numbered columns. Set `add_binary_cols` to `True`."
   ]
  },
  {
   "cell_type": "code",
   "execution_count": null,
   "id": "c8f80d85",
   "metadata": {
    "tags": []
   },
   "outputs": [],
   "source": [
    "remaining_cols = [\"HourlyWindDirection\", \"HourlyRelativeHumidity\"]\n",
    "numbered_cols = remaining_cols + lagged_cols + celsius_cols + normalized_cols\n",
    "numbered_cols = numbered_cols >> nvt.ops.FillMedian(FIXME)\n",
    "numbered_cols.graph"
   ]
  },
  {
   "cell_type": "code",
   "execution_count": null,
   "id": "47fb0244",
   "metadata": {
    "tags": []
   },
   "outputs": [],
   "source": [
    "remaining_cols = [\"HourlyWindDirection\", \"HourlyRelativeHumidity\"]\n",
    "numbered_cols = remaining_cols + lagged_cols + celsius_cols + normalized_cols\n",
    "numbered_cols = numbered_cols >> nvt.ops.FillMedian(add_binary_cols=True)\n",
    "numbered_cols.graph"
   ]
  },
  {
   "cell_type": "markdown",
   "id": "f8c33043",
   "metadata": {},
   "source": [
    "## Building the full ETL Pipeline\n",
    "\n",
    "Time to save our data like before and verify the results. We'll add back in the `STATION` and `DATE` so we can have all of our fields in the `all_cols` columnGroup.\n",
    "\n",
    "**TODO**: Please fill in the FIXMEs below to setup the [workflow](https://nvidia-merlin.github.io/NVTabular/main/api/workflow/workflow.html#module-nvtabular.workflow.workflow) and [dataset](https://nvidia-merlin.github.io/NVTabular/main/api/dataset.html#module-nvtabular.io.dataset). Feel free to use the previous notebook as a hint. Click the `...` below for an answer."
   ]
  },
  {
   "cell_type": "code",
   "execution_count": null,
   "id": "3f8bdfe8",
   "metadata": {},
   "outputs": [],
   "source": [
    "all_cols =  numbered_cols + [\"STATION\", \"DATE\"]\n",
    "file_paths = glob.glob(\"data/parquet_out/*.parquet\")\n",
    "workflow = nvt.Workflow(FIXME)\n",
    "dataset = nvt.Dataset(FIXME, engine=\"parquet\")\n",
    "workflow.column_group.graph"
   ]
  },
  {
   "cell_type": "code",
   "execution_count": null,
   "id": "a4e20999",
   "metadata": {
    "jupyter": {
     "source_hidden": true
    },
    "tags": []
   },
   "outputs": [],
   "source": [
    "all_cols =  numbered_cols + [\"STATION\", \"DATE\"]\n",
    "file_paths = glob.glob(\"data/parquet_out/*.parquet\")\n",
    "workflow = nvt.Workflow(all_cols)\n",
    "dataset = nvt.Dataset(file_paths, engine=\"parquet\")\n",
    "workflow.column_group.graph"
   ]
  },
  {
   "cell_type": "markdown",
   "id": "ffce55b8",
   "metadata": {},
   "source": [
    "### Fitting the data\n",
    "\n",
    "One more thing that we will need to do differently from last time is [fit](https://nvidia-merlin.github.io/NVTabular/main/resources/api/workflow.html#nvtabular.workflow.Workflow.fit) the data. `fit` will collect statistical information on our dataset, similar to the [scikit-learn](https://scikit-learn.org/stable/data_transforms.html) API.\n",
    "\n",
    "For instance, if we want to [Normalize](https://nvidia-merlin.github.io/NVTabular/main/api/ops/normalize.html#nvtabular.ops.Normalize) our temperature columns by subtracting the average and dividing by the standard deviation, `workflow.fit()` will calculate the average and standard deviation based on our three files. Then, we can normalize the temperature for any future files without having to recalculate the average and standard deviation again."
   ]
  },
  {
   "cell_type": "code",
   "execution_count": null,
   "id": "321bccb2",
   "metadata": {},
   "outputs": [],
   "source": [
    "workflow.fit(dataset)"
   ]
  },
  {
   "cell_type": "markdown",
   "id": "fc56bb18",
   "metadata": {},
   "source": [
    "### Running the Pipeline\n",
    "With everything setup, we can run our full ETL pipeline like we did in the last lab. If this pipeline has ran before, let's remove the previous output to make way for new data."
   ]
  },
  {
   "cell_type": "code",
   "execution_count": null,
   "id": "d71272ca",
   "metadata": {
    "tags": []
   },
   "outputs": [],
   "source": [
    "!rm -rf data/transformed_out"
   ]
  },
  {
   "cell_type": "markdown",
   "id": "9603ef51",
   "metadata": {},
   "source": [
    "**TODO**: Fill in the missing parameters below. This time, let's split our output data into `4` `.parquet` files using [to_parquet](https://nvidia-merlin.github.io/NVTabular/main/resources/api/dataset.html#nvtabular.io.dataset.Dataset.to_parquet). We can do so with the `out_files_per_proc` parameter.\n",
    "\n",
    "If you don't have the terminal open from the previous lab monitoring the GPU, try running the following command in a terminal to see how it impacts our hardware:\n",
    "\n",
    "`watch -n0.1 nvidia-smi --query-gpu=index,memory.used,memory.total,utilization.gpu --format=csv`"
   ]
  },
  {
   "cell_type": "code",
   "execution_count": null,
   "id": "71e9ab21",
   "metadata": {},
   "outputs": [],
   "source": [
    "workflow.transform(FIXME).to_parquet(\n",
    "    output_path=\"data/transformed_out/\", out_files_per_proc=FIXME\n",
    ")"
   ]
  },
  {
   "cell_type": "code",
   "execution_count": null,
   "id": "cbe1c037",
   "metadata": {
    "jupyter": {
     "source_hidden": true
    },
    "tags": []
   },
   "outputs": [],
   "source": [
    "workflow.transform(dataset).to_parquet(\n",
    "    output_path=\"data/transformed_out/\", out_files_per_proc=4\n",
    ")"
   ]
  },
  {
   "cell_type": "markdown",
   "id": "bd4e77df",
   "metadata": {},
   "source": [
    "Finally, let's look at the output to verify that our output columns match the ones created by our graph in `workflow.column_group.graph`."
   ]
  },
  {
   "cell_type": "code",
   "execution_count": null,
   "id": "63376018",
   "metadata": {
    "tags": []
   },
   "outputs": [],
   "source": [
    "df_transformed_out = cudf.read_parquet(\"data/transformed_out/*.parquet\")\n",
    "df_transformed_out.head()"
   ]
  },
  {
   "cell_type": "markdown",
   "id": "d1a5b887",
   "metadata": {},
   "source": [
    "There should be a number of `_filled` boolean columns indicating whether or not a missing value was replaced in the corresponding column. For instance, `HourlyWetBulbTemperature_filled` decribes if `HourlyWetBulbTemperature` was altered."
   ]
  },
  {
   "cell_type": "markdown",
   "id": "eaeaba68",
   "metadata": {},
   "source": [
    "Congratulations, you've completed the basics of NVTabular! So far, our GPU monitoring has shown that we've only been using 1 GPU. In the next lab, we will learn how to scale NVTabular to all of them.\n",
    "\n",
    "Speaking of, please run the below cell to clear the GPU resources before moving on to the [next notebook](3_Op_Optimization.ipynb)."
   ]
  },
  {
   "cell_type": "code",
   "execution_count": null,
   "id": "71c289e2",
   "metadata": {},
   "outputs": [],
   "source": [
    "import IPython\n",
    "app = IPython.Application.instance()\n",
    "app.kernel.do_shutdown(True)"
   ]
  },
  {
   "cell_type": "markdown",
   "id": "5669b619",
   "metadata": {},
   "source": [
    "<a href=\"https://www.nvidia.com/dli\"> <img src=\"images/DLI_Header.png\" alt=\"Header\" style=\"width: 400px;\"/> </a>"
   ]
  }
 ],
 "metadata": {
  "kernelspec": {
   "display_name": "Python 3.9.1 64-bit",
   "language": "python",
   "name": "python3"
  },
  "language_info": {
   "codemirror_mode": {
    "name": "ipython",
    "version": 3
   },
   "file_extension": ".py",
   "mimetype": "text/x-python",
   "name": "python",
   "nbconvert_exporter": "python",
   "pygments_lexer": "ipython3",
   "version": "3.9.1"
  },
  "vscode": {
   "interpreter": {
    "hash": "e8bcb7b02199aad12110b46bca1de1b9c5d7283b49c4854b38d5c679784056a5"
   }
  }
 },
 "nbformat": 4,
 "nbformat_minor": 5
}
