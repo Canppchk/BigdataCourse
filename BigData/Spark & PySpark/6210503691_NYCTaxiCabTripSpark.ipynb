{
  "cells": [
    {
      "cell_type": "markdown",
      "source": [
        "#นาย ปพนธ์ ชุณหคล้าย 6210503691"
      ],
      "metadata": {
        "id": "6nvsdn8KtIy9"
      }
    },
    {
      "cell_type": "markdown",
      "metadata": {
        "cell_id": "00000-fed2f096-7d65-49d7-9e26-b534726f0581",
        "deepnote_cell_type": "markdown",
        "id": "XUa_wQilsg_9"
      },
      "source": [
        "# Spark dataframes on HDFS\n",
        "\n",
        "New York City Taxi Cab Trip\n",
        "\n",
        "We look at [the New York City Taxi Cab dataset](http://www.nyc.gov/html/tlc/html/about/trip_record_data.shtml). This includes every ride made in the city of New York since 2009.\n",
        "\n",
        "On [this website](http://chriswhong.github.io/nyctaxi/) you can see the data for one random NYC yellow taxi on a single day.\n",
        "\n",
        "On [this post](http://toddwschneider.com/posts/analyzing-1-1-billion-nyc-taxi-and-uber-trips-with-a-vengeance/), you can see an analysis of this dataset. Postgres and R scripts are available on [GitHub](https://github.com/toddwschneider/nyc-taxi-data)."
      ]
    },
    {
      "cell_type": "markdown",
      "metadata": {
        "cell_id": "00001-3cd6a9c1-5054-4e7c-b0d1-e4e348683ddd",
        "deepnote_cell_type": "markdown",
        "id": "FgLCVDg1shAA"
      },
      "source": [
        "## Loading the data\n",
        "\n",
        "Normally we would read and load this data into memory as a Pandas dataframe.  However in this case that would be unwise because this data is too large to fit in RAM.\n",
        "\n",
        "The data can stay in the hdfs filesystem but for performance reason we can't use the csv format. The file is large (32Go) and text formatted. Data Access is very slow.\n",
        "\n",
        "You can convert csv file to parquet with Spark."
      ]
    },
    {
      "cell_type": "code",
      "source": [
        "!wget https://www.cpe.ku.ac.th/~cnc/download/yellow_tripdata_2016-01.csv.gz -O yellow_tripdata_2016-01.csv.gz "
      ],
      "metadata": {
        "id": "gUFyfHOHz3pB",
        "colab": {
          "base_uri": "https://localhost:8080/"
        },
        "outputId": "b71c8286-d913-46ea-afa5-d32a7fb336e6"
      },
      "execution_count": null,
      "outputs": [
        {
          "output_type": "stream",
          "name": "stdout",
          "text": [
            "--2022-09-07 23:09:48--  https://www.cpe.ku.ac.th/~cnc/download/yellow_tripdata_2016-01.csv.gz\r\n",
            "Resolving www.cpe.ku.ac.th (www.cpe.ku.ac.th)... 158.108.32.150\r\n",
            "Connecting to www.cpe.ku.ac.th (www.cpe.ku.ac.th)|158.108.32.150|:443... connected.\r\n",
            "HTTP request sent, awaiting response... 200 OK\r\n",
            "Length: 431451101 (411M) [application/octet-stream]\r\n",
            "Saving to: ‘yellow_tripdata_2016-01.csv.gz’\r\n",
            "\n",
            "yellow_tripdata_201 100%[===================>] 411.46M   101MB/s    in 4.1s    \n",
            "\n",
            "2022-09-07 23:09:52 (101 MB/s) - ‘yellow_tripdata_2016-01.csv.gz’ saved [431451101/431451101]\n",
            "\n"
          ]
        }
      ]
    },
    {
      "cell_type": "code",
      "source": [
        "!gzip -d yellow_tripdata_2016-01.csv.gz "
      ],
      "metadata": {
        "id": "t8FoweU70YR6"
      },
      "execution_count": null,
      "outputs": []
    },
    {
      "cell_type": "code",
      "execution_count": null,
      "metadata": {
        "id": "LLdTKv_UshAA",
        "colab": {
          "base_uri": "https://localhost:8080/"
        },
        "outputId": "4b3127e4-88cc-421a-ad78-ae505fd17415"
      },
      "outputs": [
        {
          "output_type": "stream",
          "name": "stdout",
          "text": [
            "CPU times: user 2.86 ms, sys: 639 µs, total: 3.5 ms\n",
            "Wall time: 45 ms\n"
          ]
        }
      ],
      "source": [
        "%%time \n",
        "from pyspark.sql import SparkSession\n",
        "\n",
        "spark = SparkSession.builder \\\n",
        "        .appName(\"Convert CSV to parquet\")      \\\n",
        "        .getOrCreate()\n",
        "\n"
      ]
    },
    {
      "cell_type": "code",
      "source": [
        "#code to copy to hdfs\n",
        "! hdfs dfs -rm /yellow_tripdata_2016-01.csv\n",
        "! hdfs dfs -copyFromLocal yellow_tripdata_2016-01.csv /"
      ],
      "metadata": {
        "id": "VjFl8cH00cD8",
        "colab": {
          "base_uri": "https://localhost:8080/"
        },
        "outputId": "52b1e63f-0ae1-464a-fc7b-eeed9eee989a"
      },
      "execution_count": null,
      "outputs": [
        {
          "output_type": "stream",
          "name": "stdout",
          "text": [
            "WARNING: HADOOP_PREFIX has been replaced by HADOOP_HOME. Using value of HADOOP_PREFIX.\n",
            "2022-09-07 23:40:35,164 WARN util.NativeCodeLoader: Unable to load native-hadoop library for your platform... using builtin-java classes where applicable\n",
            "rm: `/yellow_tripdata_2016-01.csv': No such file or directory\n",
            "WARNING: HADOOP_PREFIX has been replaced by HADOOP_HOME. Using value of HADOOP_PREFIX.\n",
            "2022-09-07 23:40:37,186 WARN util.NativeCodeLoader: Unable to load native-hadoop library for your platform... using builtin-java classes where applicable\n",
            "2022-09-07 23:40:38,374 INFO sasl.SaslDataTransferClient: SASL encryption trust check: localHostTrusted = false, remoteHostTrusted = false\n",
            "2022-09-07 23:40:39,460 INFO sasl.SaslDataTransferClient: SASL encryption trust check: localHostTrusted = false, remoteHostTrusted = false\n",
            "2022-09-07 23:40:40,106 INFO sasl.SaslDataTransferClient: SASL encryption trust check: localHostTrusted = false, remoteHostTrusted = false\n",
            "2022-09-07 23:40:40,900 INFO sasl.SaslDataTransferClient: SASL encryption trust check: localHostTrusted = false, remoteHostTrusted = false\n",
            "2022-09-07 23:40:41,672 INFO sasl.SaslDataTransferClient: SASL encryption trust check: localHostTrusted = false, remoteHostTrusted = false\n",
            "2022-09-07 23:40:42,388 INFO sasl.SaslDataTransferClient: SASL encryption trust check: localHostTrusted = false, remoteHostTrusted = false\n",
            "2022-09-07 23:40:43,040 INFO sasl.SaslDataTransferClient: SASL encryption trust check: localHostTrusted = false, remoteHostTrusted = false\n",
            "2022-09-07 23:40:43,996 INFO sasl.SaslDataTransferClient: SASL encryption trust check: localHostTrusted = false, remoteHostTrusted = false\n",
            "2022-09-07 23:40:44,710 INFO sasl.SaslDataTransferClient: SASL encryption trust check: localHostTrusted = false, remoteHostTrusted = false\n",
            "2022-09-07 23:40:45,518 INFO sasl.SaslDataTransferClient: SASL encryption trust check: localHostTrusted = false, remoteHostTrusted = false\n",
            "2022-09-07 23:40:46,124 INFO sasl.SaslDataTransferClient: SASL encryption trust check: localHostTrusted = false, remoteHostTrusted = false\n",
            "2022-09-07 23:40:47,057 INFO sasl.SaslDataTransferClient: SASL encryption trust check: localHostTrusted = false, remoteHostTrusted = false\n",
            "2022-09-07 23:40:47,752 INFO sasl.SaslDataTransferClient: SASL encryption trust check: localHostTrusted = false, remoteHostTrusted = false\n"
          ]
        }
      ]
    },
    {
      "cell_type": "code",
      "source": [
        "df = spark.read.csv(\"hdfs://localhost:9000/yellow_tripdata_2016-01.csv\", \n",
        "                    header=\"true\",inferSchema=\"true\")"
      ],
      "metadata": {
        "id": "_Sm_eupWlkQp",
        "colab": {
          "base_uri": "https://localhost:8080/"
        },
        "outputId": "8def45d7-d08c-4a75-d702-2e7eb807e038"
      },
      "execution_count": null,
      "outputs": [
        {
          "output_type": "stream",
          "name": "stderr",
          "text": []
        }
      ]
    },
    {
      "cell_type": "code",
      "source": [
        "df.write.parquet(\"hdfs://localhost:9000/yellow_tripdata_2016-01.parquet\")\n",
        "\n",
        "spark.stop()"
      ],
      "metadata": {
        "id": "r1VaIiyFE_F-",
        "colab": {
          "base_uri": "https://localhost:8080/"
        },
        "outputId": "2b445e8a-4f54-4d0f-ad73-fa86ce0aaa97"
      },
      "execution_count": null,
      "outputs": [
        {
          "output_type": "stream",
          "name": "stderr",
          "text": []
        }
      ]
    },
    {
      "cell_type": "code",
      "source": [
        "spark.stop()"
      ],
      "metadata": {
        "id": "7WKlmQX2uZhV"
      },
      "execution_count": null,
      "outputs": []
    },
    {
      "cell_type": "markdown",
      "metadata": {
        "cell_id": "00003-64de320b-50aa-4928-9884-23b77f541459",
        "deepnote_cell_type": "markdown",
        "id": "ty4Ea0m3shAB"
      },
      "source": [
        "## Spark Cluster\n",
        "\n",
        "A Spark cluster is available and described on this [web interface](http://svmass2.mass.uhb.fr:8080)\n",
        "\n",
        "![](https://github.com/pnavaro/big-data/blob/master/notebooks/images/cluster-overview.png?raw=1)\n",
        "\n",
        "```py\n",
        "from pyspark.sql import SparkSession\n",
        "spark = SparkSession.builder \\\n",
        "        .getOrCreate()\n",
        "spark\n",
        "```\n",
        "\n",
        "The SparkSession is connected to the Spark’s own standalone cluster manager (It is also possible to use YARN). The manager allocate resources across applications. Once connected, Spark acquires executors on nodes in the cluster, which are processes that run computations and store data for your application. Next, it sends your application code (Python file) to the executors. Finally, tasks are sent to the executors to run.\n",
        "\n",
        "Spark can access to files located on hdfs and it is also possible to access to local files. Example:\n",
        "\n",
        "```py\n",
        "df = spark.read.parquet('file:///home/navaro_p/nyc-taxi/2016.parquet')\n",
        "```\n",
        "\n",
        "### Exercise\n",
        "\n",
        "- Pick a year and read and convert csv files to parquet in your hdfs homedirectory.\n",
        "- **Don't run the python code inside a notebook cell**. Save a python script and launch it from a terminal instead.\n",
        "In Jupyter notebook you won't see any progress or information if error occurs.\n",
        "- Use the [`spark-submit`](https://spark.apache.org/docs/latest/submitting-applications.html) command shell to run your script on the cluster.\n",
        "- You can control the log with \n",
        "```py\n",
        "spark.sparkContext.setLogLevel('ERROR')\n",
        "```\n",
        "Valid log levels include: ALL, DEBUG, ERROR, FATAL, INFO, OFF, TRACE, WARN\n",
        "\n",
        "**Try your script with a single file before to do it for a whole year.**\n",
        "\n",
        "**Read carefully the script given above, don't submit it as is. You have to change some\n",
        "part of this code**"
      ]
    },
    {
      "cell_type": "markdown",
      "metadata": {
        "cell_id": "00004-1b1bb60b-720d-42f8-8643-7b4812088e73",
        "deepnote_cell_type": "markdown",
        "id": "1eR_8pV3shAC"
      },
      "source": [
        "## Some examples that can be run on the cluster\n",
        "\n",
        "- Here we read the NYC taxi data files of year 2016 and select some variables.\n",
        "\n",
        "```py\n",
        "columns = ['tpep_pickup_datetime', 'passenger_count', 'pickup_longitude', 'pickup_latitude', 'dropoff_longitude', 'dropoff_latitude', 'payment_type', 'fare_amount', 'tip_amount', 'total_amount']\n",
        "\n",
        "df = (spark.read.parquet('hdfs://svmass2.mass.uhb.fr:54310/user/navaro/nyc-taxi/2016.parquet').select(*columns))\n",
        "```\n",
        "\n",
        "- Sum the total number of passengers\n",
        "```py\n",
        "df.agg({'passenger_count': 'sum'}).collect()\n",
        "```\n",
        "\n",
        "- Average number of passenger per trip`\n",
        "```py\n",
        "df.agg({'passenger_count': 'avg'}).collect()\n",
        "```\n",
        "\n",
        "- How many trip with 0,1,2,3,...,9 passenger`\n",
        "```py\n",
        "df.groupby('passenger_count').agg({'*': 'count'}).collect()\n",
        "```\n",
        "\n",
        "## Exercises\n",
        "\n",
        "How well people tip based on the number of passengers in a cab.  To do this you have to:\n",
        "\n",
        "1.  Remove rides with zero fare\n",
        "2.  Add a new column `tip_fraction` that is equal to the ratio of the tip to the fare\n",
        "3.  Group by the `passenger_count` column and take the mean of the `tip_fraction` column.\n",
        "\n",
        "### Cheat Sheets and documentation\n",
        "\n",
        "- [Spark DataFrames in Python](https://s3.amazonaws.com/assets.datacamp.com/blog_assets/PySpark_SQL_Cheat_Sheet_Python.pdf)\n",
        "- [Spark in Python](http://datacamp-community.s3.amazonaws.com/4d91fcbc-820d-4ae2-891b-f7a436ebefd4)\n",
        "-  https://spark.apache.org/docs/latest/api/python/pyspark.sql.html\n",
        "\n",
        "Use the [PySpark API](https://spark.apache.org/docs/latest/api/python/index.html).\n",
        "\n",
        "- **Write a python program and use `spark-submit`**\n",
        "- **Read the parquet files instead of csv files** \n",
        "- **Don't forget spark.stop() at the end of the script**"
      ]
    },
    {
      "cell_type": "markdown",
      "metadata": {
        "cell_id": "00005-cbfd6d94-01f1-40b7-b047-d662d76f6b88",
        "deepnote_cell_type": "markdown",
        "id": "oD9l3r5ishAD"
      },
      "source": [
        "## Hints\n",
        "\n",
        "- How to remove rows\n",
        "```python\n",
        "df = df.filter(df.name == 'expression')\n",
        "```\n",
        "\n",
        "- How to make new columns\n",
        "```python\n",
        "df = df.withColumn('var2', df.var0 + df.var1)\n",
        "```\n",
        "\n",
        "- How to do groupby-aggregations\n",
        "```python\n",
        "df.groupBy(df.name).agg({'column-name': 'avg'})\n",
        "```\n",
        "\n",
        "When you want to collect the result of your computation, finish with the `.collect()` method."
      ]
    },
    {
      "cell_type": "markdown",
      "metadata": {
        "cell_id": "00006-28a0a4e5-1961-4707-b8d1-9361335f8626",
        "deepnote_cell_type": "markdown",
        "id": "qKvfH0WoshAD"
      },
      "source": [
        "### Exercises \n",
        "\n",
        "1. Plot the tip as a function of the hour of day and the day of the week?\n",
        "2. Investigate the `payment_type` column.  See how well each of the payment types correlate with the `tip_fraction`.  Did you find anything interesting?  Any guesses on what the different payment types might be?  If you're interested you may be able to find more information on the [NYC TLC's website](http://www.nyc.gov/html/tlc/html/about/trip_record_data.shtml)\n",
        "3. Plot the average of the new column tip_fraction grouped by day of week.\n",
        "4. Plot the average of the new column tip_fraction grouped by hour of day."
      ]
    },
    {
      "cell_type": "code",
      "execution_count": null,
      "metadata": {
        "id": "iI0CmjOXshAE"
      },
      "outputs": [],
      "source": [
        "from pyspark.sql import SparkSession\n",
        "spark = SparkSession.builder \\\n",
        "        .getOrCreate()"
      ]
    },
    {
      "cell_type": "code",
      "source": [
        "import matplotlib.pyplot as plt\n",
        "from pyspark.sql.functions import date_format\n",
        "from pyspark.sql.functions import col\n",
        "%matplotlib inline "
      ],
      "metadata": {
        "id": "gph4pph12kW1"
      },
      "execution_count": null,
      "outputs": []
    },
    {
      "cell_type": "code",
      "source": [
        "df = spark.read.parquet(\"hdfs://localhost:9000/yellow_tripdata_2016-01.parquet\",header=\"true\",inferSchema=\"true\")"
      ],
      "metadata": {
        "id": "zy25sCyq2iVs"
      },
      "execution_count": null,
      "outputs": []
    },
    {
      "cell_type": "code",
      "source": [
        "df.show()"
      ],
      "metadata": {
        "colab": {
          "base_uri": "https://localhost:8080/"
        },
        "id": "FB0TBHwzY-vV",
        "outputId": "2d72637a-e0c0-46dc-bd6a-d6a2b41419a7"
      },
      "execution_count": null,
      "outputs": [
        {
          "output_type": "stream",
          "name": "stdout",
          "text": [
            "+--------+--------------------+---------------------+---------------+-------------+------------------+------------------+----------+------------------+------------------+------------------+------------+-----------+-----+-------+----------+------------+---------------------+------------+\n",
            "|VendorID|tpep_pickup_datetime|tpep_dropoff_datetime|passenger_count|trip_distance|  pickup_longitude|   pickup_latitude|RatecodeID|store_and_fwd_flag| dropoff_longitude|  dropoff_latitude|payment_type|fare_amount|extra|mta_tax|tip_amount|tolls_amount|improvement_surcharge|total_amount|\n",
            "+--------+--------------------+---------------------+---------------+-------------+------------------+------------------+----------+------------------+------------------+------------------+------------+-----------+-----+-------+----------+------------+---------------------+------------+\n",
            "|       2| 2016-01-03 17:09:11|  2016-01-03 17:21:18|              6|         2.13|-73.98211669921875| 40.73194885253906|         1|                 N|-74.00215148925781|  40.7506103515625|           1|       10.0|  0.0|    0.5|      2.16|         0.0|                  0.3|       12.96|\n",
            "|       2| 2016-01-03 17:09:11|  2016-01-03 17:14:02|              2|         0.83|-74.00343322753906| 40.72684860229492|         1|                 N|-74.00206756591797| 40.73820877075195|           2|        5.5|  0.0|    0.5|       0.0|         0.0|                  0.3|         6.3|\n",
            "|       1| 2016-01-03 17:09:12|  2016-01-03 17:15:51|              1|          1.3|-73.97291564941406| 40.78049087524414|         1|                 N|-73.97418975830078| 40.79119873046875|           2|        7.0|  1.0|    0.5|       0.0|         0.0|                  0.3|         8.8|\n",
            "|       1| 2016-01-03 17:09:12|  2016-01-03 17:23:03|              1|          2.4| -73.9745864868164| 40.76205825805664|         1|                 N| -73.9490966796875|40.777278900146484|           2|       11.5|  0.0|    0.5|       0.0|         0.0|                  0.3|        12.3|\n",
            "|       1| 2016-01-03 17:09:12|  2016-01-03 17:20:33|              2|          3.3|-73.99898529052734|40.759883880615234|         1|                 N|-74.01412200927734| 40.71318817138672|           1|       13.0|  0.0|    0.5|       1.0|         0.0|                  0.3|        14.8|\n",
            "|       2| 2016-01-03 17:09:12|  2016-01-03 17:18:39|              2|         2.29|-73.97026062011719|  40.7564811706543|         1|                 N| -73.9487533569336| 40.78300094604492|           1|        9.5|  0.0|    0.5|      2.06|         0.0|                  0.3|       12.36|\n",
            "|       2| 2016-01-03 17:09:12|  2016-01-03 17:33:51|              1|        11.16|-73.98583221435547|  40.7521858215332|         1|                 N|-73.87330627441406| 40.77447509765625|           1|       32.5|  0.0|    0.5|       0.0|        5.54|                  0.3|       38.84|\n",
            "|       2| 2016-01-03 17:09:12|  2016-01-03 17:24:12|              2|         2.65| -73.9730453491211| 40.76445770263672|         1|                 N|-74.00519561767578|  40.7514762878418|           1|       12.0|  0.0|    0.5|       2.0|         0.0|                  0.3|        14.8|\n",
            "|       1| 2016-01-03 17:09:13|  2016-01-03 17:28:08|              1|          2.4| -73.9786605834961| 40.76668167114258|         1|                 N|-73.97791290283203| 40.74214172363281|           1|       13.5|  1.0|    0.5|       1.0|         0.0|                  0.3|        16.3|\n",
            "|       1| 2016-01-03 17:09:13|  2016-01-03 17:14:51|              3|          1.2|-73.97579193115234| 40.74977493286133|         1|                 N|-73.97429656982422| 40.76314163208008|           2|        6.0|  0.0|    0.5|       0.0|         0.0|                  0.3|         6.8|\n",
            "|       2| 2016-01-03 17:09:13|  2016-01-03 17:14:25|              1|         1.16|-73.97186279296875|40.763450622558594|         1|                 N|-73.95991516113281| 40.77398681640625|           1|        6.0|  0.0|    0.5|      1.36|         0.0|                  0.3|        8.16|\n",
            "|       1| 2016-01-03 17:09:14|  2016-01-03 17:19:04|              1|          2.2|-73.99105072021484| 40.73947525024414|         1|                 N|-73.97130584716797| 40.76189041137695|           2|        9.5|  0.0|    0.5|       0.0|         0.0|                  0.3|        10.3|\n",
            "|       1| 2016-01-03 17:09:14|  2016-01-03 17:22:34|              1|          2.7|-73.97608947753906| 40.75678634643555|         1|                 N| -73.9810562133789| 40.78472137451172|           1|       12.0|  0.0|    0.5|       3.2|         0.0|                  0.3|        16.0|\n",
            "|       1| 2016-01-03 17:09:14|  2016-01-03 17:18:41|              1|          2.2|   -73.94189453125| 40.79814529418945|         1|                 N|-73.96092224121094|40.769962310791016|           1|        9.5|  0.0|    0.5|      2.05|         0.0|                  0.3|       12.35|\n",
            "|       1| 2016-01-03 17:09:14|  2016-01-03 17:37:35|              2|          9.5|-73.87071228027344| 40.77378463745117|         1|                 N|-73.97621154785156| 40.78738021850586|           1|       29.5|  0.0|    0.5|      10.0|        5.54|                  0.3|       45.84|\n",
            "|       1| 2016-01-03 17:09:14|  2016-01-03 17:13:48|              1|          0.9|-73.94932556152344| 40.78111267089844|         1|                 N|-73.96125793457031| 40.77618408203125|           1|        5.5|  0.0|    0.5|      1.55|         0.0|                  0.3|        7.85|\n",
            "|       2| 2016-01-03 17:09:14|  2016-01-03 17:17:51|              1|         1.23|-73.99432373046875| 40.68107986450195|         1|                 N|-73.97791290283203|40.683799743652344|           2|        7.5|  0.0|    0.5|       0.0|         0.0|                  0.3|         8.3|\n",
            "|       2| 2016-01-03 17:09:14|  2016-01-03 17:23:23|              2|         3.32|-73.98102569580078|  40.7413444519043|         1|                 N|-73.95602416992188| 40.77614974975586|           1|       12.5|  0.0|    0.5|      2.66|         0.0|                  0.3|       15.96|\n",
            "|       2| 2016-01-03 17:09:14|  2016-01-03 17:22:06|              6|         2.43| -73.9761962890625| 40.74892044067383|         1|                 N| -74.0059814453125| 40.73598098754883|           1|       11.0|  0.0|    0.5|      2.36|         0.0|                  0.3|       14.16|\n",
            "|       2| 2016-01-03 17:09:14|  2016-01-03 17:28:29|              1|         3.25| -73.9691162109375| 40.76113510131836|         1|                 N|-73.99626159667969| 40.72391128540039|           1|       15.0|  0.0|    0.5|      3.16|         0.0|                  0.3|       18.96|\n",
            "+--------+--------------------+---------------------+---------------+-------------+------------------+------------------+----------+------------------+------------------+------------------+------------+-----------+-----+-------+----------+------------+---------------------+------------+\n",
            "only showing top 20 rows\n",
            "\n"
          ]
        }
      ]
    },
    {
      "cell_type": "markdown",
      "source": [
        "#1.Plot the tip as a function of the hour of the day and the day of the week?"
      ],
      "metadata": {
        "id": "slRRQX3aJ6dZ"
      }
    },
    {
      "cell_type": "code",
      "source": [
        "from pyspark.sql.functions import hour\n",
        "\n",
        "df = df.withColumn(\"days\", date_format(col(\"tpep_pickup_datetime\"), \"EEEE\"))\n",
        "df = df.withColumn(\"hours\", hour(col(\"tpep_pickup_datetime\")))"
      ],
      "metadata": {
        "id": "tHtc8XelbS0U"
      },
      "execution_count": null,
      "outputs": []
    },
    {
      "cell_type": "code",
      "source": [
        "df_hours = df.groupby('hours').agg({\"tip_amount\": \"avg\"})\n",
        "\n",
        "plt.bar(\n",
        "    df_hours.toPandas()['hours'].values.tolist(),\n",
        "    df_hours.toPandas()['avg(tip_amount)'].values.tolist()\n",
        ")\n",
        "plt.title('Tip as a function of the hour of the day')\n",
        "plt.xlabel(\"Hour\")\n",
        "plt.ylabel(\"Tip\")"
      ],
      "metadata": {
        "colab": {
          "base_uri": "https://localhost:8080/",
          "height": 490
        },
        "id": "yoPIL9_n2mX7",
        "outputId": "85ec3ee2-f7d7-47cc-a1d4-98d3375e7f54"
      },
      "execution_count": null,
      "outputs": [
        {
          "output_type": "stream",
          "name": "stderr",
          "text": []
        },
        {
          "output_type": "execute_result",
          "data": {
            "text/plain": [
              "Text(0, 0.5, 'Tip')"
            ]
          },
          "metadata": {},
          "execution_count": 74
        },
        {
          "output_type": "display_data",
          "data": {
            "text/plain": [
              "<Figure size 640x480 with 1 Axes>"
            ],
            "image/png": "[encoded data removed]"
          },
          "metadata": {}
        }
      ]
    },
    {
      "cell_type": "code",
      "source": [
        "df_day_of_week = df.groupby('days').agg({'tip_amount': 'avg'})\n",
        "\n",
        "plt.bar(\n",
        "    df_day_of_week.toPandas()['days'].values.tolist(),\n",
        "    df_day_of_week.toPandas()['avg(tip_amount)'].values.tolist()\n",
        ")\n",
        "plt.title('Tip as a function of the Day of the week')\n",
        "plt.xlabel(\"Day\")\n",
        "plt.ylabel(\"Tip\")"
      ],
      "metadata": {
        "colab": {
          "base_uri": "https://localhost:8080/",
          "height": 490
        },
        "id": "VigjLdpv2pWF",
        "outputId": "223b226c-0778-4871-e37a-8b982d17877b"
      },
      "execution_count": null,
      "outputs": [
        {
          "output_type": "stream",
          "name": "stderr",
          "text": []
        },
        {
          "output_type": "execute_result",
          "data": {
            "text/plain": [
              "Text(0, 0.5, 'Tip')"
            ]
          },
          "metadata": {},
          "execution_count": 75
        },
        {
          "output_type": "display_data",
          "data": {
            "text/plain": [
              "<Figure size 640x480 with 1 Axes>"
            ],
            "image/png": "[encoded data removed]"
          },
          "metadata": {}
        }
      ]
    },
    {
      "cell_type": "markdown",
      "source": [
        "#2.Investigate the payment_type column. See how well each of the payment types correlate with the tip_fraction. Did you find anything interesting? Any guesses on what the different payment types might be? If you're interested you may be able to find more information on the NYC TLC's website"
      ],
      "metadata": {
        "id": "fszOahgVJ0n2"
      }
    },
    {
      "cell_type": "code",
      "source": [
        "# เอาเฉพาะกรณีค่าโดยสารมากกว่า 0 \n",
        "df = df.filter(df.fare_amount > 0)\n",
        "\n",
        "# สร้าง column tip_fraction โดยการเอา tip_amount หารด้วย fare_amount\n",
        "df = df.withColumn(\"tip_fraction\", df.tip_amount /df.fare_amount)"
      ],
      "metadata": {
        "id": "4RA-ddA5aqUo"
      },
      "execution_count": null,
      "outputs": []
    },
    {
      "cell_type": "code",
      "source": [
        "df.show()"
      ],
      "metadata": {
        "colab": {
          "base_uri": "https://localhost:8080/"
        },
        "id": "3R8H-oM3a3Ct",
        "outputId": "d683ff06-b6bf-4bcc-d68e-e25249beeb6b"
      },
      "execution_count": null,
      "outputs": [
        {
          "output_type": "stream",
          "name": "stdout",
          "text": [
            "+--------+--------------------+---------------------+---------------+-------------+------------------+------------------+----------+------------------+------------------+------------------+------------+-----------+-----+-------+----------+------------+---------------------+------------+------+-----+-------------------+\n",
            "|VendorID|tpep_pickup_datetime|tpep_dropoff_datetime|passenger_count|trip_distance|  pickup_longitude|   pickup_latitude|RatecodeID|store_and_fwd_flag| dropoff_longitude|  dropoff_latitude|payment_type|fare_amount|extra|mta_tax|tip_amount|tolls_amount|improvement_surcharge|total_amount|  days|hours|       tip_fraction|\n",
            "+--------+--------------------+---------------------+---------------+-------------+------------------+------------------+----------+------------------+------------------+------------------+------------+-----------+-----+-------+----------+------------+---------------------+------------+------+-----+-------------------+\n",
            "|       2| 2016-01-03 17:09:11|  2016-01-03 17:21:18|              6|         2.13|-73.98211669921875| 40.73194885253906|         1|                 N|-74.00215148925781|  40.7506103515625|           1|       10.0|  0.0|    0.5|      2.16|         0.0|                  0.3|       12.96|Sunday|   17|0.21600000000000003|\n",
            "|       2| 2016-01-03 17:09:11|  2016-01-03 17:14:02|              2|         0.83|-74.00343322753906| 40.72684860229492|         1|                 N|-74.00206756591797| 40.73820877075195|           2|        5.5|  0.0|    0.5|       0.0|         0.0|                  0.3|         6.3|Sunday|   17|                0.0|\n",
            "|       1| 2016-01-03 17:09:12|  2016-01-03 17:15:51|              1|          1.3|-73.97291564941406| 40.78049087524414|         1|                 N|-73.97418975830078| 40.79119873046875|           2|        7.0|  1.0|    0.5|       0.0|         0.0|                  0.3|         8.8|Sunday|   17|                0.0|\n",
            "|       1| 2016-01-03 17:09:12|  2016-01-03 17:23:03|              1|          2.4| -73.9745864868164| 40.76205825805664|         1|                 N| -73.9490966796875|40.777278900146484|           2|       11.5|  0.0|    0.5|       0.0|         0.0|                  0.3|        12.3|Sunday|   17|                0.0|\n",
            "|       1| 2016-01-03 17:09:12|  2016-01-03 17:20:33|              2|          3.3|-73.99898529052734|40.759883880615234|         1|                 N|-74.01412200927734| 40.71318817138672|           1|       13.0|  0.0|    0.5|       1.0|         0.0|                  0.3|        14.8|Sunday|   17|0.07692307692307693|\n",
            "|       2| 2016-01-03 17:09:12|  2016-01-03 17:18:39|              2|         2.29|-73.97026062011719|  40.7564811706543|         1|                 N| -73.9487533569336| 40.78300094604492|           1|        9.5|  0.0|    0.5|      2.06|         0.0|                  0.3|       12.36|Sunday|   17| 0.2168421052631579|\n",
            "|       2| 2016-01-03 17:09:12|  2016-01-03 17:33:51|              1|        11.16|-73.98583221435547|  40.7521858215332|         1|                 N|-73.87330627441406| 40.77447509765625|           1|       32.5|  0.0|    0.5|       0.0|        5.54|                  0.3|       38.84|Sunday|   17|                0.0|\n",
            "|       2| 2016-01-03 17:09:12|  2016-01-03 17:24:12|              2|         2.65| -73.9730453491211| 40.76445770263672|         1|                 N|-74.00519561767578|  40.7514762878418|           1|       12.0|  0.0|    0.5|       2.0|         0.0|                  0.3|        14.8|Sunday|   17|0.16666666666666666|\n",
            "|       1| 2016-01-03 17:09:13|  2016-01-03 17:28:08|              1|          2.4| -73.9786605834961| 40.76668167114258|         1|                 N|-73.97791290283203| 40.74214172363281|           1|       13.5|  1.0|    0.5|       1.0|         0.0|                  0.3|        16.3|Sunday|   17|0.07407407407407407|\n",
            "|       1| 2016-01-03 17:09:13|  2016-01-03 17:14:51|              3|          1.2|-73.97579193115234| 40.74977493286133|         1|                 N|-73.97429656982422| 40.76314163208008|           2|        6.0|  0.0|    0.5|       0.0|         0.0|                  0.3|         6.8|Sunday|   17|                0.0|\n",
            "|       2| 2016-01-03 17:09:13|  2016-01-03 17:14:25|              1|         1.16|-73.97186279296875|40.763450622558594|         1|                 N|-73.95991516113281| 40.77398681640625|           1|        6.0|  0.0|    0.5|      1.36|         0.0|                  0.3|        8.16|Sunday|   17|0.22666666666666668|\n",
            "|       1| 2016-01-03 17:09:14|  2016-01-03 17:19:04|              1|          2.2|-73.99105072021484| 40.73947525024414|         1|                 N|-73.97130584716797| 40.76189041137695|           2|        9.5|  0.0|    0.5|       0.0|         0.0|                  0.3|        10.3|Sunday|   17|                0.0|\n",
            "|       1| 2016-01-03 17:09:14|  2016-01-03 17:22:34|              1|          2.7|-73.97608947753906| 40.75678634643555|         1|                 N| -73.9810562133789| 40.78472137451172|           1|       12.0|  0.0|    0.5|       3.2|         0.0|                  0.3|        16.0|Sunday|   17|0.26666666666666666|\n",
            "|       1| 2016-01-03 17:09:14|  2016-01-03 17:18:41|              1|          2.2|   -73.94189453125| 40.79814529418945|         1|                 N|-73.96092224121094|40.769962310791016|           1|        9.5|  0.0|    0.5|      2.05|         0.0|                  0.3|       12.35|Sunday|   17| 0.2157894736842105|\n",
            "|       1| 2016-01-03 17:09:14|  2016-01-03 17:37:35|              2|          9.5|-73.87071228027344| 40.77378463745117|         1|                 N|-73.97621154785156| 40.78738021850586|           1|       29.5|  0.0|    0.5|      10.0|        5.54|                  0.3|       45.84|Sunday|   17| 0.3389830508474576|\n",
            "|       1| 2016-01-03 17:09:14|  2016-01-03 17:13:48|              1|          0.9|-73.94932556152344| 40.78111267089844|         1|                 N|-73.96125793457031| 40.77618408203125|           1|        5.5|  0.0|    0.5|      1.55|         0.0|                  0.3|        7.85|Sunday|   17| 0.2818181818181818|\n",
            "|       2| 2016-01-03 17:09:14|  2016-01-03 17:17:51|              1|         1.23|-73.99432373046875| 40.68107986450195|         1|                 N|-73.97791290283203|40.683799743652344|           2|        7.5|  0.0|    0.5|       0.0|         0.0|                  0.3|         8.3|Sunday|   17|                0.0|\n",
            "|       2| 2016-01-03 17:09:14|  2016-01-03 17:23:23|              2|         3.32|-73.98102569580078|  40.7413444519043|         1|                 N|-73.95602416992188| 40.77614974975586|           1|       12.5|  0.0|    0.5|      2.66|         0.0|                  0.3|       15.96|Sunday|   17|0.21280000000000002|\n",
            "|       2| 2016-01-03 17:09:14|  2016-01-03 17:22:06|              6|         2.43| -73.9761962890625| 40.74892044067383|         1|                 N| -74.0059814453125| 40.73598098754883|           1|       11.0|  0.0|    0.5|      2.36|         0.0|                  0.3|       14.16|Sunday|   17|0.21454545454545454|\n",
            "|       2| 2016-01-03 17:09:14|  2016-01-03 17:28:29|              1|         3.25| -73.9691162109375| 40.76113510131836|         1|                 N|-73.99626159667969| 40.72391128540039|           1|       15.0|  0.0|    0.5|      3.16|         0.0|                  0.3|       18.96|Sunday|   17|0.21066666666666667|\n",
            "+--------+--------------------+---------------------+---------------+-------------+------------------+------------------+----------+------------------+------------------+------------------+------------+-----------+-----+-------+----------+------------+---------------------+------------+------+-----+-------------------+\n",
            "only showing top 20 rows\n",
            "\n"
          ]
        }
      ]
    },
    {
      "cell_type": "code",
      "source": [
        "df_group = df.groupby('payment_type').agg({'tip_fraction': 'avg'})\n",
        "df_group.show()"
      ],
      "metadata": {
        "colab": {
          "base_uri": "https://localhost:8080/"
        },
        "id": "Iuz4suzF2rX-",
        "outputId": "fd38d6d0-a7f9-41cb-944a-35de360af2e2"
      },
      "execution_count": null,
      "outputs": [
        {
          "output_type": "stream",
          "name": "stdout",
          "text": [
            "+------------+--------------------+\n",
            "|payment_type|   avg(tip_fraction)|\n",
            "+------------+--------------------+\n",
            "|           1| 0.23870141823237997|\n",
            "|           3|0.005179429048964...|\n",
            "|           4|2.723797873366249E-4|\n",
            "|           2|5.274088303727959E-6|\n",
            "|           5|                 0.0|\n",
            "+------------+--------------------+\n",
            "\n"
          ]
        }
      ]
    },
    {
      "cell_type": "markdown",
      "source": [
        "ได้ payment_type ออกมา 5 แบบดังนี้\n",
        "\n",
        "-แบบที่ 1 จ่ายอัตราส่วน Tip ต่อ ค่าโดยสารเฉลี่ยอยู่ที่ 0.2387\n",
        "\n",
        "-แบบที่ 2 จ่ายอัตราส่วน Tip ต่อ ค่าโดยสารเฉลี่ยอยู่ที่ 0.0052\n",
        "\n",
        "-แบบที่ 3 จ่ายอัตราส่วน Tip ต่อ ค่าโดยสารเฉลี่ยอยู่ที่ 2.7238*10^-4\n",
        "\n",
        "-แบบที่ 4 จ่ายอัตราส่วน Tip ต่อ ค่าโดยสารเฉลี่ยอยู่ที่ 5.2741*10^-6\n",
        "\n",
        "-แบบที่ 5 จ่ายอัตราส่วน Tip ต่อ ค่าโดยสารเฉลี่ยอยู่ที่ 0\n"
      ],
      "metadata": {
        "id": "TwvToiwJdYn7"
      }
    },
    {
      "cell_type": "markdown",
      "source": [
        "#3.Plot the average of the new column tip_fraction grouped by day of week."
      ],
      "metadata": {
        "id": "5VB0aEIuIfZY"
      }
    },
    {
      "cell_type": "code",
      "source": [
        "df_day_tip_fraction = df.groupby('days').agg({'tip_fraction': 'avg'})\n",
        "\n",
        "plt.bar(\n",
        "    df_day_tip_fraction.toPandas()['days'].values.tolist(),\n",
        "    df_day_tip_fraction.toPandas()['avg(tip_fraction)'].values.tolist()\n",
        ")\n",
        "plt.title('Average of tip_fraction grouped by day of week')\n",
        "plt.xlabel(\"Day\")\n",
        "plt.ylabel(\"tip_fraction\")"
      ],
      "metadata": {
        "colab": {
          "base_uri": "https://localhost:8080/",
          "height": 490
        },
        "id": "NImWbhGw2s4w",
        "outputId": "be3b63cc-eb94-4f00-bce4-3a52a9f8a67e"
      },
      "execution_count": null,
      "outputs": [
        {
          "output_type": "stream",
          "name": "stderr",
          "text": []
        },
        {
          "output_type": "execute_result",
          "data": {
            "text/plain": [
              "Text(0, 0.5, 'tip_fraction')"
            ]
          },
          "metadata": {},
          "execution_count": 79
        },
        {
          "output_type": "display_data",
          "data": {
            "text/plain": [
              "<Figure size 640x480 with 1 Axes>"
            ],
            "image/png": "[encoded data removed]"
          },
          "metadata": {}
        }
      ]
    },
    {
      "cell_type": "markdown",
      "source": [
        "#4.Plot the average of the new column tip_fraction grouped by hour of day."
      ],
      "metadata": {
        "id": "ZiltY8CQIX9t"
      }
    },
    {
      "cell_type": "code",
      "source": [
        "df_hour_tip_fraction = df.groupby('hours').agg({'tip_fraction': 'avg'})\n",
        "\n",
        "plt.bar(\n",
        "    df_hour_tip_fraction.toPandas()['hours'].values.tolist(),\n",
        "    df_hour_tip_fraction.toPandas()['avg(tip_fraction)'].values.tolist()\n",
        ")\n",
        "plt.title('Average of tip_fraction grouped by hour of day')\n",
        "plt.xlabel(\"Hour\")\n",
        "plt.ylabel(\"tip_fraction\")"
      ],
      "metadata": {
        "colab": {
          "base_uri": "https://localhost:8080/",
          "height": 490
        },
        "id": "thSGZxBy2umc",
        "outputId": "7851052c-95b8-4203-8432-6c2b07451fc6"
      },
      "execution_count": null,
      "outputs": [
        {
          "output_type": "stream",
          "name": "stderr",
          "text": []
        },
        {
          "output_type": "execute_result",
          "data": {
            "text/plain": [
              "Text(0, 0.5, 'tip_fraction')"
            ]
          },
          "metadata": {},
          "execution_count": 80
        },
        {
          "output_type": "display_data",
          "data": {
            "text/plain": [
              "<Figure size 640x480 with 1 Axes>"
            ],
            "image/png": "[encoded data removed]"
          },
          "metadata": {}
        }
      ]
    }
  ],
  "metadata": {
    "deepnote_execution_queue": [],
    "deepnote_notebook_id": "87fd115f-25ed-48ed-ad5a-7ae17a9eb4bc",
    "jupytext": {
      "encoding": "# -*- coding: utf-8 -*-",
      "formats": "ipynb"
    },
    "kernelspec": {
      "display_name": "Python 3",
      "name": "python3"
    },
    "language_info": {
      "name": "python"
    },
    "colab": {
      "provenance": []
    },
    "gpuClass": "standard"
  },
  "nbformat": 4,
  "nbformat_minor": 0
}