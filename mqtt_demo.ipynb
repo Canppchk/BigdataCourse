{
  "nbformat": 4,
  "nbformat_minor": 0,
  "metadata": {
    "colab": {
      "provenance": []
    },
    "kernelspec": {
      "name": "python3",
      "display_name": "Python 3"
    },
    "language_info": {
      "name": "python"
    }
  },
  "cells": [
    {
      "cell_type": "markdown",
      "source": [
        "Install mosquitto broker on VM"
      ],
      "metadata": {
        "id": "JMKIstXFAKI_"
      }
    },
    {
      "cell_type": "markdown",
      "source": [
        "Install paho mqtt"
      ],
      "metadata": {
        "id": "TbEB0qYjC-gb"
      }
    },
    {
      "cell_type": "markdown",
      "source": [
        "https://www.howtoforge.com/how-to-install-and-secure-the-mosquitto-mqtt-messaging-broker-on-ubuntu-20-04/"
      ],
      "metadata": {
        "id": "8-b_ECjpAIJf"
      }
    },
    {
      "cell_type": "code",
      "execution_count": null,
      "metadata": {
        "id": "g_nGnV7T9pIU",
        "colab": {
          "base_uri": "https://localhost:8080/"
        },
        "outputId": "4629fe2d-bb45-4f68-de14-557eb9358a70"
      },
      "outputs": [
        {
          "output_type": "stream",
          "name": "stdout",
          "text": [
            "Requirement already satisfied: paho-mqtt in ./.local/lib/python3.8/site-packages (1.6.1)\r\n"
          ]
        }
      ],
      "source": [
        "!pip3 install paho-mqtt\n"
      ]
    },
    {
      "cell_type": "markdown",
      "source": [
        "Run on your server\n",
        "\n",
        "`mosquitto -d`"
      ],
      "metadata": {
        "id": "zXXdunISVAfu"
      }
    },
    {
      "cell_type": "code",
      "source": [],
      "metadata": {
        "id": "pwnjsRjIU9rS"
      },
      "execution_count": null,
      "outputs": []
    },
    {
      "cell_type": "markdown",
      "source": [
        "Run this on your server"
      ],
      "metadata": {
        "id": "0GMQ07rFDRLH"
      }
    },
    {
      "cell_type": "code",
      "source": [
        "!mosquitto_sub -u hadoop  -P hadoop -t \"home/lights/kitchen\""
      ],
      "metadata": {
        "colab": {
          "base_uri": "https://localhost:8080/"
        },
        "id": "f5l8x44qDQL6",
        "outputId": "c6d031c2-4a2b-4b44-8f86-3294a9118743"
      },
      "execution_count": null,
      "outputs": [
        {
          "output_type": "stream",
          "name": "stdout",
          "text": [
            "^C\r\n"
          ]
        }
      ]
    },
    {
      "cell_type": "markdown",
      "source": [
        "Use the following to test publish"
      ],
      "metadata": {
        "id": "mVViOjArUzax"
      }
    },
    {
      "cell_type": "code",
      "source": [
        "!mosquitto_pub -u hadoop -P hadoop -m \"ON\" -t \"home/lights/kitchen\""
      ],
      "metadata": {
        "id": "CbeTmIgXHO7k"
      },
      "execution_count": null,
      "outputs": []
    },
    {
      "cell_type": "markdown",
      "source": [
        "http://www.steves-internet-guide.com/client-connections-python-mqtt/"
      ],
      "metadata": {
        "id": "ABqCF7HzEUcO"
      }
    },
    {
      "cell_type": "code",
      "source": [
        "import paho.mqtt.client as mqtt\n",
        "client = mqtt.Client(\"mqtt demo\")\n",
        "client.connect(\"localhost\", 1883, 60)\n",
        "\n",
        "client.username_pw_set(\"hadoop\", \"hadoop\")\n",
        "topic = 'home/lights/kitchen'\n",
        "client.publish(topic, payload='test1')\n"
      ],
      "metadata": {
        "colab": {
          "base_uri": "https://localhost:8080/"
        },
        "id": "zhrkUUex92Yu",
        "outputId": "e6318d3b-ca4f-4111-dd1a-dfb875375cbe"
      },
      "execution_count": null,
      "outputs": [
        {
          "output_type": "execute_result",
          "data": {
            "text/plain": [
              "<paho.mqtt.client.MQTTMessageInfo at 0x7f4eac0544a0>"
            ]
          },
          "metadata": {},
          "execution_count": 3
        }
      ]
    },
    {
      "cell_type": "code",
      "source": [
        "broker = 'localhost'\n",
        "port = 1883\n",
        "topic = \"home/lights/kitchen\"\n",
        "def on_publish(client,userdata,result):             #create function for callback\n",
        "    print(\"data published \\n\")\n",
        "    pass\n",
        "client1= mqtt.Client(\"test_publish\",clean_session=True, userdata=None,protocol=mqtt.MQTTv311, transport=\"tcp\")                           #create client object\n",
        "client.username_pw_set(\"hadoop\", \"hadoop\")\n",
        "client1.on_publish = on_publish                          #assign function to callback\n",
        "client1.connect(broker,port)                                 #establish connection\n",
        "ret= client1.publish(topic,\"ON\")                   #publish"
      ],
      "metadata": {
        "colab": {
          "base_uri": "https://localhost:8080/"
        },
        "id": "iRZXc81RFI9S",
        "outputId": "408c5519-7fef-4358-b64a-7101f8eaa32d"
      },
      "execution_count": null,
      "outputs": [
        {
          "output_type": "stream",
          "name": "stdout",
          "text": [
            "data published \n",
            "\n"
          ]
        }
      ]
    },
    {
      "cell_type": "code",
      "source": [
        "#looping publish\n",
        "import time\n",
        "import paho.mqtt.client as mqtt\n",
        "client = mqtt.Client(\"mqtt demo\")\n",
        "client.connect(\"localhost\",  port=1883, keepalive=60, bind_address=\"\")\n",
        "\n",
        "client.username_pw_set(\"hadoop\", \"hadoop\")\n",
        "topic = 'home/lights/kitchen'\n",
        "while True:\n",
        "    client.publish(topic, payload='on')\n",
        "    time.sleep(4)"
      ],
      "metadata": {
        "id": "Ttevis-9Zele",
        "colab": {
          "base_uri": "https://localhost:8080/",
          "height": 207
        },
        "outputId": "babac563-01c6-45c3-a7cf-27d40b8334c2"
      },
      "execution_count": null,
      "outputs": [
        {
          "output_type": "error",
          "ename": "KeyboardInterrupt",
          "evalue": "ignored",
          "traceback": [
            "\u001b[0;31m---------------------------------------------------------------------------\u001b[0m",
            "\u001b[0;31mKeyboardInterrupt\u001b[0m                         Traceback (most recent call last)",
            "Input \u001b[0;32mIn [5]\u001b[0m, in \u001b[0;36m<cell line: 10>\u001b[0;34m()\u001b[0m\n\u001b[1;32m      9\u001b[0m \u001b[38;5;28;01mwhile\u001b[39;00m \u001b[38;5;28;01mTrue\u001b[39;00m:\n\u001b[1;32m     10\u001b[0m     client\u001b[38;5;241m.\u001b[39mpublish(topic, payload\u001b[38;5;241m=\u001b[39m\u001b[38;5;124m'\u001b[39m\u001b[38;5;124mon\u001b[39m\u001b[38;5;124m'\u001b[39m)\n\u001b[0;32m---> 11\u001b[0m     \u001b[43mtime\u001b[49m\u001b[38;5;241;43m.\u001b[39;49m\u001b[43msleep\u001b[49m\u001b[43m(\u001b[49m\u001b[38;5;241;43m4\u001b[39;49m\u001b[43m)\u001b[49m\n",
            "\u001b[0;31mKeyboardInterrupt\u001b[0m: "
          ]
        }
      ]
    },
    {
      "cell_type": "code",
      "source": [
        "import paho.mqtt.client as mqtt\n",
        "# The callback for when the client receives a CONNACK response from the server.\n",
        "def on_connect(client, userdata, flags, rc):\n",
        "    print(f\"Connected with result code {str(rc)}\")\n",
        "# The callback for when a PUBLISH message is received from the server.\n",
        "def on_message(client, userdata, msg):\n",
        "    print(f\"{msg.topic} {str(msg.payload)}\")\n",
        "if __name__ == '__main__':\n",
        "    client = mqtt.Client(\"test\",clean_session=True, userdata=None,protocol=mqtt.MQTTv311, transport=\"tcp\")\n",
        "    client.on_connect = on_connect\n",
        "    client.on_message = on_message\n",
        "    client.connect(\"localhost\", 1883)\n",
        "    client.username_pw_set(username=\"hadoop\",password=\"hadoop\")\n",
        "    topic = 'home/lights/kitchen'\n",
        "    client.subscribe(topic)\n",
        "    client.loop_forever()"
      ],
      "metadata": {
        "colab": {
          "base_uri": "https://localhost:8080/",
          "height": 590
        },
        "id": "Nlddj-u8EEpW",
        "outputId": "66783da0-a0f2-4491-e24f-b1fce7089dfb"
      },
      "execution_count": null,
      "outputs": [
        {
          "output_type": "stream",
          "name": "stdout",
          "text": [
            "Connected with result code 0\n"
          ]
        },
        {
          "output_type": "error",
          "ename": "KeyboardInterrupt",
          "evalue": "ignored",
          "traceback": [
            "\u001b[0;31m---------------------------------------------------------------------------\u001b[0m",
            "\u001b[0;31mKeyboardInterrupt\u001b[0m                         Traceback (most recent call last)",
            "Input \u001b[0;32mIn [6]\u001b[0m, in \u001b[0;36m<cell line: 8>\u001b[0;34m()\u001b[0m\n\u001b[1;32m     14\u001b[0m topic \u001b[38;5;241m=\u001b[39m \u001b[38;5;124m'\u001b[39m\u001b[38;5;124mhome/lights/kitchen\u001b[39m\u001b[38;5;124m'\u001b[39m\n\u001b[1;32m     15\u001b[0m client\u001b[38;5;241m.\u001b[39msubscribe(topic)\n\u001b[0;32m---> 16\u001b[0m \u001b[43mclient\u001b[49m\u001b[38;5;241;43m.\u001b[39;49m\u001b[43mloop_forever\u001b[49m\u001b[43m(\u001b[49m\u001b[43m)\u001b[49m\n",
            "File \u001b[0;32m~/.local/lib/python3.8/site-packages/paho/mqtt/client.py:1756\u001b[0m, in \u001b[0;36mClient.loop_forever\u001b[0;34m(self, timeout, max_packets, retry_first_connection)\u001b[0m\n\u001b[1;32m   1754\u001b[0m rc \u001b[38;5;241m=\u001b[39m MQTT_ERR_SUCCESS\n\u001b[1;32m   1755\u001b[0m \u001b[38;5;28;01mwhile\u001b[39;00m rc \u001b[38;5;241m==\u001b[39m MQTT_ERR_SUCCESS:\n\u001b[0;32m-> 1756\u001b[0m     rc \u001b[38;5;241m=\u001b[39m \u001b[38;5;28;43mself\u001b[39;49m\u001b[38;5;241;43m.\u001b[39;49m\u001b[43m_loop\u001b[49m\u001b[43m(\u001b[49m\u001b[43mtimeout\u001b[49m\u001b[43m)\u001b[49m\n\u001b[1;32m   1757\u001b[0m     \u001b[38;5;66;03m# We don't need to worry about locking here, because we've\u001b[39;00m\n\u001b[1;32m   1758\u001b[0m     \u001b[38;5;66;03m# either called loop_forever() when in single threaded mode, or\u001b[39;00m\n\u001b[1;32m   1759\u001b[0m     \u001b[38;5;66;03m# in multi threaded mode when loop_stop() has been called and\u001b[39;00m\n\u001b[1;32m   1760\u001b[0m     \u001b[38;5;66;03m# so no other threads can access _out_packet or _messages.\u001b[39;00m\n\u001b[1;32m   1761\u001b[0m     \u001b[38;5;28;01mif\u001b[39;00m (\u001b[38;5;28mself\u001b[39m\u001b[38;5;241m.\u001b[39m_thread_terminate \u001b[38;5;129;01mis\u001b[39;00m \u001b[38;5;28;01mTrue\u001b[39;00m\n\u001b[1;32m   1762\u001b[0m         \u001b[38;5;129;01mand\u001b[39;00m \u001b[38;5;28mlen\u001b[39m(\u001b[38;5;28mself\u001b[39m\u001b[38;5;241m.\u001b[39m_out_packet) \u001b[38;5;241m==\u001b[39m \u001b[38;5;241m0\u001b[39m\n\u001b[1;32m   1763\u001b[0m             \u001b[38;5;129;01mand\u001b[39;00m \u001b[38;5;28mlen\u001b[39m(\u001b[38;5;28mself\u001b[39m\u001b[38;5;241m.\u001b[39m_out_messages) \u001b[38;5;241m==\u001b[39m \u001b[38;5;241m0\u001b[39m):\n",
            "File \u001b[0;32m~/.local/lib/python3.8/site-packages/paho/mqtt/client.py:1150\u001b[0m, in \u001b[0;36mClient._loop\u001b[0;34m(self, timeout)\u001b[0m\n\u001b[1;32m   1147\u001b[0m     rlist \u001b[38;5;241m=\u001b[39m [\u001b[38;5;28mself\u001b[39m\u001b[38;5;241m.\u001b[39m_sock, \u001b[38;5;28mself\u001b[39m\u001b[38;5;241m.\u001b[39m_sockpairR]\n\u001b[1;32m   1149\u001b[0m \u001b[38;5;28;01mtry\u001b[39;00m:\n\u001b[0;32m-> 1150\u001b[0m     socklist \u001b[38;5;241m=\u001b[39m \u001b[43mselect\u001b[49m\u001b[38;5;241;43m.\u001b[39;49m\u001b[43mselect\u001b[49m\u001b[43m(\u001b[49m\u001b[43mrlist\u001b[49m\u001b[43m,\u001b[49m\u001b[43m \u001b[49m\u001b[43mwlist\u001b[49m\u001b[43m,\u001b[49m\u001b[43m \u001b[49m\u001b[43m[\u001b[49m\u001b[43m]\u001b[49m\u001b[43m,\u001b[49m\u001b[43m \u001b[49m\u001b[43mtimeout\u001b[49m\u001b[43m)\u001b[49m\n\u001b[1;32m   1151\u001b[0m \u001b[38;5;28;01mexcept\u001b[39;00m \u001b[38;5;167;01mTypeError\u001b[39;00m:\n\u001b[1;32m   1152\u001b[0m     \u001b[38;5;66;03m# Socket isn't correct type, in likelihood connection is lost\u001b[39;00m\n\u001b[1;32m   1153\u001b[0m     \u001b[38;5;28;01mreturn\u001b[39;00m MQTT_ERR_CONN_LOST\n",
            "\u001b[0;31mKeyboardInterrupt\u001b[0m: "
          ]
        }
      ]
    },
    {
      "cell_type": "markdown",
      "source": [
        "Resources:\n",
        "\n"
      ],
      "metadata": {
        "id": "eL8_4gvnZI4T"
      }
    },
    {
      "cell_type": "code",
      "source": [
        "%%file test_publish_mqtt.py\n",
        "import paho.mqtt.client as mqtt\n",
        "client = mqtt.Client(\"mqtt demo\")\n",
        "client.connect(\"localhost\", 1883, 60)\n",
        "\n",
        "\n",
        "client.username_pw_set(\"hadoop\", \"hadoop\")\n",
        "topic = 'home/lights/kitchen'\n",
        "client.publish(topic, payload='Hn')"
      ],
      "metadata": {
        "id": "Zg1j2772ZLST",
        "colab": {
          "base_uri": "https://localhost:8080/"
        },
        "outputId": "13ba69b0-57a3-4e16-f1d9-899d61bfa7a2"
      },
      "execution_count": null,
      "outputs": [
        {
          "output_type": "stream",
          "name": "stdout",
          "text": [
            "Writing test_publish_mqtt.py\n"
          ]
        }
      ]
    },
    {
      "cell_type": "code",
      "source": [
        "%%file test_subscribe_mqtt.py\n",
        "import paho.mqtt.client as mqtt\n",
        "# The callback for when the client receives a CONNACK response from the server.\n",
        "def on_connect(client, userdata, flags, rc):\n",
        "    print(f\"Connected with result code {str(rc)}\")\n",
        "# The callback for when a PUBLISH message is received from the server.\n",
        "def on_message(client, userdata, msg):\n",
        "    print(f\"{msg.topic} {str(msg.payload)}\")\n",
        "\n",
        "client = mqtt.Client()\n",
        "client.on_connect = on_connect\n",
        "client.on_message = on_message\n",
        "client.connect(\"localhost\", 1883, 60)\n",
        "client.username_pw_set(username=\"hadoop\",password=\"hadoop\")\n",
        "topic = 'home/lights/kitchen'\n",
        "client.subscribe(topic)\n",
        "client.loop_forever()"
      ],
      "metadata": {
        "id": "RsHXDo4TZQrg"
      },
      "execution_count": null,
      "outputs": []
    }
  ]
}