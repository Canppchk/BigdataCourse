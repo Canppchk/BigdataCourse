{
  "nbformat": 4,
  "nbformat_minor": 0,
  "metadata": {
    "colab": {
      "provenance": []
    },
    "kernelspec": {
      "name": "python3",
      "display_name": "Python 3"
    }
  },
  "cells": [
    {
      "cell_type": "markdown",
      "source": [
        "นาย ปพนธ์ ชุณหคล้าย 6210503691"
      ],
      "metadata": {
        "id": "x4u9dycswspL"
      }
    },
    {
      "metadata": {
        "id": "Cx62f5K4iM9p"
      },
      "cell_type": "markdown",
      "source": [
        "# Setup"
      ]
    },
    {
      "cell_type": "markdown",
      "source": [
        "use colab runtime"
      ],
      "metadata": {
        "id": "U1Cq9lEXcIvg"
      }
    },
    {
      "cell_type": "code",
      "source": [
        "%%sh\n",
        "pip install -q dash\n",
        "pip install -q dash_core_components\n",
        "pip install -q dash_html_components\n",
        "pip install -q dash_table"
      ],
      "metadata": {
        "id": "ZWSLBtV52GGv"
      },
      "execution_count": null,
      "outputs": []
    },
    {
      "metadata": {
        "id": "uuHS64aNk6oK",
        "colab": {
          "base_uri": "https://localhost:8080/"
        },
        "outputId": "96ccebca-b3a0-40c7-dfa5-9b05bf5ef568"
      },
      "cell_type": "code",
      "source": [
        "%%sh\n",
        "# get ngrok\n",
        "curl -O https://bin.equinox.io/c/4VmDzA7iaHb/ngrok-stable-linux-amd64.zip\n",
        "unzip ngrok-stable-linux-amd64.zip"
      ],
      "execution_count": null,
      "outputs": [
        {
          "output_type": "stream",
          "name": "stderr",
          "text": [
            "  % Total    % Received % Xferd  Average Speed   Time    Time     Time  Current\n",
            "                                 Dload  Upload   Total   Spent    Left  Speed\n",
            "100 13.1M  100 13.1M    0     0  3631k      0  0:00:03  0:00:03 --:--:-- 3630k\n"
          ]
        },
        {
          "output_type": "stream",
          "name": "stdout",
          "text": [
            "Archive:  ngrok-stable-linux-amd64.zip\n",
            "  inflating: ngrok                   \n"
          ]
        }
      ]
    },
    {
      "cell_type": "code",
      "source": [
        "!pip install pyngrok"
      ],
      "metadata": {
        "colab": {
          "base_uri": "https://localhost:8080/"
        },
        "id": "_jWupdhZ7A0q",
        "outputId": "3a8558e6-16fe-4883-dd75-77f71b2a9607"
      },
      "execution_count": null,
      "outputs": [
        {
          "output_type": "stream",
          "name": "stdout",
          "text": [
            "Collecting pyngrok\n",
            "  Downloading pyngrok-5.1.0.tar.gz (745 kB)\n",
            "\u001b[K     |████████████████████████████████| 745 kB 1.2 MB/s \n",
            "\u001b[?25hRequirement already satisfied: PyYAML in /usr/lib/python3/dist-packages (from pyngrok) (5.3.1)\n",
            "Building wheels for collected packages: pyngrok\n",
            "  Building wheel for pyngrok (setup.py) ... \u001b[?25l-\b \bdone\n",
            "\u001b[?25h  Created wheel for pyngrok: filename=pyngrok-5.1.0-py3-none-any.whl size=18991 sha256=1fa5edd880482a2957578a4dcf7305bcf872787d8be153e1a0d8e8c856f1a428\n",
            "  Stored in directory: /home/hadoop/.cache/pip/wheels/87/a1/e7/66d10d257852cd702f8e56be9aa70e74d8ac90f8d951eaa984\n",
            "Successfully built pyngrok\n",
            "Installing collected packages: pyngrok\n",
            "Successfully installed pyngrok-5.1.0\n"
          ]
        }
      ]
    },
    {
      "metadata": {
        "id": "QVb3TaoVtFom"
      },
      "cell_type": "markdown",
      "source": [
        "# Dash"
      ]
    },
    {
      "cell_type": "code",
      "source": [
        "import json\n",
        "from time import sleep\n",
        "\n",
        "from kafka import KafkaConsumer\n",
        "data1=[]\n",
        "if __name__ == '__main__':\n",
        "    parsed_topic_name = 'parsed_recipes'\n",
        "    # Notify if a recipe has more than 200 calories\n",
        "    calories_threshold = 200\n",
        "\n",
        "    consumer = KafkaConsumer(parsed_topic_name, auto_offset_reset='earliest',\n",
        "                             bootstrap_servers=['localhost:9092'], api_version=(0, 10), consumer_timeout_ms=1000)\n",
        "    for msg in consumer:\n",
        "        record = json.loads(msg.value)\n",
        "        print(record)\n",
        "        data1.append(record)\n",
        "\n",
        "    if consumer is not None:\n",
        "        consumer.close()"
      ],
      "metadata": {
        "colab": {
          "base_uri": "https://localhost:8080/"
        },
        "id": "495yuZFjZkeC",
        "outputId": "c9f68d81-d920-4f54-c6a1-d07d772c37ac"
      },
      "execution_count": null,
      "outputs": [
        {
          "output_type": "stream",
          "name": "stdout",
          "text": [
            "{'x': ['Calories', 'Protein', 'Total Fat', 'Sat Fat', 'Trans Fat', 'Cholesterol', 'Total Carbohydrate', 'Dietary fiber', 'Total sugars', 'Added sugars', 'Sodium'], 'y': [208.1, 6.4, 3.5, 0.5, 0.0, 0.0, 39.8, 5.4, 15.6, 1.5, 661.6], 'type': 'bar', 'name': 'BBQ Chickpea and Carrot Sliders'}\n",
            "{'x': ['Calories', 'Protein', 'Total Fat', 'Sat Fat', 'Trans Fat', 'Cholesterol', 'Total Carbohydrate', 'Dietary fiber', 'Total sugars', 'Added sugars', 'Sodium'], 'y': [262.5, 12.4, 1.4, 0.18, 0.0, 0.0, 53.4, 14.0, 9.42, 0.0, 76.6], 'type': 'bar', 'name': 'Southwest Stew'}\n",
            "{'x': ['Calories', 'Protein', 'Total Fat', 'Sat Fat', 'Trans Fat', 'Cholesterol', 'Total Carbohydrate', 'Dietary fiber', 'Total sugars', 'Added sugars', 'Sodium'], 'y': [322.1, 13.2, 2.3, 0.0, 0.0, 29.9, 10.9, 8.6, 3.0, 456.7], 'type': 'bar', 'name': 'The Whole Bowl: Pan Roasted Tofu, Broccoli Bites and Wilted Spinach'}\n",
            "{'x': ['Calories', 'Protein', 'Total Fat', 'Sat Fat', 'Trans Fat', 'Cholesterol', 'Total Carbohydrate', 'Dietary fiber', 'Total sugars', 'Added sugars', 'Sodium'], 'y': [308.0, 15.1, 19.8, 11.18, 0.0, 0.0, 24.0, 5.9, 8.54, 0.0, 471.8], 'type': 'bar', 'name': 'Tempeh Cauliflower Potato Curry'}\n",
            "{'x': ['Calories', 'Protein', 'Total Fat', 'Sat Fat', 'Trans Fat', 'Cholesterol', 'Total Carbohydrate', 'Dietary fiber', 'Total sugars', 'Added sugars', 'Sodium'], 'y': [345.7, 16.6, 7.9, 0.96, 0.0, 0.0, 54.4, 6.8, 4.14, 0.0, 944.4], 'type': 'bar', 'name': 'Mac N’ Cheese'}\n",
            "{'x': ['Calories', 'Protein', 'Total Fat', 'Sat Fat', 'Trans Fat', 'Cholesterol', 'Total Carbohydrate', 'Dietary fiber', 'Total sugars', 'Added sugars', 'Sodium'], 'y': [493.6, 18.6, 9.3, 4.29, 0.0, 0.0, 84.9, 19.7, 6.88, 0.0, 982.5], 'type': 'bar', 'name': 'Black Bean and Sweet Potato Quesadillas'}\n",
            "{'x': ['Calories', 'Protein', 'Total Fat', 'Sat Fat', 'Trans Fat', 'Cholesterol', 'Total Carbohydrate', 'Dietary fiber', 'Total sugars', 'Added sugars', 'Sodium'], 'y': [139.7, 6.3, 1.2, 0.18, 0.0, 0.0, 27.4, 7.5, 1.23, 0.0, 228.3], 'type': 'bar', 'name': 'Quick Black Bean Tostadas'}\n",
            "{'x': ['Calories', 'Protein', 'Total Fat', 'Sat Fat', 'Trans Fat', 'Cholesterol', 'Total Carbohydrate', 'Dietary fiber', 'Total sugars', 'Added sugars', 'Sodium'], 'y': [298.4, 16.3, 0.9, 0.17, 0.0, 0.0, 58.2, 19.9, 5.66, 0.0, 133.7], 'type': 'bar', 'name': 'Lentil Stew'}\n",
            "{'x': ['Calories', 'Protein', 'Total Fat', 'Sat Fat', 'Trans Fat', 'Cholesterol', 'Total Carbohydrate', 'Dietary fiber', 'Total sugars', 'Added sugars', 'Sodium'], 'y': [267.7, 13.5, 6.4, 0.98, 0.0, 0.0, 41.7, 8.4, 6.37, 0.0, 219.1], 'type': 'bar', 'name': 'Tu-No Casserole'}\n",
            "{'x': ['Calories', 'Protein', 'Total Fat', 'Sat Fat', 'Trans Fat', 'Cholesterol', 'Total Carbohydrate', 'Dietary fiber', 'Total sugars', 'Added sugars', 'Sodium'], 'y': [1182.8, 48.7, 39.1, 5.7, 0.0, 0.0, 168.5, 27.6, 19.87, 0.0, 3116.0], 'type': 'bar', 'name': 'Classic Margherita Pizza'}\n",
            "{'x': ['Calories', 'Protein', 'Total Fat', 'Sat Fat', 'Trans Fat', 'Cholesterol', 'Total Carbohydrate', 'Dietary fiber', 'Total sugars', 'Added sugars', 'Sodium'], 'y': [799.6, 54.6, 34.1, 6.3, 0.0, 0.0, 78.1, 13.3, 8.4, 0.4, 366.4], 'type': 'bar', 'name': 'Plant-Based Ramen'}\n",
            "{'x': ['Calories', 'Protein', 'Total Fat', 'Sat Fat', 'Trans Fat', 'Cholesterol', 'Total Carbohydrate', 'Dietary fiber', 'Total sugars', 'Added sugars', 'Sodium'], 'y': [603.6, 29.4, 6.5, 0.9, 0.0, 0.0, 112.9, 25.5, 14.8, 0.0, 213.8], 'type': 'bar', 'name': 'Quinoa Bowl with Roasted Sweet Taters and Black Beans'}\n"
          ]
        }
      ]
    },
    {
      "cell_type": "code",
      "source": [
        "print(data1)"
      ],
      "metadata": {
        "colab": {
          "base_uri": "https://localhost:8080/"
        },
        "id": "EOhBIZvSrO2v",
        "outputId": "1a1d6485-51e4-4eec-f64e-da4148422500"
      },
      "execution_count": null,
      "outputs": [
        {
          "output_type": "stream",
          "name": "stdout",
          "text": [
            "[{'x': ['Calories', 'Protein', 'Total Fat', 'Sat Fat', 'Trans Fat', 'Cholesterol', 'Total Carbohydrate', 'Dietary fiber', 'Total sugars', 'Added sugars', 'Sodium'], 'y': [208.1, 6.4, 3.5, 0.5, 0.0, 0.0, 39.8, 5.4, 15.6, 1.5, 661.6], 'type': 'bar', 'name': 'BBQ Chickpea and Carrot Sliders'}, {'x': ['Calories', 'Protein', 'Total Fat', 'Sat Fat', 'Trans Fat', 'Cholesterol', 'Total Carbohydrate', 'Dietary fiber', 'Total sugars', 'Added sugars', 'Sodium'], 'y': [262.5, 12.4, 1.4, 0.18, 0.0, 0.0, 53.4, 14.0, 9.42, 0.0, 76.6], 'type': 'bar', 'name': 'Southwest Stew'}, {'x': ['Calories', 'Protein', 'Total Fat', 'Sat Fat', 'Trans Fat', 'Cholesterol', 'Total Carbohydrate', 'Dietary fiber', 'Total sugars', 'Added sugars', 'Sodium'], 'y': [322.1, 13.2, 2.3, 0.0, 0.0, 29.9, 10.9, 8.6, 3.0, 456.7], 'type': 'bar', 'name': 'The Whole Bowl: Pan Roasted Tofu, Broccoli Bites and Wilted Spinach'}, {'x': ['Calories', 'Protein', 'Total Fat', 'Sat Fat', 'Trans Fat', 'Cholesterol', 'Total Carbohydrate', 'Dietary fiber', 'Total sugars', 'Added sugars', 'Sodium'], 'y': [308.0, 15.1, 19.8, 11.18, 0.0, 0.0, 24.0, 5.9, 8.54, 0.0, 471.8], 'type': 'bar', 'name': 'Tempeh Cauliflower Potato Curry'}, {'x': ['Calories', 'Protein', 'Total Fat', 'Sat Fat', 'Trans Fat', 'Cholesterol', 'Total Carbohydrate', 'Dietary fiber', 'Total sugars', 'Added sugars', 'Sodium'], 'y': [345.7, 16.6, 7.9, 0.96, 0.0, 0.0, 54.4, 6.8, 4.14, 0.0, 944.4], 'type': 'bar', 'name': 'Mac N’ Cheese'}, {'x': ['Calories', 'Protein', 'Total Fat', 'Sat Fat', 'Trans Fat', 'Cholesterol', 'Total Carbohydrate', 'Dietary fiber', 'Total sugars', 'Added sugars', 'Sodium'], 'y': [493.6, 18.6, 9.3, 4.29, 0.0, 0.0, 84.9, 19.7, 6.88, 0.0, 982.5], 'type': 'bar', 'name': 'Black Bean and Sweet Potato Quesadillas'}, {'x': ['Calories', 'Protein', 'Total Fat', 'Sat Fat', 'Trans Fat', 'Cholesterol', 'Total Carbohydrate', 'Dietary fiber', 'Total sugars', 'Added sugars', 'Sodium'], 'y': [139.7, 6.3, 1.2, 0.18, 0.0, 0.0, 27.4, 7.5, 1.23, 0.0, 228.3], 'type': 'bar', 'name': 'Quick Black Bean Tostadas'}, {'x': ['Calories', 'Protein', 'Total Fat', 'Sat Fat', 'Trans Fat', 'Cholesterol', 'Total Carbohydrate', 'Dietary fiber', 'Total sugars', 'Added sugars', 'Sodium'], 'y': [298.4, 16.3, 0.9, 0.17, 0.0, 0.0, 58.2, 19.9, 5.66, 0.0, 133.7], 'type': 'bar', 'name': 'Lentil Stew'}, {'x': ['Calories', 'Protein', 'Total Fat', 'Sat Fat', 'Trans Fat', 'Cholesterol', 'Total Carbohydrate', 'Dietary fiber', 'Total sugars', 'Added sugars', 'Sodium'], 'y': [267.7, 13.5, 6.4, 0.98, 0.0, 0.0, 41.7, 8.4, 6.37, 0.0, 219.1], 'type': 'bar', 'name': 'Tu-No Casserole'}, {'x': ['Calories', 'Protein', 'Total Fat', 'Sat Fat', 'Trans Fat', 'Cholesterol', 'Total Carbohydrate', 'Dietary fiber', 'Total sugars', 'Added sugars', 'Sodium'], 'y': [1182.8, 48.7, 39.1, 5.7, 0.0, 0.0, 168.5, 27.6, 19.87, 0.0, 3116.0], 'type': 'bar', 'name': 'Classic Margherita Pizza'}, {'x': ['Calories', 'Protein', 'Total Fat', 'Sat Fat', 'Trans Fat', 'Cholesterol', 'Total Carbohydrate', 'Dietary fiber', 'Total sugars', 'Added sugars', 'Sodium'], 'y': [799.6, 54.6, 34.1, 6.3, 0.0, 0.0, 78.1, 13.3, 8.4, 0.4, 366.4], 'type': 'bar', 'name': 'Plant-Based Ramen'}, {'x': ['Calories', 'Protein', 'Total Fat', 'Sat Fat', 'Trans Fat', 'Cholesterol', 'Total Carbohydrate', 'Dietary fiber', 'Total sugars', 'Added sugars', 'Sodium'], 'y': [603.6, 29.4, 6.5, 0.9, 0.0, 0.0, 112.9, 25.5, 14.8, 0.0, 213.8], 'type': 'bar', 'name': 'Quinoa Bowl with Roasted Sweet Taters and Black Beans'}]\n"
          ]
        }
      ]
    },
    {
      "metadata": {
        "id": "TPwPq0JLtMVQ",
        "colab": {
          "base_uri": "https://localhost:8080/"
        },
        "outputId": "3bd24f51-cc48-4c35-92a6-e2ffceb0fcc1"
      },
      "cell_type": "code",
      "source": [
        "%%writefile dash_app.py\n",
        "# -*- coding: utf-8 -*-\n",
        "import dash\n",
        "import dash_core_components as dcc\n",
        "import dash_html_components as html\n",
        "\n",
        "external_stylesheets = ['https://codepen.io/chriddyp/pen/bWLwgP.css']\n",
        "\n",
        "import json\n",
        "from time import sleep\n",
        "\n",
        "from kafka import KafkaConsumer\n",
        "data1=[]\n",
        "if __name__ == '__main__':\n",
        "    parsed_topic_name = 'parsed_recipes'\n",
        "    # Notify if a recipe has more than 200 calories\n",
        "    calories_threshold = 200\n",
        "\n",
        "    consumer = KafkaConsumer(parsed_topic_name, auto_offset_reset='earliest',\n",
        "                             bootstrap_servers=['localhost:9092'], api_version=(0, 10), consumer_timeout_ms=1000)\n",
        "    for msg in consumer:\n",
        "        record = json.loads(msg.value)\n",
        "        #print(record)\n",
        "        data1.append(record)\n",
        "\n",
        "    if consumer is not None:\n",
        "        consumer.close()\n",
        "\n",
        "app = dash.Dash(__name__)#, external_stylesheets=external_stylesheets)\n",
        "\n",
        "app.layout = html.Div(children=[\n",
        "    html.H1(children='Hello Dash'),\n",
        "\n",
        "    html.Div(children='''\n",
        "        Dash: A web application framework for Python.\n",
        "    '''),\n",
        "\n",
        "    dcc.Graph(\n",
        "        id='example-graph',\n",
        "        figure={\n",
        "            'data': data1,\n",
        "            'layout': {\n",
        "                'title': 'Dash Data Visualization'\n",
        "            }\n",
        "        }\n",
        "    )\n",
        "])\n",
        "\n",
        "if __name__ == '__main__':\n",
        "    #app.run_server(debug=True,  mode='external')\n",
        "    app.run_server(debug=True)"
      ],
      "execution_count": null,
      "outputs": [
        {
          "output_type": "stream",
          "name": "stdout",
          "text": [
            "Overwriting dash_app.py\n"
          ]
        }
      ]
    },
    {
      "cell_type": "markdown",
      "source": [
        "# Sign-in with ngrok\n",
        "Sign up for a free ngrok account: https://ngrok.com\n",
        "\n",
        "Copy your authtoken from https://dashboard.ngrok.com/auth and paste it into the following cell\n",
        "\n",
        "Run the cell"
      ],
      "metadata": {
        "id": "bAF8YsIE584j"
      }
    },
    {
      "cell_type": "markdown",
      "source": [
        "https://dashboard.ngrok.com/get-started/your-authtoken\n"
      ],
      "metadata": {
        "id": "voF2bjaF5NxT"
      }
    },
    {
      "cell_type": "code",
      "source": [
        "!ngrok  authtoken 2FB6Yq58mL7oGh4xxuFc1UDS6GP_5FM7YtptEaLvKUcYief5r"
      ],
      "metadata": {
        "colab": {
          "base_uri": "https://localhost:8080/"
        },
        "id": "ux6o-cl84s28",
        "outputId": "b87fde14-c9f2-47a5-a432-aaedcff50966"
      },
      "execution_count": null,
      "outputs": [
        {
          "output_type": "stream",
          "name": "stdout",
          "text": [
            "Authtoken saved to configuration file: /home/hadoop/.ngrok2/ngrok.yml\r\n"
          ]
        }
      ]
    },
    {
      "cell_type": "markdown",
      "source": [
        "## Use either one of the approach"
      ],
      "metadata": {
        "id": "krN-hrgu9e3C"
      }
    },
    {
      "cell_type": "code",
      "source": [
        "from pyngrok import ngrok\n",
        "# Open a HTTP tunnel on the default port 80\n",
        "public_url = ngrok.connect( '8050', 'http')"
      ],
      "metadata": {
        "id": "4dPSz-nl7OCz"
      },
      "execution_count": null,
      "outputs": []
    },
    {
      "cell_type": "code",
      "source": [
        "public_url"
      ],
      "metadata": {
        "id": "6xjKkvGd8hh7"
      },
      "execution_count": null,
      "outputs": []
    },
    {
      "cell_type": "markdown",
      "source": [
        "## Or"
      ],
      "metadata": {
        "id": "h_w4di4-9kDQ"
      }
    },
    {
      "metadata": {
        "id": "5hKnCayGlyd_"
      },
      "cell_type": "code",
      "source": [
        "# launch ngrok tunnel\n",
        "get_ipython().system_raw('./ngrok http 8050 &')"
      ],
      "execution_count": null,
      "outputs": []
    },
    {
      "metadata": {
        "id": "UK2SIu8qsHPK",
        "colab": {
          "base_uri": "https://localhost:8080/"
        },
        "outputId": "b4c40734-7f20-46ac-e9eb-7859893d10e3"
      },
      "cell_type": "code",
      "source": [
        "%%sh\n",
        "# get url with ngrok\n",
        "curl -s http://localhost:4040/api/tunnels | python3 -c \"import sys, json; print(json.load(sys.stdin)['tunnels'][0]['public_url'])\""
      ],
      "execution_count": null,
      "outputs": [
        {
          "output_type": "stream",
          "name": "stdout",
          "text": [
            "https://864b-158-108-135-110.ngrok.io\n"
          ]
        }
      ]
    },
    {
      "cell_type": "markdown",
      "source": [
        "click the above link when you run the below cell."
      ],
      "metadata": {
        "id": "lIWfDJjEc3R4"
      }
    },
    {
      "cell_type": "markdown",
      "source": [
        "## Then run python web"
      ],
      "metadata": {
        "id": "GmyEnvcm9ldT"
      }
    },
    {
      "metadata": {
        "id": "ycoF8TVXjos6",
        "colab": {
          "base_uri": "https://localhost:8080/"
        },
        "outputId": "79cbb75d-47fc-4a7f-e46f-5a3b85d7d91b"
      },
      "cell_type": "code",
      "source": [
        "!python3 dash_app.py"
      ],
      "execution_count": null,
      "outputs": [
        {
          "output_type": "stream",
          "name": "stdout",
          "text": [
            "dash_app.py:3: UserWarning: \r\n",
            "The dash_core_components package is deprecated. Please replace\r\n",
            "`import dash_core_components as dcc` with `from dash import dcc`\r\n",
            "  import dash_core_components as dcc\r\n",
            "dash_app.py:4: UserWarning: \r\n",
            "The dash_html_components package is deprecated. Please replace\r\n",
            "`import dash_html_components as html` with `from dash import html`\r\n",
            "  import dash_html_components as html\n",
            "Dash is running on http://127.0.0.1:8050/\n",
            "\n",
            " * Serving Flask app 'dash_app'\n",
            " * Debug mode: on\n",
            "/home/hadoop/dash_app.py:3: UserWarning: \n",
            "The dash_core_components package is deprecated. Please replace\n",
            "`import dash_core_components as dcc` with `from dash import dcc`\n",
            "  import dash_core_components as dcc\n",
            "/home/hadoop/dash_app.py:4: UserWarning: \n",
            "The dash_html_components package is deprecated. Please replace\n",
            "`import dash_html_components as html` with `from dash import html`\n",
            "  import dash_html_components as html\n",
            "^C\n",
            "Exception ignored in: <function ConsumerCoordinator.__del__ at 0x7fc6b04d3160>\n",
            "Traceback (most recent call last):\n",
            "  File \"/usr/local/lib/python3.8/dist-packages/kafka/coordinator/consumer.py\", line 131, in __del__\n",
            "  File \"/usr/local/lib/python3.8/dist-packages/kafka/util.py\", line 36, in __init__\n",
            "TypeError: 'NoneType' object is not callable\n"
          ]
        }
      ]
    },
    {
      "cell_type": "markdown",
      "source": [
        "Ref. \n",
        "https://towardsdatascience.com/quickly-share-ml-webapps-from-google-colab-using-ngrok-for-free-ae899ca2661a"
      ],
      "metadata": {
        "id": "cDOAWx6q8HXE"
      }
    }
  ]
}