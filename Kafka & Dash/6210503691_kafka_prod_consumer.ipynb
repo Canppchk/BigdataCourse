{
  "cells": [
    {
      "cell_type": "markdown",
      "source": [
        "นาย ปพนธ์ ชุณหคล้าย 6210503691"
      ],
      "metadata": {
        "id": "UVg_-khft9dM"
      }
    },
    {
      "cell_type": "code",
      "execution_count": null,
      "metadata": {
        "id": "1kBeu_3zHZBe"
      },
      "outputs": [],
      "source": [
        "import json\n",
        "from time import sleep\n",
        "\n",
        "from bs4 import BeautifulSoup"
      ]
    },
    {
      "cell_type": "code",
      "execution_count": null,
      "metadata": {
        "id": "20winJkHHZBf"
      },
      "outputs": [],
      "source": [
        "\n",
        "from kafka import KafkaConsumer, KafkaProducer"
      ]
    },
    {
      "cell_type": "markdown",
      "metadata": {
        "id": "RDFJ0dFnHZBf"
      },
      "source": [
        "First it will consume data from raw_recipes topic, parse and transform data into JSON and then will publish it in parsed_recipes topic. Below is the code that will fetch HTML data from raw_recipes topic, parse and then feed into parsed_recipes topic."
      ]
    },
    {
      "cell_type": "code",
      "execution_count": null,
      "metadata": {
        "id": "IcTFbLY0HZBg"
      },
      "outputs": [],
      "source": [
        "def publish_message(producer_instance, topic_name, key, value):\n",
        "    try:\n",
        "        key_bytes = bytes(key, encoding='utf-8') \n",
        "        value_bytes = bytes(value, encoding='utf-8') \n",
        "        producer_instance.send(topic_name, key=key_bytes, value=value_bytes)\n",
        "        producer_instance.flush()\n",
        "        print('Message published successfully (producer).')\n",
        "    except Exception as ex:\n",
        "        print('Exception in publishing message')\n",
        "        print(str(ex))\n",
        "\n",
        "\n",
        "def connect_kafka_producer():\n",
        "    _producer = None\n",
        "    try:\n",
        "        _producer = KafkaProducer(bootstrap_servers=['localhost:9092'], api_version=(0, 10))\n",
        "    except Exception as ex:\n",
        "        print('Exception while connecting Kafka')\n",
        "        print(str(ex))\n",
        "    finally:\n",
        "        return _producer\n",
        "\n",
        "\n",
        "def parse(markup):\n",
        "    title = '-'\n",
        "    submit_by = '-'\n",
        "    description = '-'\n",
        "    calories = 0\n",
        "    ingredients = []\n",
        "    rec = {}\n",
        "\n",
        "    try:\n",
        "\n",
        "        soup = BeautifulSoup(markup, 'lxml')\n",
        "        # title\n",
        "        title_section = soup.select('.breadcrumb_last')\n",
        "        # submitter\n",
        "        #submitter_section = soup.select('.submitter__name')\n",
        "        # description\n",
        "        #description_section = soup.select('.submitter__description')\n",
        "        # ingredients\n",
        "        # ingredients_section = soup.select('.list--wrapper')\n",
        "\n",
        "        # calories\n",
        "        nutrition_section = soup.select('.faqs--item')#soup.select('.calorie-count')\n",
        "        nutrition_section = [s  for div in nutrition_section for s in div.stripped_strings]\n",
        "        print(nutrition_section)\n",
        "        if nutrition_section:\n",
        "            #calories = calories_section[0].text.replace('cals', '').strip()\n",
        "            y=[float(nutrition_section[1])]\n",
        "            for i in range (3,23,2):\n",
        "              p=str(nutrition_section[i])\n",
        "              if 'g' in p:\n",
        "                k=p.replace('g', '')\n",
        "                j=k.replace('m', '')\n",
        "                y.append(float(j))\n",
        "        \n",
        "        # if ingredients_section:\n",
        "        #     for ingredient in ingredients_section:\n",
        "        #         ingredient_text = ingredient.text.strip()\n",
        "        #         if 'Add all ingredients to list' not in ingredient_text and ingredient_text != '':\n",
        "        #             ingredients.append({'step': ingredient.text.strip()})\n",
        "\n",
        "        #if description_section:\n",
        "        #    description = description_section[0].text.strip().replace('\"', '')\n",
        "\n",
        "        #if submitter_section:\n",
        "        #    submit_by = submitter_section[0].text.strip()\n",
        "\n",
        "        if title_section:\n",
        "            title = title_section[0].text\n",
        "\n",
        "        x = ['Calories','Protein','Total Fat','Sat Fat','Trans Fat','Cholesterol','Total Carbohydrate','Dietary fiber','Total sugars','Added sugars','Sodium']\n",
        "        b = 'bar'\n",
        "        rec = {'x': x,  'y': y, 'type': b, 'name': title}\n",
        "        # rec = {'title': title,  'calories': calories,\n",
        "        #        'ingredients': ingredients}\n",
        "        print(rec)\n",
        "    except Exception as ex:\n",
        "        print('Exception while parsing')\n",
        "        print(str(ex))\n",
        "    finally:\n",
        "        return json.dumps(rec)\n",
        "\n",
        "\n"
      ]
    },
    {
      "cell_type": "code",
      "execution_count": null,
      "metadata": {
        "colab": {
          "base_uri": "https://localhost:8080/"
        },
        "id": "-QfyAp-2HZBh",
        "outputId": "aa32390b-5d73-4043-854a-7bc0bd9f7a5e"
      },
      "outputs": [
        {
          "output_type": "stream",
          "name": "stdout",
          "text": [
            "Running Consumer..\n",
            "['Calories:', '208.1', 'Protein:', '6.4g', 'Total Fat:', '3.5g', 'Sat Fat:', '0.5g', 'Trans Fat:', '0g', 'Cholesterol:', '0mg', 'Total Carbohydrate:', '39.8g', 'Dietary fiber:', '5.4g', 'Total sugars:', '15.6g', 'Added sugars:', '1.5g', 'Sodium:', '661.6mg', 'Calories:', '208.1', 'Protein:', '6.4g', 'Total Fat:', '3.5g', 'Sat Fat:', '0.5g', 'Trans Fat:', '0g', 'Cholesterol:', '0mg', 'Total Carbohydrate:', '39.8g', 'Dietary fiber:', '5.4g', 'Total sugars:', '15.6g', 'Added sugars:', '1.5g', 'Sodium:', '661.6mg']\n",
            "{'x': ['Calories', 'Protein', 'Total Fat', 'Sat Fat', 'Trans Fat', 'Cholesterol', 'Total Carbohydrate', 'Dietary fiber', 'Total sugars', 'Added sugars', 'Sodium'], 'y': [208.1, 6.4, 3.5, 0.5, 0.0, 0.0, 39.8, 5.4, 15.6, 1.5, 661.6], 'type': 'bar', 'name': 'BBQ Chickpea and Carrot Sliders'}\n",
            "{\"x\": [\"Calories\", \"Protein\", \"Total Fat\", \"Sat Fat\", \"Trans Fat\", \"Cholesterol\", \"Total Carbohydrate\", \"Dietary fiber\", \"Total sugars\", \"Added sugars\", \"Sodium\"], \"y\": [208.1, 6.4, 3.5, 0.5, 0.0, 0.0, 39.8, 5.4, 15.6, 1.5, 661.6], \"type\": \"bar\", \"name\": \"BBQ Chickpea and Carrot Sliders\"}\n",
            "['Calories:', '262.5', 'Protein:', '12.4g', 'Total Fat:', '1.4g', 'Sat. fat:', '0.18g', 'Trans fat:', '0g', 'Cholesterol:', '0mg', 'Total Carbohydrate:', '53.4g', 'Dietary Fiber:', '14g', 'Total Sugars:', '9.42g', 'Added Sugars:', '0g', 'Sodium:', '76.6mg', 'Calories:', '262.5', 'Protein:', '12.4g', 'Total Fat:', '1.4g', 'Sat. fat:', '0.18g', 'Trans fat:', '0g', 'Cholesterol:', '0mg', 'Total Carbohydrate:', '53.4g', 'Dietary Fiber:', '14g', 'Total Sugars:', '9.42g', 'Added Sugars:', '0g', 'Sodium:', '76.6mg']\n",
            "{'x': ['Calories', 'Protein', 'Total Fat', 'Sat Fat', 'Trans Fat', 'Cholesterol', 'Total Carbohydrate', 'Dietary fiber', 'Total sugars', 'Added sugars', 'Sodium'], 'y': [262.5, 12.4, 1.4, 0.18, 0.0, 0.0, 53.4, 14.0, 9.42, 0.0, 76.6], 'type': 'bar', 'name': 'Southwest Stew'}\n",
            "{\"x\": [\"Calories\", \"Protein\", \"Total Fat\", \"Sat Fat\", \"Trans Fat\", \"Cholesterol\", \"Total Carbohydrate\", \"Dietary fiber\", \"Total sugars\", \"Added sugars\", \"Sodium\"], \"y\": [262.5, 12.4, 1.4, 0.18, 0.0, 0.0, 53.4, 14.0, 9.42, 0.0, 76.6], \"type\": \"bar\", \"name\": \"Southwest Stew\"}\n",
            "['Calories', '322.1', 'Protein', '30.1', 'Total Fat', '13.2g', 'Sat Fat', '2.3g', 'Trans Fat', '0g', 'Cholesterol', '0mg', 'Total Carbohydrates', '29.9g', 'Dietary Fiber', '10.9g', 'Total Sugars', '8.6g', 'Added Sugar', '3g', 'Sodium', '456.7mg', 'Calories', '322.1', 'Protein', '30.1', 'Total Fat', '13.2g', 'Sat Fat', '2.3g', 'Trans Fat', '0g', 'Cholesterol', '0mg', 'Total Carbohydrates', '29.9g', 'Dietary Fiber', '10.9g', 'Total Sugars', '8.6g', 'Added Sugar', '3g', 'Sodium', '456.7mg']\n",
            "{'x': ['Calories', 'Protein', 'Total Fat', 'Sat Fat', 'Trans Fat', 'Cholesterol', 'Total Carbohydrate', 'Dietary fiber', 'Total sugars', 'Added sugars', 'Sodium'], 'y': [322.1, 13.2, 2.3, 0.0, 0.0, 29.9, 10.9, 8.6, 3.0, 456.7], 'type': 'bar', 'name': 'The Whole Bowl: Pan Roasted Tofu, Broccoli Bites and Wilted Spinach'}\n",
            "{\"x\": [\"Calories\", \"Protein\", \"Total Fat\", \"Sat Fat\", \"Trans Fat\", \"Cholesterol\", \"Total Carbohydrate\", \"Dietary fiber\", \"Total sugars\", \"Added sugars\", \"Sodium\"], \"y\": [322.1, 13.2, 2.3, 0.0, 0.0, 29.9, 10.9, 8.6, 3.0, 456.7], \"type\": \"bar\", \"name\": \"The Whole Bowl: Pan Roasted Tofu, Broccoli Bites and Wilted Spinach\"}\n",
            "['Calories:', '308', 'Protein:', '15.1g', 'Total Fat:', '19.8g', 'Sat. fat:', '11.18g', 'Trans fat:', '0g', 'Cholesterol:', '0mg', 'Total Carbohydrate:', '24g', 'Dietary Fiber:', '5.9g', 'Total Sugars:', '8.54g', 'Added Sugars:', '0g', 'Sodium:', '471.8mg', 'Calories:', '308', 'Protein:', '15.1g', 'Total Fat:', '19.8g', 'Sat. fat:', '11.18g', 'Trans fat:', '0g', 'Cholesterol:', '0mg', 'Total Carbohydrate:', '24g', 'Dietary Fiber:', '5.9g', 'Total Sugars:', '8.54g', 'Added Sugars:', '0g', 'Sodium:', '471.8mg']\n",
            "{'x': ['Calories', 'Protein', 'Total Fat', 'Sat Fat', 'Trans Fat', 'Cholesterol', 'Total Carbohydrate', 'Dietary fiber', 'Total sugars', 'Added sugars', 'Sodium'], 'y': [308.0, 15.1, 19.8, 11.18, 0.0, 0.0, 24.0, 5.9, 8.54, 0.0, 471.8], 'type': 'bar', 'name': 'Tempeh Cauliflower Potato Curry'}\n",
            "{\"x\": [\"Calories\", \"Protein\", \"Total Fat\", \"Sat Fat\", \"Trans Fat\", \"Cholesterol\", \"Total Carbohydrate\", \"Dietary fiber\", \"Total sugars\", \"Added sugars\", \"Sodium\"], \"y\": [308.0, 15.1, 19.8, 11.18, 0.0, 0.0, 24.0, 5.9, 8.54, 0.0, 471.8], \"type\": \"bar\", \"name\": \"Tempeh Cauliflower Potato Curry\"}\n",
            "['Calories:', '345.7', 'Protein:', '16.6g', 'Total Fat:', '7.9g', 'Sat. fat:', '0.96g', 'Trans fat:', '0g', 'Cholesterol:', '0mg', 'Total Carbohydrate:', '54.4g', 'Dietary Fiber:', '6.8g', 'Total Sugars:', '4.14g', 'Added Sugars:', '0g', 'Sodium:', '944.4mg', 'Calories:', '345.7', 'Protein:', '16.6g', 'Total Fat:', '7.9g', 'Sat. fat:', '0.96g', 'Trans fat:', '0g', 'Cholesterol:', '0mg', 'Total Carbohydrate:', '54.4g', 'Dietary Fiber:', '6.8g', 'Total Sugars:', '4.14g', 'Added Sugars:', '0g', 'Sodium:', '944.4mg']\n",
            "{'x': ['Calories', 'Protein', 'Total Fat', 'Sat Fat', 'Trans Fat', 'Cholesterol', 'Total Carbohydrate', 'Dietary fiber', 'Total sugars', 'Added sugars', 'Sodium'], 'y': [345.7, 16.6, 7.9, 0.96, 0.0, 0.0, 54.4, 6.8, 4.14, 0.0, 944.4], 'type': 'bar', 'name': 'Mac N’ Cheese'}\n",
            "{\"x\": [\"Calories\", \"Protein\", \"Total Fat\", \"Sat Fat\", \"Trans Fat\", \"Cholesterol\", \"Total Carbohydrate\", \"Dietary fiber\", \"Total sugars\", \"Added sugars\", \"Sodium\"], \"y\": [345.7, 16.6, 7.9, 0.96, 0.0, 0.0, 54.4, 6.8, 4.14, 0.0, 944.4], \"type\": \"bar\", \"name\": \"Mac N\\u2019 Cheese\"}\n",
            "['Calories:', '493.6', 'Protein:', '18.6g', 'Total Fat:', '9.3g', 'Sat. fat:', '4.29g', 'Trans fat:', '0g', 'Cholesterol:', '0mg', 'Total Carbohydrate:', '84.9g', 'Dietary Fiber:', '19.7g', 'Total Sugars:', '6.88g', 'Added Sugars:', '0g', 'Sodium:', '982.5mg', 'Calories:', '493.6', 'Protein:', '18.6g', 'Total Fat:', '9.3g', 'Sat. fat:', '4.29g', 'Trans fat:', '0g', 'Cholesterol:', '0mg', 'Total Carbohydrate:', '84.9g', 'Dietary Fiber:', '19.7g', 'Total Sugars:', '6.88g', 'Added Sugars:', '0g', 'Sodium:', '982.5mg']\n",
            "{'x': ['Calories', 'Protein', 'Total Fat', 'Sat Fat', 'Trans Fat', 'Cholesterol', 'Total Carbohydrate', 'Dietary fiber', 'Total sugars', 'Added sugars', 'Sodium'], 'y': [493.6, 18.6, 9.3, 4.29, 0.0, 0.0, 84.9, 19.7, 6.88, 0.0, 982.5], 'type': 'bar', 'name': 'Black Bean and Sweet Potato Quesadillas'}\n",
            "{\"x\": [\"Calories\", \"Protein\", \"Total Fat\", \"Sat Fat\", \"Trans Fat\", \"Cholesterol\", \"Total Carbohydrate\", \"Dietary fiber\", \"Total sugars\", \"Added sugars\", \"Sodium\"], \"y\": [493.6, 18.6, 9.3, 4.29, 0.0, 0.0, 84.9, 19.7, 6.88, 0.0, 982.5], \"type\": \"bar\", \"name\": \"Black Bean and Sweet Potato Quesadillas\"}\n",
            "['Calories:', '139.7', 'Protein:', '6.3g', 'Total Fat:', '1.2g', 'Sat. fat:', '0.18g', 'Trans fat:', '0g', 'Cholesterol:', '0mg', 'Total Carbohydrate:', '27.4g', 'Dietary Fiber:', '7.5g', 'Total Sugars:', '1.23g', 'Added Sugars:', '0g', 'Sodium:', '228.3mg', 'Calories:', '139.7', 'Protein:', '6.3g', 'Total Fat:', '1.2g', 'Sat. fat:', '0.18g', 'Trans fat:', '0g', 'Cholesterol:', '0mg', 'Total Carbohydrate:', '27.4g', 'Dietary Fiber:', '7.5g', 'Total Sugars:', '1.23g', 'Added Sugars:', '0g', 'Sodium:', '228.3mg']\n",
            "{'x': ['Calories', 'Protein', 'Total Fat', 'Sat Fat', 'Trans Fat', 'Cholesterol', 'Total Carbohydrate', 'Dietary fiber', 'Total sugars', 'Added sugars', 'Sodium'], 'y': [139.7, 6.3, 1.2, 0.18, 0.0, 0.0, 27.4, 7.5, 1.23, 0.0, 228.3], 'type': 'bar', 'name': 'Quick Black Bean Tostadas'}\n",
            "{\"x\": [\"Calories\", \"Protein\", \"Total Fat\", \"Sat Fat\", \"Trans Fat\", \"Cholesterol\", \"Total Carbohydrate\", \"Dietary fiber\", \"Total sugars\", \"Added sugars\", \"Sodium\"], \"y\": [139.7, 6.3, 1.2, 0.18, 0.0, 0.0, 27.4, 7.5, 1.23, 0.0, 228.3], \"type\": \"bar\", \"name\": \"Quick Black Bean Tostadas\"}\n",
            "['Calories:', '298.4', 'Protein:', '16.3g', 'Total Fat:', '0.9g', 'Sat. fat:', '0.17g', 'Trans fat:', '0g', 'Cholesterol:', '0mg', 'Total Carbohydrate:', '58.2g', 'Dietary Fiber:', '19.9g', 'Total Sugars:', '5.66g', 'Added Sugars:', '0g', 'Sodium:', '133.7mg', 'Calories:', '298.4', 'Protein:', '16.3g', 'Total Fat:', '0.9g', 'Sat. fat:', '0.17g', 'Trans fat:', '0g', 'Cholesterol:', '0mg', 'Total Carbohydrate:', '58.2g', 'Dietary Fiber:', '19.9g', 'Total Sugars:', '5.66g', 'Added Sugars:', '0g', 'Sodium:', '133.7mg']\n",
            "{'x': ['Calories', 'Protein', 'Total Fat', 'Sat Fat', 'Trans Fat', 'Cholesterol', 'Total Carbohydrate', 'Dietary fiber', 'Total sugars', 'Added sugars', 'Sodium'], 'y': [298.4, 16.3, 0.9, 0.17, 0.0, 0.0, 58.2, 19.9, 5.66, 0.0, 133.7], 'type': 'bar', 'name': 'Lentil Stew'}\n",
            "{\"x\": [\"Calories\", \"Protein\", \"Total Fat\", \"Sat Fat\", \"Trans Fat\", \"Cholesterol\", \"Total Carbohydrate\", \"Dietary fiber\", \"Total sugars\", \"Added sugars\", \"Sodium\"], \"y\": [298.4, 16.3, 0.9, 0.17, 0.0, 0.0, 58.2, 19.9, 5.66, 0.0, 133.7], \"type\": \"bar\", \"name\": \"Lentil Stew\"}\n",
            "['Calories:', '267.7', 'Protein:', '13.5g', 'Total Fat:', '6.4g', 'Sat. fat:', '0.98g', 'Trans fat:', '0g', 'Cholesterol:', '0mg', 'Total Carbohydrate:', '41.7g', 'Dietary Fiber:', '8.4g', 'Total Sugars:', '6.37g', 'Added Sugars:', '0g', 'Sodium:', '219.1mg', 'Calories:', '267.7', 'Protein:', '13.5g', 'Total Fat:', '6.4g', 'Sat. fat:', '0.98g', 'Trans fat:', '0g', 'Cholesterol:', '0mg', 'Total Carbohydrate:', '41.7g', 'Dietary Fiber:', '8.4g', 'Total Sugars:', '6.37g', 'Added Sugars:', '0g', 'Sodium:', '219.1mg']\n",
            "{'x': ['Calories', 'Protein', 'Total Fat', 'Sat Fat', 'Trans Fat', 'Cholesterol', 'Total Carbohydrate', 'Dietary fiber', 'Total sugars', 'Added sugars', 'Sodium'], 'y': [267.7, 13.5, 6.4, 0.98, 0.0, 0.0, 41.7, 8.4, 6.37, 0.0, 219.1], 'type': 'bar', 'name': 'Tu-No Casserole'}\n",
            "{\"x\": [\"Calories\", \"Protein\", \"Total Fat\", \"Sat Fat\", \"Trans Fat\", \"Cholesterol\", \"Total Carbohydrate\", \"Dietary fiber\", \"Total sugars\", \"Added sugars\", \"Sodium\"], \"y\": [267.7, 13.5, 6.4, 0.98, 0.0, 0.0, 41.7, 8.4, 6.37, 0.0, 219.1], \"type\": \"bar\", \"name\": \"Tu-No Casserole\"}\n",
            "['Calories:', '1182.8', 'Protein:', '48.7g', 'Total Fat:', '39.1g', 'Sat. fat:', '5.7g', 'Trans fat:', '0g', 'Cholesterol:', '0mg', 'Total Carbohydrate:', '168.5g', 'Dietary Fiber:', '27.6g', 'Total Sugars:', '19.87g', 'Added Sugars:', '0g', 'Sodium:', '3116mg', 'Calories:', '1182.8', 'Protein:', '48.7g', 'Total Fat:', '39.1g', 'Sat. fat:', '5.7g', 'Trans fat:', '0g', 'Cholesterol:', '0mg', 'Total Carbohydrate:', '168.5g', 'Dietary Fiber:', '27.6g', 'Total Sugars:', '19.87g', 'Added Sugars:', '0g', 'Sodium:', '3116mg']\n",
            "{'x': ['Calories', 'Protein', 'Total Fat', 'Sat Fat', 'Trans Fat', 'Cholesterol', 'Total Carbohydrate', 'Dietary fiber', 'Total sugars', 'Added sugars', 'Sodium'], 'y': [1182.8, 48.7, 39.1, 5.7, 0.0, 0.0, 168.5, 27.6, 19.87, 0.0, 3116.0], 'type': 'bar', 'name': 'Classic Margherita Pizza'}\n",
            "{\"x\": [\"Calories\", \"Protein\", \"Total Fat\", \"Sat Fat\", \"Trans Fat\", \"Cholesterol\", \"Total Carbohydrate\", \"Dietary fiber\", \"Total sugars\", \"Added sugars\", \"Sodium\"], \"y\": [1182.8, 48.7, 39.1, 5.7, 0.0, 0.0, 168.5, 27.6, 19.87, 0.0, 3116.0], \"type\": \"bar\", \"name\": \"Classic Margherita Pizza\"}\n",
            "['Calories:', '799.6', 'Protein:', '54.6g', 'Total Fat:', '34.1g', 'Sat Fat:', '6.3g', 'Trans Fat:', '0g', 'Cholesterol:', '0mg', 'Total Carbohydrate:', '78.1g', 'Dietary fiber:', '13.3g', 'Total sugars:', '8.4g', 'Added sugars:', '0.4g', 'Sodium:', '366.4mg', 'Calories:', '799.6', 'Protein:', '54.6g', 'Total Fat:', '34.1g', 'Sat Fat:', '6.3g', 'Trans Fat:', '0g', 'Cholesterol:', '0mg', 'Total Carbohydrate:', '78.1g', 'Dietary fiber:', '13.3g', 'Total sugars:', '8.4g', 'Added sugars:', '0.4g', 'Sodium:', '366.4mg']\n",
            "{'x': ['Calories', 'Protein', 'Total Fat', 'Sat Fat', 'Trans Fat', 'Cholesterol', 'Total Carbohydrate', 'Dietary fiber', 'Total sugars', 'Added sugars', 'Sodium'], 'y': [799.6, 54.6, 34.1, 6.3, 0.0, 0.0, 78.1, 13.3, 8.4, 0.4, 366.4], 'type': 'bar', 'name': 'Plant-Based Ramen'}\n",
            "{\"x\": [\"Calories\", \"Protein\", \"Total Fat\", \"Sat Fat\", \"Trans Fat\", \"Cholesterol\", \"Total Carbohydrate\", \"Dietary fiber\", \"Total sugars\", \"Added sugars\", \"Sodium\"], \"y\": [799.6, 54.6, 34.1, 6.3, 0.0, 0.0, 78.1, 13.3, 8.4, 0.4, 366.4], \"type\": \"bar\", \"name\": \"Plant-Based Ramen\"}\n",
            "['Calories:', '603.6', 'Protein:', '29.4g', 'Total Fat:', '6.5g', 'Sat Fat:', '0.9g', 'Trans Fat:', '0g', 'Cholesterol:', '0mg', 'Total Carbohydrate:', '112.9g', 'Dietary fiber:', '25.5g', 'Total sugars:', '14.8g', 'Added sugars:', '0g', 'Sodium:', '213.8mg', 'Calories:', '603.6', 'Protein:', '29.4g', 'Total Fat:', '6.5g', 'Sat Fat:', '0.9g', 'Trans Fat:', '0g', 'Cholesterol:', '0mg', 'Total Carbohydrate:', '112.9g', 'Dietary fiber:', '25.5g', 'Total sugars:', '14.8g', 'Added sugars:', '0g', 'Sodium:', '213.8mg']\n",
            "{'x': ['Calories', 'Protein', 'Total Fat', 'Sat Fat', 'Trans Fat', 'Cholesterol', 'Total Carbohydrate', 'Dietary fiber', 'Total sugars', 'Added sugars', 'Sodium'], 'y': [603.6, 29.4, 6.5, 0.9, 0.0, 0.0, 112.9, 25.5, 14.8, 0.0, 213.8], 'type': 'bar', 'name': 'Quinoa Bowl with Roasted Sweet Taters and Black Beans'}\n",
            "{\"x\": [\"Calories\", \"Protein\", \"Total Fat\", \"Sat Fat\", \"Trans Fat\", \"Cholesterol\", \"Total Carbohydrate\", \"Dietary fiber\", \"Total sugars\", \"Added sugars\", \"Sodium\"], \"y\": [603.6, 29.4, 6.5, 0.9, 0.0, 0.0, 112.9, 25.5, 14.8, 0.0, 213.8], \"type\": \"bar\", \"name\": \"Quinoa Bowl with Roasted Sweet Taters and Black Beans\"}\n",
            "Publishing records..\n",
            "Message published successfully (producer).\n",
            "Message published successfully (producer).\n",
            "Message published successfully (producer).\n",
            "Message published successfully (producer).\n",
            "Message published successfully (producer).\n",
            "Message published successfully (producer).\n",
            "Message published successfully (producer).\n",
            "Message published successfully (producer).\n",
            "Message published successfully (producer).\n",
            "Message published successfully (producer).\n",
            "Message published successfully (producer).\n",
            "Message published successfully (producer).\n"
          ]
        }
      ],
      "source": [
        "if __name__ == '__main__':\n",
        "    print('Running Consumer..')\n",
        "    parsed_records = []\n",
        "    topic_name = 'raw_recipes'\n",
        "    parsed_topic_name = 'parsed_recipes'\n",
        "\n",
        "    consumer = KafkaConsumer(topic_name, auto_offset_reset='earliest',\n",
        "                             bootstrap_servers=['localhost:9092'], api_version=(0, 10), consumer_timeout_ms=1000)\n",
        "    for msg in consumer:\n",
        "        html = msg.value\n",
        "        result = parse(html)\n",
        "        print (result)\n",
        "        parsed_records.append(result)\n",
        "    consumer.close()\n",
        "    sleep(5)\n",
        "\n",
        "    if len(parsed_records) > 0:\n",
        "        print('Publishing records..')\n",
        "        producer = connect_kafka_producer()\n",
        "        for rec in parsed_records:\n",
        "            publish_message(producer, parsed_topic_name, 'parsed', rec)"
      ]
    },
    {
      "cell_type": "markdown",
      "metadata": {
        "id": "1ZmRf1JNHZBi"
      },
      "source": [
        "you may delete buffer topic:\n",
        "\n",
        "bin/kafka-topics.sh --zookeeper localhost:2181 --delete --topic parsed_recipes\n"
      ]
    },
    {
      "cell_type": "code",
      "execution_count": null,
      "metadata": {
        "colab": {
          "base_uri": "https://localhost:8080/"
        },
        "id": "M85NZYVbHZBj",
        "outputId": "5ca87d13-8afa-4ac4-cf86-66fbfe64252f"
      },
      "outputs": [
        {
          "output_type": "stream",
          "name": "stdout",
          "text": [
            "{'x': ['Calories', 'Protein', 'Total Fat', 'Sat Fat', 'Trans Fat', 'Cholesterol', 'Total Carbohydrate', 'Dietary fiber', 'Total sugars', 'Added sugars', 'Sodium'], 'y': [208.1, 6.4, 3.5, 0.5, 0.0, 0.0, 39.8, 5.4, 15.6, 1.5, 661.6], 'type': 'bar', 'name': 'BBQ Chickpea and Carrot Sliders'}\n",
            "{'x': ['Calories', 'Protein', 'Total Fat', 'Sat Fat', 'Trans Fat', 'Cholesterol', 'Total Carbohydrate', 'Dietary fiber', 'Total sugars', 'Added sugars', 'Sodium'], 'y': [262.5, 12.4, 1.4, 0.18, 0.0, 0.0, 53.4, 14.0, 9.42, 0.0, 76.6], 'type': 'bar', 'name': 'Southwest Stew'}\n",
            "{'x': ['Calories', 'Protein', 'Total Fat', 'Sat Fat', 'Trans Fat', 'Cholesterol', 'Total Carbohydrate', 'Dietary fiber', 'Total sugars', 'Added sugars', 'Sodium'], 'y': [322.1, 13.2, 2.3, 0.0, 0.0, 29.9, 10.9, 8.6, 3.0, 456.7], 'type': 'bar', 'name': 'The Whole Bowl: Pan Roasted Tofu, Broccoli Bites and Wilted Spinach'}\n",
            "{'x': ['Calories', 'Protein', 'Total Fat', 'Sat Fat', 'Trans Fat', 'Cholesterol', 'Total Carbohydrate', 'Dietary fiber', 'Total sugars', 'Added sugars', 'Sodium'], 'y': [308.0, 15.1, 19.8, 11.18, 0.0, 0.0, 24.0, 5.9, 8.54, 0.0, 471.8], 'type': 'bar', 'name': 'Tempeh Cauliflower Potato Curry'}\n",
            "{'x': ['Calories', 'Protein', 'Total Fat', 'Sat Fat', 'Trans Fat', 'Cholesterol', 'Total Carbohydrate', 'Dietary fiber', 'Total sugars', 'Added sugars', 'Sodium'], 'y': [345.7, 16.6, 7.9, 0.96, 0.0, 0.0, 54.4, 6.8, 4.14, 0.0, 944.4], 'type': 'bar', 'name': 'Mac N’ Cheese'}\n",
            "{'x': ['Calories', 'Protein', 'Total Fat', 'Sat Fat', 'Trans Fat', 'Cholesterol', 'Total Carbohydrate', 'Dietary fiber', 'Total sugars', 'Added sugars', 'Sodium'], 'y': [493.6, 18.6, 9.3, 4.29, 0.0, 0.0, 84.9, 19.7, 6.88, 0.0, 982.5], 'type': 'bar', 'name': 'Black Bean and Sweet Potato Quesadillas'}\n",
            "{'x': ['Calories', 'Protein', 'Total Fat', 'Sat Fat', 'Trans Fat', 'Cholesterol', 'Total Carbohydrate', 'Dietary fiber', 'Total sugars', 'Added sugars', 'Sodium'], 'y': [139.7, 6.3, 1.2, 0.18, 0.0, 0.0, 27.4, 7.5, 1.23, 0.0, 228.3], 'type': 'bar', 'name': 'Quick Black Bean Tostadas'}\n",
            "{'x': ['Calories', 'Protein', 'Total Fat', 'Sat Fat', 'Trans Fat', 'Cholesterol', 'Total Carbohydrate', 'Dietary fiber', 'Total sugars', 'Added sugars', 'Sodium'], 'y': [298.4, 16.3, 0.9, 0.17, 0.0, 0.0, 58.2, 19.9, 5.66, 0.0, 133.7], 'type': 'bar', 'name': 'Lentil Stew'}\n",
            "{'x': ['Calories', 'Protein', 'Total Fat', 'Sat Fat', 'Trans Fat', 'Cholesterol', 'Total Carbohydrate', 'Dietary fiber', 'Total sugars', 'Added sugars', 'Sodium'], 'y': [267.7, 13.5, 6.4, 0.98, 0.0, 0.0, 41.7, 8.4, 6.37, 0.0, 219.1], 'type': 'bar', 'name': 'Tu-No Casserole'}\n",
            "{'x': ['Calories', 'Protein', 'Total Fat', 'Sat Fat', 'Trans Fat', 'Cholesterol', 'Total Carbohydrate', 'Dietary fiber', 'Total sugars', 'Added sugars', 'Sodium'], 'y': [1182.8, 48.7, 39.1, 5.7, 0.0, 0.0, 168.5, 27.6, 19.87, 0.0, 3116.0], 'type': 'bar', 'name': 'Classic Margherita Pizza'}\n",
            "{'x': ['Calories', 'Protein', 'Total Fat', 'Sat Fat', 'Trans Fat', 'Cholesterol', 'Total Carbohydrate', 'Dietary fiber', 'Total sugars', 'Added sugars', 'Sodium'], 'y': [799.6, 54.6, 34.1, 6.3, 0.0, 0.0, 78.1, 13.3, 8.4, 0.4, 366.4], 'type': 'bar', 'name': 'Plant-Based Ramen'}\n",
            "{'x': ['Calories', 'Protein', 'Total Fat', 'Sat Fat', 'Trans Fat', 'Cholesterol', 'Total Carbohydrate', 'Dietary fiber', 'Total sugars', 'Added sugars', 'Sodium'], 'y': [603.6, 29.4, 6.5, 0.9, 0.0, 0.0, 112.9, 25.5, 14.8, 0.0, 213.8], 'type': 'bar', 'name': 'Quinoa Bowl with Roasted Sweet Taters and Black Beans'}\n"
          ]
        }
      ],
      "source": [
        "import json\n",
        "from time import sleep\n",
        "\n",
        "from kafka import KafkaConsumer\n",
        "\n",
        "if __name__ == '__main__':\n",
        "    parsed_topic_name = 'parsed_recipes'\n",
        "    # Notify if a recipe has more than 200 calories\n",
        "    calories_threshold = 200\n",
        "\n",
        "    consumer = KafkaConsumer(parsed_topic_name, auto_offset_reset='earliest',\n",
        "                             bootstrap_servers=['localhost:9092'], api_version=(0, 10), consumer_timeout_ms=1000)\n",
        "    for msg in consumer:\n",
        "        record = json.loads(msg.value)\n",
        "        print(record)\n",
        "        # calories =  record['calories']\n",
        "        # title = record['title']\n",
        "\n",
        "        # if calories > calories_threshold:\n",
        "        #     print('Alert: {} calories count is {}'.format(title, calories))\n",
        "        # sleep(3)\n",
        "\n",
        "    if consumer is not None:\n",
        "        consumer.close()"
      ]
    }
  ],
  "metadata": {
    "kernelspec": {
      "display_name": "Python 3",
      "language": "python",
      "name": "python3"
    },
    "language_info": {
      "codemirror_mode": {
        "name": "ipython",
        "version": 3
      },
      "file_extension": ".py",
      "mimetype": "text/x-python",
      "name": "python",
      "nbconvert_exporter": "python",
      "pygments_lexer": "ipython3",
      "version": "3.8.5"
    },
    "colab": {
      "provenance": []
    }
  },
  "nbformat": 4,
  "nbformat_minor": 0
}