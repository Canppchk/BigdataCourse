{
  "cells": [
    {
      "cell_type": "raw",
      "metadata": {
        "id": "SrLMgyO7HbkX"
      },
      "source": [
        "\n",
        "pip3 install lxml --user\n",
        "\n",
        "pip3 install bs4 --user\n",
        "\n",
        "\n"
      ]
    },
    {
      "cell_type": "markdown",
      "source": [
        "นาย ปพนธ์ ชุณหคล้าย 6210503691"
      ],
      "metadata": {
        "id": "XaPCyVustxET"
      }
    },
    {
      "cell_type": "code",
      "execution_count": null,
      "metadata": {
        "id": "brOmkQw4HbkZ"
      },
      "outputs": [],
      "source": [
        "from __future__ import unicode_literals\n",
        "\n",
        "import json\n",
        "from time import sleep\n",
        "from bs4 import BeautifulSoup"
      ]
    },
    {
      "cell_type": "code",
      "execution_count": null,
      "metadata": {
        "id": "TgzPcSvnHbka"
      },
      "outputs": [],
      "source": [
        "\n",
        "from kafka import KafkaConsumer, KafkaProducer\n",
        "\n",
        "import requests\n",
        "# -*- coding: utf-8 -*-\n"
      ]
    },
    {
      "cell_type": "code",
      "execution_count": null,
      "metadata": {
        "id": "_jeHKkDrHbka"
      },
      "outputs": [],
      "source": [
        "def fetch_raw(recipe_url):\n",
        "    html = None\n",
        "    print('Processing..{}'.format(recipe_url))\n",
        "    try:\n",
        "        r = requests.get(recipe_url, headers=headers)\n",
        "        if r.status_code == 200:\n",
        "            html = r.text\n",
        "    except Exception as ex:\n",
        "        print('Exception while accessing raw html')\n",
        "        print(str(ex))\n",
        "    finally:\n",
        "        return html.strip()\n",
        "\n",
        "\n",
        "def get_recipes():\n",
        "    recipies = []\n",
        "    # salad_url = 'https://www.allrecipes.com/recipes/156/bread/'\n",
        "    url = 'https://gamechangersmovie.com/food/recipes/?fwp_recipe_categories=lunches-dinners&fwp_paged=2s&#39;'\n",
        "    print('Accessing list')\n",
        "\n",
        "    try:\n",
        "        r = requests.get(url, headers=headers)\n",
        "        if r.status_code == 200:\n",
        "            html = r.text\n",
        "            #soup = BeautifulSoup(html, 'lxml')\n",
        "            soup = BeautifulSoup(html, 'html.parser')\n",
        "            #soup = BeautifulSoup(r.content, features=\"html\")\n",
        "            links = soup.select('.tag-title')\n",
        "             \n",
        "            idx = 0\n",
        "            print('total',len(links))\n",
        "            for link in links:\n",
        "\n",
        "                sleep(2)\n",
        "                #print(link)\n",
        "                recipe = fetch_raw(link['href'])\n",
        "                recipies.append(recipe)\n",
        "                \n",
        "                #print(link['href'])\n",
        "                idx += 1\n",
        "                if idx > 11:\n",
        "                    break\n",
        "    except Exception as ex:\n",
        "        print('Exception in get_recipes')\n",
        "        print(str(ex))\n",
        "    finally:\n",
        "        return recipies"
      ]
    },
    {
      "cell_type": "code",
      "execution_count": null,
      "metadata": {
        "id": "gKAMLuOHHbkb"
      },
      "outputs": [],
      "source": [
        "def publish_message(producer_instance, topic_name, key, value):\n",
        "    try:\n",
        "        #print(key)\n",
        "        #print(value)\n",
        "        key_bytes =  bytes(key, encoding='utf-8')   #.encode('utf-8')\n",
        "        value_bytes = bytes(value, encoding='utf-8') #encode('utf-8')\n",
        "        \n",
        "        producer_instance.send(topic_name, key=key_bytes, value=value_bytes)\n",
        "        producer_instance.flush()\n",
        "        print('Message published successfully.')\n",
        "    except Exception as ex:\n",
        "        print('Exception in publishing message')\n",
        "        print(str(ex))\n",
        "\n",
        "\n",
        "def connect_kafka_producer():\n",
        "    _producer = None\n",
        "    try:\n",
        "        _producer = KafkaProducer(bootstrap_servers=['localhost:9092'], api_version=(0, 10))\n",
        "    except Exception as ex:\n",
        "        print('Exception while connecting Kafka')\n",
        "        print(str(ex))\n",
        "    finally:\n",
        "        return _producer"
      ]
    },
    {
      "cell_type": "code",
      "execution_count": null,
      "metadata": {
        "colab": {
          "base_uri": "https://localhost:8080/"
        },
        "id": "q0pdYjBgHbkb",
        "outputId": "f06d12aa-ba00-478d-c95c-ddebf90bef24"
      },
      "outputs": [
        {
          "output_type": "stream",
          "name": "stdout",
          "text": [
            "Accessing list\n",
            "total 12\n",
            "Processing..https://gamechangersmovie.com/recipes/bbq-chickpea-and-carrot-sliders/\n",
            "Processing..https://gamechangersmovie.com/recipes/southwest-stew/\n",
            "Processing..https://gamechangersmovie.com/recipes/the-whole-bowl-pan-roasted-tofu-broccoli-bites-and-wilted-spinach/\n",
            "Processing..https://gamechangersmovie.com/recipes/tempeh-cauliflower-potato-curry/\n",
            "Processing..https://gamechangersmovie.com/recipes/mac-n-cheese/\n",
            "Processing..https://gamechangersmovie.com/recipes/black-bean-and-sweet-potato-quesadillas/\n",
            "Processing..https://gamechangersmovie.com/recipes/quick-black-bean-tostadas/\n",
            "Processing..https://gamechangersmovie.com/recipes/hearty-lentil-stew/\n",
            "Processing..https://gamechangersmovie.com/recipes/tu-no-casserole/\n",
            "Processing..https://gamechangersmovie.com/recipes/margherita-pizza/\n",
            "Processing..https://gamechangersmovie.com/recipes/ramen/\n",
            "Processing..https://gamechangersmovie.com/recipes/quinoa-bowl-with-roasted-sweet-taters-and-black-beans/\n",
            "Message published successfully.\n",
            "Message published successfully.\n",
            "Message published successfully.\n",
            "Message published successfully.\n",
            "Message published successfully.\n",
            "Message published successfully.\n",
            "Message published successfully.\n",
            "Message published successfully.\n",
            "Message published successfully.\n",
            "Message published successfully.\n",
            "Message published successfully.\n",
            "Message published successfully.\n"
          ]
        }
      ],
      "source": [
        "if __name__ == '__main__':\n",
        "    headers = {\n",
        "        'User-Agent': 'Mozilla/5.0 (Macintosh; Intel Mac OS X 10_11_6) AppleWebKit/537.36 (KHTML, like Gecko) Chrome/66.0.3359.181 Safari/537.36',\n",
        "        'Pragma': 'no-cache'\n",
        "    }\n",
        "    all_recipes = get_recipes()\n",
        "    if len(all_recipes) > 0:\n",
        "        kafka_producer = connect_kafka_producer()\n",
        "        for recipe in all_recipes:\n",
        "             \n",
        "            publish_message(kafka_producer, 'raw_recipes', 'raw', recipe.strip())\n",
        "        if kafka_producer is not None:\n",
        "            kafka_producer.close()"
      ]
    }
  ],
  "metadata": {
    "kernelspec": {
      "display_name": "Python 3",
      "language": "python",
      "name": "python3"
    },
    "language_info": {
      "codemirror_mode": {
        "name": "ipython",
        "version": 3
      },
      "file_extension": ".py",
      "mimetype": "text/x-python",
      "name": "python",
      "nbconvert_exporter": "python",
      "pygments_lexer": "ipython3",
      "version": "3.8.5"
    },
    "colab": {
      "provenance": []
    }
  },
  "nbformat": 4,
  "nbformat_minor": 0
}