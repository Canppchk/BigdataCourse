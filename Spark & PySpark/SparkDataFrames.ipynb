{
  "cells": [
    {
      "cell_type": "markdown",
      "metadata": {
        "cell_id": "00000-e91b1ad7-05a5-48c2-8c81-523c66e9b15f",
        "deepnote_cell_type": "markdown",
        "id": "8od_JZEjsU_2"
      },
      "source": [
        "# Spark DataFrames\n",
        "\n",
        "- Enable wider audiences beyond “Big Data” engineers to leverage the power of distributed processing\n",
        "- Inspired by data frames in R and Python (Pandas)\n",
        "- Designed from the ground-up to support modern big\n",
        "data and data science applications\n",
        "- Extension to the existing RDD API\n",
        "\n",
        "## References\n",
        "- [Spark SQL, DataFrames and Datasets Guide](https://spark.apache.org/docs/latest/sql-programming-guide.html)\n",
        "- [Introduction to DataFrames - Python](https://docs.databricks.com/spark/latest/dataframes-datasets/introduction-to-dataframes-python.html)\n",
        "- [PySpark Cheat Sheet: Spark DataFrames in Python](https://www.datacamp.com/community/blog/pyspark-sql-cheat-sheet)"
      ]
    },
    {
      "cell_type": "markdown",
      "metadata": {
        "cell_id": "00001-66b4726d-c84b-4710-baab-d780d1bf8f03",
        "deepnote_cell_type": "markdown",
        "id": "vA5sA87RsU_5"
      },
      "source": [
        "### DataFrames are :\n",
        "- The preferred abstraction in Spark\n",
        "- Strongly typed collection of distributed elements \n",
        "- Built on Resilient Distributed Datasets (RDD)\n",
        "- Immutable once constructed\n",
        "\n",
        "### With Dataframes you can :\n",
        "- Track lineage information to efficiently recompute lost data \n",
        "- Enable operations on collection of elements in parallel\n",
        "\n",
        "### You construct DataFrames\n",
        "- by parallelizing existing collections (e.g., Pandas DataFrames) \n",
        "- by transforming an existing DataFrames\n",
        "- from files in HDFS or any other storage system (e.g., Parquet)\n",
        "\n",
        "### Features\n",
        "- Ability to scale from kilobytes of data on a single laptop to petabytes on a large cluster\n",
        "- Support for a wide array of data formats and storage systems\n",
        "- Seamless integration with all big data tooling and infrastructure via Spark\n",
        "- APIs for Python, Java, Scala, and R"
      ]
    },
    {
      "cell_type": "markdown",
      "metadata": {
        "cell_id": "00002-6f9f0611-f0ae-4617-b092-fd5be36cd0d5",
        "deepnote_cell_type": "markdown",
        "id": "__jA21WGsU_5"
      },
      "source": [
        "### DataFrames versus RDDs\n",
        "- Nice API for new users familiar with data frames in other programming languages.\n",
        "- For existing Spark users, the API will make Spark easier to program than using RDDs\n",
        "- For both sets of users, DataFrames will improve performance through intelligent optimizations and code-generation"
      ]
    },
    {
      "cell_type": "markdown",
      "metadata": {
        "cell_id": "00003-39edf472-0517-4cf9-82c5-dc2d34bbbb9e",
        "deepnote_cell_type": "markdown",
        "id": "6vNcG7xXsU_5"
      },
      "source": [
        "## PySpark Shell\n",
        "\n",
        "**Run the Spark shell:**\n",
        "\n",
        "~~~ bash\n",
        "pyspark\n",
        "~~~\n",
        "\n",
        "Output similar to the following will be displayed, followed by a `>>>` REPL prompt:\n",
        "\n",
        "~~~\n",
        "Python 3.6.5 |Anaconda, Inc.| (default, Apr 29 2018, 16:14:56)\n",
        "[GCC 7.2.0] on linux\n",
        "Type \"help\", \"copyright\", \"credits\" or \"license\" for more information.\n",
        "2018-09-18 17:13:13 WARN  NativeCodeLoader:62 - Unable to load native-hadoop library for your platform... using builtin-java classes where applicable\n",
        "Setting default log level to \"WARN\".\n",
        "To adjust logging level use sc.setLogLevel(newLevel). For SparkR, use setLogLevel(newLevel).\n",
        "Welcome to\n",
        "      ____              __\n",
        "     / __/__  ___ _____/ /__\n",
        "    _\\ \\/ _ \\/ _ `/ __/  '_/\n",
        "   /__ / .__/\\_,_/_/ /_/\\_\\   version 2.3.1\n",
        "      /_/\n",
        "\n",
        "Using Python version 3.6.5 (default, Apr 29 2018 16:14:56)\n",
        "SparkSession available as 'spark'.\n",
        ">>>\n",
        "~~~\n",
        "\n",
        "Read data and convert to Dataset\n",
        "\n",
        "~~~ py\n",
        "df = sqlContext.read.csv(\"/tmp/irmar.csv\", sep=';', header=True)\n",
        "~~~\n",
        "\n",
        "~~~\n",
        ">>> df2.show()\n",
        "+---+--------------------+------------+------+------------+--------+-----+---------+--------+\n",
        "|_c0|                name|       phone|office|organization|position|  hdr|    team1|   team2|\n",
        "+---+--------------------+------------+------+------------+--------+-----+---------+--------+\n",
        "|  0|      Alphonse Paul |+33223235223|   214|          R1|     DOC|False|      EDP|      NA|\n",
        "|  1|        Ammari Zied |+33223235811|   209|          R1|      MC| True|      EDP|      NA|\n",
        ".\n",
        ".\n",
        ".\n",
        "| 18|    Bernier Joachim |+33223237558|   214|          R1|     DOC|False|   ANANUM|      NA|\n",
        "| 19|   Berthelot Pierre |+33223236043|   601|          R1|      PE| True|       GA|      NA|\n",
        "+---+--------------------+------------+------+------------+--------+-----+---------+--------+\n",
        "only showing top 20 rows\n",
        "~~~"
      ]
    },
    {
      "cell_type": "markdown",
      "metadata": {
        "cell_id": "00004-3f3366d4-f0f6-4aee-b495-0499a2d9058b",
        "deepnote_cell_type": "markdown",
        "id": "XQM1Kl8bsU_6"
      },
      "source": [
        "## Transformations, Actions, Laziness\n",
        "\n",
        "Like RDDs, DataFrames are lazy. Transformations contribute to the query plan, but they don't execute anything.\n",
        "Actions cause the execution of the query.\n",
        "\n",
        "### Transformation examples\n",
        "- filter\n",
        "- select\n",
        "- drop\n",
        "- intersect \n",
        "- join\n",
        "### Action examples\n",
        "- count \n",
        "- collect \n",
        "- show \n",
        "- head\n",
        "- take"
      ]
    },
    {
      "cell_type": "markdown",
      "source": [
        "## Prerequisite\n",
        "\n",
        "Installation of pyspark\n",
        "\n",
        "https://sites.google.com/a/ku.th/big-data/pyspark\n"
      ],
      "metadata": {
        "id": "G_5vhqgU00te"
      }
    },
    {
      "cell_type": "markdown",
      "metadata": {
        "cell_id": "00005-bfc3fb41-eb11-44c7-a9ea-f5bb47b65b78",
        "deepnote_cell_type": "markdown",
        "id": "kK4JA7zisU_6"
      },
      "source": [
        "## Creating a DataFrame in Python"
      ]
    },
    {
      "cell_type": "code",
      "execution_count": null,
      "metadata": {
        "cell_id": "00006-5a6c7399-651e-433e-8f93-ceb2c87b79f0",
        "deepnote_cell_type": "code",
        "id": "N4wnU6ivsU_6"
      },
      "outputs": [],
      "source": [
        "import sys, subprocess\n",
        "import os\n",
        "\n",
        "os.environ[\"PYSPARK_PYTHON\"] = sys.executable"
      ]
    },
    {
      "cell_type": "code",
      "execution_count": null,
      "metadata": {
        "cell_id": "00007-d9d415d1-5949-4ece-9e73-251bca9c98ca",
        "deepnote_cell_type": "code",
        "id": "91QrpyfTsU_7"
      },
      "outputs": [],
      "source": [
        "from pyspark import SparkContext, SparkConf, SQLContext\n",
        "# The following three lines are not necessary\n",
        "# in the pyspark shell\n",
        "conf = SparkConf().setAppName(\"people\").setMaster(\"local[*]\") \n",
        "sc = SparkContext(conf=conf)\n",
        "sc.setLogLevel(\"ERROR\")\n",
        "sqlContext = SQLContext(sc)"
      ]
    },
    {
      "cell_type": "code",
      "source": [],
      "metadata": {
        "id": "yR-fTgYYNEGk"
      },
      "execution_count": null,
      "outputs": []
    },
    {
      "cell_type": "code",
      "execution_count": null,
      "metadata": {
        "cell_id": "00008-02e6ee97-82ff-4525-80ae-bc20808d952a",
        "deepnote_cell_type": "code",
        "id": "fgS-nvOnsU_7",
        "colab": {
          "base_uri": "https://localhost:8080/"
        },
        "outputId": "cbe2bf7e-eb3d-423a-efae-6421a458336a"
      },
      "outputs": [
        {
          "output_type": "stream",
          "name": "stdout",
          "text": [
            "+----+-------+\n",
            "| age|   name|\n",
            "+----+-------+\n",
            "|null|Michael|\n",
            "|  30|   Andy|\n",
            "|  19| Justin|\n",
            "+----+-------+\n",
            "\n"
          ]
        }
      ],
      "source": [
        "df = sqlContext.read.json(\"./people.json\") # get a dataframe from json file\n",
        "\n",
        "df.show(24)"
      ]
    },
    {
      "cell_type": "markdown",
      "metadata": {
        "cell_id": "00009-285daf5f-09a2-43fe-91d3-8dbc9d12fb30",
        "deepnote_cell_type": "markdown",
        "id": "TOQorpujsU_7"
      },
      "source": [
        "## Schema Inference\n",
        "\n",
        "In this exercise, let's explore schema inference. We're going to be using a file called `irmar.txt`. The data is structured, but it has no self-describing schema. And, it's not JSON, so Spark can't infer the schema automatically. Let's create an RDD and look at the first few rows of the file.\n",
        "\n",
        "Then get data file and extract it."
      ]
    },
    {
      "cell_type": "markdown",
      "source": [
        "wget https://www.cpe.ku.ac.th/~cnc/people-data.zip -O data/people-data.zip\n",
        " \n",
        " \n",
        " "
      ],
      "metadata": {
        "id": "viOTt9-4MItb"
      }
    },
    {
      "cell_type": "code",
      "execution_count": null,
      "metadata": {
        "cell_id": "00010-6542567c-7758-4453-9878-ad75618a9b20",
        "deepnote_cell_type": "code",
        "id": "a74f9pCisU_8",
        "colab": {
          "base_uri": "https://localhost:8080/"
        },
        "outputId": "7c8d9976-387d-421c-9750-50b6aed41347"
      },
      "outputs": [
        {
          "output_type": "stream",
          "name": "stdout",
          "text": [
            "Row(Employee_Name='Adinolfi, Wilson  K', EmpID='10026', MarriedID='0', MaritalStatusID='0', GenderID='1', EmpStatusID='1', DeptID='5', PerfScoreID='4', FromDiversityJobFairID='0', Salary='62506', Termd='0', PositionID='19', Position='Production Technician I', State='MA', Zip='01960', DOB='07/10/83', Sex='M ', MaritalDesc='Single', CitizenDesc='US Citizen', HispanicLatino='No', RaceDesc='White', DateofHire='7/5/2011', DateofTermination=None, TermReason='N/A-StillEmployed', EmploymentStatus='Active', Department='Production       ', ManagerName='Michael Albert', ManagerID='22', RecruitmentSource='LinkedIn', PerformanceScore='Exceeds', EngagementSurvey='4.60', EmpSatisfaction='5', SpecialProjectsCount='0', LastPerformanceReview_Date='1/17/2019', DaysLateLast30='0', Absences='1')\n",
            "Row(Employee_Name='Ait Sidi, Karthikeyan   ', EmpID='10084', MarriedID='1', MaritalStatusID='1', GenderID='1', EmpStatusID='5', DeptID='3', PerfScoreID='3', FromDiversityJobFairID='0', Salary='104437', Termd='1', PositionID='27', Position='Sr. DBA', State='MA', Zip='02148', DOB='05/05/75', Sex='M ', MaritalDesc='Married', CitizenDesc='US Citizen', HispanicLatino='No', RaceDesc='White', DateofHire='3/30/2015', DateofTermination='6/16/2016', TermReason='career change', EmploymentStatus='Voluntarily Terminated', Department='IT/IS', ManagerName='Simon Roup', ManagerID='4', RecruitmentSource='Indeed', PerformanceScore='Fully Meets', EngagementSurvey='4.96', EmpSatisfaction='3', SpecialProjectsCount='6', LastPerformanceReview_Date='2/24/2016', DaysLateLast30='0', Absences='17')\n",
            "Row(Employee_Name='Akinkuolie, Sarah', EmpID='10196', MarriedID='1', MaritalStatusID='1', GenderID='0', EmpStatusID='5', DeptID='5', PerfScoreID='3', FromDiversityJobFairID='0', Salary='64955', Termd='1', PositionID='20', Position='Production Technician II', State='MA', Zip='01810', DOB='09/19/88', Sex='F', MaritalDesc='Married', CitizenDesc='US Citizen', HispanicLatino='No', RaceDesc='White', DateofHire='7/5/2011', DateofTermination='9/24/2012', TermReason='hours', EmploymentStatus='Voluntarily Terminated', Department='Production       ', ManagerName='Kissy Sullivan', ManagerID='20', RecruitmentSource='LinkedIn', PerformanceScore='Fully Meets', EngagementSurvey='3.02', EmpSatisfaction='3', SpecialProjectsCount='0', LastPerformanceReview_Date='5/15/2012', DaysLateLast30='0', Absences='3')\n",
            "Row(Employee_Name='Alagbe,Trina', EmpID='10088', MarriedID='1', MaritalStatusID='1', GenderID='0', EmpStatusID='1', DeptID='5', PerfScoreID='3', FromDiversityJobFairID='0', Salary='64991', Termd='0', PositionID='19', Position='Production Technician I', State='MA', Zip='01886', DOB='09/27/88', Sex='F', MaritalDesc='Married', CitizenDesc='US Citizen', HispanicLatino='No', RaceDesc='White', DateofHire='1/7/2008', DateofTermination=None, TermReason='N/A-StillEmployed', EmploymentStatus='Active', Department='Production       ', ManagerName='Elijiah Gray', ManagerID='16', RecruitmentSource='Indeed', PerformanceScore='Fully Meets', EngagementSurvey='4.84', EmpSatisfaction='5', SpecialProjectsCount='0', LastPerformanceReview_Date='1/3/2019', DaysLateLast30='0', Absences='15')\n",
            "Row(Employee_Name='Anderson, Carol ', EmpID='10069', MarriedID='0', MaritalStatusID='2', GenderID='0', EmpStatusID='5', DeptID='5', PerfScoreID='3', FromDiversityJobFairID='0', Salary='50825', Termd='1', PositionID='19', Position='Production Technician I', State='MA', Zip='02169', DOB='09/08/89', Sex='F', MaritalDesc='Divorced', CitizenDesc='US Citizen', HispanicLatino='No', RaceDesc='White', DateofHire='7/11/2011', DateofTermination='9/6/2016', TermReason='return to school', EmploymentStatus='Voluntarily Terminated', Department='Production       ', ManagerName='Webster Butler', ManagerID='39', RecruitmentSource='Google Search', PerformanceScore='Fully Meets', EngagementSurvey='5.00', EmpSatisfaction='4', SpecialProjectsCount='0', LastPerformanceReview_Date='2/1/2016', DaysLateLast30='0', Absences='2')\n",
            "Row(Employee_Name='Anderson, Linda  ', EmpID='10002', MarriedID='0', MaritalStatusID='0', GenderID='0', EmpStatusID='1', DeptID='5', PerfScoreID='4', FromDiversityJobFairID='0', Salary='57568', Termd='0', PositionID='19', Position='Production Technician I', State='MA', Zip='01844', DOB='05/22/77', Sex='F', MaritalDesc='Single', CitizenDesc='US Citizen', HispanicLatino='No', RaceDesc='White', DateofHire='1/9/2012', DateofTermination=None, TermReason='N/A-StillEmployed', EmploymentStatus='Active', Department='Production       ', ManagerName='Amy Dunn', ManagerID='11', RecruitmentSource='LinkedIn', PerformanceScore='Exceeds', EngagementSurvey='5.00', EmpSatisfaction='5', SpecialProjectsCount='0', LastPerformanceReview_Date='1/7/2019', DaysLateLast30='0', Absences='15')\n",
            "Row(Employee_Name='Andreola, Colby', EmpID='10194', MarriedID='0', MaritalStatusID='0', GenderID='0', EmpStatusID='1', DeptID='4', PerfScoreID='3', FromDiversityJobFairID='0', Salary='95660', Termd='0', PositionID='24', Position='Software Engineer', State='MA', Zip='02110', DOB='05/24/79', Sex='F', MaritalDesc='Single', CitizenDesc='US Citizen', HispanicLatino='No', RaceDesc='White', DateofHire='11/10/2014', DateofTermination=None, TermReason='N/A-StillEmployed', EmploymentStatus='Active', Department='Software Engineering', ManagerName='Alex Sweetwater', ManagerID='10', RecruitmentSource='LinkedIn', PerformanceScore='Fully Meets', EngagementSurvey='3.04', EmpSatisfaction='3', SpecialProjectsCount='4', LastPerformanceReview_Date='1/2/2019', DaysLateLast30='0', Absences='19')\n",
            "Row(Employee_Name='Athwal, Sam', EmpID='10062', MarriedID='0', MaritalStatusID='4', GenderID='1', EmpStatusID='1', DeptID='5', PerfScoreID='3', FromDiversityJobFairID='0', Salary='59365', Termd='0', PositionID='19', Position='Production Technician I', State='MA', Zip='02199', DOB='02/18/83', Sex='M ', MaritalDesc='Widowed', CitizenDesc='US Citizen', HispanicLatino='No', RaceDesc='White', DateofHire='9/30/2013', DateofTermination=None, TermReason='N/A-StillEmployed', EmploymentStatus='Active', Department='Production       ', ManagerName='Ketsia Liebig', ManagerID='19', RecruitmentSource='Employee Referral', PerformanceScore='Fully Meets', EngagementSurvey='5.00', EmpSatisfaction='4', SpecialProjectsCount='0', LastPerformanceReview_Date='2/25/2019', DaysLateLast30='0', Absences='19')\n",
            "Row(Employee_Name='Bachiochi, Linda', EmpID='10114', MarriedID='0', MaritalStatusID='0', GenderID='0', EmpStatusID='3', DeptID='5', PerfScoreID='3', FromDiversityJobFairID='1', Salary='47837', Termd='0', PositionID='19', Position='Production Technician I', State='MA', Zip='01902', DOB='02/11/70', Sex='F', MaritalDesc='Single', CitizenDesc='US Citizen', HispanicLatino='No', RaceDesc='Black or African American', DateofHire='7/6/2009', DateofTermination=None, TermReason='N/A-StillEmployed', EmploymentStatus='Active', Department='Production       ', ManagerName='Brannon Miller', ManagerID='12', RecruitmentSource='Diversity Job Fair', PerformanceScore='Fully Meets', EngagementSurvey='4.46', EmpSatisfaction='3', SpecialProjectsCount='0', LastPerformanceReview_Date='1/25/2019', DaysLateLast30='0', Absences='4')\n",
            "Row(Employee_Name='Bacong, Alejandro ', EmpID='10250', MarriedID='0', MaritalStatusID='2', GenderID='1', EmpStatusID='1', DeptID='3', PerfScoreID='3', FromDiversityJobFairID='0', Salary='50178', Termd='0', PositionID='14', Position='IT Support', State='MA', Zip='01886', DOB='01/07/88', Sex='M ', MaritalDesc='Divorced', CitizenDesc='US Citizen', HispanicLatino='No', RaceDesc='White', DateofHire='1/5/2015', DateofTermination=None, TermReason='N/A-StillEmployed', EmploymentStatus='Active', Department='IT/IS', ManagerName='Peter Monroe', ManagerID='7', RecruitmentSource='Indeed', PerformanceScore='Fully Meets', EngagementSurvey='5.00', EmpSatisfaction='5', SpecialProjectsCount='6', LastPerformanceReview_Date='2/18/2019', DaysLateLast30='0', Absences='16')\n"
          ]
        }
      ],
      "source": [
        "## format\n",
        "## spark.read.option(\"header\",\"true\").csv(\"filePath\")\n",
        "df = sqlContext.read.option(\"header\",\"true\").csv(\"data/HRDataset_v14.csv\")  \n",
        "for line in df.take(10):\n",
        "  print(line)\n",
        "\n"
      ]
    },
    {
      "cell_type": "markdown",
      "metadata": {
        "cell_id": "00011-a25cbdca-7454-49f2-980c-4f701161b55d",
        "deepnote_cell_type": "markdown",
        "id": "HFUIH1kLsU_8"
      },
      "source": [
        "## Hands-on Exercises\n",
        "\n",
        "You can look at the <a href=\"http://spark.apache.org/docs/2.3.1/api/python/index.html\" target=\"_blank\">DataFrames API documentation</a> \n",
        "\n",
        "Let's take a look to file \"HRDataset_v14.csv\". Each line consists \n",
        "of the same information about a person. The fields are :\n",
        "\n",
        "* Employee_Name,EmpID,MarriedID,MaritalStatusID,GenderID,EmpStatusID,DeptID,PerfScoreID,FromDiversityJobFairID,Salary,Termd\n",
        ",PositionID,Position,State,Zip,DOB,Sex,MaritalDesc,CitizenDesc,HispanicLatino,RaceDesc,DateofHire,DateofTermination,TermR\n",
        "eason,EmploymentStatus,Department,ManagerName,ManagerID,RecruitmentSource,PerformanceScore,EngagementSurvey,EmpSatisfacti\n",
        "on,SpecialProjectsCount,LastPerformanceReview_Date,DaysLateLast30,Absences\n"
      ]
    },
    {
      "cell_type": "code",
      "source": [
        "from collections import namedtuple\n",
        "from itertools import islice\n",
        " \n",
        " \n",
        "rdd = sc.textFile(\"data/HRDataset_v14.csv\")\n",
        "rdd = rdd.mapPartitionsWithIndex(\n",
        "    lambda idx, it: islice(it, 1, None) if idx == 0 else it \n",
        ")\n",
        "\n",
        " "
      ],
      "metadata": {
        "id": "krky00DTS2i1"
      },
      "execution_count": null,
      "outputs": []
    },
    {
      "cell_type": "code",
      "execution_count": null,
      "metadata": {
        "cell_id": "00012-8cfe56f0-c5e8-4d83-a2fa-3e85108f624a",
        "deepnote_cell_type": "code",
        "id": "sDqmnLQhsU_8"
      },
      "outputs": [],
      "source": [
        "\n",
        "\n",
        "Person = namedtuple('Person', ['Employee_Name', 'EmpID', 'Sex', 'Sex_bool','EmpStatusID', \n",
        "                               'Position', 'ManagerName', 'Salary'])\n",
        "def sexstr_to_bool(s):\n",
        "    if s  == 'F': return True\n",
        "    return False\n",
        "\n",
        "def str_to_int(s):\n",
        "    if (s.isnumeric()):\n",
        "      return int(s)\n",
        "    return 0\n",
        "\n",
        "def map_to_person(line):\n",
        "    cols = line.split(\",\")\n",
        "    return Person(Employee_Name   = cols[0],\n",
        "                  EmpID       = cols[1],\n",
        "                  Sex   = cols[17],\n",
        "                  Sex_bool   = sexstr_to_bool(cols[17]),\n",
        "                  EmpStatusID     = cols[5], \n",
        "                  Position = cols[13],\n",
        "                  ManagerName   =  cols[27],\n",
        "                  Salary       =    str_to_int(cols[10])\n",
        "                  )\n",
        "    \n",
        "people_rdd = rdd.map(map_to_person)\n"
      ]
    },
    {
      "cell_type": "code",
      "source": [
        "print(people_rdd.collect())"
      ],
      "metadata": {
        "colab": {
          "base_uri": "https://localhost:8080/"
        },
        "id": "xN22zbkFQ0NA",
        "outputId": "a50518ee-8d19-49b1-b8d9-00f71c2f7b90"
      },
      "execution_count": null,
      "outputs": [
        {
          "output_type": "stream",
          "name": "stdout",
          "text": [
            "[Person(Employee_Name='\"Adinolfi', EmpID=' Wilson  K\"', Sex='M ', Sex_bool=False, EmpStatusID='1', Position='Production Technician I', ManagerName='Michael Albert', Salary=62506), Person(Employee_Name='\"Ait Sidi', EmpID=' Karthikeyan   \"', Sex='M ', Sex_bool=False, EmpStatusID='1', Position='Sr. DBA', ManagerName='Simon Roup', Salary=104437), Person(Employee_Name='\"Akinkuolie', EmpID=' Sarah\"', Sex='F', Sex_bool=True, EmpStatusID='0', Position='Production Technician II', ManagerName='Kissy Sullivan', Salary=64955), Person(Employee_Name='\"Alagbe', EmpID='Trina\"', Sex='F', Sex_bool=True, EmpStatusID='0', Position='Production Technician I', ManagerName='Elijiah Gray', Salary=64991), Person(Employee_Name='\"Anderson', EmpID=' Carol \"', Sex='F', Sex_bool=True, EmpStatusID='0', Position='Production Technician I', ManagerName='Webster Butler', Salary=50825), Person(Employee_Name='\"Anderson', EmpID=' Linda  \"', Sex='F', Sex_bool=True, EmpStatusID='0', Position='Production Technician I', ManagerName='Amy Dunn', Salary=57568), Person(Employee_Name='\"Andreola', EmpID=' Colby\"', Sex='F', Sex_bool=True, EmpStatusID='0', Position='Software Engineer', ManagerName='Alex Sweetwater', Salary=95660), Person(Employee_Name='\"Athwal', EmpID=' Sam\"', Sex='M ', Sex_bool=False, EmpStatusID='1', Position='Production Technician I', ManagerName='Ketsia Liebig', Salary=59365), Person(Employee_Name='\"Bachiochi', EmpID=' Linda\"', Sex='F', Sex_bool=True, EmpStatusID='0', Position='Production Technician I', ManagerName='Brannon Miller', Salary=47837), Person(Employee_Name='\"Bacong', EmpID=' Alejandro \"', Sex='M ', Sex_bool=False, EmpStatusID='1', Position='IT Support', ManagerName='Peter Monroe', Salary=50178), Person(Employee_Name='\"Baczenski', EmpID=' Rachael  \"', Sex='F', Sex_bool=True, EmpStatusID='0', Position='Production Technician I', ManagerName='David Stanley', Salary=54670), Person(Employee_Name='\"Barbara', EmpID=' Thomas\"', Sex='M ', Sex_bool=False, EmpStatusID='1', Position='Production Technician I', ManagerName='Kissy Sullivan', Salary=47211), Person(Employee_Name='\"Barbossa', EmpID=' Hector\"', Sex='M ', Sex_bool=False, EmpStatusID='1', Position='Data Analyst', ManagerName='Simon Roup', Salary=92328), Person(Employee_Name='\"Barone', EmpID=' Francesco  A\"', Sex='M ', Sex_bool=False, EmpStatusID='1', Position='Production Technician I', ManagerName='Kelley Spirea', Salary=58709), Person(Employee_Name='\"Barton', EmpID=' Nader\"', Sex='M ', Sex_bool=False, EmpStatusID='1', Position='Production Technician I', ManagerName='Michael Albert', Salary=52505), Person(Employee_Name='\"Bates', EmpID=' Norman\"', Sex='M ', Sex_bool=False, EmpStatusID='1', Position='Production Technician I', ManagerName='Kelley Spirea', Salary=57834), Person(Employee_Name='\"Beak', EmpID=' Kimberly  \"', Sex='F', Sex_bool=True, EmpStatusID='0', Position='Production Technician II', ManagerName='Kelley Spirea', Salary=70131), Person(Employee_Name='\"Beatrice', EmpID=' Courtney \"', Sex='F', Sex_bool=True, EmpStatusID='0', Position='Production Technician I', ManagerName='Elijiah Gray', Salary=59026), Person(Employee_Name='\"Becker', EmpID=' Renee\"', Sex='F', Sex_bool=True, EmpStatusID='0', Position='Database Administrator', ManagerName='Simon Roup', Salary=110000), Person(Employee_Name='\"Becker', EmpID=' Scott\"', Sex='M ', Sex_bool=False, EmpStatusID='1', Position='Production Technician I', ManagerName='Webster Butler', Salary=53250), Person(Employee_Name='\"Bernstein', EmpID=' Sean\"', Sex='M ', Sex_bool=False, EmpStatusID='1', Position='Production Technician I', ManagerName='Amy Dunn', Salary=51044), Person(Employee_Name='\"Biden', EmpID=' Lowan  M\"', Sex='F', Sex_bool=True, EmpStatusID='0', Position='Production Technician I', ManagerName='Ketsia Liebig', Salary=64919), Person(Employee_Name='\"Billis', EmpID=' Helen\"', Sex='F', Sex_bool=True, EmpStatusID='0', Position='Production Technician I', ManagerName='Brannon Miller', Salary=62910), Person(Employee_Name='\"Blount', EmpID=' Dianna\"', Sex='F', Sex_bool=True, EmpStatusID='0', Position='Production Technician II', ManagerName='Michael Albert', Salary=66441), Person(Employee_Name='\"Bondwell', EmpID=' Betsy\"', Sex='F', Sex_bool=True, EmpStatusID='0', Position='Production Technician II', ManagerName='Elijiah Gray', Salary=57815), Person(Employee_Name='\"Booth', EmpID=' Frank\"', Sex='M ', Sex_bool=False, EmpStatusID='1', Position='Enterprise Architect', ManagerName='Simon Roup', Salary=103613), Person(Employee_Name='\"Boutwell', EmpID=' Bonalyn\"', Sex='F', Sex_bool=True, EmpStatusID='0', Position='Sr. Accountant', ManagerName='Brandon R. LeBlanc', Salary=106367), Person(Employee_Name='\"Bozzi', EmpID=' Charles\"', Sex='M ', Sex_bool=False, EmpStatusID='1', Position='Production Manager', ManagerName='Janet King', Salary=74312), Person(Employee_Name='\"Brill', EmpID=' Donna\"', Sex='F', Sex_bool=True, EmpStatusID='0', Position='Production Technician I', ManagerName='David Stanley', Salary=53492), Person(Employee_Name='\"Brown', EmpID=' Mia\"', Sex='F', Sex_bool=True, EmpStatusID='0', Position='Accountant I', ManagerName='Brandon R. LeBlanc', Salary=63000), Person(Employee_Name='\"Buccheri', EmpID=' Joseph  \"', Sex='M ', Sex_bool=False, EmpStatusID='1', Position='Production Technician II', ManagerName='Webster Butler', Salary=65288), Person(Employee_Name='\"Bugali', EmpID=' Josephine \"', Sex='F', Sex_bool=True, EmpStatusID='0', Position='Production Technician I', ManagerName='Kissy Sullivan', Salary=64375), Person(Employee_Name='\"Bunbury', EmpID=' Jessica\"', Sex='F', Sex_bool=True, EmpStatusID='0', Position='Area Sales Manager', ManagerName='John Smith', Salary=74326), Person(Employee_Name='\"Burke', EmpID=' Joelle\"', Sex='F', Sex_bool=True, EmpStatusID='0', Position='Production Technician II', ManagerName='Amy Dunn', Salary=63763), Person(Employee_Name='\"Burkett', EmpID=' Benjamin \"', Sex='M ', Sex_bool=False, EmpStatusID='1', Position='Production Technician II', ManagerName='Ketsia Liebig', Salary=62162), Person(Employee_Name='\"Cady', EmpID=' Max \"', Sex='M ', Sex_bool=False, EmpStatusID='1', Position='Software Engineering Manager', ManagerName='Jennifer Zamora', Salary=77692), Person(Employee_Name='\"Candie', EmpID=' Calvin\"', Sex='M ', Sex_bool=False, EmpStatusID='1', Position='Production Manager', ManagerName='Janet King', Salary=72640), Person(Employee_Name='\"Carabbio', EmpID=' Judith\"', Sex='F', Sex_bool=True, EmpStatusID='0', Position='Software Engineer', ManagerName='Alex Sweetwater', Salary=93396), Person(Employee_Name='\"Carey', EmpID=' Michael  \"', Sex='M ', Sex_bool=False, EmpStatusID='1', Position='Production Technician I', ManagerName='Kelley Spirea', Salary=52846), Person(Employee_Name='\"Carr', EmpID=' Claudia  N\"', Sex='F', Sex_bool=True, EmpStatusID='0', Position='Sr. DBA', ManagerName='Simon Roup', Salary=100031), Person(Employee_Name='\"Carter', EmpID=' Michelle \"', Sex='F', Sex_bool=True, EmpStatusID='0', Position='Area Sales Manager', ManagerName='John Smith', Salary=71860), Person(Employee_Name='\"Chace', EmpID=' Beatrice \"', Sex='F', Sex_bool=True, EmpStatusID='0', Position='Production Technician I', ManagerName='Michael Albert', Salary=61656), Person(Employee_Name='\"Champaigne', EmpID=' Brian\"', Sex='M ', Sex_bool=False, EmpStatusID='1', Position='BI Director', ManagerName='Jennifer Zamora', Salary=110929), Person(Employee_Name='\"Chan', EmpID=' Lin\"', Sex='F', Sex_bool=True, EmpStatusID='0', Position='Production Technician I', ManagerName='Elijiah Gray', Salary=54237), Person(Employee_Name='\"Chang', EmpID=' Donovan  E\"', Sex='M ', Sex_bool=False, EmpStatusID='1', Position='Production Technician I', ManagerName='Webster Butler', Salary=60380), Person(Employee_Name='\"Chigurh', EmpID=' Anton\"', Sex='M ', Sex_bool=False, EmpStatusID='1', Position='Area Sales Manager', ManagerName='Lynn Daneault', Salary=66808), Person(Employee_Name='\"Chivukula', EmpID=' Enola\"', Sex='F', Sex_bool=True, EmpStatusID='0', Position='Production Technician I', ManagerName='Amy Dunn', Salary=64786), Person(Employee_Name='\"Cierpiszewski', EmpID=' Caroline  \"', Sex='F', Sex_bool=True, EmpStatusID='0', Position='Production Technician I', ManagerName='Ketsia Liebig', Salary=64816), Person(Employee_Name='\"Clayton', EmpID=' Rick\"', Sex='M ', Sex_bool=False, EmpStatusID='1', Position='IT Support', ManagerName='Eric Dougall', Salary=68678), Person(Employee_Name='\"Cloninger', EmpID=' Jennifer\"', Sex='F', Sex_bool=True, EmpStatusID='0', Position='Production Technician II', ManagerName='Brannon Miller', Salary=64066), Person(Employee_Name='\"Close', EmpID=' Phil\"', Sex='M ', Sex_bool=False, EmpStatusID='1', Position='Production Technician II', ManagerName='David Stanley', Salary=59369), Person(Employee_Name='\"Clukey', EmpID=' Elijian\"', Sex='M ', Sex_bool=False, EmpStatusID='1', Position='Production Technician I', ManagerName='Brannon Miller', Salary=50373), Person(Employee_Name='\"Cockel', EmpID=' James\"', Sex='M ', Sex_bool=False, EmpStatusID='1', Position='Production Technician I', ManagerName='David Stanley', Salary=63108), Person(Employee_Name='\"Cole', EmpID=' Spencer\"', Sex='M ', Sex_bool=False, EmpStatusID='1', Position='Production Technician I', ManagerName='Kissy Sullivan', Salary=59144), Person(Employee_Name='\"Corleone', EmpID=' Michael\"', Sex='M ', Sex_bool=False, EmpStatusID='1', Position='Production Manager', ManagerName='Janet King', Salary=68051), Person(Employee_Name='\"Corleone', EmpID=' Vito\"', Sex='M ', Sex_bool=False, EmpStatusID='1', Position='Director of Operations', ManagerName='Janet King', Salary=170500), Person(Employee_Name='\"Cornett', EmpID=' Lisa \"', Sex='F', Sex_bool=True, EmpStatusID='0', Position='Production Technician I', ManagerName='Kelley Spirea', Salary=63381), Person(Employee_Name='\"Costello', EmpID=' Frank\"', Sex='M ', Sex_bool=False, EmpStatusID='1', Position='Data Analyst', ManagerName='Simon Roup', Salary=83552), Person(Employee_Name='\"Crimmings', EmpID='   Jean\"', Sex='F', Sex_bool=True, EmpStatusID='0', Position='Production Technician I', ManagerName='Michael Albert', Salary=56149), Person(Employee_Name='\"Cross', EmpID=' Noah\"', Sex='M ', Sex_bool=False, EmpStatusID='1', Position='Sr. Network Engineer', ManagerName='Peter Monroe', Salary=92329), Person(Employee_Name='\"Daneault', EmpID=' Lynn\"', Sex='F', Sex_bool=True, EmpStatusID='0', Position='Sales Manager', ManagerName='Debra Houlihan', Salary=65729), Person(Employee_Name='\"Daniele', EmpID=' Ann  \"', Sex='F', Sex_bool=True, EmpStatusID='0', Position='Sr. Network Engineer', ManagerName='Peter Monroe', Salary=85028), Person(Employee_Name='\"Darson', EmpID=' Jene\\'ya \"', Sex='F', Sex_bool=True, EmpStatusID='0', Position='Production Technician I', ManagerName='Elijiah Gray', Salary=57583), Person(Employee_Name='\"Davis', EmpID=' Daniel\"', Sex='M ', Sex_bool=False, EmpStatusID='1', Position='Production Technician II', ManagerName='Kissy Sullivan', Salary=56294), Person(Employee_Name='\"Dee', EmpID=' Randy\"', Sex='M ', Sex_bool=False, EmpStatusID='1', Position='Production Technician I', ManagerName='Brannon Miller', Salary=56991), Person(Employee_Name='\"DeGweck', EmpID='  James\"', Sex='M ', Sex_bool=False, EmpStatusID='1', Position='Production Technician I', ManagerName='Webster Butler', Salary=55722), Person(Employee_Name='\"Del Bosque', EmpID=' Keyla\"', Sex='F', Sex_bool=True, EmpStatusID='0', Position='Software Engineer', ManagerName='Alex Sweetwater', Salary=101199), Person(Employee_Name='\"Delarge', EmpID=' Alex\"', Sex='M ', Sex_bool=False, EmpStatusID='1', Position='Area Sales Manager', ManagerName='John Smith', Salary=61568), Person(Employee_Name='\"Demita', EmpID=' Carla\"', Sex='F', Sex_bool=True, EmpStatusID='0', Position='Production Technician II', ManagerName='Kelley Spirea', Salary=58275), Person(Employee_Name='\"Desimone', EmpID=' Carl \"', Sex='M ', Sex_bool=False, EmpStatusID='1', Position='Production Technician I', ManagerName='Amy Dunn', Salary=53189), Person(Employee_Name='\"DeVito', EmpID=' Tommy\"', Sex='M ', Sex_bool=False, EmpStatusID='1', Position='BI Developer', ManagerName='Brian Champaigne', Salary=96820), Person(Employee_Name='\"Dickinson', EmpID=' Geoff \"', Sex='M ', Sex_bool=False, EmpStatusID='1', Position='Production Technician I', ManagerName='Ketsia Liebig', Salary=51259), Person(Employee_Name='\"Dietrich', EmpID=' Jenna  \"', Sex='F', Sex_bool=True, EmpStatusID='0', Position='Area Sales Manager', ManagerName='John Smith', Salary=59231), Person(Employee_Name='\"DiNocco', EmpID=' Lily \"', Sex='F', Sex_bool=True, EmpStatusID='0', Position='Production Technician I', ManagerName='Brannon Miller', Salary=61584), Person(Employee_Name='\"Dobrin', EmpID=' Denisa  S\"', Sex='F', Sex_bool=True, EmpStatusID='0', Position='Production Technician I', ManagerName='David Stanley', Salary=46335), Person(Employee_Name='\"Dolan', EmpID=' Linda\"', Sex='F', Sex_bool=True, EmpStatusID='0', Position='IT Support', ManagerName='Peter Monroe', Salary=70621), Person(Employee_Name='\"Dougall', EmpID=' Eric\"', Sex='M ', Sex_bool=False, EmpStatusID='1', Position='IT Manager - Support', ManagerName='Jennifer Zamora', Salary=138888), Person(Employee_Name='\"Driver', EmpID=' Elle\"', Sex='F', Sex_bool=True, EmpStatusID='0', Position='Area Sales Manager', ManagerName='Lynn Daneault', Salary=74241), Person(Employee_Name='\"Dunn', EmpID=' Amy  \"', Sex='F', Sex_bool=True, EmpStatusID='0', Position='Production Manager', ManagerName='Janet King', Salary=75188), Person(Employee_Name='\"Dunne', EmpID=' Amy\"', Sex='F', Sex_bool=True, EmpStatusID='0', Position='Production Technician I', ManagerName='Ketsia Liebig', Salary=62514), Person(Employee_Name='\"Eaton', EmpID=' Marianne\"', Sex='F', Sex_bool=True, EmpStatusID='0', Position='Production Technician I', ManagerName='Kissy Sullivan', Salary=60070), Person(Employee_Name='\"Engdahl', EmpID=' Jean\"', Sex='M ', Sex_bool=False, EmpStatusID='1', Position='Production Technician I', ManagerName='Kelley Spirea', Salary=48888), Person(Employee_Name='\"England', EmpID=' Rex\"', Sex='M ', Sex_bool=False, EmpStatusID='1', Position='Production Technician I', ManagerName='Kelley Spirea', Salary=54285), Person(Employee_Name='\"Erilus', EmpID=' Angela\"', Sex='F', Sex_bool=True, EmpStatusID='0', Position='Production Technician II', ManagerName='Michael Albert', Salary=56847), Person(Employee_Name='\"Estremera', EmpID=' Miguel\"', Sex='M ', Sex_bool=False, EmpStatusID='1', Position='Production Technician I', ManagerName='Michael Albert', Salary=60340), Person(Employee_Name='\"Evensen', EmpID=' April\"', Sex='F', Sex_bool=True, EmpStatusID='0', Position='Production Technician I', ManagerName='Production       ', Salary=59124), Person(Employee_Name='\"Exantus', EmpID=' Susan\"', Sex='F', Sex_bool=True, EmpStatusID='0', Position='Software Engineer', ManagerName='Alex Sweetwater', Salary=99280), Person(Employee_Name='\"Faller', EmpID=' Megan \"', Sex='F', Sex_bool=True, EmpStatusID='0', Position='Production Technician II', ManagerName='Elijiah Gray', Salary=71776), Person(Employee_Name='\"Fancett', EmpID=' Nicole\"', Sex='F', Sex_bool=True, EmpStatusID='0', Position='Production Technician II', ManagerName='Webster Butler', Salary=65902), Person(Employee_Name='\"Ferguson', EmpID=' Susan\"', Sex='F', Sex_bool=True, EmpStatusID='0', Position='Production Technician I', ManagerName='Webster Butler', Salary=57748), Person(Employee_Name='\"Fernandes', EmpID=' Nilson  \"', Sex='M ', Sex_bool=False, EmpStatusID='1', Position='Production Technician I', ManagerName='Amy Dunn', Salary=64057), Person(Employee_Name='\"Fett', EmpID=' Boba\"', Sex='M ', Sex_bool=False, EmpStatusID='1', Position='Network Engineer', ManagerName='Peter Monroe', Salary=53366), Person(Employee_Name='\"Fidelia', EmpID='  Libby\"', Sex='F', Sex_bool=True, EmpStatusID='0', Position='Production Technician I', ManagerName='Brannon Miller', Salary=58530), Person(Employee_Name='\"Fitzpatrick', EmpID=' Michael  J\"', Sex='M ', Sex_bool=False, EmpStatusID='1', Position='Production Technician II', ManagerName='Amy Dunn', Salary=72609), Person(Employee_Name='\"Foreman', EmpID=' Tanya\"', Sex='F', Sex_bool=True, EmpStatusID='0', Position='Production Technician II', ManagerName='Ketsia Liebig', Salary=55965), Person(Employee_Name='\"Forrest', EmpID=' Alex\"', Sex='M ', Sex_bool=False, EmpStatusID='1', Position='Area Sales Manager', ManagerName='Lynn Daneault', Salary=70187), Person(Employee_Name='\"Foss', EmpID=' Jason\"', Sex='M ', Sex_bool=False, EmpStatusID='1', Position='IT Director', ManagerName='Jennifer Zamora', Salary=178000), Person(Employee_Name='\"Foster-Baker', EmpID=' Amy\"', Sex='F', Sex_bool=True, EmpStatusID='0', Position='Sr. Accountant', ManagerName='Board of Directors', Salary=99351), Person(Employee_Name='\"Fraval', EmpID=' Maruk \"', Sex='M ', Sex_bool=False, EmpStatusID='1', Position='Area Sales Manager', ManagerName='Lynn Daneault', Salary=67251), Person(Employee_Name='\"Galia', EmpID=' Lisa\"', Sex='F', Sex_bool=True, EmpStatusID='0', Position='IT Support', ManagerName='Eric Dougall', Salary=65707), Person(Employee_Name='\"Garcia', EmpID=' Raul\"', Sex='M ', Sex_bool=False, EmpStatusID='1', Position='Production Technician I', ManagerName='David Stanley', Salary=52249), Person(Employee_Name='\"Gaul', EmpID=' Barbara\"', Sex='F', Sex_bool=True, EmpStatusID='0', Position='Production Technician I', ManagerName='Kelley Spirea', Salary=53171), Person(Employee_Name='\"Gentry', EmpID=' Mildred\"', Sex='F', Sex_bool=True, EmpStatusID='0', Position='Production Technician I', ManagerName='Michael Albert', Salary=51337), Person(Employee_Name='\"Gerke', EmpID=' Melisa\"', Sex='F', Sex_bool=True, EmpStatusID='0', Position='Production Technician I', ManagerName='Elijiah Gray', Salary=51505), Person(Employee_Name='\"Gill', EmpID=' Whitney  \"', Sex='F', Sex_bool=True, EmpStatusID='0', Position='Area Sales Manager', ManagerName='John Smith', Salary=59370), Person(Employee_Name='\"Gilles', EmpID=' Alex\"', Sex='M ', Sex_bool=False, EmpStatusID='1', Position='Production Technician I', ManagerName='Webster Butler', Salary=54933), Person(Employee_Name='\"Girifalco', EmpID=' Evelyn\"', Sex='F', Sex_bool=True, EmpStatusID='0', Position='Production Technician I', ManagerName='Amy Dunn', Salary=57815), Person(Employee_Name='\"Givens', EmpID=' Myriam\"', Sex='F', Sex_bool=True, EmpStatusID='0', Position='Area Sales Manager', ManagerName='Lynn Daneault', Salary=61555), Person(Employee_Name='\"Goble', EmpID=' Taisha\"', Sex='F', Sex_bool=True, EmpStatusID='0', Position='Database Administrator', ManagerName='IT/IS', Salary=114800), Person(Employee_Name='\"Goeth', EmpID=' Amon\"', Sex='M ', Sex_bool=False, EmpStatusID='1', Position='IT Support', ManagerName='Peter Monroe', Salary=74679), Person(Employee_Name='\"Gold', EmpID=' Shenice  \"', Sex='F', Sex_bool=True, EmpStatusID='0', Position='Production Technician I', ManagerName='Ketsia Liebig', Salary=53018), Person(Employee_Name='\"Gonzalez', EmpID=' Cayo\"', Sex='M ', Sex_bool=False, EmpStatusID='1', Position='Production Technician I', ManagerName='Brannon Miller', Salary=59892), Person(Employee_Name='\"Gonzalez', EmpID=' Juan\"', Sex='M ', Sex_bool=False, EmpStatusID='1', Position='Production Technician II', ManagerName='Brannon Miller', Salary=68898), Person(Employee_Name='\"Gonzalez', EmpID=' Maria\"', Sex='F', Sex_bool=True, EmpStatusID='0', Position='IT Support', ManagerName='Peter Monroe', Salary=61242), Person(Employee_Name='\"Good', EmpID=' Susan\"', Sex='F', Sex_bool=True, EmpStatusID='0', Position='Production Technician II', ManagerName='David Stanley', Salary=66825), Person(Employee_Name='\"Gordon', EmpID=' David\"', Sex='M ', Sex_bool=False, EmpStatusID='1', Position='Production Technician I', ManagerName='David Stanley', Salary=48285), Person(Employee_Name='\"Gosciminski', EmpID=' Phylicia  \"', Sex='F', Sex_bool=True, EmpStatusID='0', Position='Production Technician II', ManagerName='Kissy Sullivan', Salary=66149), Person(Employee_Name='\"Goyal', EmpID=' Roxana\"', Sex='F', Sex_bool=True, EmpStatusID='0', Position='Production Technician I', ManagerName='Kissy Sullivan', Salary=49256), Person(Employee_Name='\"Gray', EmpID=' Elijiah  \"', Sex='M ', Sex_bool=False, EmpStatusID='1', Position='Production Manager', ManagerName='Janet King', Salary=62957), Person(Employee_Name='\"Gross', EmpID=' Paula\"', Sex='F', Sex_bool=True, EmpStatusID='0', Position='Production Technician I', ManagerName='Kelley Spirea', Salary=63813), Person(Employee_Name='\"Gruber', EmpID=' Hans\"', Sex='M ', Sex_bool=False, EmpStatusID='1', Position='BI Developer', ManagerName='Brian Champaigne', Salary=99020), Person(Employee_Name='\"Guilianno', EmpID=' Mike\"', Sex='M ', Sex_bool=False, EmpStatusID='1', Position='Area Sales Manager', ManagerName='John Smith', Salary=71707), Person(Employee_Name='\"Handschiegl', EmpID=' Joanne\"', Sex='F', Sex_bool=True, EmpStatusID='0', Position='Production Technician I', ManagerName='Michael Albert', Salary=54828), Person(Employee_Name='\"Hankard', EmpID=' Earnest\"', Sex='M ', Sex_bool=False, EmpStatusID='1', Position='Production Technician II', ManagerName='Kelley Spirea', Salary=64246), Person(Employee_Name='\"Harrington', EmpID=' Christie \"', Sex='F', Sex_bool=True, EmpStatusID='0', Position='Production Technician I', ManagerName='Webster Butler', Salary=52177), Person(Employee_Name='\"Harrison', EmpID=' Kara\"', Sex='F', Sex_bool=True, EmpStatusID='0', Position='Production Technician I', ManagerName='Amy Dunn', Salary=62065), Person(Employee_Name='\"Heitzman', EmpID=' Anthony\"', Sex='M ', Sex_bool=False, EmpStatusID='1', Position='Production Technician I', ManagerName='Ketsia Liebig', Salary=46998), Person(Employee_Name='\"Hendrickson', EmpID=' Trina\"', Sex='F', Sex_bool=True, EmpStatusID='0', Position='Production Technician II', ManagerName='Kelley Spirea', Salary=68099), Person(Employee_Name='\"Hitchcock', EmpID=' Alfred\"', Sex='M ', Sex_bool=False, EmpStatusID='1', Position='Area Sales Manager', ManagerName='John Smith', Salary=70545), Person(Employee_Name='\"Homberger', EmpID=' Adrienne  J\"', Sex='F', Sex_bool=True, EmpStatusID='0', Position='Production Technician II', ManagerName='Michael Albert', Salary=63478), Person(Employee_Name='\"Horton', EmpID=' Jayne\"', Sex='F', Sex_bool=True, EmpStatusID='0', Position='Database Administrator', ManagerName='Simon Roup', Salary=97999), Person(Employee_Name='\"Houlihan', EmpID=' Debra\"', Sex='F', Sex_bool=True, EmpStatusID='0', Position='Director of Sales', ManagerName='Janet King', Salary=180000), Person(Employee_Name='\"Howard', EmpID=' Estelle\"', Sex='F', Sex_bool=True, EmpStatusID='0', Position='Administrative Assistant', ManagerName='Admin Offices', Salary=49920), Person(Employee_Name='\"Hudson', EmpID=' Jane\"', Sex='F', Sex_bool=True, EmpStatusID='0', Position='Production Technician I', ManagerName='Ketsia Liebig', Salary=55425), Person(Employee_Name='\"Hunts', EmpID=' Julissa\"', Sex='F', Sex_bool=True, EmpStatusID='0', Position='Production Technician II', ManagerName='Elijiah Gray', Salary=69340), Person(Employee_Name='\"Hutter', EmpID=' Rosalie\"', Sex='F', Sex_bool=True, EmpStatusID='0', Position='Production Technician II', ManagerName='Webster Butler', Salary=64995), Person(Employee_Name='\"Huynh', EmpID=' Ming\"', Sex='F', Sex_bool=True, EmpStatusID='0', Position='Production Technician II', ManagerName='Amy Dunn', Salary=68182), Person(Employee_Name='\"Immediato', EmpID=' Walter\"', Sex='M ', Sex_bool=False, EmpStatusID='1', Position='Production Manager', ManagerName='Janet King', Salary=83082), Person(Employee_Name='\"Ivey', EmpID=' Rose \"', Sex='F', Sex_bool=True, EmpStatusID='0', Position='Production Technician I', ManagerName='Brannon Miller', Salary=51908), Person(Employee_Name='\"Jackson', EmpID=' Maryellen\"', Sex='F', Sex_bool=True, EmpStatusID='0', Position='Production Technician I', ManagerName='David Stanley', Salary=61242), Person(Employee_Name='\"Jacobi', EmpID=' Hannah  \"', Sex='F', Sex_bool=True, EmpStatusID='0', Position='Production Technician I', ManagerName='Kissy Sullivan', Salary=45069), Person(Employee_Name='\"Jeannite', EmpID=' Tayana\"', Sex='F', Sex_bool=True, EmpStatusID='0', Position='Production Technician II', ManagerName='Ketsia Liebig', Salary=60724), Person(Employee_Name='\"Jhaveri', EmpID=' Sneha  \"', Sex='F', Sex_bool=True, EmpStatusID='0', Position='Production Technician I', ManagerName='Kelley Spirea', Salary=60436), Person(Employee_Name='\"Johnson', EmpID=' George\"', Sex='M ', Sex_bool=False, EmpStatusID='1', Position='Production Technician I', ManagerName='Michael Albert', Salary=46837), Person(Employee_Name='\"Johnson', EmpID=' Noelle \"', Sex='F', Sex_bool=True, EmpStatusID='0', Position='Database Administrator', ManagerName='Simon Roup', Salary=105700), Person(Employee_Name='\"Johnston', EmpID=' Yen\"', Sex='F', Sex_bool=True, EmpStatusID='0', Position='Production Technician II', ManagerName='Brannon Miller', Salary=63322), Person(Employee_Name='\"Jung', EmpID=' Judy  \"', Sex='F', Sex_bool=True, EmpStatusID='0', Position='Production Technician I', ManagerName='Elijiah Gray', Salary=61154), Person(Employee_Name='\"Kampew', EmpID=' Donysha\"', Sex='F', Sex_bool=True, EmpStatusID='0', Position='Sales Manager', ManagerName='Debra Houlihan', Salary=68999), Person(Employee_Name='\"Keatts', EmpID=' Kramer \"', Sex='M ', Sex_bool=False, EmpStatusID='1', Position='Production Technician I', ManagerName='Michael Albert', Salary=50482), Person(Employee_Name='\"Khemmich', EmpID=' Bartholemew\"', Sex='M ', Sex_bool=False, EmpStatusID='1', Position='Area Sales Manager', ManagerName='Lynn Daneault', Salary=65310), Person(Employee_Name='\"King', EmpID=' Janet\"', Sex='F', Sex_bool=True, EmpStatusID='0', Position='President & CEO', ManagerName='Board of Directors', Salary=250000), Person(Employee_Name='\"Kinsella', EmpID=' Kathleen  \"', Sex='F', Sex_bool=True, EmpStatusID='0', Position='Production Technician I', ManagerName='Webster Butler', Salary=54005), Person(Employee_Name='\"Kirill', EmpID=' Alexandra  \"', Sex='F', Sex_bool=True, EmpStatusID='0', Position='Production Technician I', ManagerName='Amy Dunn', Salary=45433), Person(Employee_Name='\"Knapp', EmpID=' Bradley  J\"', Sex='M ', Sex_bool=False, EmpStatusID='1', Position='Production Technician I', ManagerName='Ketsia Liebig', Salary=46654), Person(Employee_Name='\"Kretschmer', EmpID=' John\"', Sex='M ', Sex_bool=False, EmpStatusID='1', Position='Production Technician I', ManagerName='Brannon Miller', Salary=63973), Person(Employee_Name='\"Kreuger', EmpID=' Freddy\"', Sex='M ', Sex_bool=False, EmpStatusID='1', Position='Area Sales Manager', ManagerName='John Smith', Salary=71339), Person(Employee_Name='\"Lajiri', EmpID='  Jyoti\"', Sex='M ', Sex_bool=False, EmpStatusID='1', Position='Sr. Network Engineer', ManagerName='Peter Monroe', Salary=93206), Person(Employee_Name='\"Landa', EmpID=' Hans\"', Sex='M ', Sex_bool=False, EmpStatusID='1', Position='Production Manager', ManagerName='Janet King', Salary=82758), Person(Employee_Name='\"Langford', EmpID=' Lindsey\"', Sex='F', Sex_bool=True, EmpStatusID='0', Position='Production Technician II', ManagerName='David Stanley', Salary=66074), Person(Employee_Name='\"Langton', EmpID=' Enrico\"', Sex='M ', Sex_bool=False, EmpStatusID='1', Position='Production Technician I', ManagerName='David Stanley', Salary=46120), Person(Employee_Name='\"LaRotonda', EmpID=' William  \"', Sex='M ', Sex_bool=False, EmpStatusID='1', Position='Accountant I', ManagerName='Brandon R. LeBlanc', Salary=64520), Person(Employee_Name='\"Latif', EmpID=' Mohammed\"', Sex='M ', Sex_bool=False, EmpStatusID='1', Position='Production Technician II', ManagerName='Kissy Sullivan', Salary=61962), Person(Employee_Name='\"Le', EmpID=' Binh\"', Sex='F', Sex_bool=True, EmpStatusID='0', Position='Senior BI Developer', ManagerName='Brian Champaigne', Salary=81584), Person(Employee_Name='\"Leach', EmpID=' Dallas\"', Sex='F', Sex_bool=True, EmpStatusID='0', Position='Production Technician I', ManagerName='Kissy Sullivan', Salary=63676), Person(Employee_Name='\"LeBlanc', EmpID=' Brandon  R\"', Sex='M ', Sex_bool=False, EmpStatusID='1', Position='Shared Services Manager', ManagerName='Janet King', Salary=93046), Person(Employee_Name='\"Lecter', EmpID=' Hannibal\"', Sex='M ', Sex_bool=False, EmpStatusID='1', Position='Production Technician I', ManagerName='Elijiah Gray', Salary=64738), Person(Employee_Name='\"Leruth', EmpID=' Giovanni\"', Sex='M ', Sex_bool=False, EmpStatusID='1', Position='Area Sales Manager', ManagerName='John Smith', Salary=70468), Person(Employee_Name='\"Liebig', EmpID=' Ketsia\"', Sex='F', Sex_bool=True, EmpStatusID='0', Position='Production Manager', ManagerName='Janet King', Salary=77915), Person(Employee_Name='\"Linares', EmpID=' Marilyn \"', Sex='F', Sex_bool=True, EmpStatusID='0', Position='Production Technician I', ManagerName='Michael Albert', Salary=52624), Person(Employee_Name='\"Linden', EmpID=' Mathew\"', Sex='M ', Sex_bool=False, EmpStatusID='1', Position='Production Technician II', ManagerName='Kelley Spirea', Salary=63450), Person(Employee_Name='\"Lindsay', EmpID=' Leonara \"', Sex='F', Sex_bool=True, EmpStatusID='0', Position='IT Support', ManagerName='Eric Dougall', Salary=51777), Person(Employee_Name='\"Lundy', EmpID=' Susan\"', Sex='F', Sex_bool=True, EmpStatusID='0', Position='Production Technician II', ManagerName='Michael Albert', Salary=67237), Person(Employee_Name='\"Lunquist', EmpID=' Lisa\"', Sex='F', Sex_bool=True, EmpStatusID='0', Position='Production Technician II', ManagerName='Elijiah Gray', Salary=73330), Person(Employee_Name='\"Lydon', EmpID=' Allison\"', Sex='F', Sex_bool=True, EmpStatusID='0', Position='Production Technician I', ManagerName='Elijiah Gray', Salary=52057), Person(Employee_Name='\"Lynch', EmpID=' Lindsay\"', Sex='F', Sex_bool=True, EmpStatusID='0', Position='Production Technician I', ManagerName='Webster Butler', Salary=47434), Person(Employee_Name='\"MacLennan', EmpID=' Samuel\"', Sex='M ', Sex_bool=False, EmpStatusID='1', Position='Production Technician I', ManagerName='Amy Dunn', Salary=52788), Person(Employee_Name='\"Mahoney', EmpID=' Lauren  \"', Sex='F', Sex_bool=True, EmpStatusID='0', Position='Production Technician I', ManagerName='Ketsia Liebig', Salary=45395), Person(Employee_Name='\"Manchester', EmpID=' Robyn\"', Sex='F', Sex_bool=True, EmpStatusID='0', Position='Production Technician II', ManagerName='Webster Butler', Salary=62385), Person(Employee_Name='\"Mancuso', EmpID=' Karen\"', Sex='F', Sex_bool=True, EmpStatusID='0', Position='Production Technician II', ManagerName='Amy Dunn', Salary=68407), Person(Employee_Name='\"Mangal', EmpID=' Debbie\"', Sex='F', Sex_bool=True, EmpStatusID='0', Position='Production Technician I', ManagerName='Brannon Miller', Salary=61349), Person(Employee_Name='\"Martin', EmpID=' Sandra\"', Sex='F', Sex_bool=True, EmpStatusID='0', Position='Software Engineer', ManagerName='Alex Sweetwater', Salary=105688), Person(Employee_Name='\"Maurice', EmpID=' Shana\"', Sex='F', Sex_bool=True, EmpStatusID='0', Position='Production Technician I', ManagerName='David Stanley', Salary=54132), Person(Employee_Name='\"Carthy', EmpID=' B\\'rigit\"', Sex='F', Sex_bool=True, EmpStatusID='0', Position='Production Technician II', ManagerName='Ketsia Liebig', Salary=55315), Person(Employee_Name='\"Mckenna', EmpID=' Sandy\"', Sex='F', Sex_bool=True, EmpStatusID='0', Position='Production Technician I', ManagerName='Kissy Sullivan', Salary=62810), Person(Employee_Name='\"McKinzie', EmpID=' Jac\"', Sex='M ', Sex_bool=False, EmpStatusID='1', Position='Area Sales Manager', ManagerName='Lynn Daneault', Salary=63291), Person(Employee_Name='\"Meads', EmpID=' Elizabeth\"', Sex='F', Sex_bool=True, EmpStatusID='0', Position='Production Technician I', ManagerName='Kelley Spirea', Salary=62659), Person(Employee_Name='\"Medeiros', EmpID=' Jennifer\"', Sex='F', Sex_bool=True, EmpStatusID='0', Position='Production Technician I', ManagerName='Michael Albert', Salary=55688), Person(Employee_Name='\"Miller', EmpID=' Brannon\"', Sex='M ', Sex_bool=False, EmpStatusID='1', Position='Production Manager', ManagerName='Janet King', Salary=83667), Person(Employee_Name='\"Miller', EmpID=' Ned\"', Sex='M ', Sex_bool=False, EmpStatusID='1', Position='Production Technician II', ManagerName='Brannon Miller', Salary=55800), Person(Employee_Name='\"Monkfish', EmpID=' Erasumus\"', Sex='M ', Sex_bool=False, EmpStatusID='1', Position='Production Technician II', ManagerName='David Stanley', Salary=58207), Person(Employee_Name='\"Monroe', EmpID=' Peter\"', Sex='M ', Sex_bool=False, EmpStatusID='1', Position='IT Manager - Infra', ManagerName='Jennifer Zamora', Salary=157000), Person(Employee_Name='\"Monterro', EmpID=' Luisa\"', Sex='F', Sex_bool=True, EmpStatusID='0', Position='Production Technician II', ManagerName='Kissy Sullivan', Salary=72460), Person(Employee_Name='\"Moran', EmpID=' Patrick\"', Sex='M ', Sex_bool=False, EmpStatusID='1', Position='Production Technician II', ManagerName='Kelley Spirea', Salary=72106), Person(Employee_Name='\"Morway', EmpID=' Tanya\"', Sex='F', Sex_bool=True, EmpStatusID='0', Position='Network Engineer', ManagerName='Peter Monroe', Salary=52599), Person(Employee_Name='\"Motlagh', EmpID='  Dawn\"', Sex='F', Sex_bool=True, EmpStatusID='0', Position='Production Technician I', ManagerName='Elijiah Gray', Salary=63430), Person(Employee_Name='\"Moumanil', EmpID=' Maliki \"', Sex='M ', Sex_bool=False, EmpStatusID='1', Position='Production Technician II', ManagerName='Michael Albert', Salary=74417), Person(Employee_Name='\"Myers', EmpID=' Michael\"', Sex='M ', Sex_bool=False, EmpStatusID='1', Position='Production Technician I', ManagerName='Kissy Sullivan', Salary=57575), Person(Employee_Name='\"Navathe', EmpID=' Kurt\"', Sex='M ', Sex_bool=False, EmpStatusID='1', Position='Senior BI Developer', ManagerName='Brian Champaigne', Salary=87921), Person(Employee_Name='\"Ndzi', EmpID=' Colombui\"', Sex='M ', Sex_bool=False, EmpStatusID='1', Position='Production Technician I', ManagerName='Webster Butler', Salary=50470), Person(Employee_Name='\"Ndzi', EmpID=' Horia\"', Sex='M ', Sex_bool=False, EmpStatusID='1', Position='Production Technician I', ManagerName='Amy Dunn', Salary=46664), Person(Employee_Name='\"Newman', EmpID=' Richard \"', Sex='M ', Sex_bool=False, EmpStatusID='1', Position='Production Technician I', ManagerName='Ketsia Liebig', Salary=48495), Person(Employee_Name='\"Ngodup', EmpID=' Shari \"', Sex='F', Sex_bool=True, EmpStatusID='0', Position='Production Technician I', ManagerName='Brannon Miller', Salary=52984), Person(Employee_Name='\"Nguyen', EmpID=' Dheepa\"', Sex='F', Sex_bool=True, EmpStatusID='0', Position='Area Sales Manager', ManagerName='Lynn Daneault', Salary=63695), Person(Employee_Name='\"Nguyen', EmpID=' Lei-Ming\"', Sex='F', Sex_bool=True, EmpStatusID='0', Position='Production Technician I', ManagerName='David Stanley', Salary=62061), Person(Employee_Name='\"Nowlan', EmpID=' Kristie\"', Sex='F', Sex_bool=True, EmpStatusID='0', Position='Production Technician II', ManagerName='Elijiah Gray', Salary=66738), Person(Employee_Name='\"O\\'hare', EmpID=' Lynn\"', Sex='F', Sex_bool=True, EmpStatusID='0', Position='Production Technician I', ManagerName='Kissy Sullivan', Salary=52674), Person(Employee_Name='\"Oliver', EmpID=' Brooke \"', Sex='F', Sex_bool=True, EmpStatusID='0', Position='Production Technician II', ManagerName='Webster Butler', Salary=71966), Person(Employee_Name='\"Onque', EmpID=' Jasmine\"', Sex='F', Sex_bool=True, EmpStatusID='0', Position='Area Sales Manager', ManagerName='Lynn Daneault', Salary=63051), Person(Employee_Name='\"Osturnka', EmpID=' Adeel\"', Sex='M ', Sex_bool=False, EmpStatusID='1', Position='Production Technician I', ManagerName='Kelley Spirea', Salary=47414), Person(Employee_Name='\"Owad', EmpID=' Clinton\"', Sex='M ', Sex_bool=False, EmpStatusID='1', Position='Production Technician I', ManagerName='Michael Albert', Salary=53060), Person(Employee_Name='\"Ozark', EmpID=' Travis\"', Sex='M ', Sex_bool=False, EmpStatusID='1', Position='Area Sales Manager', ManagerName='John Smith', Salary=68829), Person(Employee_Name='\"Panjwani', EmpID=' Nina\"', Sex='F', Sex_bool=True, EmpStatusID='0', Position='Production Technician I', ManagerName='Elijiah Gray', Salary=63515), Person(Employee_Name='\"Patronick', EmpID=' Lucas\"', Sex='M ', Sex_bool=False, EmpStatusID='1', Position='Software Engineer', ManagerName='Alex Sweetwater', Salary=108987), Person(Employee_Name='\"Pearson', EmpID=' Randall\"', Sex='M ', Sex_bool=False, EmpStatusID='1', Position='Data Analyst', ManagerName='Simon Roup', Salary=93093), Person(Employee_Name='\"Smith', EmpID=' Martin\"', Sex='M ', Sex_bool=False, EmpStatusID='1', Position='Production Technician I', ManagerName='Webster Butler', Salary=53564), Person(Employee_Name='\"Pelletier', EmpID=' Ermine\"', Sex='F', Sex_bool=True, EmpStatusID='0', Position='Production Technician II', ManagerName='Amy Dunn', Salary=60270), Person(Employee_Name='\"Perry', EmpID=' Shakira\"', Sex='F', Sex_bool=True, EmpStatusID='0', Position='Production Technician I', ManagerName='Amy Dunn', Salary=45998), Person(Employee_Name='\"Peters', EmpID=' Lauren\"', Sex='F', Sex_bool=True, EmpStatusID='0', Position='Production Technician II', ManagerName='Ketsia Liebig', Salary=57954), Person(Employee_Name='\"Peterson', EmpID=' Ebonee  \"', Sex='F', Sex_bool=True, EmpStatusID='0', Position='Production Manager', ManagerName='Janet King', Salary=74669), Person(Employee_Name='\"Petingill', EmpID=' Shana  \"', Sex='F', Sex_bool=True, EmpStatusID='0', Position='Production Technician II', ManagerName='Brannon Miller', Salary=74226), Person(Employee_Name='\"Petrowsky', EmpID=' Thelma\"', Sex='F', Sex_bool=True, EmpStatusID='0', Position='Data Analyst', ManagerName='Simon Roup', Salary=93554), Person(Employee_Name='\"Pham', EmpID=' Hong\"', Sex='M ', Sex_bool=False, EmpStatusID='1', Position='Production Technician I', ManagerName='Brannon Miller', Salary=64724), Person(Employee_Name='\"Pitt', EmpID=' Brad \"', Sex='M ', Sex_bool=False, EmpStatusID='1', Position='Production Technician I', ManagerName='David Stanley', Salary=47001), Person(Employee_Name='\"Potts', EmpID=' Xana\"', Sex='F', Sex_bool=True, EmpStatusID='0', Position='Area Sales Manager', ManagerName='Lynn Daneault', Salary=61844), Person(Employee_Name='\"Power', EmpID=' Morissa\"', Sex='F', Sex_bool=True, EmpStatusID='0', Position='Production Technician I', ManagerName='Kissy Sullivan', Salary=46799), Person(Employee_Name='\"Punjabhi', EmpID=' Louis  \"', Sex='M ', Sex_bool=False, EmpStatusID='1', Position='Production Technician I', ManagerName='Kelley Spirea', Salary=59472), Person(Employee_Name='\"Purinton', EmpID=' Janine\"', Sex='F', Sex_bool=True, EmpStatusID='0', Position='Production Technician I', ManagerName='Kissy Sullivan', Salary=46430), Person(Employee_Name='\"Quinn', EmpID=' Sean\"', Sex='M ', Sex_bool=False, EmpStatusID='1', Position='Software Engineer', ManagerName='Janet King', Salary=83363), Person(Employee_Name='\"Rachael', EmpID=' Maggie\"', Sex='F', Sex_bool=True, EmpStatusID='0', Position='BI Developer', ManagerName='Brian Champaigne', Salary=95920), Person(Employee_Name='\"Rarrick', EmpID=' Quinn\"', Sex='M ', Sex_bool=False, EmpStatusID='1', Position='Production Technician I', ManagerName='Michael Albert', Salary=61729), Person(Employee_Name='\"Ren', EmpID=' Kylo\"', Sex='M ', Sex_bool=False, EmpStatusID='1', Position='Area Sales Manager', ManagerName='John Smith', Salary=61809), Person(Employee_Name='\"Rhoads', EmpID=' Thomas\"', Sex='M ', Sex_bool=False, EmpStatusID='1', Position='Production Technician I', ManagerName='Elijiah Gray', Salary=45115), Person(Employee_Name='\"Rivera', EmpID=' Haley  \"', Sex='F', Sex_bool=True, EmpStatusID='0', Position='Production Technician I', ManagerName='Webster Butler', Salary=46738), Person(Employee_Name='\"Roberson', EmpID=' May\"', Sex='F', Sex_bool=True, EmpStatusID='0', Position='Production Technician II', ManagerName='David Stanley', Salary=64971), Person(Employee_Name='\"Robertson', EmpID=' Peter\"', Sex='M ', Sex_bool=False, EmpStatusID='1', Position='Production Technician II', ManagerName='Kissy Sullivan', Salary=55578), Person(Employee_Name='\"Robinson', EmpID=' Alain  \"', Sex='M ', Sex_bool=False, EmpStatusID='1', Position='Production Technician I', ManagerName='Amy Dunn', Salary=50428), Person(Employee_Name='\"Robinson', EmpID=' Cherly\"', Sex='F', Sex_bool=True, EmpStatusID='0', Position='Production Technician I', ManagerName='Ketsia Liebig', Salary=61422), Person(Employee_Name='\"Robinson', EmpID=' Elias\"', Sex='M ', Sex_bool=False, EmpStatusID='1', Position='Production Technician I', ManagerName='Brannon Miller', Salary=63353), Person(Employee_Name='\"Roby', EmpID=' Lori \"', Sex='F', Sex_bool=True, EmpStatusID='0', Position='Data Analyst', ManagerName='Simon Roup', Salary=89883), Person(Employee_Name='\"Roehrich', EmpID=' Bianca\"', Sex='F', Sex_bool=True, EmpStatusID='0', Position='Principal Data Architect', ManagerName='Simon Roup', Salary=120000), Person(Employee_Name='\"Roper', EmpID=' Katie\"', Sex='F', Sex_bool=True, EmpStatusID='0', Position='Data Architect', ManagerName='Brian Champaigne', Salary=150290), Person(Employee_Name='\"Rose', EmpID=' Ashley  \"', Sex='F', Sex_bool=True, EmpStatusID='0', Position='Production Technician I', ManagerName='David Stanley', Salary=60627), Person(Employee_Name='\"Rossetti', EmpID=' Bruno\"', Sex='M ', Sex_bool=False, EmpStatusID='1', Position='Production Technician I', ManagerName='Kissy Sullivan', Salary=53180), Person(Employee_Name='\"Roup', EmpID='Simon\"', Sex='M ', Sex_bool=False, EmpStatusID='1', Position='IT Manager - DB', ManagerName='Jennifer Zamora', Salary=140920), Person(Employee_Name='\"Ruiz', EmpID=' Ricardo\"', Sex='M ', Sex_bool=False, EmpStatusID='1', Position='IT Manager - DB', ManagerName='Jennifer Zamora', Salary=148999), Person(Employee_Name='\"Saada', EmpID=' Adell\"', Sex='F', Sex_bool=True, EmpStatusID='0', Position='Software Engineer', ManagerName='Alex Sweetwater', Salary=86214), Person(Employee_Name='\"Saar-Beckles', EmpID=' Melinda\"', Sex='F', Sex_bool=True, EmpStatusID='0', Position='Production Technician I', ManagerName='Kelley Spirea', Salary=47750), Person(Employee_Name='\"Sadki', EmpID=' Nore  \"', Sex='M ', Sex_bool=False, EmpStatusID='1', Position='Production Technician I', ManagerName='Michael Albert', Salary=46428), Person(Employee_Name='\"Sahoo', EmpID=' Adil\"', Sex='M ', Sex_bool=False, EmpStatusID='1', Position='Production Technician II', ManagerName='Kelley Spirea', Salary=57975), Person(Employee_Name='\"Salter', EmpID=' Jason\"', Sex='M ', Sex_bool=False, EmpStatusID='1', Position='Data Analyst ', ManagerName='Simon Roup', Salary=88527), Person(Employee_Name='\"Sander', EmpID=' Kamrin\"', Sex='F', Sex_bool=True, EmpStatusID='0', Position='Production Technician I', ManagerName='Elijiah Gray', Salary=56147), Person(Employee_Name='\"Sewkumar', EmpID=' Nori\"', Sex='F', Sex_bool=True, EmpStatusID='0', Position='Production Technician I', ManagerName='Webster Butler', Salary=50923), Person(Employee_Name='\"Shepard', EmpID=' Anita \"', Sex='F', Sex_bool=True, EmpStatusID='0', Position='Network Engineer', ManagerName='Peter Monroe', Salary=50750), Person(Employee_Name='\"Shields', EmpID=' Seffi\"', Sex='F', Sex_bool=True, EmpStatusID='0', Position='Production Technician I', ManagerName='Amy Dunn', Salary=52087), Person(Employee_Name='\"Simard', EmpID=' Kramer\"', Sex='M ', Sex_bool=False, EmpStatusID='1', Position='Data Analyst', ManagerName='Simon Roup', Salary=87826), Person(Employee_Name='\"Singh', EmpID=' Nan \"', Sex='F', Sex_bool=True, EmpStatusID='0', Position='Administrative Assistant', ManagerName='Brandon R. LeBlanc', Salary=51920), Person(Employee_Name='\"Sloan', EmpID=' Constance\"', Sex='F', Sex_bool=True, EmpStatusID='0', Position='Production Technician II', ManagerName='Michael Albert', Salary=63878), Person(Employee_Name='\"Smith', EmpID=' Joe\"', Sex='M ', Sex_bool=False, EmpStatusID='1', Position='Production Technician II', ManagerName='Elijiah Gray', Salary=60656), Person(Employee_Name='\"Smith', EmpID=' John\"', Sex='M ', Sex_bool=False, EmpStatusID='1', Position='Sales Manager', ManagerName='Debra Houlihan', Salary=72992), Person(Employee_Name='\"Smith', EmpID=' Leigh Ann\"', Sex='F', Sex_bool=True, EmpStatusID='0', Position='Administrative Assistant', ManagerName='Brandon R. LeBlanc', Salary=55000), Person(Employee_Name='\"Smith', EmpID=' Sade\"', Sex='F', Sex_bool=True, EmpStatusID='0', Position='Production Technician I', ManagerName='Ketsia Liebig', Salary=58939), Person(Employee_Name='\"Soto', EmpID=' Julia \"', Sex='F', Sex_bool=True, EmpStatusID='0', Position='IT Support', ManagerName='Eric Dougall', Salary=66593), Person(Employee_Name='\"Soze', EmpID=' Keyser\"', Sex='M ', Sex_bool=False, EmpStatusID='1', Position='Sr. Network Engineer', ManagerName='Peter Monroe', Salary=87565), Person(Employee_Name='\"Sparks', EmpID=' Taylor  \"', Sex='F', Sex_bool=True, EmpStatusID='0', Position='Production Technician I', ManagerName='Brannon Miller', Salary=64021), Person(Employee_Name='\"Spirea', EmpID=' Kelley\"', Sex='F', Sex_bool=True, EmpStatusID='0', Position='Production Manager', ManagerName='Janet King', Salary=65714), Person(Employee_Name='\"Squatrito', EmpID=' Kristen\"', Sex='F', Sex_bool=True, EmpStatusID='0', Position='Production Technician I', ManagerName='David Stanley', Salary=62425), Person(Employee_Name='\"Stanford', EmpID='Barbara  M\"', Sex='F', Sex_bool=True, EmpStatusID='0', Position='Production Technician I', ManagerName='Kissy Sullivan', Salary=47961), Person(Employee_Name='\"Stansfield', EmpID=' Norman\"', Sex='M ', Sex_bool=False, EmpStatusID='1', Position='Area Sales Manager', ManagerName='Lynn Daneault', Salary=58273), Person(Employee_Name='\"Steans', EmpID=' Tyrone  \"', Sex='M ', Sex_bool=False, EmpStatusID='1', Position='Accountant I', ManagerName='Brandon R. LeBlanc', Salary=63003), Person(Employee_Name='\"Stoica', EmpID=' Rick\"', Sex='M ', Sex_bool=False, EmpStatusID='1', Position='Production Technician I', ManagerName='Kelley Spirea', Salary=61355), Person(Employee_Name='\"Strong', EmpID=' Caitrin\"', Sex='F', Sex_bool=True, EmpStatusID='0', Position='Area Sales Manager', ManagerName='John Smith', Salary=60120), Person(Employee_Name='\"Sullivan', EmpID=' Kissy \"', Sex='F', Sex_bool=True, EmpStatusID='0', Position='Production Manager', ManagerName='Janet King', Salary=63682), Person(Employee_Name='\"Sullivan', EmpID=' Timothy\"', Sex='M ', Sex_bool=False, EmpStatusID='1', Position='Production Technician I', ManagerName='Michael Albert', Salary=63025), Person(Employee_Name='\"Sutwell', EmpID=' Barbara\"', Sex='F', Sex_bool=True, EmpStatusID='0', Position='Production Technician I', ManagerName='Elijiah Gray', Salary=59238), Person(Employee_Name='\"Szabo', EmpID=' Andrew\"', Sex='M ', Sex_bool=False, EmpStatusID='1', Position='Software Engineer', ManagerName='Alex Sweetwater', Salary=92989), Person(Employee_Name='\"Tannen', EmpID=' Biff\"', Sex='M ', Sex_bool=False, EmpStatusID='1', Position='BI Developer', ManagerName='Brian Champaigne', Salary=90100), Person(Employee_Name='\"Tavares', EmpID=' Desiree  \"', Sex='F', Sex_bool=True, EmpStatusID='0', Position='Production Technician I', ManagerName='Webster Butler', Salary=60754), Person(Employee_Name='\"Tejeda', EmpID=' Lenora \"', Sex='F', Sex_bool=True, EmpStatusID='0', Position='Production Technician II', ManagerName='Elijiah Gray', Salary=72202), Person(Employee_Name='\"Terry', EmpID=' Sharlene \"', Sex='F', Sex_bool=True, EmpStatusID='0', Position='Area Sales Manager', ManagerName='Lynn Daneault', Salary=58370), Person(Employee_Name='\"Theamstern', EmpID=' Sophia\"', Sex='F', Sex_bool=True, EmpStatusID='0', Position='Production Technician I', ManagerName='Amy Dunn', Salary=48413), Person(Employee_Name='\"Thibaud', EmpID=' Kenneth\"', Sex='M ', Sex_bool=False, EmpStatusID='1', Position='Production Technician II', ManagerName='Webster Butler', Salary=67176), Person(Employee_Name='\"Tippett', EmpID=' Jeanette\"', Sex='F', Sex_bool=True, EmpStatusID='0', Position='Production Technician I', ManagerName='Brannon Miller', Salary=56339), Person(Employee_Name='\"Torrence', EmpID=' Jack\"', Sex='M ', Sex_bool=False, EmpStatusID='1', Position='Area Sales Manager', ManagerName='Lynn Daneault', Salary=64397), Person(Employee_Name='\"Trang', EmpID=' Mei\"', Sex='F', Sex_bool=True, EmpStatusID='0', Position='Production Technician I', ManagerName='David Stanley', Salary=63025), Person(Employee_Name='\"Tredinnick', EmpID=' Neville \"', Sex='M ', Sex_bool=False, EmpStatusID='1', Position='Network Engineer', ManagerName='Peter Monroe', Salary=75281), Person(Employee_Name='\"True', EmpID=' Edward\"', Sex='M ', Sex_bool=False, EmpStatusID='1', Position='Software Engineer', ManagerName='Alex Sweetwater', Salary=100416), Person(Employee_Name='\"Trzeciak', EmpID=' Cybil\"', Sex='F', Sex_bool=True, EmpStatusID='0', Position='Production Technician II', ManagerName='Amy Dunn', Salary=74813), Person(Employee_Name='\"Turpin', EmpID=' Jumil\"', Sex='M ', Sex_bool=False, EmpStatusID='1', Position='Network Engineer', ManagerName='Peter Monroe', Salary=76029), Person(Employee_Name='\"Valentin', EmpID='Jackie\"', Sex='F', Sex_bool=True, EmpStatusID='0', Position='Area Sales Manager', ManagerName='John Smith', Salary=57859), Person(Employee_Name='\"Veera', EmpID=' Abdellah \"', Sex='M ', Sex_bool=False, EmpStatusID='1', Position='Production Technician I', ManagerName='Kissy Sullivan', Salary=58523), Person(Employee_Name='\"Vega', EmpID=' Vincent\"', Sex='M ', Sex_bool=False, EmpStatusID='1', Position='Production Manager', ManagerName='Janet King', Salary=88976), Person(Employee_Name='\"Villanueva', EmpID=' Noah\"', Sex='M ', Sex_bool=False, EmpStatusID='1', Position='Area Sales Manager', ManagerName='John Smith', Salary=55875), Person(Employee_Name='\"Voldemort', EmpID=' Lord\"', Sex='M ', Sex_bool=False, EmpStatusID='1', Position='Database Administrator', ManagerName='IT/IS', Salary=113999), Person(Employee_Name='\"Volk', EmpID=' Colleen\"', Sex='F', Sex_bool=True, EmpStatusID='0', Position='Production Technician I', ManagerName='Kelley Spirea', Salary=49773), Person(Employee_Name='\"Von Massenbach', EmpID=' Anna\"', Sex='F', Sex_bool=True, EmpStatusID='0', Position='Production Technician I', ManagerName='Michael Albert', Salary=62068), Person(Employee_Name='\"Walker', EmpID=' Roger\"', Sex='M ', Sex_bool=False, EmpStatusID='1', Position='Production Technician II', ManagerName='Ketsia Liebig', Salary=66541), Person(Employee_Name='\"Wallace', EmpID=' Courtney  E\"', Sex='F', Sex_bool=True, EmpStatusID='0', Position='Production Manager', ManagerName='Janet King', Salary=80512), Person(Employee_Name='\"Wallace', EmpID=' Theresa\"', Sex='F', Sex_bool=True, EmpStatusID='0', Position='Production Technician I', ManagerName='Elijiah Gray', Salary=50274), Person(Employee_Name='\"Wang', EmpID=' Charlie\"', Sex='M ', Sex_bool=False, EmpStatusID='1', Position='Senior BI Developer', ManagerName='Brian Champaigne', Salary=84903), Person(Employee_Name='\"Warfield', EmpID=' Sarah\"', Sex='F', Sex_bool=True, EmpStatusID='0', Position='Sr. Network Engineer', ManagerName='Peter Monroe', Salary=107226), Person(Employee_Name='\"Whittier', EmpID=' Scott\"', Sex='M ', Sex_bool=False, EmpStatusID='1', Position='Production Technician I', ManagerName='Webster Butler', Salary=58371), Person(Employee_Name='\"Wilber', EmpID=' Barry\"', Sex='M ', Sex_bool=False, EmpStatusID='1', Position='Production Technician I', ManagerName='Amy Dunn', Salary=55140), Person(Employee_Name='\"Wilkes', EmpID=' Annie\"', Sex='F', Sex_bool=True, EmpStatusID='0', Position='Production Technician I', ManagerName='Ketsia Liebig', Salary=58062), Person(Employee_Name='\"Williams', EmpID=' Jacquelyn  \"', Sex='F', Sex_bool=True, EmpStatusID='0', Position='Production Technician I', ManagerName='Ketsia Liebig', Salary=59728), Person(Employee_Name='\"Winthrop', EmpID=' Jordan  \"', Sex='M ', Sex_bool=False, EmpStatusID='1', Position='Production Technician II', ManagerName='Brannon Miller', Salary=70507), Person(Employee_Name='\"Wolk', EmpID=' Hang  T\"', Sex='F', Sex_bool=True, EmpStatusID='0', Position='Production Technician II', ManagerName='David Stanley', Salary=60446), Person(Employee_Name='\"Woodson', EmpID=' Jason\"', Sex='M ', Sex_bool=False, EmpStatusID='1', Position='Production Technician II', ManagerName='Kissy Sullivan', Salary=65893), Person(Employee_Name='\"Ybarra', EmpID=' Catherine \"', Sex='F', Sex_bool=True, EmpStatusID='0', Position='Production Technician I', ManagerName='Brannon Miller', Salary=48513), Person(Employee_Name='\"Zamora', EmpID=' Jennifer\"', Sex='F', Sex_bool=True, EmpStatusID='0', Position='CIO', ManagerName='Janet King', Salary=220450), Person(Employee_Name='\"Zhou', EmpID=' Julia\"', Sex='F', Sex_bool=True, EmpStatusID='0', Position='Data Analyst', ManagerName='Simon Roup', Salary=89292), Person(Employee_Name='\"Zima', EmpID=' Colleen\"', Sex='F', Sex_bool=True, EmpStatusID='0', Position='Production Technician I', ManagerName='David Stanley', Salary=45046)]\n"
          ]
        }
      ]
    },
    {
      "cell_type": "code",
      "source": [
        "\n",
        "df = people_rdd.toDF()"
      ],
      "metadata": {
        "id": "aVzgqO08Qwwj"
      },
      "execution_count": null,
      "outputs": []
    },
    {
      "cell_type": "code",
      "execution_count": null,
      "metadata": {
        "cell_id": "00013-242264f2-6446-49b0-99a8-aaf0a119370b",
        "deepnote_cell_type": "code",
        "id": "c1JnEljysU_8",
        "colab": {
          "base_uri": "https://localhost:8080/"
        },
        "outputId": "817f1aee-dc0f-440b-b541-1fe9438e9af0"
      },
      "outputs": [
        {
          "output_type": "stream",
          "name": "stdout",
          "text": [
            "+-------------+----------------+---+--------+-----------+--------------------+---------------+------+\n",
            "|Employee_Name|           EmpID|Sex|Sex_bool|EmpStatusID|            Position|    ManagerName|Salary|\n",
            "+-------------+----------------+---+--------+-----------+--------------------+---------------+------+\n",
            "|    \"Adinolfi|      Wilson  K\"| M |   false|          1|Production Techni...| Michael Albert| 62506|\n",
            "|    \"Ait Sidi| Karthikeyan   \"| M |   false|          1|             Sr. DBA|     Simon Roup|104437|\n",
            "|  \"Akinkuolie|          Sarah\"|  F|    true|          0|Production Techni...| Kissy Sullivan| 64955|\n",
            "|      \"Alagbe|          Trina\"|  F|    true|          0|Production Techni...|   Elijiah Gray| 64991|\n",
            "|    \"Anderson|         Carol \"|  F|    true|          0|Production Techni...| Webster Butler| 50825|\n",
            "|    \"Anderson|        Linda  \"|  F|    true|          0|Production Techni...|       Amy Dunn| 57568|\n",
            "|    \"Andreola|          Colby\"|  F|    true|          0|   Software Engineer|Alex Sweetwater| 95660|\n",
            "|      \"Athwal|            Sam\"| M |   false|          1|Production Techni...|  Ketsia Liebig| 59365|\n",
            "|   \"Bachiochi|          Linda\"|  F|    true|          0|Production Techni...| Brannon Miller| 47837|\n",
            "|      \"Bacong|     Alejandro \"| M |   false|          1|          IT Support|   Peter Monroe| 50178|\n",
            "|   \"Baczenski|      Rachael  \"|  F|    true|          0|Production Techni...|  David Stanley| 54670|\n",
            "|     \"Barbara|         Thomas\"| M |   false|          1|Production Techni...| Kissy Sullivan| 47211|\n",
            "|    \"Barbossa|         Hector\"| M |   false|          1|        Data Analyst|     Simon Roup| 92328|\n",
            "|      \"Barone|   Francesco  A\"| M |   false|          1|Production Techni...|  Kelley Spirea| 58709|\n",
            "|      \"Barton|          Nader\"| M |   false|          1|Production Techni...| Michael Albert| 52505|\n",
            "|       \"Bates|         Norman\"| M |   false|          1|Production Techni...|  Kelley Spirea| 57834|\n",
            "|        \"Beak|     Kimberly  \"|  F|    true|          0|Production Techni...|  Kelley Spirea| 70131|\n",
            "|    \"Beatrice|      Courtney \"|  F|    true|          0|Production Techni...|   Elijiah Gray| 59026|\n",
            "|      \"Becker|          Renee\"|  F|    true|          0|Database Administ...|     Simon Roup|110000|\n",
            "|      \"Becker|          Scott\"| M |   false|          1|Production Techni...| Webster Butler| 53250|\n",
            "+-------------+----------------+---+--------+-----------+--------------------+---------------+------+\n",
            "only showing top 20 rows\n",
            "\n"
          ]
        }
      ],
      "source": [
        "df.show()"
      ]
    },
    {
      "cell_type": "markdown",
      "metadata": {
        "cell_id": "00014-d2552da3-0142-48fb-b314-541535086444",
        "deepnote_cell_type": "markdown",
        "id": "eHexsyiMsU_9"
      },
      "source": [
        "### Schema"
      ]
    },
    {
      "cell_type": "code",
      "execution_count": null,
      "metadata": {
        "cell_id": "00015-11feeecf-9cd9-4938-aa53-55443edfb762",
        "deepnote_cell_type": "code",
        "id": "gHdqgndZsU_9",
        "colab": {
          "base_uri": "https://localhost:8080/"
        },
        "outputId": "370e7fed-41f9-4ff2-a9c9-3fbdc168684d"
      },
      "outputs": [
        {
          "output_type": "stream",
          "name": "stdout",
          "text": [
            "root\n",
            " |-- Employee_Name: string (nullable = true)\n",
            " |-- EmpID: string (nullable = true)\n",
            " |-- Sex: string (nullable = true)\n",
            " |-- Sex_bool: boolean (nullable = true)\n",
            " |-- EmpStatusID: string (nullable = true)\n",
            " |-- Position: string (nullable = true)\n",
            " |-- ManagerName: string (nullable = true)\n",
            " |-- Salary: long (nullable = true)\n",
            "\n"
          ]
        }
      ],
      "source": [
        "df.printSchema()"
      ]
    },
    {
      "cell_type": "markdown",
      "metadata": {
        "cell_id": "00016-9c1862a5-de80-4165-ac30-923629b2aeeb",
        "deepnote_cell_type": "markdown",
        "id": "P8S3vlOYsU_9"
      },
      "source": [
        "### display"
      ]
    },
    {
      "cell_type": "code",
      "execution_count": null,
      "metadata": {
        "cell_id": "00017-40b484a1-55ae-4332-b8f9-ef28e752db55",
        "deepnote_cell_type": "code",
        "id": "JT4yqQ2MsU_9",
        "colab": {
          "base_uri": "https://localhost:8080/",
          "height": 53
        },
        "outputId": "fb71c4c0-91cb-4ac5-ff8b-52ca6191a08f"
      },
      "outputs": [
        {
          "output_type": "display_data",
          "data": {
            "text/plain": [
              "DataFrame[Employee_Name: string, EmpID: string, Sex: string, Sex_bool: boolean, EmpStatusID: string, Position: string, ManagerName: string, Salary: bigint]"
            ]
          },
          "metadata": {}
        }
      ],
      "source": [
        "display(df)"
      ]
    },
    {
      "cell_type": "markdown",
      "metadata": {
        "cell_id": "00018-3efcd17e-653f-4503-93e6-a89581e5e155",
        "deepnote_cell_type": "markdown",
        "id": "f1XIj0z-sU_9"
      },
      "source": [
        "### select"
      ]
    },
    {
      "cell_type": "code",
      "execution_count": null,
      "metadata": {
        "cell_id": "00019-5bb4b7ac-ea01-414d-8c6d-8bf81791ff42",
        "deepnote_cell_type": "code",
        "id": "29MJUPK4sU_9",
        "colab": {
          "base_uri": "https://localhost:8080/"
        },
        "outputId": "d0514a56-f306-40cb-956b-e32fece49c4d"
      },
      "outputs": [
        {
          "output_type": "execute_result",
          "data": {
            "text/plain": [
              "DataFrame[Employee_Name: string, EmpID: string, Sex: string]"
            ]
          },
          "metadata": {},
          "execution_count": 16
        }
      ],
      "source": [
        "df.select(df[\"Employee_Name\"], df[\"EmpID\"], df[\"Sex\"])"
      ]
    },
    {
      "cell_type": "code",
      "execution_count": null,
      "metadata": {
        "cell_id": "00020-0c1cd8b8-fa29-4218-a26b-6944adb3b36f",
        "deepnote_cell_type": "code",
        "id": "LKGOALLDsU_9",
        "colab": {
          "base_uri": "https://localhost:8080/"
        },
        "outputId": "7f342608-9a1f-4e51-8129-08210f90ebe4"
      },
      "outputs": [
        {
          "output_type": "stream",
          "name": "stdout",
          "text": [
            "+-------------+----------------+---+\n",
            "|Employee_Name|           EmpID|Sex|\n",
            "+-------------+----------------+---+\n",
            "|    \"Adinolfi|      Wilson  K\"| M |\n",
            "|    \"Ait Sidi| Karthikeyan   \"| M |\n",
            "|  \"Akinkuolie|          Sarah\"|  F|\n",
            "|      \"Alagbe|          Trina\"|  F|\n",
            "|    \"Anderson|         Carol \"|  F|\n",
            "|    \"Anderson|        Linda  \"|  F|\n",
            "|    \"Andreola|          Colby\"|  F|\n",
            "|      \"Athwal|            Sam\"| M |\n",
            "|   \"Bachiochi|          Linda\"|  F|\n",
            "|      \"Bacong|     Alejandro \"| M |\n",
            "|   \"Baczenski|      Rachael  \"|  F|\n",
            "|     \"Barbara|         Thomas\"| M |\n",
            "|    \"Barbossa|         Hector\"| M |\n",
            "|      \"Barone|   Francesco  A\"| M |\n",
            "|      \"Barton|          Nader\"| M |\n",
            "|       \"Bates|         Norman\"| M |\n",
            "|        \"Beak|     Kimberly  \"|  F|\n",
            "|    \"Beatrice|      Courtney \"|  F|\n",
            "|      \"Becker|          Renee\"|  F|\n",
            "|      \"Becker|          Scott\"| M |\n",
            "+-------------+----------------+---+\n",
            "only showing top 20 rows\n",
            "\n"
          ]
        }
      ],
      "source": [
        "df.select(df[\"Employee_Name\"], df[\"EmpID\"], df[\"Sex\"]).show()"
      ]
    },
    {
      "cell_type": "markdown",
      "metadata": {
        "cell_id": "00021-96d671e3-13ee-4a6f-ab1e-ad2fe0c1d461",
        "deepnote_cell_type": "markdown",
        "id": "Z4Wuu8Q4sU_9"
      },
      "source": [
        "### filter"
      ]
    },
    {
      "cell_type": "code",
      "execution_count": null,
      "metadata": {
        "cell_id": "00022-78b374b3-01a0-4781-a3d0-2dca1e7adeaa",
        "deepnote_cell_type": "code",
        "id": "lfzGiRejsU_9",
        "colab": {
          "base_uri": "https://localhost:8080/"
        },
        "outputId": "40b328d2-6c13-47fd-cecd-c4981394f690"
      },
      "outputs": [
        {
          "output_type": "stream",
          "name": "stdout",
          "text": [
            "+-------------+------------+---+--------+-----------+--------------------+------------------+------+\n",
            "|Employee_Name|       EmpID|Sex|Sex_bool|EmpStatusID|            Position|       ManagerName|Salary|\n",
            "+-------------+------------+---+--------+-----------+--------------------+------------------+------+\n",
            "|  \"Akinkuolie|      Sarah\"|  F|    true|          0|Production Techni...|    Kissy Sullivan| 64955|\n",
            "|      \"Alagbe|      Trina\"|  F|    true|          0|Production Techni...|      Elijiah Gray| 64991|\n",
            "|    \"Anderson|     Carol \"|  F|    true|          0|Production Techni...|    Webster Butler| 50825|\n",
            "|    \"Anderson|    Linda  \"|  F|    true|          0|Production Techni...|          Amy Dunn| 57568|\n",
            "|    \"Andreola|      Colby\"|  F|    true|          0|   Software Engineer|   Alex Sweetwater| 95660|\n",
            "|   \"Bachiochi|      Linda\"|  F|    true|          0|Production Techni...|    Brannon Miller| 47837|\n",
            "|   \"Baczenski|  Rachael  \"|  F|    true|          0|Production Techni...|     David Stanley| 54670|\n",
            "|        \"Beak| Kimberly  \"|  F|    true|          0|Production Techni...|     Kelley Spirea| 70131|\n",
            "|    \"Beatrice|  Courtney \"|  F|    true|          0|Production Techni...|      Elijiah Gray| 59026|\n",
            "|      \"Becker|      Renee\"|  F|    true|          0|Database Administ...|        Simon Roup|110000|\n",
            "|       \"Biden|   Lowan  M\"|  F|    true|          0|Production Techni...|     Ketsia Liebig| 64919|\n",
            "|      \"Billis|      Helen\"|  F|    true|          0|Production Techni...|    Brannon Miller| 62910|\n",
            "|      \"Blount|     Dianna\"|  F|    true|          0|Production Techni...|    Michael Albert| 66441|\n",
            "|    \"Bondwell|      Betsy\"|  F|    true|          0|Production Techni...|      Elijiah Gray| 57815|\n",
            "|    \"Boutwell|    Bonalyn\"|  F|    true|          0|      Sr. Accountant|Brandon R. LeBlanc|106367|\n",
            "|       \"Brill|      Donna\"|  F|    true|          0|Production Techni...|     David Stanley| 53492|\n",
            "|       \"Brown|        Mia\"|  F|    true|          0|        Accountant I|Brandon R. LeBlanc| 63000|\n",
            "|      \"Bugali| Josephine \"|  F|    true|          0|Production Techni...|    Kissy Sullivan| 64375|\n",
            "|     \"Bunbury|    Jessica\"|  F|    true|          0|  Area Sales Manager|        John Smith| 74326|\n",
            "|       \"Burke|     Joelle\"|  F|    true|          0|Production Techni...|          Amy Dunn| 63763|\n",
            "+-------------+------------+---+--------+-----------+--------------------+------------------+------+\n",
            "only showing top 20 rows\n",
            "\n"
          ]
        }
      ],
      "source": [
        "df.filter(df[\"Sex_bool\"] ).show()"
      ]
    },
    {
      "cell_type": "markdown",
      "metadata": {
        "cell_id": "00023-d5f0c0c3-7238-4dc7-ad0c-3e055fcd535c",
        "deepnote_cell_type": "markdown",
        "id": "RJymmTSmsU_-"
      },
      "source": [
        "### filter + select"
      ]
    },
    {
      "cell_type": "code",
      "execution_count": null,
      "metadata": {
        "cell_id": "00024-43c070dc-7b1c-4156-8662-b1763a1be2ed",
        "deepnote_cell_type": "code",
        "id": "oMFIClIvsU_-"
      },
      "outputs": [],
      "source": [
        "df2 = df.filter(df[\"Sex\"] == \"F\").select(df['Position'],df['Salary'])"
      ]
    },
    {
      "cell_type": "code",
      "execution_count": null,
      "metadata": {
        "cell_id": "00025-4a2c47fd-40e4-42f6-9ec6-4d0696b87d38",
        "deepnote_cell_type": "code",
        "id": "tm-uQENXsU_-",
        "colab": {
          "base_uri": "https://localhost:8080/"
        },
        "outputId": "db742ccf-bf0b-46bc-e3fd-9b1591eddba7"
      },
      "outputs": [
        {
          "output_type": "stream",
          "name": "stdout",
          "text": [
            "+--------------------+------+\n",
            "|            Position|Salary|\n",
            "+--------------------+------+\n",
            "|Production Techni...| 64955|\n",
            "|Production Techni...| 64991|\n",
            "|Production Techni...| 50825|\n",
            "|Production Techni...| 57568|\n",
            "|   Software Engineer| 95660|\n",
            "|Production Techni...| 47837|\n",
            "|Production Techni...| 54670|\n",
            "|Production Techni...| 70131|\n",
            "|Production Techni...| 59026|\n",
            "|Database Administ...|110000|\n",
            "|Production Techni...| 64919|\n",
            "|Production Techni...| 62910|\n",
            "|Production Techni...| 66441|\n",
            "|Production Techni...| 57815|\n",
            "|      Sr. Accountant|106367|\n",
            "|Production Techni...| 53492|\n",
            "|        Accountant I| 63000|\n",
            "|Production Techni...| 64375|\n",
            "|  Area Sales Manager| 74326|\n",
            "|Production Techni...| 63763|\n",
            "+--------------------+------+\n",
            "only showing top 20 rows\n",
            "\n"
          ]
        }
      ],
      "source": [
        "df2.show()"
      ]
    },
    {
      "cell_type": "markdown",
      "metadata": {
        "cell_id": "00026-1d0ac1eb-0ba8-4d76-aec1-94af3cd35b4d",
        "deepnote_cell_type": "markdown",
        "id": "EflzBFgNsU_-"
      },
      "source": [
        "### orderBy"
      ]
    },
    {
      "cell_type": "code",
      "execution_count": null,
      "metadata": {
        "cell_id": "00027-758d72cc-21a5-493b-9515-3b09f460bcd2",
        "deepnote_cell_type": "code",
        "id": "GxBBk9ZlsU_-",
        "colab": {
          "base_uri": "https://localhost:8080/"
        },
        "outputId": "a2654cd0-cce0-49f2-c5f6-3095311a1744"
      },
      "outputs": [
        {
          "output_type": "stream",
          "name": "stdout",
          "text": [
            "+------+--------------------+\n",
            "|Salary|            position|\n",
            "+------+--------------------+\n",
            "| 45046|Production Techni...|\n",
            "| 45069|Production Techni...|\n",
            "| 45395|Production Techni...|\n",
            "| 45433|Production Techni...|\n",
            "| 45998|Production Techni...|\n",
            "| 46335|Production Techni...|\n",
            "| 46430|Production Techni...|\n",
            "| 46738|Production Techni...|\n",
            "| 46799|Production Techni...|\n",
            "| 47434|Production Techni...|\n",
            "| 47750|Production Techni...|\n",
            "| 47837|Production Techni...|\n",
            "| 47961|Production Techni...|\n",
            "| 48413|Production Techni...|\n",
            "| 48513|Production Techni...|\n",
            "| 49256|Production Techni...|\n",
            "| 49773|Production Techni...|\n",
            "| 49920|Administrative As...|\n",
            "| 50274|Production Techni...|\n",
            "| 50750|    Network Engineer|\n",
            "+------+--------------------+\n",
            "only showing top 20 rows\n",
            "\n"
          ]
        }
      ],
      "source": [
        "(df.filter(df[\"Sex\"] == \"F\")\n",
        "   .select(df[\"Salary\"],df[\"position\"])\n",
        "   .orderBy(\"Salary\")).show()"
      ]
    },
    {
      "cell_type": "markdown",
      "metadata": {
        "cell_id": "00028-7a875b74-ac41-493b-8512-c830dc79cb5d",
        "deepnote_cell_type": "markdown",
        "id": "HCWGx-WpsU_-"
      },
      "source": [
        "### groupBy"
      ]
    },
    {
      "cell_type": "code",
      "execution_count": null,
      "metadata": {
        "cell_id": "00029-012ad184-07da-48a9-ac24-e38514d30fa0",
        "deepnote_cell_type": "code",
        "id": "iNSnA3-6sU_-",
        "colab": {
          "base_uri": "https://localhost:8080/"
        },
        "outputId": "9156a861-ba55-4bdb-a153-83b41924a0f2"
      },
      "outputs": [
        {
          "output_type": "execute_result",
          "data": {
            "text/plain": [
              "<pyspark.sql.group.GroupedData at 0x7f0fcf28ec10>"
            ]
          },
          "metadata": {},
          "execution_count": 111
        }
      ],
      "source": [
        "df.groupby(df[\"Position\"])"
      ]
    },
    {
      "cell_type": "code",
      "execution_count": null,
      "metadata": {
        "cell_id": "00030-c6ba2b2b-fb0f-49ba-bab5-2bf1b962d885",
        "deepnote_cell_type": "code",
        "id": "SIZkiA6rsU_-",
        "colab": {
          "base_uri": "https://localhost:8080/"
        },
        "outputId": "a3c10d6c-8e38-4d97-e4c8-f9f7d545760d"
      },
      "outputs": [
        {
          "output_type": "stream",
          "name": "stdout",
          "text": [
            "+--------------------+-----+\n",
            "|            Position|count|\n",
            "+--------------------+-----+\n",
            "| Senior BI Developer|    3|\n",
            "|IT Manager - Support|    1|\n",
            "|Software Engineer...|    1|\n",
            "|    Network Engineer|    5|\n",
            "|             Sr. DBA|    2|\n",
            "|Principal Data Ar...|    1|\n",
            "|        BI Developer|    4|\n",
            "|Production Techni...|   57|\n",
            "|Director of Opera...|    1|\n",
            "|  Production Manager|   14|\n",
            "|      Sr. Accountant|    2|\n",
            "|     President & CEO|    1|\n",
            "|Sr. Network Engineer|    5|\n",
            "|  IT Manager - Infra|    1|\n",
            "|        Accountant I|    3|\n",
            "|Database Administ...|    5|\n",
            "|        Data Analyst|    7|\n",
            "|Shared Services M...|    1|\n",
            "|   Director of Sales|    1|\n",
            "|       Sales Manager|    3|\n",
            "+--------------------+-----+\n",
            "only showing top 20 rows\n",
            "\n"
          ]
        }
      ],
      "source": [
        "df.groupby(df[\"Position\"]).count().show()"
      ]
    },
    {
      "cell_type": "markdown",
      "metadata": {
        "cell_id": "00031-02ae969f-21c9-4228-a23a-5742d4932f4b",
        "deepnote_cell_type": "markdown",
        "id": "JtfiIAN2sU_-"
      },
      "source": [
        "WARNING: Don't confuse GroupedData.count() with DataFrame.count(). GroupedData.count() is not an action. DataFrame.count() is an action."
      ]
    },
    {
      "cell_type": "code",
      "execution_count": null,
      "metadata": {
        "cell_id": "00032-cdde6dcf-628c-4caa-b984-cfba0dff5afc",
        "deepnote_cell_type": "code",
        "id": "2z7-8epqsU_-",
        "colab": {
          "base_uri": "https://localhost:8080/"
        },
        "outputId": "a715e41d-34c2-431a-ffb7-b6ec75e23e4c"
      },
      "outputs": [
        {
          "output_type": "execute_result",
          "data": {
            "text/plain": [
              "176"
            ]
          },
          "metadata": {},
          "execution_count": 22
        }
      ],
      "source": [
        "df.filter(df[\"Sex_bool\"]).count()"
      ]
    },
    {
      "cell_type": "code",
      "execution_count": null,
      "metadata": {
        "cell_id": "00033-46281461-bbd0-41c9-bb11-6b2c1edb768f",
        "deepnote_cell_type": "code",
        "id": "FkFSheB8sU_-",
        "colab": {
          "base_uri": "https://localhost:8080/"
        },
        "outputId": "12008b4a-0132-477c-b615-5bb87393eae2"
      },
      "outputs": [
        {
          "output_type": "stream",
          "name": "stdout",
          "text": [
            "+-------------+\n",
            "|Employee_Name|\n",
            "+-------------+\n",
            "|  \"Akinkuolie|\n",
            "|      \"Alagbe|\n",
            "|    \"Anderson|\n",
            "|    \"Anderson|\n",
            "|    \"Andreola|\n",
            "|   \"Bachiochi|\n",
            "|   \"Baczenski|\n",
            "|        \"Beak|\n",
            "|    \"Beatrice|\n",
            "|      \"Becker|\n",
            "|       \"Biden|\n",
            "|      \"Billis|\n",
            "|      \"Blount|\n",
            "|    \"Bondwell|\n",
            "|    \"Boutwell|\n",
            "|       \"Brill|\n",
            "|       \"Brown|\n",
            "|      \"Bugali|\n",
            "|     \"Bunbury|\n",
            "|       \"Burke|\n",
            "+-------------+\n",
            "only showing top 20 rows\n",
            "\n"
          ]
        }
      ],
      "source": [
        "df.filter(df['Sex_bool']).select(\"Employee_Name\").show()"
      ]
    },
    {
      "cell_type": "code",
      "execution_count": null,
      "metadata": {
        "cell_id": "00034-24e8c678-7489-43e7-92ca-9b6397cd6e48",
        "deepnote_cell_type": "code",
        "id": "cyVj5p-msU_-",
        "colab": {
          "base_uri": "https://localhost:8080/"
        },
        "outputId": "c954611c-e4c3-4d6a-935c-0fea94d91130"
      },
      "outputs": [
        {
          "output_type": "stream",
          "name": "stdout",
          "text": [
            "+------------------+-----+\n",
            "|       ManagerName|count|\n",
            "+------------------+-----+\n",
            "|  Brian Champaigne|    8|\n",
            "| Production       |    1|\n",
            "|     Admin Offices|    1|\n",
            "|     Lynn Daneault|   13|\n",
            "|      Eric Dougall|    4|\n",
            "|     Ketsia Liebig|   21|\n",
            "|    Michael Albert|   22|\n",
            "|     David Stanley|   21|\n",
            "|    Debra Houlihan|    3|\n",
            "|    Webster Butler|   21|\n",
            "|        Janet King|   19|\n",
            "|      Peter Monroe|   14|\n",
            "|        Simon Roup|   15|\n",
            "|        John Smith|   14|\n",
            "|      Elijiah Gray|   21|\n",
            "|             IT/IS|    2|\n",
            "|    Brannon Miller|   22|\n",
            "|     Kelley Spirea|   22|\n",
            "|Brandon R. LeBlanc|    6|\n",
            "|   Alex Sweetwater|    9|\n",
            "+------------------+-----+\n",
            "only showing top 20 rows\n",
            "\n"
          ]
        }
      ],
      "source": [
        "df.groupBy(df[\"ManagerName\"]).count().show()"
      ]
    },
    {
      "cell_type": "markdown",
      "metadata": {
        "cell_id": "00035-103019c3-704e-4146-a935-8cb3c7cc789b",
        "deepnote_cell_type": "markdown",
        "id": "4zIxamBlsU_-"
      },
      "source": [
        "### Exercises\n",
        "\n",
        "- How many Production Engineer that are Female?\n",
        "- What are the positions that have salary more than 90000?\n",
        "- What are the top three  managers that have the most employees?\n",
        "- What is the most common position whose employees are female?"
      ]
    },
    {
      "cell_type": "markdown",
      "source": [
        "![image.png](data:image/png;base64,iVBORw0KGgoAAAANSUhEUgAAAnIAAAJmCAYAAADYaW0YAAAMbGlDQ1BJQ0MgUHJvZmlsZQAASImVVwdYU8kWnltSSWgBBKSE3gSRGkBKCC2A9CLYCEkgocSYEFTsZVHBtYsoVnRVRLGtgNixK4ti74siCsq6qIsNlTchAV33le+d75t7/5w5859yZ3LvAUDrA08qzUO1AciXFMgSwoOZo9PSmaRnAAE6AAU+wJPHl0vZcXHRAMrA/e/y7ha0hnLdWcn1z/n/KroCoZwPADIW4kyBnJ8P8UkA8PV8qawAAKJSbzW5QKrEsyHWk8EAIV6lxNkqvFOJM1X4aL9NUgIH4qsAkGk8niwbAM0HUM8s5GdDHs3PELtKBGIJAFrDIA7gi3gCiJWxD8vPn6jE5RDbQ3spxDAewMr8jjP7b/yZg/w8XvYgVuXVL+QQsVyax5v6f5bmf0t+nmLAhy0cNJEsIkGZP6zhndyJUUpMg7hLkhkTq6w1xB/EAlXdAUCpIkVEssoeNeHLObB+wABiVwEvJApiE4jDJHkx0Wp9ZpY4jAsx3C3oFHEBNwliQ4gXCuWhiWqbzbKJCWpfaG2WjMNW6y/wZP1+lb4eKXKT2Wr+NyIhV82PaRaJklIhpkJsXShOiYFYE2IXeW5ilNpmZJGIEzNgI1MkKOO3hjhBKAkPVvFjhVmysAS1fUm+fCBfbLNIzI1R4wMFoqQIVX2wM3xef/wwF+yqUMJOHuARykdHD+QiEIaEqnLHOoSS5EQ1zwdpQXCCai1OlebFqe1xS2FeuFJvCbGHvDBRvRZPKYCbU8WPZ0kL4pJUceJFObzIOFU8+DIQDTggBDCBAo5MMBHkAHFzV10X/KWaCQM8IAPZQAic1ZqBFan9MxJ4TQRF4A+IhEA+uC64f1YICqH+y6BWdXUGWf2zhf0rcsEziPNBFMiDvxX9qySD3lLAU6gR/8M7Dw4+jDcPDuX8v9cPaL9p2FATrdYoBjwytQYsiaHEEGIEMYzogBvjAbgfHg2vQXC44SzcZyCPb/aEZ4QWwhPCTUIr4e4E8VzZD1GOAq2QP0xdi8zva4HbQk5PPBj3h+yQGTfAjYEz7gH9sPFA6NkTajnquJVVYf7A/bcMvnsaajuKKwWlDKEEUex/XKnpqOk5yKKs9ff1UcWaOVhvzuDMj/4531VfAO9RP1piC7GD2HnsFHYRO4rVASZ2AqvHmrBjSjy4u572764Bbwn98eRCHvE//PHUPpWVlLtWu3a6flbNFQinFCgPHmeidKpMnC0qYLLh20HI5Er4LsOYbq5ubgAo3zWqv6+38f3vEMSg6Ztu3u8A+J/o6+s78k0XeQKA/d7w+B/+prNnAaCjAcCFw3yFrFClw5UXAvyX0IInzQiYAStgD/NxA17ADwSBUBAJYkESSAPjYZVFcJ/LwGQwHcwBxaAULAOrwTqwCWwFO8EecADUgaPgFDgHLoOr4Ca4D3dPO3gJusE70IsgCAmhIwzECDFHbBAnxA1hIQFIKBKNJCBpSAaSjUgQBTIdmYeUIiuQdcgWpArZjxxGTiEXkRbkLvIY6UTeIJ9QDKWheqgpaosOR1koG41Ck9BxaDY6CS1C56NL0HK0Et2N1qKn0MvoTbQVfYn2YADTwAwwC8wZY2EcLBZLx7IwGTYTK8HKsEqsBmuAz/k61op1YR9xIs7Ambgz3MEReDLOxyfhM/HF+Dp8J16Ln8Gv44/xbvwrgU4wITgRfAlcwmhCNmEyoZhQRthOOEQ4C89SO+EdkUg0INoRveFZTCPmEKcRFxM3EPcSTxJbiG3EHhKJZERyIvmTYkk8UgGpmLSWtJt0gnSN1E76QNYgm5PdyGHkdLKEPJdcRt5FPk6+Rn5O7qVoU2wovpRYioAylbKUso3SQLlCaaf0UnWodlR/ahI1hzqHWk6toZ6lPqC+1dDQsNTw0YjXEGvM1ijX2KdxQeOxxkeaLs2RxqGNpSloS2g7aCdpd2lv6XS6LT2Ink4voC+hV9FP0x/RP2gyNF00uZoCzVmaFZq1mtc0X2lRtGy02FrjtYq0yrQOal3R6tKmaNtqc7R52jO1K7QPa9/W7tFh6IzQidXJ11mss0vnok6HLknXVjdUV6A7X3er7mndNgbGsGJwGHzGPMY2xllGux5Rz06Pq5ejV6q3R69Zr1tfV99DP0V/in6F/jH9VgPMwNaAa5BnsNTggMEtg09DTIewhwiHLBpSM+TakPeGQw2DDIWGJYZ7DW8afjJiGoUa5RotN6ozemiMGzsaxxtPNt5ofNa4a6jeUL+h/KElQw8MvWeCmjiaJJhMM9lq0mTSY2pmGm4qNV1retq0y8zALMgsx2yV2XGzTnOGeYC52HyV+QnzF0x9JpuZxyxnnmF2W5hYRFgoLLZYNFv0WtpZJlvOtdxr+dCKasWyyrJaZdVo1W1tbj3Kerp1tfU9G4oNy0Zks8bmvM17WzvbVNsFtnW2HXaGdly7Irtquwf2dPtA+0n2lfY3HIgOLIdchw0OVx1RR09HkWOF4xUn1MnLSey0wallGGGYzzDJsMpht51pzmznQudq58cuBi7RLnNd6lxeDbcenj58+fDzw7+6errmuW5zvT9Cd0TkiLkjGka8cXN047tVuN1wp7uHuc9yr3d/7eHkIfTY6HHHk+E5ynOBZ6PnFy9vL5lXjVent7V3hvd679ssPVYcazHrgg/BJ9hnls9Rn4++Xr4Fvgd8//Rz9sv12+XXMdJupHDktpFt/pb+PP8t/q0BzICMgM0BrYEWgbzAysAnQVZBgqDtQc/ZDuwc9m72q2DXYFnwoeD3HF/ODM7JECwkPKQkpDlUNzQ5dF3oozDLsOyw6rDucM/waeEnIwgRURHLI25zTbl8bhW3O9I7ckbkmShaVGLUuqgn0Y7RsuiGUeioyFErRz2IsYmRxNTFglhu7MrYh3F2cZPijsQT4+PiK+KfJYxImJ5wPpGROCFxV+K7pOCkpUn3k+2TFcmNKVopY1OqUt6nhqSuSG0dPXz0jNGX04zTxGn16aT0lPTt6T1jQsesHtM+1nNs8dhb4+zGTRl3cbzx+LzxxyZoTeBNOJhByEjN2JXxmRfLq+T1ZHIz12d28zn8NfyXgiDBKkGn0F+4Qvg8yz9rRVZHtn/2yuxOUaCoTNQl5ojXiV/nRORsynmfG5u7I7cvLzVvbz45PyP/sERXkis5M9Fs4pSJLVInabG0dZLvpNWTumVRsu1yRD5OXl+gBz/qmxT2ip8UjwsDCisKP0xOmXxwis4UyZSmqY5TF019XhRW9Ms0fBp/WuN0i+lzpj+ewZ6xZSYyM3Nm4yyrWfNntc8On71zDnVO7pzf5rrOXTH3r3mp8xrmm86fPb/tp/Cfqos1i2XFtxf4Ldi0EF8oXti8yH3R2kVfSwQll0pdS8tKPy/mL77084ify3/uW5K1pHmp19KNy4jLJMtuLQ9cvnOFzoqiFW0rR62sXcVcVbLqr9UTVl8s8yjbtIa6RrGmtTy6vH6t9dplaz+vE627WRFcsXe9yfpF699vEGy4tjFoY80m002lmz5tFm++syV8S22lbWXZVuLWwq3PtqVsO/8L65eq7cbbS7d/2SHZ0bozYeeZKu+qql0mu5ZWo9WK6s7dY3df3ROyp77GuWbLXoO9pfvAPsW+F/sz9t86EHWg8SDrYM2vNr+uP8Q4VFKL1E6t7a4T1bXWp9W3HI483Njg13DoiMuRHUctjlYc0z+29Dj1+PzjfSeKTvSclJ7sOpV9qq1xQuP906NP3zgTf6b5bNTZC+fCzp0+zz5/4oL/haMXfS8evsS6VHfZ63Jtk2fTod88fzvU7NVce8X7Sv1Vn6sNLSNbjl8LvHbqesj1cze4Ny7fjLnZciv51p3bY2+33hHc6bibd/f1vcJ7vfdnPyA8KHmo/bDskcmjyt8dft/b6tV67HHI46YniU/ut/HbXj6VP/3cPv8Z/VnZc/PnVR1uHUc7wzqvvhjzov2l9GVvV/EfOn+sf2X/6tc/g/5s6h7d3f5a9rrvzeK3Rm93/OXxV2NPXM+jd/nvet+XfDD6sPMj6+P5T6mfnvdO/kz6XP7F4UvD16ivD/ry+/qkPBmv/1MAgwPNygLgzQ4A6GkAMGDfRh2j6gX7BVH1r/0I/Ces6hf7xQuAGvj9Ht8Fv25uA7BvG2y/IL8W7FXj6AAk+QDU3X1wqEWe5e6m4qLBPoXwqK/vLezZSCsB+LKsr6+3sq/vy1YYLOwdT0pUPahSiLBn2BzzJTM/E/wbUfWn3+X44x0oI/AAP97/BeL+kPAV1dAaAAAAOGVYSWZNTQAqAAAACAABh2kABAAAAAEAAAAaAAAAAAACoAIABAAAAAEAAAJyoAMABAAAAAEAAAJmAAAAAI7KS+YAAEAASURBVHgB7H0HuBRV0nahmHPOiooBIyomzCKCOWJYc1zFNfxiXrMiuuqadRExs4phTZgTmFcMmDNgDphzQM9fb63VX3dPz0xPz8zlDrz1PDPdffJ5z7m3ayqdDiIS9EMiAkSACBABIkAEiAARaDEEJmux8XK4RIAIEAEiQASIABEgAn8iQEaOW4EIEAEiQASIABEgAi2KABm5Fl04DpsIEAEiQASIABEgAmTkuAeIABEgAkSACBABItCiCJCRa9GF47CJABEgAkSACBABIkBGjnuACBABIkAEiAARIAItigAZuRZdOA6bCBABIkAEiAARIAJk5LgHiAARIAJEgAgQASLQogh0bNFxc9hEIIHAjDPOKMstt5yEEOTxxx9P5LWnh2WWWUZmnnlmeeedd+Tjjz+eIENbaqmlZPLJJ7cx/PjjjxNkDOyUCBABIkAEGoNAB22m0MkOvXr1ki5dutgohgwZIuPGjcs9og4dOki/fv1kuummk/Hjx0v//v0r1l199dVl7bXXlm7dusl8881nL8Ann3xSbrrpJhk7dmxUd/nll5ctt9wyeq508+KLL8ott9xStkje+fXu3VtWXXXVsu0gA/i8/fbbZcvknV/ZBmrIwEt8l112kcUXX1zmnXde+eyzz2TMmDFy//33y0MPPSQ//fRTDa21n6JrrLGGPPbYY/LHH38Yk1LryNoKlwceeEB69OghBxxwgFx88cW1DrMh5b/88kuZZZZZBPvuqaeeakibbIQIEAEiQAQmHAJg5HJ9JptsstCnT5/w3HPPqeDj/6hr16656ns/++23X1T5559/LltXGb6gTF5UNn0zePDgRN1dd901XaTs88CBAxN1MbYi8zv//PPL9uEZyuyV9IX+ap2f41fkir7OPvvs8Ntvv/mwSq6vvfZa5jiL9NfWdZSRs/n8/vvvNc2hrXFRRs7G2bdv35rG2Ug8lZGzMay22mq5xvDCCy+EN998Myizm6t8I8fKtvL9byZOxIl7YNLdA7lVqz179pQLL7zQJDm6YQQqmWmnnRa3NdE888wjp59+uigDJ1NPPXXFuldeeaUoc2bqsssuu0yGDx8uo0ePlgUXXNCkGr/88kuivr5w5IQTTkikxR9mmGEGOeywwyzpxhtvjGdJvfMbOXKkDBs2LNGmP5STxtU6P2+vyPWQQw6RQw89VJSRs3Heeeed8sgjj5hUbtlll5V9991XpphiiiJNt3SdSRGXCy64QKaZZhr56KOPcq1d586d7W99qqmmylWehYgAESACRKBtEcj1K/ucc86xX/H6zz8oQxBWWmkle8aXqjRztaHTCqoODZDCDRgwwOqrKi+zrto7Wf6vv/4adthhh8wykKagzbyfvfbay9p89913TfoWr1d0fi6RUyY39zjQbzPmF59P/F5f2oY5Jg8M4nl+D2nkeuutl5nnZdrztYhEbkLg0h4kcrWu4w8//GB/NyussELL7o9a58zy+f+vEitixT0wYfdAbonce++9J6oOkssvv1wgCVtiiSV07WqjLbbYQrbZZhs59dRTzS6rUm1Ij0BDhw6V66+/PrOovl0y08sl7r333pZ11VVXmS1VvFwj5hdvr9p9M+ZXrk9I3CBNwbpdffXVmcVgW/bwww+X5M0999wmOf3888/l+++/F0hUYa8Iiep///tf+eSTT0rqxBMgPV166aXNthH1X3rpJVE1nUkG4+XS997vF198Id99951lw6Zv/fXXF2XuBTaS77//frpa2WdIY2ebbTbLhyQKbdSDy6yzzmq4fPPNN6KMTkm/c845p3Ts2FFgjwasyhHKAU/gDzw//PDDkqJzzTWXSdDgHLHQQguZbdszzzwjr7zyipVV0wbB59lnnzV80w1A0jrTTDOlk+Xrr782G9V0BhxHMD8nZfLtFvh/9dVXnmxXrIGqsxNpfCACRIAIEIG2RaDQr2xl5OxXOr7ySOT0RRr0n35Q54SgKtmw5557Wv0siZyqXIMyHZaf145HIas4D31pW3v6wgyLLLJIxbJoK+/8ikjkmjG/SvNX5tnmDvs4ZRyqzj3elnqAWt199tknQOqYJsxfPSBL2txoo42COpSki9uzMnRh5513LqkT73fEiBFWFvaUqtoLo0aNSrSFuag6OGqjkkSuU6dOQVXyVh92lZA+oq96cLnrrrusPVXNRmOIj/+NN96wfHW+SeS7RE6dHYJLgeMTUxOCoIxXos4999xjRVAeNoBOWJMTTzzRHwP2NuxE4+PA/SabbBKVid+U+9s64ogj4sUq3iuTWdJfun8+V/7fRHyID/cA90A9eyC3RE47qYtOO+00mX/++U0iVy3kATxTp5xySpMgwasOtnRrrrmmrLXWWuaxCo/TJ554oqbxuDQOdmGws2s0YW4HH3yw2ZxBuvfqq6+a1ChLGtOM+VWaj9voQUKkDLTZKFYqn5V3+OGHC2ylIB2FPeCSSy5p9osHHnigQNq1xx57JKqpGs4kXuoYI08//bS89dZbAskOPItVVS7XXHONLLroonLSSScl6qUf4Nn8n//8R5T5Nq9atAPJEPYC6lcjeOc++OCDtvdgG4Y1Us7EqjUCl2r9l8vHOBZbbDG54YYbTBKHccIeVFXf5lEKyXWaIBE/99xzzUsaXrqYDzC95JJLDIsNN9xQ/v73v5dIXbEf1bknag5rhb+vcoT1VceYKBtjxd659tpr5dNPP43ScVPtbzlRmA9EgAgQASLQFAQK/aLOK7HSEQf88ock4d577436qiSRW2eddUwKoGExTDKmar0SqYAa6wdVv0XtoZ9yH0jAVEVnbey2225ly8Xr552fS+RKBqgJkMqo2qykv0bPLz7urHtIoJSZioZ46623hh133DGXdM4lcqic9rTUEC0mBcLaKiOSmOe6664bVllllUSaj22zzTazsSgTEFSFl1nGJXJYe2UswsILL5woh3qQwnmbWRI5VekGVUdaX+pgE5X1OvXgUq9EDoNKS/Ngo+gSN9ig+jhdInfsscdaGmxDVcVp84JXt5eDxBukjG6U5nnxa61eq7SRK/+/JY4r74kT9wD3wATaA8WAz8voQE0EFRtUpfGXfSVGbqeddrIXEhghDZwa1G4oHHnkkRb6RCU4QW2mLF+ldRbCoxpwf/nLX6z8t99+G1TCU/El523lnR8YOThPXHrppUGlIabqUilLgJMGCOquOMOB9hs9Px9zpSvmozZVNqb4F0JLHHXUUUFt3zJxcUYOKvEs5xJnuIBDpf7Tec50bLrpppn1vF2oUKFaTddPP6cZORjma2xDm+pxxx1Xtn5RXOpl5LCns1TS+LEDUlvGaMzOyG211VZRGvY+KO4IpJJHS6vmlEBGrtj/vPSe4zNx5B7gHmgne6DYQuRldI455hh7ucBLNT7hSozc/vvvb3XwpaqcEskbpBVgkEDbbbddot14H36vgW6tLOyPPK3aNe/8VE2ayeCo6tHsAdExGKi43VOj51dtLp6vDg8BtllgklzyY8DoFySWm2++eQk+zshddNFFJXlo1+2pNDRMZj7KqJNBQKxBSPBgO4ePqp6t69133z2znjNyGrQ5M9/n5Nc4I6cBmiOJ1dFHH121fhFc6mXkBg0alDkuVVUbLuq4EOU7I6chcqI039NxRviOO+6wupD4Oi5ZVzJyxf7nZWHJNGLJPcA9MKH3QFPPWoUNkEpD5IMPPjBPVZ1sLoKHpJMaeJd4RsI7TyUXVkQNub1o5hV2Xarms7wrrrgis0w9ifAy1LdnSROvv/66KMNm6Tg1QJnPqEwj5xc1muMGXqvKkIm+6GX22WcXZdxEGQqzc4KXIuy1ytmdlYs55unwTo2TSu/M5guelZjv888/L8qQiDJA9vFTQarFJlOpbLzZqvewGcMpFTgGCwTbumpUDy7V2i6X77il8/3YLninpilub+n3fkVZzAM0/fTT25VfRIAIEAEiMPEj0FRG7qyzzjJHhTPOOMMM4hFSwj8eDgEvfE/zlzqOjXKCoXwWIYwFqBzj4XVgPI4+EPJCpUue3CZXMBQIwAsCM+fUyPl5m7VeEUZCJTgWCBgOCAjHAfw9YHK6vXTYCc9HCAsQwmjESSWxgjAvYNjAdMOpAcdSqReqfdzRAIxXJcKPgFoJ8zj55JMttAacXFRqm7uJWnHJ3XCqYDk8PR1HaKWxUSl01Irf+xUZfo/9TiICRIAIEIFJA4Gmeq3CkxME7zp8sggvXZdCqBG8nToQZ3Ti0qt4fcTnAqUZiHgZeNqp6s6ScIpCWxPOkcVc4KWK+GtOjZqft1fvFUwVpGWQ0CHmWxZ5DLZ0nqfHvRmx7mCkwFioXZfcfvvt6WqCExXyEDCslRCvEPNBXYxD7RfNc1bt/GpqKg8u5RrEvq5Ejlu6jKcDT2fM0mX4TASIABEgAkTAEagsDvFSBa/qqCAvv/xy5scDn0It6WU88CvCJbjKyJnB9BAgxQOpo0E6K3oGY4hyag9WEpIhKtTEGxyD5AwcwmY4NWp+3l4jro8++qg1g1AiWbTAAgtkJRuTioz4OkCNDGkSQrBkMXFq5C/qhZrZXr2JYH7AxIEQ8uaxxx6zYLjXXXedhdCotf1yuCC4MSgLL8wdIVJA5aRj1fDEHmkv5KYDaQlhexkfx0EEiAARmJQRaCojB5UWoudnfY4//njDHXY9nq8G7paGSPlq5G73aiCfuT6IKweKM0jpgh47DipOZxzTZZr5rN6pkXoMzKpTo+bn7VW7QjpUKW4Y6q+44orWjJ8WkG4T0jpIONMEiRsINnBOfioA1OdZL38NBmxqXC/frCsYeKwB1L8aAkdOOeWURFf14OL7KcsGDzHucJpCJVInhcw12Xrrra0aTm5oL+Snd1SSfreXsXIcRIAIEIFJDYGmMnL1gOmOCTjM3Zk2bw8BTSH1gaRAI/V7cuIKiUfv3r0tzdtKFGjAA45WQgBWlw7Gm9x2220FNoIgjdtm0ql4vo+p6PzibVW7hyMCpKN/+9vfzGYxXh4SI9gRIkgvCExvFuGYKDiuxAlMUrdu3UyFqeFHoiy3X8QapJ1RcJQUJGVtRZBswS4PpB62ssEGG0Rd14OLzxHrHJeuwbYNNqHVCCrUdDDkPn362F4HA4rAv+2F/McS9kk1BrW9jJnjIAJEgAhMSghUDFWgQET5iDmGuF7+UUbKyJ9xjYdNiNdN31cKP4KyKskJyuxY+4jJdtttt9mRRn7EETI0Wn00tnT7KvGzugiroZKXsuXi9Wqdn0pPrA/MW50pLODx3XffHRDI2EklNyHrGKN65xcfd7V79R724QQEd1VpT9CTFQLi3WHcTqoGLcHJw4+gDghhQZRBDcOGDYtCmOA5PQaPh6aqzqDqzaDMW7j55psDjmR7+OGHbQxoD6FY0nXx7OFHcERXVn46LR5+JJ2HZ7WRRHcWINiPKasHF1WbB7XftDYRrw7tI/Yb1hvY+JFg8dhvGIfvXwQ5Bqnq1vAE9mrTZ2npmHyqKrb0eDxC9AHSs2cjfLCeoHhIEsTgA+7xj8c4xDrE08uF8unRo4e1iy/1tg0INYP1xUcZ16j/LNyZ9n//P4kFseAe4B5o0h7ID2xWQNnoP/yfN2CG8gy0GiPnbaixehQTzPvCWZ16bFBm/DbUA5OEIL0gdbLINR7Uq3V+Ko2yM0DBrKQJL8vzzjsv6AHkFfsvMj/HJu8VQZARFFePy0oP057BiPTr1y+AOUm36YycqqkDmGO1XYzawD2CCafr4HmOOeYIQ4cOjcriRtXoAadK4Kzdaoxatfx0n9UYOQ3JEdR5wcaDGHAqibTg0EVxQf/du3c3xsYnCYYesdwwPwSzBpU7axWnZOixZwGnWzgBT4wnPbd6GLmVV17Zm696PeGEE0r69rHo8V/GhCKQszOcaFCl0WXreF1e8/+PJVbEinuAe6DWPYA4BfhH3K4J6j/Eg0NcOpV2mV1cEW/GZk1SmRbp1KmTwDYMqieooqDKzDvGtpwf4sdBpQhPWhjsA0+E+Cg3VoRsUYZF9IB20YDKZtumR2+ZM4oy7Ra2pBKu6AchSNAX7Og81lmlOhMir1ZcfIywPVxmmWXsfNT//ve/Nk/Py3NFfWW2LEzNqFGjquKZp02WIQJEgAgQgUkHgZZg5Cad5Wh/M00zcu1vhBwRESACRIAIEIFJF4F26+ww6S4JZ04EiAARIAJEgAgQgXwIkJHLhxNLEQEiQASIABEgAkSg3SFARq7dLUn7GpDas/OEgfa1JBwNESACRIAIEIEIAdrIRVDwhggQASJABIgAESACrYUAJXKttV4cLREgAkSACBABIkAEIgTIyEVQ8IYIEAEiQASIABEgAq2FABm51lovjpYIEAEiQASIABEgAhECZOQiKHhDBIgAESACRIAIEIHWQoCMXGutF0dLBIgAESACRIAIEIEIATJyERS8IQJEgAgQASJABIhAayFARq611oujJQJEgAgQASJABIhAhAAZuQgK3hABIkAEiAARIAJEoLUQICPXWuvF0RIBIkAEiAARIAJEIEKAjFwEBW+IABEgAkSACBABItBaCJCRa6314miJABEgAkSACBABIhAhQEYugoI3RIAIEAEiQASIABFoLQTIyLXWenG0RIAIEAEiQASIABGIEOgY3fGGCLQhAquttpp07NhRRo0aJd9//30b9syuiAARIAJEgAhMPAh00KmEItPp1auXdOnSxaoOGTJExo0bl7uZDh06SL9+/WS66aaT8ePHS//+/SvWXX311WXttdeWbt26yXzzzScff/yxPPnkk3LTTTfJ2LFjK9ZFZi39zTLLLLLRRhvJmmuuKXPNNZf18+CDD8rzzz9ftR8UqBWXzTbbTHr27ClLLbWU/Pjjj/L0008L+sP8GkHbb7+9zDPPPNYU5jBixIjMZjfffHNZZJFFbB2xns2mb775RmaccUZZZZVVZOTIkYW7W3fddaVr165W/4033pC77767pK3ll19e1ltvPUv/4osv5JprrikpwwQiQASIABEgAq2KABi5XJ/JJpss9OnTJzz33HMhTvoizVXf+9lvv/2i6j///HPZusqABWXyorLpm8GDB5et633hmre/eeedN7z22mvpbsLvv/8e9tlnn7J9FcFFmdhw/fXXl/SFhD/++CMcfPDBZfuLz63a/RNPPBH18e6774Ypppgis93bb7/dyr3wwguZ+dX6qTVfGTnrb+WVV66rvwsuuCCa34cffhiwFumx3HDDDVGZl19+uSQ/XZ7P+f4fECfixD3APcA90C72QL5BqNQoqMQjeiH+8MMP0X0tjJxKh8LXX38dfvrpJ6tfiZG76qqrrAwYm0svvTT85S9/CaqSC9ttt10YOHBgOP/886u+lPP2N/3004e3337b+nvxxReDSrLCqquuGs4999xoDOg/vWmL4uIMKnA48MADw8ILLxw6d+4cjjnmmKBSSuuzEvOYHke55zgjh0b32GOPkjmgbqszcthHIJXcJuaHdVVJZ/B8MnL5/t7L7SemEz/uAe4B7oF2twfyDeicc86xF+VHH30UDj300LDSSivZM75UdZV4eVZaZFWH2kt1wIABVh+MTFb55ZZbzvJ//fXXsMMOO2SWgcQuq248LW9/u+++u/X35Zdfhk6dOiXavfzyyy0PDF68bdwXwUVVthEj+7e//a2kzSOOOML6e+mll0ry0v1Xe3ZGzhmZ119/PVNq1eqM3B133GGS04suuiiBGZhv0K233mpXMnL5/t6r7SvmE0fuAe4B7oH2sQdyOzu899570rdvX1GmRn755RdZYokldA1roy222EK22WYbOfXUU2XMmDEVKyuzaPlDhw4VVUFmltU3c2a6J9bSn0qqrNp1112XsLubeuqpzT4Pmcsuu6zZ6T3zzDPehRTBZYUVVhC0qypbUfVw1JbfKDNiGC2zzDKiDLM8++yznlX4+tRTT5nN35JLLmlrcOONN9bcljK4AnuzWWedVZTJlFdeeUWUEa/YzpRTTimY79JLL211YKcHu8g8NMMMM4gy9GaLCZzhGPHZZ59lVtUfGPLII4/ItttuKwcddJBhi4KwEYQzxZ133inYD+VowQUXtDHCBhPlMb8333xTfvvtt8wqc845p0w77bSijL98++23gnmqmtj+Ll599VXBHqk0z1r780FMNdVUsuKKKxomqgY3TLCPsCaqVhaVdpfttxY8vb+5557b9ipsC7/77jtLVhMEWX/99UV/ZJkt5/vvv+/FeSUCRIAIEIEJgEBCgqH953pWRs4kHPjKI5HTl0jQf/hBnROCvgDDnnvuafWzJHLK5ARlFi0fqtS8Y4qXq6W/2Wef3frCl77sE/25CtTVnaeddloiP94n7vPgAikc6IMPPijblqt5jz322LJl0n1nPbtETh0owm677Wb9wsYxXbaSRA7q6eHDh1vd+JcyMGWlpWi/e/fuQRmveJUAO7bFFlssVLKRU6YonHnmmSZhi1eGiv2ss85K2Pm5jRxU7W4LucEGG9j8Zp55ZttHypyHnXbayZpKS+TUsSVA0ppFytCFnXfeuQQrzO2uu+6yKocccoip+qG+jZMylUGZvZK6RftDn+r0U4In9hAkyI3CM70v1DnGpgVsofpXZjo+zaCMbth3331L5pluh8/5/q8SJ+LEPcA9UOseyC2R04brImWAZP755zdpELwzKxGkIpBwQPIHSRKkV/AiXWuttcxjVV+8ogxKpSaklv4wLqe4dyqkSIcffrhA8qGOAgLPznhZr1PrdZppprEqqu4sW9XzIBFpFMEb9aSTTjIJGTxzszw8033NMcccJvWBBApSMXUcMKnYOuusI5tssolAgokxqi1hoirCizz00EMCCRLWUFWf5qWqanLzykV6FmGtH3vsMZNEQtJ19dVXy1tvvSWQBiojat7OkAbD2zdNN998s1x44YUmhXvggQdkq622sn0EqS48pLMI0kJIWpW5NY9h9AXJFiSPGCs8XBdddFHDLas+JFMbbrihzQ8SQ2V2ZJdddrG9CsmzMjmJakX7g3cv8AQ+GKuqim1uGON9991n94mO/nyoB894e8DvP//5j3k2YxzACZI5/E0CHxIRIAJEgAhMOAQK/ZrOI3nSKVnbkKrB8/Pee++N+qokkVMmwX71q/rVJFyff/55QgqAB1WVBWUgova8L1xr7U9DhkTtQ5KHNmB/pwyFOR5o2JMwaNAgK6Mvzcw+vf88uGy99dbWFqSRWXZ+SFM1lpWBx6W3XeQal8ih/gEHHGDtPvroo4l2y0nkzjjjDCuvL+4SvE888UTLU7Vb0FAiifbuuecey0O7Gi8uyoN0D+vqpAxKlIfxQQIJgkRygQUWSOQpgx9gwwhSJs3y4hI51Mcew3jgnYt7SKqUaSwrkdPwJSE9BsdZmUXrC9I2VV0mxuISORSAtM/r4AoJFQjrC2eLeF69/QFXzMfbhDQ57oSUnkuteHq7fnWJHP4GNUyMOeV4Hq7AZY011ojGE8/jPSUL3APcA9wDbbIHinWSh2HBAuKFCtUVVKWLL7549A+/EiPnajC8oN555x1Txx155JEW+kQlShGTo5KeEkaoSH+77rqrvXihPvVN5y/js88+29L+8Y9/WJlq4Tny4KLx96wtfPXu3Tvq0/sGk+IElaanF7mmGTmV0IRPPvnEmldpStR2FiOHslAvgrLUZ2AonMmOh0tROzyrgy+154r68PFDHekUZzxmm222qD8wPF4+foVqFQTVJdLTjJzvK6wp1H4q0bNyvqfSqtV421n3MAcAbbrpponxOCMH5iZdD6ph9A1SqW5Jfrp8/Dmrvzie+FERL497Vymjv3rxTLftjBzmA9VqOp/Pxf5/Ejfixj3APdCoPdB01SpUk1BdnX766WY8rgOvSggUC1LGz9R4UHMp82FpMNJXpsOCyGp4ENG4dqbus0z9KtKfSk2sOlS5IKgKVRIlas8nxx13nKW5Ub+XtcSCXxqrzlRxUA+ed955piaEYT0Izg0aVsWCA8OY3tWwBbsqqQaVrXra2npoqBMLflxS6M8EqDNdJQlVXpqAF9SzakdmjgKeDycNEAI3Qw2YJqwfxpAmqB3RH8aoDLn06NHDiqiEMrpCpQdCWahA03TLLbfIv/71L1P14uQIqFXzkjKSolJAcwrxtt3AXyVfmc08/vjjJelwAsB+hRoeZgJwCsmivP3h7wcEPOOONt6mMpV+m7gWwVPtEBNt+MOwYcNEpaT+yCsRIAJEgAi0EwSaysipUbsxQmqQbV6YeeesUp6oKF74zsR5Irw4VW0mKs0yOy3YbYGK9ueekGCcYJuHPtVQ3myt3J5vpplmsj68rD3U8XXYYYcZ0wZmFYwdXpKTTz652RvhhALYhoHRgjdmo+mSSy6Ro446yvCDB2QWs4U+F1poIetapTFlT+5Q5wUrA6bPyeuB8ciicnMCFiDYdcHuqxKBoYaNVpq++uorqwv7Pdzff//96SKJZzCJsGlTia+drpHIjD2Us+nz+ceK2q3vG+ypOBXpz/Es11f678P7K4In/lazCHuSRASIABEgAu0PgaYycqoGs5cypFsIfYCPkzNGeLG5QT9evJDyxJklHFmVRQgPAUYubmhdtL9PP/006kJVcJGRe5yZwNFdoHjZqFKBG0jgIGlR70w7PgpMKBgfDYIsJ598sqgtm7Va7sVaoMuoCpwI4BSg9lNy9NFHm1QzyozdwMEBhJAWqrWL5fzfLdYM5GVx79Irz0NanCBxwzqnmSNIr0AIZwEJbjVS+7fMIpdddplA2gUmDtKxSgRmGU4JmB9+HMAxA/sPIT1AYLjhwOASunRbYHJroSL9IbQICOuWRZhjM/FEn83Yh1lzYRoRIAJEgAjUhkBTGTn38FQ7JsEni/Ayd8kNVI1Q4cQZubh0Ll4f8btAcQaiaH9x5gyqTvTpcey8T2c2y0k/vFwtV8xhr732sipQobr6Fgk49xTUrBco5ok5quNF2ZiAvi5gYsHIZKndwDCBvCzuXeLmeUiLE9SnaSYO+fAMBqGfiy++2O6LfEENnKUKTreF/QKmGf3BwxUq3zSpPV86qfBz0f58D+Ds3yzCD6Rm4ok+K8XEyxoT04gAESACRKBtEGgqI6eOCmXDIoA5gAQGkhC3IXJ7JIS5gNQGKja8/BBuJE3OWPnLH/lF+0MbkHbANg8vxf3339+YOe8T9lrqmWePkAQ2g+JMHCRaCA8CqhZmpehYwKzqsWcCRgVq1ixybGFrpt6mkqXaQ2BbkJfFPdYP5BI2e4h9OcMdS7JbtxMEw1KOcUzXqecZ9ojoRx0gMpk4qLr16LR6ukjULdofbDVBwBqq/7SUMS6VtoJ/frU1nvG+eU8EiAARIAJtg0CptXgD+9UzUU19CBVi+nP88cdbT1AJeZ56yFmanuMqMFoHaWgQu6a/EFcO5MbvuC/aH8bgp0doaAxBvLU4qQelGeGjHOKmNZv07FWTsMCwXcOENK07qKLBFECd7HZY8c7AnLl6FNimCXZqG2+8sSUjhpoTYvFBNYkYdL5OnocrTl/IIrQBdSkYeDhQNJtcZQk1f5bqFGPIknQVHVfR/qDuxWkT+JGx5ZZblnS/4447lqQhoa3xzBwEE4kAESACRKCpCDSVkatn5FdccYVVR0DVNDOA47Qg3YA0L+uIqyL9en+QwEAi5wSnBzgHgKB6c5Wu5xe9wjvSpXzeBpgJ2FA5k6uhTzyrKVdI2OBUAYkjjsICuYco7sHkuXcpbMXceN7Lwb4PzAXUzbDtc4JETs+4tUcEZnbPVyRoeBYBo5pFsMXzuaMeggqnCSpoDTEiGl4knVXzs0tXsRZwjohT165dLah0PK3e+6L9Yc/pyRXW/T//+c+EUwYCEutJIZlDa2s8MwfBRCJABIgAEWg6ArljQyGGGuJJ+UcZKSN/xlU9SnO15/G+EDRVZ1jyUaYmKHNl7StDEW677TY7oF4j9v+vU/3GsUxZdbPSqvWHOh6jTG2mAuKvIQaZ2utZf4hnp56Zmf0VwQVBVEEIjosgwxotP6h619LwpYxMSYy8rHlVS0vHkUuXR2wwP34M/SLmX7wMAv0iGDBIGYqg0kpbB6wzCIGed99990Qd1Ef8NJQHqYovqHOF4YlgvcrQWLBc5MXjnqGeqjOj46/QtjosBD01IqhNX0AwXJUQoloYMGCA9ZmOIxcfe/y+XBw5BA0GYc0RABq46wkRNr6HH344qFTU8pW5T8zR48ghJl68H7/3IL0qQUvkF+1P7Q3tbwuDwXqp1NNwxLgR67DcEV214unj96vHkUOsOk/jtfT/FTEhJtwD3AMTcA/kB19t2eylVumrWsBcn2gexgpl1Rg9enl7vwhSiwC0Kj3K/XLJ259KhBL94aWpscKC2nuV7asILgjyCuYwTUgrd76nY1fLtRojh7ZwFqlTmpFDPpg5lIkzfCivkregsd7K4oLgyHqAvDdtVzCAagNXlvHwuSEAsTPR8QbA7Koa3E7vQNl6GTlV/waNNRfvwoJXq7OEnQlcjpEpysgV7Q9zVcmm/XgB8w/SsDVBvXsDfvSoOYKlIdi0Yxi/5sUzXgf35eafLsfn/P9HiRWx4h7gHmjkHujwZ2N6ab8EdR9CQCBEh77EzC5OmYqmDRj94ZxVGN0j/Ik7YTSjQ8xLJX3WNOK5NUp124yxQq2JYL+w9YKDQJbzQ1a/cG5APagW89bxduDUgrWA4wHCksChJW3s72XrucIxQ5kgs0WDjR/sIZtJ9fYX93KGjZ+HiIEaO+44k55DW+GZ7pfPRIAIEAEi0BwEWoKRa87U2SoRmDgQ2HDDDS0GHhhd9yKeOGbGWRABIkAEiEA1BNqts0O1gTOfCExKCCA0zj777JMIqo35wzO4f//+BoXaEk5KkHCuRIAIEAEioAhQIsdtQARaAAGo+eEdjKO/oO6HihnxBuHRjcDLOLaue/fuTVE7twA8HCIRIAJEYJJFgIzcJLv0nHgrIYCYfTh6bJ111omOtMOJFIj1hxAykMqp13grTYljJQJEgAgQgQYgQEauASCyCSLQlgiAqYM0DkfLVXJsaMsxsS8iQASIABGYMAiQkZswuLNXIkAEiAARIAJEgAjUjQCdHeqGkA0QASJABIgAESACRGDCIEBGbsLgzl6JABEgAkSACBABIlA3AmTk6oaQDRABIkAEiAARIAJEYMIgQEZuwuDOXokAESACRIAIEAEiUDcCZOTqhpANEAEiQASIABEgAkRgwiBARm7C4M5eiQARIAJEgAgQASJQNwJk5OqGkA0QASJABIgAESACRGDCIEBGbsLgzl6JABEgAkSACBABIlA3AmTk6oaQDRABIkAEiAARIAJEYMIgQEZuwuDOXokAESACRIAIEAEiUDcCZOTqhpANEAEiQASIABEgAkRgwiBARm7C4M5eiQARIAJEgAgQASJQNwId626BDRABIlCCwGqrrSYdO3aUUaNGyffff1+SzwQiQASIABEgAo1AoIM2Eoo01KtXL+nSpYtVHTJkiIwbNy53Mx06dJB+/frJdNNNJ+PHj5f+/ftXrLv66qvL2muvLd26dZP55ptPPv74Y3nyySflpptukrFjxybqLrrootK9e3dZddVVpVOnTjL77LPLJ598Im+//bZcc8018sILLyTKxx9Qb/PNN5fOnTtbPx999JG8+eabctVVV8nrr78eL1r2vggutcyvbMdlMrbffnuZZ555LPf555+XESNGZJbEvBdZZBFbR6xnq1B7nd8333wjM844o6yyyioycuTIVoGT4yQCRIAIEIEWRACMXK7PZJNNFvr06ROee+65EKeuXbvmqu/97LffflH1n3/+uWxdZfiCMnlR2fTN4MGDS+q+88476WLR8++//x4GDRoUMA8fC64zzDBDUEYvKpe++e2338JZZ52VqBOvXxSXIvOL95vn/oknnoim8+6774Ypppgicx633367lVNGNzM/T18Tokx7nZ8ycobnyiuv3FJ4Tog1ZJ/5/v8SJ+LEPcA9kLUHcqtWe/bsKRdeeKEsvvji2o7Ijz/+KNNOO63d1/IF6dDpp58uysDJ1FNPXbHqlVdeKbvuuqvoG1Euu+wyGT58uIwePVoWXHBB6dGjh/zyyy8l9dHunXfeKffdd5+MGTPGJExQc2222Way7rrryt577y3vv/++nHzyyVHdKaecUiDJgxQFUrtnn31W3njjDZlzzjmt/KabbmoSxPfee0/OP//8qB5u6sGlyPwSndf4ANx23nlnueKKK2qs2RrFJ/b5tcYqcJREgAgQASLQ1gjkkhicc845JmFQdWM49NBDw0orrWTP+Fp++eVztaETC6oODZDCDRgwwOr/9NNPmXWXW245y//111/DDjvskFkGEi20Gf+UkzihzBlnnGFtfvfddwmpnKrAwpFHHhlwjbfl9xgzSG2dwuSTT54oUxSXovPzMeW9usQKmINURZyYu7fT6hK59jY/SuSSf5e+z3glLtwD3APcA43dA7m9ViGN6tu3ryy88MLyz3/+s5AB9xZbbCHbbLONnHnmmfLWW2/pWpYnZRYtc+jQoXL99ddnFlS+pCRd1aAlaZ7g7Uw//fSRZBF53377rSiTZ1cvG7/+61//skfY9C255JLxLCmKS9H5JTqv4eGpp54yO78llljC1qCGqlYU0q6NNtrIJJTKWMvSSy8tyjRnNjPXXHOZfeJUU01lOO+2225W3gurKl523313WXbZZT0p86oqb1ljjTWszw033NAkpJkFNbHe+aFd2FRij+6xxx5mjznNNNOU6y5KhzQX9ph77rmnqBrVHByizCo3tcyvSlPMJgJEgAgQgUkYgYSESXHI9awMgUl48JVHIgc7NFVpBnVOCKqSDfris/pZEjlVuQZVm1q+qkVzjSfPuPWFa23iS1WpudtdYYUVonrqcFGxXh5cmjW/LAxcIvfggw8GZahsHrBxTJctJ5FT5i28+OKL0fzjN5BQqqq2pK177rnHikFaCbtEp3322SeceOKJ/hj++OOPoKrzkvrKHAVl9hN1UQnlYasYl7rWOz/goOr+oGr7aFx+owx+WWkw6qlzTPjss8+8uF0//PDDsNhii4VKErla5pdeJz7n+/9EnIgT9wD3wCS0B4otdh6GJQ7iBRdcYC+6rbfe2l7clRg5MFkgqMvQBhifDTbYIJx00kkBjhJ4gcbbznt/3XXXWbvl1Ivl2vnrX/9q9X744YegISUq9p0Hl2bNL2v8cUYHYwcjDQKDFi9fjpE75phjrLzaDYZLLrnE1OqHHXZYUFvCACcQ0AknnJBoyxk5MONnn312eOyxx6wc1hOq8osvvjjce++9lqa2iIm6WOtnnnnG8sAMYd8cdNBBQaXA4YsvvrD0O+64I6pT7/zmmGOO8Omnn1q7cAYBA3n44YeHYcOGWRq+DjnkkKg/xww/MFydqx7UATip7afhq1LaKC/t7FDr/Lw/Xov9nyJuxI17gHtgEtgDxRY5D8Pi4OGlB8kMXt6eVomRW2eddewlqs4KAf18/vnn9hz/UoeGMPfcc0ftebt+VVVgUDWuSXzUuD/Atg+kITgCJGxertoVNnFPP/201VXVbNV6eXBpxPyqjdvz44wO0g444ACby6OPPpqYSzlGTh1EgobQSJT1ttWBxNpSx5cw66yzRmWckTv22GMtDbaMX331lZWFF7LXh4QWNO+880ZpqAOCF/ECCywQpaOOhp4JX375peVvtdVWllfv/NxuUlX9JfvJpYdgINP2kz5H4BZn7iHdw751SmNX6/wcK16L/Z8ibsSNe4B7YBLYA8UWOQ/DAvCgBoNqDtIZ9XiNXsyVGLmddtrJ3oOQ1iCcCNRVcEZA6BNI5eCsAFK7qJDl8IB+obJLEyRK6dAj1RbYX7waJy+o7Vc0/nL18uDSiPmV6z+dnmZ0IBHSuHoGzVprrRXNpxwjl24v/ezMmHr2Rm05k+PMFupgrUBxxxWoe0HOWM8222zmUII0MJDpvvAM1SrokUcesfx65gcsoB4G7bvvviX9qY1f9CPi4IMPjvLVTtLq4GvFFVeM0n28kOA5xRm5IvPzNnkt9n+KuBE37gHugYl9D+QOP6JAFCJVU5lRO0KOILhuHkIgVRBCnagNkqgNngX1RdqNN94oynRYkFUYmStzJzfccAOyEoQAwAizAWN0OGggmLCqZa1NGOvnCWCMQL3HH3+8tYu6qoJL9FH0oRHzK9q3qgNFbdcsBIyqA82BIW9byoiISskEzgzKEFs1ZartisDLaYqfaIBwNaCsNMdDGToLEo0xwpECIWZAyqxHV3eSQVkfg2X++VXL/ODcAAcW0K233vpnC/93QXibu+++20K2wLnDaZlllrFbBKZWe0NPjq7Yn8A4TUXmp3aB6Wb4TASIABEgAkQgQqCpjJwafctxxx0nH3zwgZx66qlRp9VuVJUaFcELESczxAlx3lRNK71795ZNNtkkk5FTSY3g4wRm7tprr5X1119fVBIkeKmqutezS64qWRO1xTKGAjHnbr755pIyRRMaMb+ifaOeSiblqKOOMvxUopTJjHj7YKJ22WUXUYmoLLXUUp5ccoWHaprAVDn5vV+RDkYJBC9ikMcoVEmZxQG0xDJfqKMq2czcvPNbaKGFrD48ncsx9ioNtjJg+py8Hhi5LMKJIFlUZH742yERASJABIgAESiHQFMZOVWDWdBfhPZAqAV8nGaaaSa7BaOgtm52r3ZU9nKHFM5J7dP8NnF96aWXjBFBIN88pHZLsu2224qqak1CCEmehyNJ159//vmNkYAESk+CEDXmTxep67kZ86tlQAi3guDOqjaWo48+2qSa5epDagcmXFWFxjwjzAfG70ywOj7YkWZZ0rG4NMnv/Yr+/N4lbjh+DYSAzZDgViMEcM6ivPNDwGfQ119/bfPLagt7EuRlce/SR89DWpzArIJJTTO3jZpfvC/eEwEiQASIwKSNQFMZOTBEIPU8tE8W1HjZuWQDpy+ot6AxCl42Lr3yNFzV6N0e4y/YeH7WPfpRez2L+wVVaxYjp16Mcv/999vpETjLdf/9989qqq60OCPXyPnVMqjzzjtPEMtOvYgF0scswvpBGgmGS+3dTKWdLqf2YOmkws/qNWp10Z96thZuBxXzzM/33SyzzGJqWmcs4x2DmQd5Wdy7xM3zkBYnqGvTTBzyGzm/eH+8JwJEgAgQgUkXgdwBgYtABOnXyy+/nPlxlRUkPV7G7a0QZNdVcM4Mpvt3KZ6/HNP55Z7Vw9Cysl60kBKqob4F/YXqVp0SIslTufaKpDdzfnnHAwby0ksvNQYGatYs0tM7LP/VV1/NZOLUo9fsD7PqFklzG8q4DV6RdlAnz/x872BP4Oi4LEIgZJCXxT3WD+QSNnuIfZXbs42cX6w73hIBIkAEiMAkjEBTGbntttvO1JiI4J/+uBMBVFCeN2LECFsKjdcmt9xyi9336tUrc3nWXHNNS3fj98xCqUS8YN1QXQ+HT+Ti3FhIA2EzpqE5TFKlMc8SZRr10Kz51To+qL4xRzCsbvcVb0NDitgjGNws1SnObc1iiONt1HI/atQoO+8WNnJou16qNj8wZ64exV5NE+zwNt54Y0vG2Jw0hI0x+JDe+j70PFyhws+iRs8vqw+mEQEiQASIwKSHQEn4BIWgalqeMBuV2qkUfgT19DB6i+CAkx/0ZZkYjx6hZHmqCrMzX70fhLtAUNbOnTsnyiMfoU88BAZCTqjxelQGkfbVO9HaHDlyZEnMMG8/zzUvLkXml6f/dJl0eI50vtoA2rz9C6FivAxOsXBCzDhPx1WP2bKwMJ6vKugo38OP6PFaUZoH2FVnkyhNvY2tejx0CYL/gtTIP2Sd6qHHZtmpIH4iRD3zwzzUGcf6Q4gb7BGfo9rtWQBkZKpaNaBfz8MVMQVBCIOiqtQoD+vv4V2QHw8/gnq1zi/eJ++r/18iRsSIe4B7YBLcA/kXXaVYFs0fEf09qj9eVv6MK04AyANiNUZOJUABgXxBOA3gtttuCzjy6YEHHrA0fA0cODDR19577215YPAQXR/HLmlYCQsCPH78+KieemEm6sWP7kLdSh+cLJGeXxFciswv3W+e52qMDpjeODZxRg7t+wkMwAQnNJx22mlBPXgDGOyHH344OoWhUYwcAjDfddddtlYIIq32iuHcc88NavMWwCCqBM3yBgwYYOtQ7/wQ6BfBgEEINjxkyBDbZ9jHIIxBz4UtWXMNRxIFJ1aVaVDnkXD11Vfb6RPqiGP4oH6akat1fnnWmGXy/w8jVsSKe4B7YCLcA/kX9ZVXXsG7qSKBqckDUjVGzttQY/vo5e0dQ6KGAK2Qmng5XCFBguTHAwZ7eb8+/vjjIR4E1+vGGTkvW+6axcjVg0st8/Px1nKtxuigLT+6DHNOM3I4wmro0KEJOFQdbgwyzsxVdbjlxXGpRyLnc0OAXnUKSfSLB5x/CmmYS+vqnR/6AzMHDOIMLfrCjwGNZZfYYz4+XCF9U/tBFI0IDCACR1c6axV1884v3h/v8/+vIlbEinuAe2BS2QMd/pyoXtovITyFSo4EcenGaBgR2MXpS7fsgGG8jrAkcIiYeeaZzctw9OjRokctla0zITNqnd+EGCsM+7t06WIBfWEj5jHgmj0WrCGC8cKxAmFJ4EDTLNtFVZ+aDSVsA+GA4w451ebotpcIiZO3jrfZlvPzPnklAkSACBCBiQeBlmDkJh64ORMiQASIABEgAkSACDQOgaZ6rTZumGyJCBABIkAEiAARIAJEII0AGbk0InwmAkSACBABIkAEiECLIEBGrkUWisMkAkSACBABIkAEiEAaATJyaUT4TASIABEgAkSACBCBFkGAjFyLLBSHSQSIABEgAkSACBCBNAJk5NKI8JkIEAEiQASIABEgAi2CABm5FlkoDpMIEAEiQASIABEgAmkEyMilEeEzESACRIAIEAEiQARaBAEyci2yUBwmESACRIAIEAEiQATSCJCRSyPCZyJABIgAESACRIAItAgCZORaZKE4TCJABIgAESACRIAIpBEgI5dGhM9EgAgQASJABIgAEWgRBMjItchCcZhEgAgQASJABIgAEUgjQEYujQifiQARIAJEgAgQASLQIgiQkWuRheIwiQARIAJEgAgQASKQRoCMXBoRPhMBIkAEiAARIAJEoEUQICPXIgvFYRIBIkAEiAARIAJEII1Ax3QCn4kAEagfgdVWW006duwoo0aNku+//77+BtkCESACRIAIEIEMBDpoWshIr5rUq1cv6dKli5UbMmSIjBs3rmodL9ChQwfp16+fTDfddDJ+/Hjp37+/Z2VeV199dVl77bWlW7duMt9888nHH38sTz75pNx0000yduzYRJ1FF11UunfvLquuuqp06tRJZp99dvnkk0/k7bfflmuuuUZeeOGFRHl/KFJv+eWXly233NKbqHh98cUX5ZZbbsksU8v8MhuokrjiiivKZpttFpX69ttv5Y033rAP8Pv999+jvFa72X777WWeeeaxYT///PMyYsSIzClsvvnmssgii9g+xX5tNn3zzTcy44wzyiqrrCIjR45sdndsnwgQASJABCZhBMDI5fpMNtlkoU+fPuG5554LceratWuu+t7PfvvtF1X/+eefy9ZVhi8okxeVTd8MHjy4pO4777yTLhY9K8MSBg0aFDAPH4tfi9Tbddddo7ar3QwcOLCkzyLz8/HWct17773LDu/rr78OyK+lvVrLKvMc3nzzzbDUUks1vJ8nnngimtu7774bpphiisw+br/9diuHsdQ6/iLllZGz/lZeeeU26a/IGFkn3/894kScuAe4B9rzHsitWu3Zs6dceOGFsvjii+t8RH788UeZdtpp7b6WL0hPTj/9dFEGTqaeeuqKVa+88kpRZkn0jSiXXXaZDB8+XEaPHi0LLrig9OjRQ3755ZeS+mj3zjvvlPvuu0/GjBljEhiouSCRWnfddUWZFnn//ffl5JNPTtQtUg/SvRNOOCHRTvxhhhlmkMMOO8ySbrzxxniW3ReZX0kjNST88ccfcvjhh8tMM80kiy22mCyzzDKy7LLLijK3AsnWNttsI5DWNZo6d+5se2WqqaZqdNOJ9rAvdt55Z7niiisS6XwgAkSACBABIjAxI5BLYnDOOeeYhOGjjz4Khx56aFhppZXsGV+qYszVhoIYVB0aIIUbMGCA1f/pp58y6y633HKW/+uvv4YddtghswwkWmgz/iknkUGZM844w9r87rvvSqRyRevF+07f77XXXtYfJEVpKWDR+aX7yPPsErnffvstgRXqYozKvNk4TznllJL8PO1XK/PDDz9Y+yussELD23eJHPYU6PXXXy/BGuOjRC75d1JtzZhPvLgHuAe4B1pjD+SWyL333nvSt29fufzyy00StsQSS+ga10ZbbLGFSX1OPfVUk5ZVqq3MomUPHTpUrr/++syi+t4uSVdmpSTNE9DOEUccIdNPP71JFvWl71lStF7UQMYNpH+gq666SiANi1PR+cXbaMS9qqfNjhBS0kMOOUTOP//8THtHSLuWXnpps1GE8f5LL70kqi7NxA22YbPOOms0PGVi7X7eeeeVr776KkrHDaSjWTZ6tfSHdp566imZa665ZMkll7Q9liUBRblKBJtK2D1i7JjfK6+8IvpDo1IVmXLKKUUZVMMGdWCnB7vPPASJrTL0ZmuKvy84Rnz22Wd5qrIMESACRIAIEIEIgUJSEmXkTAKCrzwSOX1pBX1pBzWuD6qSDXvuuafVz5LIqco1qNrU8lUtWmh8OruSeuoAYW3iS50bSvKz6iCtSD1VWVpfysAFNbJP9NWs+ZUbfyWJHOrMNttsQVXlNt5jjjkmMdaNNtooqKOG5aW/lKELqspMlEd7yiyni5Z9VuYrUb/W/lwi9+CDD4bddtvN+oENZxqLShI5VfcHVduXjBGSynLSYLSvTjVBGa9EvQ8//DCo2jpUspFT5i+ceeaZATabccJeOeuss8ra+aXnxOfSv3FiQky4B7gHJrU9kFsip8DURaeddprMP//8Ji2BfV0lgmcqJB2wgYOkBbZ0a665pqy11lrmsQoPUH2BV2oiMw8SJxA8NmE/l5eK1HNp3COPPGJ2ffG+mjW/eB+13H/xxRcCTOHpC9u5OEHaBDs6ZY7k6aeflrfeeksgYYPkSpkc8wSGx+9JJ50UVYOX5tlnnx09H3zwwRaK49prr5VPP/00SsdNei8U6c8bhDcqxoE2lCGUu+++27PKXueYYw6ThM0555wCqdgNN9xgUrF11llHNtlkE7nuuutk7rnnlnPPPTfRBuwuH3roIYHdH/boHXfcYV6qwESZSktPVPjzAXv5scceEzVNMHvEq6++2jCFNFAZUfPmhrQ77mWc1Q7TiAARIAJEgAg4AiXSC82omlaLRA5SNUgf7r333qjdShI5fYmaoEKZrYB+Pv/887jgwu7VoSHoCzZqLz1mVc0FNd4P8CxV4/cA2z6Qqr6CvugbXi/ePyRuyhxZf5ASxfNw34j5pdus9FxNIoe6t912m41XmZPEeNVBJGgIjUSa96XMhtWBNE/VkZllULYWG7la+4tL5NDXAQccYGN69NFHE+MpJ5Fzu0llUEv204knnmhtYS1VXZxo75577rE8tKvx4qI8SPewb53S2B177LGWpeFwwgILLBDVw9iVwQ9ffvml5W+11VaJPMec1+r/m4gRMeIe4B6YxPZAsQXPy8jBiQCqOahK1eM1ejlVYuR22mkne5mp5CwgLAjUVUceeaSFPlGJS4CzAkglISHL4QELmBUa5JJLLsk0hI8veNF68Tb+8pe/2PigmtNYedGcvUwj5udt5bnmYeQuvfRSG7N6BZeMt1IfUJeDNt1007L1amHkKvWFvHR/aUYOTLTGDbQxqQQ3GlMWI4e1igupAABAAElEQVSyUA+D9t1336isj0GlbdGPCJUqRvlqh2d18KUx+qJ0r6cS3Cg/zshBhe39gWH18vErVKsgleRm5sfL8r7Y/y7iRty4B7gHJqY90HTVKsJdQDUHY3oYx+chGMuDEOoExt9Q4yGoLwhG7PpStiCrUAVqXDtTh1lm7AsBgBGGAirahRde2IIJa/w6axPqr3IBjIvWi3VtIU7wDDWdMjHxLLtvxPxKGq0zwVWcPras5pQREZUimVOBOzAoU21FEXi50VSkP4SRUQ9r229q72cq1nLjgjoTQalBt956a0kxqPahnkVIEzh6OCFsCwiBqaFyThP2J8aQJqh80R/GqD9wLIQOyuiPESuKK1TXIJQFxmknGcvkFxEgAkSACBCBGAKFfvnnkcjB6BvODJCipCVTlSRyCDrsdNRRR2WOT1+wVkQ9QjPzdX6JdGXmwuOPP251ICGcfPLJE/np8v5caz2NmRZgtA5aY401Mvtoxvx8vFnXPBI5tS+zMUP1HG8DEk9IKdWD0/LLff31r39N1Iu3UYtErtb+0hI59As1qHrH2lBdYpYlkdPTSawMQtyg3/iY/V5/gFgZjUsY5eupJJb27LPPRmleHldI+pziEjn1+vbkXFe1Kc1sP94X75N/58SDeHAPcA9ManugqRI5VROZo4LaIQlCLeDjhKC0IEghYEwOQmgKSEHiIRhgYJ9FCPXQu3dvgaF9HlK7Jdl2221FVbUmIYQkr1xYk3h7tdbTuGw2J0gflXGMNxXdN2N+UeMFbxC6A6Qx7xItQKqFcDHKeYjaOJphP8bvIUMQ8BgBf11Cl6hc4KER/SGoMYJXqz2aHH300Sa1zRoKHBxAerqFzS+rjIdL8bIo49JHz0vXg8QN+zgdABlOLiD9YWMSw3S99DOO+SIRASJABIgAEaiEQFMZOXipgi644AL7ZA0ELzuoqEDw1Bs2bFiCkVNHh6xqokbhlh5/wWYWjCWiH/fOxLmteRg5VM9bD4ek77777tYjTm0oR3FGrpHzK9dfnnSVPFqxOCOH9cMJGFDvqfG9qbTTbblHbzq9yHMj+zvvvPMEsfq23nprUelx5nB8380yyyxl1ZhQ74K8LO7VcQYX8Tx7iH1BfZpm4pDt2ALPiy++OFaDt0SACBABIkAEiiHQVEYO0i/YqGURXp6QUEDSg8CrILe3QhgISDVURWUhS8B8pcmleP5yTOeXewazBcp60Zarg/Q89cCIYlyQViGsRDlq5vzK9VkpXQ3v7UB5lHnggQeiogiRAUnbyy+/nMnEqXra7A+jCmVusMagalK7RvWHvsAgqwOHBTlW9TySSsj3DtYWR8epU01JGQQmBnlZ3GP9QC5hs4fYl/+AiSXZrduIQvpJ+7c0OnwmAkSACBCBIgj8L+R+kZo56my33XamxoSzQ/pz/PHHWwtQQXneiBEjLA0OArfccovdqx1TZk+IKwdy4/DMQqlEvGDdUB3npOalvPU8dtz999+fyRR4f82an7dfy3WaaaYxFSTqeDw0r++nM0ANnsWEwQkgD0PsjirVpKeN6s/HD9W+2r+JegnLQgst5MnRFcyZq0exV9OEE0A23nhjS8apC044vQHMOmLQ+T70PFyhws8itAF1KX6gADsSESACRIAIEIFGIFDIoDqPs4MOrmzblZwdUK9nz55mEA5nCX1ZJtrZY489LA9OBTjz1ftB7C0Yp8PhwNP8itAnCFcCQggI9ViMyhSt523jiphgiJUHUqYgajteJn5fZH7x+rXcp50dVAJlpw8gzh5CvICA5XrrrZcYt6qfLQ9fiBkX77Nr164WFsYL7L///on8eFl3TME5u5XOtC3SX5azQ7zvQYMG+RDtCkeXeP5xxx1n6QhxEw+PA+cHhKsBqVo1KMObqKdqectDmJC4Iw/+Ljz8CQrEnR3Q70EHHWT1Pvjgg5B1agn6wd8GHEzi4+R9+f8lxIbYcA9wD0zieyD/BlApVsDB6/6xN5J++TOu5Tz50iBXY+RUAmSBfNEHvAoRsFZDOgRV/Xm3YeDAgYmXnTMsYEpU/WXHLmlYCQsCrOdfRvV22WWXhtSLz0kljNY+gseqlCrRfryc3xeZn9et9eq4YICIbYd1ihOC0yJIcVa7COIMAqZ6IkHQEzrCzTffbN7IDz/8cHjmmWcsvxIj16NHDyuDLwRmxnFYaBcfVbEn+q21v2qMHJj6+NqnGTl4uCIYMAjBeOG9i32GfQwCc652j4kxAicNRxIF71WVaVDniqDqdAsErY44hg/qpxk5eEvfddddyLK2VXob9NSIoDZ9AUGGVUJoeQMGDCjpM2t9mJb//xexIlbcA9wDE+keyL+w1UJQ4A0EZi8PUNUYOW9Dje2jl5u94fQLEjUEaE2HjIBER50looDBXt6vCD8SDxLrfRSt5/XBlKmazrpRx45c8/e6tczP69R6jTNyGCSYOT1GK+iRWUG9Tu3s23JtqvowDB061CG0q6rDAxhknJmr6nBL0xh9Fee94YYbGhOOUDRxxip9Oket/VVj5DAvPWYrGn+akUM+mDmUiY8LFfBjAExoOWwgfXv11VejtnEDBhDnx1Y6axXtIQCxOr0k6uIBawNpX5a0rtw4mJ7/fxixIlbcA9wDE9seQCRSvKjaNSFECUJc4BzQMRpGBHZx+tItO2YYryMsCRwPZp55ZvMy1BMLBGeKVqKi9Sq1mSev1vnlabPRZWDY36VLF1EmWmAjBtvGZlJb94e5wF4QNpSw1YODR5bzQ9ac3YYSIXHy1vF2sEcRbBiOIwhLAgch2PWRiAARIAJEgAjkQaAlGLk8E2EZIkAEiAARIAJEgAhMagg01Wt1UgOT8yUCRIAIEAEiQASIQFsiQEauLdFmX0SACBABIkAEiAARaCACZOQaCCabIgJEgAgQASJABIhAWyJARq4t0WZfRIAIEAEiQASIABFoIAJk5BoIJpsiAkSACBABIkAEiEBbIkBGri3RZl9EgAgQASJABIgAEWggAmTkGggmmyICRIAIEAEiQASIQFsiQEauLdFmX0SACBABIkAEiAARaCACZOQaCCabIgJEgAgQASJABIhAWyJARq4t0WZfRIAIEAEiQASIABFoIAJk5BoIJpsiAkSACBABIkAEiEBbIkBGri3RZl9EgAgQASJABIgAEWggAmTkGggmmyICRIAIEAEiQASIQFsiQEauLdFmX0SACBABIkAEiAARaCACZOQaCCabIgJEgAgQASJABIhAWyJARq4t0WZfRIAIEAEiQASIABFoIAJk5BoIJpsiAkSACBABIkAEiEBbIkBGri3RZl9EgAgQASJABIgAEWggAh2LttWrVy/p0qWLVR8yZIiMGzcud1MdOnSQfv36yXTTTSfjx4+X/v37V6y7+uqry9prry3dunWT+eabTz7++GN58skn5aabbpKxY8cm6vbu3VtWXXXVRFr6AeN9++2308mJ56LzK1KvlvklBpnzAeu03XbbJUoD9w8++MDwe+aZZ+SHH35I5E/ohy222EK6du2aOYxLL73U9kBmJhOJABEgAkSACExiCASdb67PZJNNFvr06ROee+65ECd94eaq7/3st99+UfWff/65bF1l+IIyeVHZ9M3gwYNL6p5//vnpYiXPyuyV1MPYis6vaL0i83MMa7luvfXWJRjEEz799NNwyCGH2PxrabeZZa+88sr4EBP3K620Uub6NXM8bDvf/wjiRJy4B7gHuAfadg/klsj17NlTLrzwQll88cV1jUR+/PFHmXbaae2+lq955plHTj/9dFEGTqaeeuqKVfVlLrvuuqvoW1wuu+wyGT58uIwePVoWXHBB6dGjh/zyyy9l648cOVKGDRuWmZ8ljSs6v6L1MLB65pc5sRyJf//73w37jh07ygILLCCbbbaZLLTQQnLOOefYemBt2gPdcsstttY+ljnnnFMOOOAAf+SVCBABIkAEiAAR+BOBXNINfdGbVOSjjz4Khx56aIBUxGn55ZfP1Yb2F1QdGiCFGzBggFX/6aefMusut9xylv/rr7+GHXbYIbMMJFpoM/5xiZwynYn0eJms+6LzK1qv6Pyyxl4tLS6Rm2GGGRK4TDXVVOGuu+4yrH/77begzF0iv1rbbZWv6mHfbrb32qpf9pP8+yIexIN7gHuAe6B97YHcErn33ntP+vbtK5dffrlJwpZYYgldy9oIdk/bbLONnHrqqTJmzJiKlZVZtPyhQ4fK9ddfn1lW3+yZ6UUSi86vaL22nl85TCDVPOqoo2SjjTYSSOmUQZf3338/Kj7rrLOapO6bb77JtKODpAz1vvzyS5P0eUWkQ2KL9G+//VamnHJKWXnllQX75tVXXxXY5cFOr9EEae3SSy9ttpTff/+9vPTSS/Lmm2+KMqkVu5p77rltnl988YV89913VnbeeeeV9ddfX/THhNlkxnGp2BgziQARIAJEgAi0IQKFJDD6Qo4kJHkkcpAE6YswqHNC0Bd82HPPPa1+lkROVa5BGQzLX2211WoaX1GJnOKd6KfW+Xn9PPXqmZ/3U8u1kkQO7WA8TkcccUQCB5fWwYYuq8833njDqm655ZaJ/Hg9dbQIqor3Luz6yCOPBGX2EnWy2ve0ahI5ZUTDiy++mOjDH5ShCzvvvHPFvkaMGGHFYb/ZuXPnMGrUKK9uV0gr991334pt+Fh5Tf4tEQ/iwT3APcA90Lw9kFsip4tQF5122mky//zzm0QO9nWVCJ6pkOBAWvTUU0+ZpGTNNdeUtdZay7wV9YUtTzzxRKUmrK+DDz5YIFWB1AxSIHi6wjZvQlMj5tfIOQAjJ3gEN5Ig0dpwww3ljjvuEGWORJkk2WWXXWwtIZlV5qgh3a2wwgqy7LLLijriyNNPPy1vvfWWqBOK6I8MUdW8XHPNNbLooovKSSedVLE/eFL/5z//kUUWWUQeeughawf4YO+hPokIEAEiQASIQHtDoJCUIY/kSSdqbUOq9vvvv4d777036quSRG6dddYxKYiqXwP6+fzzzxPSETzceeedQdVhUXvel0vkSipoAqRHGsakpI7XjV9rmV+t9eqZX7yvvPfVJHKOmYYgCcq0JPCJS9ay+qsmkcM67LTTTok2IdkCQRo7/fTTJ/Ky+kBaNYncuuuuG1ZZZZXMttShw/qDVFBVxZllXCKHvaaOMmHhhRdOlEO9NdZYI5FWbqxMb94vT2JLbLkHuAe4B5J7oOkSuSmmmEIQ9wv2UAceeKDiX50guQPBNkkZCZPMwY4LHqvLLLOMwL5s4403lltvvVUQg03f0olGIYFTplHeffddQf9LLbWUqOrPPG7h+QrpyuOPP56o05YP9c6vnrHCRlEZKJNWQdIE2zh4AGN9DjroIFFnlnqaL6kLWzjE7YsTvHUvuugik7TCY/aVV16JZxe6x7qWI0gDETMPuHfv3r2sNzPqzzTTTLLjjjuW2HDC1m9C7plyc2M6ESACRIAITNoINJ2RO/zww03lhbAWMDrPQzPOOKMVQ6iTzz77zNRjn3zyiaXdeOONcvvttwvCiyDwr8a1kxtuuCFq9owzzhCoVNPM3ZJLLin33HOPhdoAY4lgs9UM4KNGG3xTz/zqHcoVV1yRaAI4DRw40JhtqCUbTVnMDxh0rCcYK6iZG8HIxcc922yzWWiVueaayxhW5LkDw+yzzx4vWnKPkDVZ4WlKCjKBCBABIkAEiEA7QKCpR3Qttthictxxx5k0BPZQeUnVW1FRxDdzJs4Tn332WZO44XmTTTbxZLt++OGHJUwcMl5//XXZf//9rQwkdPDOnFBUz/zqHfNVV10lgwYNkptvvlm++uorwSkbkG7Ca7MZhPXIIreTLBKLMKs9zAMxB8EUAt/nn3/eGHdIdPHB6RYgDbeSVT1KU1VxdM8bIkAEiAARIALtHYGmSuTOOussU59BSqZeq/ZxQKDCAuEF7EwEGAs4OEAK5wTD9SxCWAkcx1WLAfr9999vUjhXt8KRYkJQs+aXZy5Qb7t0avLJJ5cTTzxRjj32WJNqQkrZaGlUW0k9jznmGAtrAwkj1OpYW+CstpkGy2GHHWaOFnCAqERQwZKIABEgAkSACLQKAk1l5NwW7IILLhB8sggSEveUxCkDUG3FGZ249CpeHzZLIMQry0uwA0PbUOfhhIkJRc2aX63zAZMDiSls5GBrCIYbNnS1UDUJVy1tVSoLL2YnMPtxwj47+eST5Y8//pCtttrKVO/xfNxr+JR0UuZzM2LbZXbERCJABIgAESACDUCgqYzcO++8Y2FEssY5yyyzGEMFCYrbSLmkCM4KfoQXXtIIN5Iml+LBoSEvTTPNNBEDh/AUE4qaNb+i84Ed42OPPSbq3Srq+WnhO7wtBNUFQaKaJki3PHQJJKvNpLhtW9ohA2pyjOXll1/OZOIgeVQv1GYOj20TASJABIgAEZggCFTWM9U5JA0Ea44OiO+V/hx//PHWOqQrnqchICxNw2AIztoE9erVy67pL8SVA9XCkGkYjMj4HS/9CUXNml/R+cAhwb0+TzjhhEQzbuOGuGppgvcv1NSNIuyDcuQ2brCtc2msl8XpEyCo67NUpxoMuKptnLfFKxEgAkSACBCBVkKgqYxcPUC4dyUCxjrT5u3tscce5qwAad7gwYM9WTRGnOBQeJfWRRl6s+222wps9kAIW4IAwROSisyvmePVs2+teTg+4CgtJ9gigoCfnsPqyQKJKlSxjaQzzzzT1sZV8t42vFDdUeXBBx/05OjqY8T40s4vsPtDMGoSESACRIAIEIGJFYHcQU5feOGFgKOK/KOMlJE/46oepbnaqxQQWIEOKlkJyuxY+xquItx2220BB9Q/8MAD/+tUvzVsRqIvD3yLcWioEwtAfPfddwcEFnZSCVPQsBSJeugPn6LzK1KvyPx8nLVeHRdggKPSytXH2oE07lpURtXRUUDmcePGBY0BF66++uoAHNWeMWhsP6ujtmlRHbRfJJCwhoexttTWzYI3X3fddUEls0FtCi0dX926dUv043NBsGkQ6qqaOCjzFtQz14IOP/zww0Hj2Vm+MoSZ9T0gMI7o8jZ5TQadJB7Eg3uAe4B7oF3ugfyDUls2exlW+gJTk2ehqzFy3oYasQf1Zk10ibMzNVZcULusRF94yeOMTLzM0wRm8Lzzzgsawy1Rx/vBtej8itZDn7XMLz7WWu7zMnIqdYtgU7uzCCcNohvULi3KA6MMZg9n5lY72aGWM1pVmmbMIdYqTWDM9bivaEzp+c8xxxxh6NChiWqqtg8qfbVxVmPUquWn++Nz/v8bxIpYcQ9wD3APNG8PwEIdL8d2TTCkxxmdiEun0jWzi6vkXagvdenUqZPAdgo2XLCjg+NFpToTEoBa5zchxgqvUZyqAZXqf//7X3EniGaMBY4VsMmDqhQOMFg72Oopl1a1O3gkw54O40MsubSHa9UGWIAIEAEiQASIQAsh0BKMXAvhyaESASJABIgAESACRKDNEGi3zg5thgA7IgJEgAgQASJABIhAiyJARq5FF47DJgJEgAgQASJABIgAGTnuASJABIgAESACRIAItCgCZORadOE4bCJABIgAESACRIAIkJHjHiACRIAIEAEiQASIQIsiQEauRReOwyYCRIAIEAEiQASIABk57gEiQASIABEgAkSACLQoAmTkWnThOGwiQASIABEgAkSACJCR4x4gAkSACBABIkAEiECLIkBGrkUXjsMmAkSACBABIkAEiAAZOe4BIkAEiAARIAJEgAi0KAJk5Fp04ThsIkAEiAARIAJEgAiQkeMeIAJEgAgQASJABIhAiyJARq5FF47DJgJEgAgQASJABIgAGTnuASJABIgAESACRIAItCgCZORadOE4bCJABIgAESACRIAIkJHjHiACRIAIEAEiQASIQIsi0LFFx81hE4E2QWC11VaTjh07yqhRo+T7779vkz7ZSesiwP3SumvHkROBVkWggw48FBl8r169pEuXLlZ1yJAhMm7cuNzNdOjQQfr16yfTTTedjB8/Xvr371+x7uqrry5rr722dOvWTeabbz75+OOP5cknn5SbbrpJxo4dm6i76KKLSvfu3WXVVVeVTp06yeyzzy6ffPKJvP3223LNNdfICy+8kCif9VBLf1n1a5nfLLPMIhtttJGsueaaMtdcc9m8HnzwQXn++eezmq47bamllpJddtlFFl98cZl33nnls88+kzFjxsj9998vDz30kPz000919zExNfDNN9/IjDPOKKussoqMHDmyZaa2/fbbyzzzzGPjxV4aMWJE5tg333xzWWSRRezvF3/HrULtdX6tul9aZd05TiJABLIRACOX6zPZZJOFPn36hOeeey7EqWvXrrnqez/77bdfVP3nn38uW1cZoqBMXlQ2fTN48OCSuu+88066WPT8+++/h0GDBgXMw8cSvxbpL17f7/POTxmp8Nprr0Xj8xuMc5999skco/dR6xVzO/vss8Nvv/3m3ZRcMZZa253Yy+uL2XBaeeWVWwqbJ554Ilrfd999N0wxxRSZ47/99tutnP7Aycxvr+vbXufXqvulva4zx5Xv3UycJm2ccqtWe/bsKRdeeKFJcnTTyI8//ijTTjstbmsiSAlOP/10UQZOpp566op1r7zyStl1111F3zRy2WWXyfDhw2X06NGy4IILSo8ePeSXX34pqY9277zzTrnvvvtM0gRJIdQdm222may77rqy9957y/vvvy8nn3xySd0i/aUbyTu/6aefXh555BGBBPGll14yqSSkizvuuKMcfPDBMnDgQPnhhx/k3//+d7qLQs+HHHKIHHrooaKMnAwbNswwQv+Qyi277LKy7777ir7sC7XNSu0bAfy97LzzznLFFVe074EWHN3EPr+CsLAaESACkxACuX6Jn3POOfbL/aOPPgrKEISVVlop+sW//PLL52pDMQ2qDg2Qwg0YMMDqqyovs+5yyy1n+b/++mvYYYcdMstAyoQ2459ykgeUOeOMM6zN7777rkQqV7S/eN+4zzu/3Xff3cby5ZdfBlUBJ+Zw+eWXW96LL76YSE/3lfd5mmmmMczR6F577ZXZJqSU6623XmZe3n4mxnKtKmFxiRX+1kCvv/56yZ7HerW6RK69za9V98vE+LfLOSXfjcRj4sUjt0Tuvffek759+4oyGSYJW2KJJXRf1EZbbLGFbLPNNnLqqaeatKxSbUiPQEOHDpXrr78+s6i+n0rSIXEqR2jniCOOEEjDYCOmL7eoaNH+ogb0ppb57bHHHlb1uuuuS9j5QUoJe0AQJGWwC3zmmWfsuegX2plqqqls3a6++urMZv744w95+OGHM/M8cYYZZhBleM02EvsBDgCwsctDM800kyy99NJWF5JGYI/6lQg2jvojQWaddVaTWr7yyitlbfjmnHNOkxArYyzffvutTDnllKLqUME+ffXVVw1D2GOWI5RfYYUVbIyQkMKurFJ5bwfSIMwLtptwhkDdN9980ySfXibrOvfcc5tE+osvvhD9YWFFIB1df/31RX+8mK0kJMcgL/v1118LPuUI0mCs81dffRUVeeqpp8z2cskll7S/vRtvvDHKy3NTy/xg46k/GsyGdaGFFhLYmmLvYt1AaoJhn2effdZwKtd/Lfus3vlhDLXsMx9z0f2C+rXMz/vjlQgQASJQCYFCUhh9QdovfXzlkcjpP6+gL6YwduzYoCrZsOeee1r9LImcMjNB1aaWr2rRQuPTCZfUUwcIaxNfqtKM8hvRXy3zUweMaBzK/EXjwJjdJlCZCCtz2mmnJfKz5lUtTZlnawv2ccrw1NyevrTCmWeeGWC7Fydl/sJZZ51V1v4K41IGLsCWMYsgcVTHlJLxKEMSVI1eUkUZtLLS2bvuusvKqwo5bLfddkFV/4n6qkYuO3eMQRnSRPkPP/wwLLbYYqGchEUdVALGn0XK0AVVZZbMK75O6nxgVWFP2blz56BMbaIprJWqu60NlySrE0zZNrH/lEG2NjbYYIPgEjnU2W233Swdtq3xMeC+nESuyPzuuece6wfS+/hegb3niSeeaHn4wr5Rk4mSsdSyz+qdH+ZeZJ+hXpH9gnq1zA/l+SEG3APcAzn3QDGgamXkLrjgAvtHvvXWW9s/qEqMHJgsENQmmAQYLbycTjrppIAXX9bLP89kVfpl7abVTI3or5b5wTnESSUe0T9slewEqJLxUr/tttusiErQovw8c8wqA0bb6aijjqqpPWCvUhWrDqYG8zzooIPCP//5z6DSJEu/4447Mtucf/75jXlHIZUSBaiM/9//+3/hlFNOCWrHaC90tQdM1J1jjjnCp59+au3CSB8M5OGHHx7Urs/S8AVmLT1PZ+TAmGDfqOQp/P3vfw9qFxacKb700ktL6uGHgqvn1BM6HHPMMUFtOO0Hh0odo7y0swPKgVS6FC655BIzNzjssMOCekZHDiUnnHBCSX8+bmfk1HvbGEIwf2C6/vWvfxlzBbzAwKE8GEoQGKC0Gt7bUwmvlVEP5ACTgzijo+FTbD4oAAbN6+BajpErMj9n5PAjDI41jz32mI0J+GJfX3zxxeHee++1tDfeeCMxjlr3Wb3zK7rPiu6XWucXXyPeF3tHETfiNgntgWKLXQsjh39++IWOf+IObCVGbp111rF/9ngpoZ/PP//cnuNfYARU5RS15+36FQwSJFH45Y+XOWz7QKoyC6pCS9Srt79a56ehW6KpQJKCMePlixcfmA5Vp5p3LQqp00ZirD6/Wq6wf3v66aejPm+99dagThVlJVTxto899lirp+FbwgILLJAYi6oTA2z8QFtttVUiD20446zqxrDwwguX5GvIlbDpppsm0l369NZbb5Wsr0t1wEBqSJBEPWfkMJaddtopkQfJFgjSX1WrJ/Kc+QBDA4bH5w5pDfafk4YfifJQRh1nQjrN66pjjVWDVFDVwol6XsYZOextDWtSgg/qrbHGGlFdVXtbm+WYQ2/v+OOPtzpxRgd9HnDAAVb/0UcfjdpEejlGrsj8HEvsGbSNPQ2GFARJs88dknkQvLY9rdZ9Vu/8iu4zn2Ot+6XW+TkuvBZ7PxE34jaJ7YFiC56XkYPzAVRQ+JWudmnRP+5KjBxexCD8akc4Eai5jjzySAt9AqkcnBVAah9jL4usBQMDlyZITrJCj9TTX5H5+djAtPnYndmAJANp//jHP2z4jQoLgfVSW6U0JAHtQ0oHxsXH4tfZZpstQFIEwovd0+NXqFZBUF3G08GMOoFhi+eVu4fUwvtztWK8rNp/RUx9WpLnjByYongd3EOlBVUlCFJPz1e7MR9iWHHFFaN0z4fkz6kc0+Zl01dnVtKMqpdzxgvjgmrV08tdfY+6xC1eTuPAmbQOP5ac2U4zOsBW4ynadNZaa62ov3KMXLz9rPus+TmTE2fq8TcKijssQfII8h9URfZZPfMrus+K7pci88vCnGnF3lXEjbhN7Hsgt7ODAlGIVC1mRvsIOQIj8DyEAKwgOCTAmB4G7wjqC4Kxtr58LDgrgv5qXDu54YYbLC/+hQDAKokzo3eVBpnTgKplrU19qSQCGNfTX5H5wdkC5OFTYMyuEgJzejjuuOMszwPzellLrONLmWJRZsXCr6gNmQUgVqbWnBfgwIB5wAED2DrB+B9Bm1U1ZqFJEPIFpJKW6KqSM7tHWbQHpwmQSintCuN/lTTafbUvGJ2jP5BKDUuKA6+7777bQmnAwSCLHn/88ZJkOA9g/6iq15wS3Ph+mWWWsbIIMK32YyX1gIXae5WkpxP0RS3KQJlTATAAuQMDAlJXIoSCwV6tRjfffLOoWluA0boaRkcldFEV/WFga6ISbwutE2XEbrCGmAv+DlVtakGoY9kVb2udnzLjUXsIUwTKSvO/uyL7LOrgz5ta5ld0nxXdL0Xm539H6XnymQgQASKQRqCpjJza9ggYkw8++MA8VdOdl3tWdVOUhZePM3GeCK83vLR69+4tm2yySSYjp7/YBR8nMHPXXnuteQWqRMA8FFWCYdlF+ys6P/f0RBw+lRbZC3bmmWcWRKv3Fx+8PEFe1h7q/AIjdNFFF9kHJ0rgNAnE11Npj3mGgiEGg6RSUOsJjDRIJRgWl88eynyB4YTXJdYa5HWd0StTLZEMT0eQSqkSjHa8kEpn7REv4yzy/HSe4xqPfej9gZHLIlXHZyVbGphZnJChkmLBaRnlCF6klQgMdh4Co4L9e+CBBxrD7YwcxgFGDqROJRWbUom0qPTV/m7A1Gcxr95APfPDWJ383q9I9x8w/iPF90ot+8zbj1/zzs/XvdZ95vVq3S9F5ud/R/H58Z4IEAEikIVAUxk5VbsZEwBpk9qC2ccH4YwKXhiQSIEQNgH/5OPMi9p2eZXEFZIeMHIIqJuHVCUl2267rTEpCMcBSZ6HNSnaX9H5qTF/NGQwUZAQ4vgwBDF2AqMFipf1vEZcgbU6KdhH1bgWIgJMhxrsy/77729dIKQGSNVoJsmxhwpf6gwR5XrdOLZRZpkbhBABIcSGat4yS2HcIC+bLoSXc15yaZm3ma4H5gP7MYsZg1QLYXQwTvyoQBgMzNV/HABHVZmalDLdbvy5lhe2nkpijBxC+Pztb3+zMCsIVYMfKQh8HZemxvvwe4RlQVBvtdeSo48+2v4GPC99rWd+cWmS3/sV/fg9/vZBvleK7DNr4M+vvPPzvVPrPiu6Xxo1v/hceU8EiAARcASayshBlQWCSgifLMJL0n/hQjoEVVP85R+XlsXrI14YyP8px/PK3aMftdezc1gRny2Lkaulv6LzizNn5513nqBPj2PnY3fmNi2N9PxGXqHaU/smwbmbcZWleo1aN3jxqsdhTV16XUjp8pLvAzCxcTVtvD7UfCAvG8+r9d4lbt5muj7UvFlMHNYdJ4MAF7UHy2SgcJJGHlI7yTzFrAx+vOCHDc59hXocp51oaBHLww8BqJCrEfYb9pp6j1uMvazyjZxfVvvpNN8rRfZZuq088/O9U+s+K7pfGjm/9Hz5TASIABH4n0FPk3CAiu7ll1/O/LgKDBINL+N2RQg266oYZ5bSQ3RGx/9JpvPLPatnomXFX9BF+ys6P4wZ0gMQJJV46ccZSByVpR6Llo+Xd1uQejNaNxiPk9s0ItCr2355XrWr10Ug2rzka4k1UueLzGoIUAvyspmFciZi3UEuMUlXK7f39FQTwwOBhrOkYJNPPrlJydLtNeIZUjkQ7BnBaEKyDKqmVrVC+oV9pmFYbPxQs2ZRW8/P90qRfZYef575+d6pdZ8V3S+NnF96vnwmAkSACDSVkYPUAGrMrI+GSTD0obryfPXkszRE/r/lllvsXkN1ZK4S7LtAtdhg4cXsBsvqrRm1W7S/ovPDnF0aCJXvkCFDorHgBsbseEmjHE5+qJfAtMIWrxLBZgrkjgC4x8kLUJfCdglnddZCcHCAhAX2Qeq5masqXrCu5gS2aYJN1cYbb2zJ1U6FSNfNesbpDVCFakwxsxdMl4EqPotw0gQI5gFZDC6wiv9QyGqjaBr2DRwHNJaiqUeBCdS6YCrzEkwCIL2DWt/tvuJ123p+9eyz+Lj9vtr8iu6zovul0fPzefJKBIgAEXAEYIxU8ydv+JFybVcKP4I6PXv2VGHd/2J/pcNXePBTZRTszFfvA2EPEMw1K5yDMhQWrgRtIsRFp9T5pkX6836zrtXmh9hzTmqTFuGvTg8BMdtA6nwQpWf1kTcNAWURLkLtqiy4crye2inZ+avAEqSqukSfCP4LUluugDHH6+Ie57hirgipks5DcFvQWD3NA2fzpvMRb00lSol0dY6xOgg5gzXzOhgnwseAVDVm/Xoerh5+JCtYMPIRyga05ZZbRm0iXRkjS0f4FGWeozzsb1VrWx6+4uFH4qFVMIf4OBDsGWN3iq9tvJyHH0GA63h6nnuVylnzCDcC2nvvvUvaSIfnSLfrbVgD+oUQQV6m6Pw8/Eg8/p0Hctajx6L2sa9B8dAste6zeuaHeRbdZ0X2C/qrdX6+FrzW/m4iZsRsEtwD+RcdMccQ98o/9t9Yv/wZV0S6zwNiNUZHJR1Bw4dYF4gKj5MOcPTPAw884N2GgQMHJvrCCw0EpkTVIHbME4LfIgiwR/dHvnobJuphvEX6qzTPavNDXZUcYDg2XryYcIqD2gdaGuLnpZnNSv1VyvOTAdAwjnHCSQ04gQAvVFX7WH/4UjVhCS6qJoyYJDAO999/fzj33HOD2iIFvLhVgmb1BwwYUFJXbc+iY6xUumjlMWcc2eWnRaTjwSHQL4IBgxBsWKWVtu7YVyCMYffddy/pqygjh7hyHtQYWKgzgK0Dgg6rWtuCCKPfOCMHrBHcGoS9hkDOOEpNQ4RYefUojebXDEYOY3FC0GFgll7/aowOfuzE/ybijFzR+dXDyNW6z+qdX9F9VnS/1Dq/9HryOf97ilgRq0lwD+Rf9KyAsv5C8WveALZ5GB0shhqVR8yC9wGJGhgASGniCwZJAiQAHjDYy/tVY4yFeDDUeF2/r6U/r5N1zTs/ROJ3ZgjjxMsV41S7rcTcsvrImwZJEyQQOGszi9TjMeCoKEjXyrWJAL3OZMbbwPmnkFJkSevQFoLx4kiu9JqAAcKpFVnn9OIli1Mh4owG+gRzrrHsMsdYlJHDGCF9U9VkfFr2g0RttsqetYojnoYOHZqoA2YVPxxwlnA1iVu1/HLr4Ok+XjDknha/VmN0UNZP3sAk0oxckfnVw8j52PPus3rnh/6K7DPUK7Jfap2fl+c1//uJWBGrSXUPwP8fL4J2TQhTgFAOiNs2Rm3KYBenL/myY4YRM8KSwCEC8dngbTZ69GhRKUvZOvGMWvuL1y1yj/7gLQpjb3glutNHkbaq1UEIBTgMwMAftlbAEyEwKuEZbxOYYqww6Ee4CDh85PGWxBxhj9WlSxfrF2tYzSNXGUuzaYTNFhxi3EEmPp5G3rsNJRxM8vYFHH1OsKGCXWOzCXZx2NNwTFlvvfVk+PDhTetyQswPkym6z4oAUXSfFdkvPr62nJ/3ySsRIAITJwItwchNnNBzVkSgGAJ9+/a1oM4IGwNnEhWoFWuItYgAESACRKDlEWiq12rLo8MJEIF2hgBiyOl5wzaq888/n0xcO1sfDocIEAEi0NYIUCLX1oizPyJQAAGE41GPWOnUqZPVRqgenGzi8RYLNMkqRIAIEAEiMBEgQIncRLCInMLEj4Aa2JttI85mxSkbOGOYTNzEv+6cIREgAkSgGgKUyFVDiPlEgAgQASJABIgAEWinCFAi104XhsMiAkSACBABIkAEiEA1BMjIVUOI+USACBABIkAEiAARaKcIkJFrpwvDYREBIkAEiAARIAJEoBoCZOSqIcR8IkAEiAARIAJEgAi0UwTIyLXTheGwiAARIAJEgAgQASJQDQEyctUQYj4RIAJEgAgQASJABNopAmTk2unCcFhEgAgQASJABIgAEaiGABm5aggxnwgQASJABIgAESAC7RQBMnLtdGE4LCJABIgAESACRIAIVEOAjFw1hJhPBIgAESACRIAIEIF2igAZuXa6MBwWESACRIAIEAEiQASqIUBGrhpCzCcCRIAIEAEiQASIQDtFgIxcO10YDosIEAEiQASIABEgAtUQICNXDSHmEwEiQASIABEgAkSgnSLQsei4evXqJV26dLHqQ4YMkXHjxuVuqkOHDtKvXz+ZbrrpZPz48dK/f/+KdVdffXVZe+21pVu3bjLffPPJxx9/LE8++aTcdNNNMnbs2ETd3r17y6qrrppISz9gvG+//XY62Z5Rd6eddpLOnTvLjDPOKKNHj5ann35aBg0aJL/88ktJnUUXXVS6d+9ufXbq1Elmn312+eSTT6z9a665Rl544YWSOlkJ9eCZ1V48bcUVV5TNNttM/vjjDznllFPiWdF9jx49ZM0115TPP/9cLrroIll33XWla9eulv/GG2/I3XffHZX1m+WXX17WW289e/ziiy8E8yURASJABIgAESACbYtA0O5yfSabbLLQp0+f8Nxzz4U46Qs/V33vZ7/99ouq//zzz2XrKsMXlMmLyqZvBg8eXFL3/PPPTxcreVZmr6QexnbZZZeVlPUEZRjDcsstV1LvnXfe8SIl199//z0oAxiAm889fm0UnvE2s+733ntvG9tvv/2WOQ7UOf30063Ma6+9ZmUuuOCCaD4ffvhh5hxuuOGGqMzLL79ctu2sMTUzTZnn8Oabb4alllqq3YypmfNl2/n+fxEn4sQ9wD0wMe6B3BK5nj17yoUXXiiLL7644iDy448/yrTTTmv3tXzNM888okyDKAMnU089dcWqV155pey6666i3IIokyXDhw83CdmCCy4okCBlSci8wZEjR8qwYcP8MXHNksYdfPDBstdee1m5K664Qv7973+bVG3bbbeVvn37ysILLyzKuAikW5i7E+Zx5513yn333SdjxowxyeRqq61mEjBItZSJkvfff19OPvlkr2LXRuGZaLQJD8B43nnnNWndI488EvUw/fTTy6abbmprMNVUU0Xp7eEG0lTszfY2rvaADcdABIgAESACEx8CuaQW55xzjklfPvroo3DooYeGlVZaKZLGqIotVxsKXVB1aIAUbsCAAf+fve8Al6LI2j5ERURBRDBjFhVzxpww56yYddV11c/8u+Y1rgmzqJhZc845Yk6YE4gZUBHJ0frPe9bT29PTPben71zuvfCe55np7qo6VdVv17195qQy/gkTJqTyQvsFmjx5cth9991T20Bjhz7jH9fIqdBZUh5vk3b+4Ycf2njvvPNOGR/Gd1IBrKS+TZs2Jdfxvi+44AJjGzNmTJlGq1Z4xsfLOq+PRu6RRx4J0CyqubXkPvfcc0+7twcffNCOTUkjN27cOJvTSiutVDLnLHxYXvo3RDyIB9cA1wDXQPNZA7k1ct99951ppm688UbTwiy11FL6nKuj7bbbTnbaaSc5++yzTXtViVuFRau+66675M4770xtqm/r1PJqC1u3bh35+6WNpcJMpIHs2bOnPPPMM9EQaq6MzpMn6OuEE04QaK+gyfz888+jJrXAM+qsAU9UcBdo4qCZPPLII0WFOhttt912k7Fjx5o2Es81i6A9XXbZZc23Ee0/+ugjUbOnVMLN+1puueUMt27dugl88L799luBptXn4O3gyzjXXHP5pajJ2s6hSfz999+jcpxAO5rk9wYdOnQQ/QFhawHP54MPPpARI0Z4deoRc4NmGfNTgd3aYNyNNtpI9EeI+XJiTBIRIAJEgAgQgYZCoJDWQgU503rgK49GTl+SQV9oAb5mavYKBxxwgPGnaeT0xRjUpGf1aqasan5FNXL6wrfxTjvttLLxOnXqFM0H89YHkeujgRPWJ740KKIiT7V45p0D2tVHI9evX7/gPo2bbLKJ3UPHjh0NjzvuuCNoYIjdY1Ijt8UWWwTXckYg/HWiAl3Ye++9M/FQoTeoGT3JZtcqMIWtttqqhFeF5dS2aYVdu3Yt4QU+bdu2DRdeeKFpHuM8GhwSLrroolBJ6/rSSy8ZCzBSk25Q4S/eRYBf4iGHHFI2ZjXPj23z/b0RJ+LENcA1MDOugdwaOQWnXnTuuefKAgssYBq5uI9ZWqeITNWXq2n+3njjDdN4IKJy3XXXtYhVFRDktddeS2ONyjAW/N6gHYF25dNPPzXtCHza0khNhLLffvuJmgzL/NmgjcJ8VOiUp556Ko09tezoo4+2ckR9wn+uudJ9991n/pHQwj377LOyww47GB7QliLyOI3UrCnQXmpgjEX9fvXVV6YpQ6SrmqotwhURv2eeeWYJO3zb8CwQEQ3MnnvuOXn//fdN4wYNHbR/eLZxgpbu4osvjorw3KFlvf3222X48OFROU6Saw/atFdffVXUVUBGjx4tt956q2CuiEDed999Lboa2mdE/VYi4HD//ffLoosuKs8//7z1gbWHNYv7JBEBIkAEiAARaCgECmkLqtEgQasGPysVgqKxKmnk1l9/fdNq6Is8YBxNiVGi5cCFBhgENWtF/Sk4du4auTIGLVCBKmgakzIe8M4zzzzh4YcfNjY1JQYNcAiIbkXUKbR1mlIk7Ljjjqm84FcTYlCzcdDgjKDBEgG+hCAVQkIeX61q8PR7zXt0jRzmo0JP6kdTuqA6JKNWoZHDOHh20IZBO4XzP/74I2gwQaZGTgM9wuqrr56KlwpFNpYKVUFNoiVtoPUDQZOlASYldZiHpncxzVele6/GR+6UU06x8TQAJiy44IIl4+kPijBy5EirV+G1pM7Hd40c1iiwTc4Z99erV69UXu+DR2oRuAa4BrgGuAbqsQaKgZdX8MCLHyY2mEphMvOJVhLk3FwHwQvpPZD+4sQTT7TUJ6rBCQgeAKm2LiQDHiDIqS9VuO6668I///nPcMYZZwSkyUDQBAjmskov1v3337/MxAYzH8yJPve0IwS4JF1zzTVlQQ5pvCjLi2cWf6XyuCCXnGPyOkuQ8+eF+4SQpZorw8OfVdK0Wmk+qIOZHaSRryW4HnbYYVau/oQl5XX1F6/PK8h17tw5wMwLguAZ78PPYVoFQbj3svjRBTlgAtNqvI7nxf63EDfixjXANcA1kH8NNLhp9fjjjzcTG1KOwMk9D8F5HYQAATibwxyHJLuge+65R1RzZk7vSN6ree0sLYhV6pdGippJVd+9XmTHpZdeWp588klZeOGFRYU8S3arL9+ojQqcopGkcvDBB1uS4k8++URGjRpljvqqIZSBAweK+nWZmS9iip0gpQnSlsAEi1QlSF6sflN2DzAlVpMwOdZtTU/h5K9astQ+EcgAU2IWPfDAA3LttddK3759zWwJs2peUoFJVNsl6p8WBSJ4YAASKMfJEzyrYGt4I3lz8lnG29fnHOZfmERhbsfzR0obEBJW+xFmVhDaIogCSZXTCKlu0tLapLVlGREgAkSACBCBWiJQSIuQR4O0xBJLBAQzQPuiL8yScVzDkxbsgKTDTieddFIJn964XetOA9bklltuSa33dvEjHPCdkkEUmrPOqlSAC5i380Gj6KlSoL1R36moztukHWFiU+HP+oRGslWrVhX58uCZNk6eMtfIQWuU1T4rIbCbVsGnwordD8yNCBBAWZZGDppSaO+AZyX629/+VjIn4AQTpRNMvtCoIuVNWqBC2v3k1cjBfF4NqW9eyVwxtmvkgF/aXFiW/1clsSJWXANcA1wD1a+BBtXIqVnKAhWgJUNqB3yc5pxzTjuF9gMpHEBIFYEEtPGUD9geK42QxgLbcVXjSI60IdDCQfuiWf8FgRQgaP5U6LBzNe2Zo7pd6Bfan3zyyYIEvnCIV8HSNG1en3WEoz6CJNQ0bBpJaA7TUptk8TfFciRlhnYNOCK1RiUCZkgzo4KSBYgAazxXT/1x3HHH2TZonirE+0K9mjnl1FNPlT322EOQvgTY4YPtxdRcbVu6JdOKOH81RwTVgJAeBBrjukj9AjOb/PDDD5l1rCACRIAIEAEi0FAINKgg59GFut2T4JNGyL6PvVNBiAyEiSouyGHvzzRSrZAVa5BCWnVqGfZ1Rd94gWOHCSeYQSFQoj4tGhbCiGpeTJBbbbXVnK3OI+4LEbYwAWOM5i7IIZoUn7oIzx07WcAMiQhXmMKT5BG9yXJcq0bNBGYIzaodFU03YmZf7P2KPXphou3Tp08aa1VlyEsHwjyvvvrqqniTjbF2SESACBABIkAEpjcCDSrIQRsFn7E00txsJlBBSII/Gsj9ppAuBH5LSA0BoQDCUJJci+cv42R92nW7du0iAc59n9BOAxmsObRBWT5QroHytmn9p5UhDQZoZtouCppLaNo0ACJViFPzqfkRpuGVLMNzgl8ePrq7hCWlhnAIwRtrJ428PKntS7Z1n0333ct69kk+XhMBIkAEiAARaCoI/DcFfgPNZtdddzWzIvKJJT+aeNdGhSnV66D1AkEjA+d6UO/eve2Y/EJeOVBcIEu2SV6rP1fkbA8hw0kjNe0UwhZylaUR9lgFudCZ1iZZBiHU+9ON3JPVM+y177IA83maMIWgkSKCLfa6BeHHAczjWeSBMXVpa7FzA8yl+MGAOZGIABEgAkSACDQ3BBpUkKsPGIgABWlWfNuwPd6XpggxMyc0L/3794+qNEecaMqRyOcuqtAT+KvBZw8E8yASBDshaa2bajV9iXjUrNcjEe5mm21ml/HtuaAZgm8VNmlPEvzudF9ZE1ggmCKR7sxC8F8EIVIVZtE4wTyK5NBZtO2225qJHVq7JCGyFgRh2jWkyTa4duH+wAMPrCjwISrZf1BgThoAU9YdtLgamBP5UJY1YAERIAJEgAgQgUZGIHe0nWqVLIcYoh/xcfJrHN99991c/VWKWlU8LP8aEuuCkAPuoYceCthoXgUiK8NXPKISPEjYC8I81GxmiWsR3YrEwk7ISZcW/ei8aIdkvohiVXNe0Cz9zmrbRqmGKbo/jwZVk1xQc7DVq5BoSYDVZyriU3+uiAfz9E8t8fQ+044+T+CSVo+yPFGrabxZUatIGgwCNrpzQlBBKegOERbF/MILL4R33nnH6pE3Lt4v8v6BEOmsqWaMD+sA+ILU/B0QfRznSZ5rGhFriy88S+QBxHzwwXZr8faIkn388cetPfpWQd2e+2WXXRY0XY0lg0YlIpfjfH7uUavYosvLePzfGicWxIJrgGuAa6DB10D+AepKJYEXHoSTPA+tLkHO+1Cn+ehliv5BSAOi2zCVJQPWgALb6xLCQ5IgDOLlrNq2zPlBAMBODElCOgskIk6mUMF4SMnhCYqTfEg/ols0ZY5XSzwdr7RjYwhyXbp0CZprrgQSJIWGoIu9drMEIOyj+uabb4a4IOydqKYv6BZdmXjG7101qCb0QyCM95W2Gwj4sB+qBsL4UNFRt+0KGqQSkulqfKys+/B6HvP/fyFWxIprgGuAa6D6NYDMp3gxNmmCYzvMl4hgVO2amc4qRQmqECHdu3e3/TnhSwVTGwIvKvHEAUBEK8aDiRV8GBO+fFmEgAakQUEABoIhVAskQ4YMEd3SKotlpilHhDD2TVXh25IpV8IxDgr86/C88SzAi0TB+KiEFW9W83M8w2WXXVZg2kVaEjz/Smbcmk+AHRIBIkAEiAARqAKBZiHIVXE/bEoEiAARIAJEgAgQgZkGgSYb7DDTPAHeKBEgAkSACBABIkAECiJAQa4gcGQjAkSACBABIkAEiEBjI0BBrrGfAMcnAkSACBABIkAEiEBBBCjIFQSObESACBABIkAEiAARaGwEKMg19hPg+ESACBABIkAEiAARKIgABbmCwJGNCBABIkAEiAARIAKNjQAFucZ+AhyfCBABIkAEiAARIAIFEaAgVxA4shEBIkAEiAARIAJEoLERoCDX2E+A4xMBIkAEiAARIAJEoCACFOQKAkc2IkAEiAARIAJEgAg0NgIU5Br7CXB8IkAEiAARIAJEgAgURICCXEHgyEYEiAARIAJEgAgQgcZGgIJcYz8Bjk8EiAARIAJEgAgQgYIIUJArCBzZiAARIAJEgAgQASLQ2AhQkGvsJ8DxiQARIAJEgAgQASJQEAEKcgWBIxsRIAJEgAgQASJABBobAQpyjf0EOD4RIAJEgAgQASJABAoiQEGuIHBkIwJEgAgQASJABIhAYyPQuugEevfuLT169DD2AQMGyC+//JK7qxYtWsixxx4r7du3l6lTp8o555xTkXettdaS9dZbT1ZddVWZf/755eeff5bXX39d7r33Xhk6dGhFXlRWM94aa6whe+21lyy++OIyxxxzyJAhQ+Stt96S66+/XiZNmpQ5VqdOnWSLLbaQddZZR7p27Wrze+655+T999/P5ElWVDPPJG+lazynXXfdtaQJcP/hhx8Mv3feeUfGjRtXUt/YF9ttt52suOKKqdO47rrrbA2kVrKQCBABIkAEiMBMhkDQ+831admyQpme+gAAQABJREFUZdhll13Ce++9F+KkL9xc/D7OoYceGrFPnDgxk1cFm6BCXtQ2edK/f/9MXh8Lx7zj3XDDDckhomsVGMPyyy+fOt58880XPvvss6itn0ybNi0cfPDBqTzx+fl53nl6+7zHHXfc0aeUehw+fHg4+uijA55v3j4but3NN9+cOlcUrrLKKk1mng2NA/vP97+JOBEnrgGugZl4DeR7+Jtuumn44osvoperanCi82oEuXnnnTeMGjUqTJgwwfgrCXK33HKLtfnzzz+DamHCnnvuGdZcc82g2qXQr1+/cPnll9f5Qs873lFHHRXdz4033hg22WST0L1793DccccF1cpZ3eeffx5mm222kjFnn3328PXXX1v9hx9+GHbbbbegWr3Qt2/faO6Yd10LLO886+onrT4uyJ188snhmGOOCSeccEK44oorAgRUp5NOOqnOeab13xBlqpELp512WvS58sorfZoU5HL+8GqI58I+8/2/JE7EiWuAa2A6roF8YF966aX2Iv3pp59MEIBWxGmFFVbILQCoOTRAeDvvvPOMHQJd2s1C+wWaPHly2H333VPbQGOXxhsvyzsehDCQmhnL+sT4ThBo4/3vt99+VjVy5EgT/OJ1EAhB6Dtennaed55pvHWVxQW5Dh06lMxllllmCY8//rjNc8qUKWHBBRcsqa+r7+lVr+ZhmyO+qJHL9zc7vZ4Nx+Hz4BrgGuAaaLw1kNtH7rvvvpPDDz9cVDgxX7GlllpKn1t1BL+nnXbaSc4++2z55ptvKjKr1sjq77rrLrnzzjtT2+o7PbXcC/OO17p168jfL22sRx55RMaPHy+qjZOePXvKM88840PI/vvvb+d33HGH+Zt5xayzzmp+fbgGD/z74IuWRnnnmcZb3zL4/akmzvz7gIMKSfL9999H3c4111yCe/njjz9S/ejmmWceAZ8KsqICesSHcuCF8tGjR0vbtm1ltdVWE6ybTz/91LCAn16taaGFFpJll13WfCnHjh0rH330kXz55ZeiQmrFobp162b3+dtvv8mYMWOsrZrMZaONNhL9MWE+j3FcKnbGSiJABIgAESAC0xGBQhoYfSFHGpI8GjlogvRFaKY8mCcPOOAA40/TyKngEFTAsHqYUhWLqj/VjIf+f//9dxsP5rzkeBrIEM0H8/b6ueeeO8IApkAvx9F9+1RYsTbnnntuSb23rXaezlfNsZJGDv0AbyeYXON9u7YOPnTxcj93c/v2229fUh/ngylcBWEfwo4vv/xyUGGvhMf7TDvWpZHTQBPTfJYM8teFCnRh7733rjjWSy+9ZK3hp6iBLuGDDz4o6QraykMOOaRiH2nzZln1f7vEjJhxDXANcA3kXwO5NXIKar1IBRlZYIEFTCMH7VYlQmQqNDjQFr3xxhumKUE06LrrrmvRimqqlNdee61SF1LNeOjowQcfFDWTivqzyVlnnVXS984772zzUaFTnnrqqagO9+MUj06FRuj444+XQYMGybfffivbbrut3bu3jR+rnWect1bn0Dw5ISK4lgSN1mabbSbQaqpwZNHAffr0sWcJzawKRzUZbqWVVjLNpwbiWJTxV199JRq8IfojQ9Q0LrfddpsstthicuaZZ1YcD5HU999/vyy66KLy/PPPC/oBPlh74CcRASJABIgAEWhqCBTSMlSjkYNWDRGcKgRFY1XSyK2//vqmDVHza8A4v/76a4l2BBePPfZYUHNY1J+CGp1XOx54oR16+OGHbRxoi9SMHDbffPOgaUdMWzds2LAAzVZ8HE3BEs3Lfc/gt/fqq68GaOLUnGr8aPT000+X8KKfIvOMj5/3vC6NHIJGQAhgQQRuvN+4Zi1e7ud1aeTQr6ZzKekTmi0QtLEIFvG+Kh3r0shtsMEGYfXVV0/ta5tttrHxoBVUU3FqG9fIYa29/fbbYZFFFilpB75evXqVlFWaL+v+9/dILIgF1wDXANdAg66BYp3nFeTatGljJi+YSpdccsnoRVhJkMOLHwQhYfDgweHHH38MJ554oqU+UY1KUB8mq1dtXUgGPBQZL77A1OfNhE4b4K+vF198MXTs2DGau7ffZ599rAWENi9zIeXiiy+2sn//+9/WRrVzURu0re88fbw8x7ggh+AMRNbuscceQXP5hWeffdbmB9PhgQceWDJH9F1fQQ5CUXKOqm0NGA+k2suy+mR7XNclyKXxxMtg1gdtvfXWqeO5IId5wbQa5+V5sf8RxI24cQ1wDXANNPwaaHDTKkyMcPY///zzzelcH2qdhES8IBX8ZMSIEWYeU42Yld1zzz2imjNRAUGQvFfz2sndd99tdfgqMh74VLASjcwVzftmSYo/+eQT0TQp5jivGkIZOHCgqJ9VSYJf1SaBNUoUDIf5Cy64wIIeTj31VKuDORbkbe1Cv4rO0/mLHm+66aYSVpVtRFO5CJLswixZawJuSULwAJ4nTNMwowPrWlLnzp1Fo28tMTPMqyAPYFC/xopDPfroo6LpZCq2YSURIAJEgAgQgaaCQIMKcksssYRAoMEOAvCHyktq3oqaQrhyIc4L3333XfNVU9OnbLXVVpEgV3Q89IudG/bdd1+LqFTHffONQjkEPPjMIbLzlVdekeWWWy6KToWQCUJ0Jnz6MFfV3IlqvCzKFXVzzjknDiaQ2ol+1Wee3kfRo+bmsyhMRKPCfw07Umy55ZYmHBftsxKfalNTq91PEtjVglQzK/C9U82tLLPMMpldarqVzDpUqBa4Yj0riQARIAJEgAg0JQQaVJC76KKLLFABWir1IbOP37wLOHgBQ5MF0shR0265gIQybI+VRkgrAUEu7oBedDxo/tRMasMcdthhkRCHAjW1iSbRFc0fZ6k5INBpZKO11R0R7IgvbOvlTvXqDxeVQ1ACxdsWnWfUaT1O/vGPf0TaqVatWskZZ5whp5xyignD2BKr1too4Dc9CM8IPxagYURACoJksI7UN9OG18TOFmjhGrqsOeFHB4kIEAEiQASIQHNCoJA/UB4fOdWcwS0pN7n/UtwfKmtbLOxCANIcYdH8i46HnRdA8I/SnGhRf/oQo3P4vIEwhpfD589Jc6UF3W82ICWJ1+OIAA/QtddeG5UXnWe832rO4z5yHpQR59cIYJvjfffdF83R6+vykRv6184QldKPeF/xY1aQRLxN/BwpbpxUK1oyTzXRml8jAmo0QrikzvvwLdRUUE+tdx85pB9xHh7/t/6JBbHgGuAa4BpommugQTVyGqhgJkd9+GUETRX8o/TlHPlIuR8Tkg8juSwS0cKPCulGkuRaPKT3cCo6HsyhIGhvdDsw767kCL8ukLfFOcZGslv49EHjCG1e3CwMs6xGOqKpJaa1E/0qOk/nr/UR/noaaSsq8IlGfpZoQZFUF4T7SxK0W566BJrVhqS4b5vuLlIyFJIYYy4ff/xxqokYmkeNQi3h4QURIAJEgAgQgRkBgQYV5DQRbCZGGrUquum9mVIRDBEnTYMhDzzwgGhkpWiKD1GtULzazpFXDoQ8X05Fx1NtjXUB/yn4wKUJjiuvvLK1iTvmI88ddoJALjTsVDFgwACfih01JYYgLxnaYecHp6LzdP5aHxGQoJG5gvmefvrp5nfoY7iPG/KqJQm51SCs1oqwDmAyTyPV0loxfOuwW0Sc4O8HgrkeAl1SGEeQSl2+cfH+eE4EiAARIAJEoLkg8N+QviY4W4+uhJDkQptPE9tiQQsDbR6EwfoSojVdONCcaqZhi/eJ4AUktQXFt+fCtc8TGh9o5JygubvmmmvsElG23r/XN7Wj7n1rU0LgA7bScnLBCkmREQnqBI0qfB9rSRdeeKElZo4nWkb/iEJ1bJ977rmyIX2OmB+CX+IEvz8kXSYRASJABIgAEZhREcjtE4RcaPAj84/7LPk1jnEfMgUss+9KeeTAp5qVoEKSDaFmzfDQQw8FjQqN8p6hQtNmZPafHLuu8eJ+ZGq6CzfffHPo27dv0Oz+Ngd8IZ8c5pXsW4MXrI1qggL8zW699dagjvZWhjx43bt3L+NJ9uHXdc3T21VzjN9bmo+c9+W+e7oLQzTfdu3aRQmZ4QMIXHB/yO2nqTrCkCFD7D532GGHiAf91eVbl+Yj9+STT0Y4ol61mEE1sxGWqESSZZ9v/Oi+iHgGSMiswluAzx+SDr/wwgtB97m1vukjl/03GceT58SJa4BrgGug2ayB/BNVs6K9DCt9JRPfZi2EvAKLpv6I9kH1cbF35lFHHVWWDDhrLJTnGW/jjTcOutWWDxMdseMBEhGrmTRViED/2KPV92sFI5IEq8kyqB9gJk/afPPMM42vUlleQU61btE9q8Yzmvfaa68dINw6QWCHsIc9c9MEMsyliCCn2jQTDiG4JwlBLZouJZpT8n67dOkS7rrrrhI2JKHWrddsnnUFM9RVnxyP1/n/bxArYsU1wDXANdBwawAe6ng5NmmCI71m27f8a/BFg1+cCkoNNud5553XxkMQAwITMCb83OoizBP7rHbt2tUCBjx4oy6+5lCPPHnwH4RJ9c033xQPgmiIuSOwAj55MJUCQzwD+OqplFbncAiggT8d5of9b/M8tzo7ZQMiQASIABEgAk0UgWYhyDVR7DgtIkAEiAARIAJEgAg0KgJNNtihUVHh4ESACBABIkAEiAARaAYIUJBrBg+JUyQCRIAIEAEiQASIQBoCFOTSUGEZESACRIAIEAEiQASaAQIU5JrBQ+IUiQARIAJEgAgQASKQhgAFuTRUWEYEiAARIAJEgAgQgWaAAAW5ZvCQOEUiQASIABEgAkSACKQhQEEuDRWWEQEiQASIABEgAkSgGSBAQa4ZPCROkQgQASJABIgAESACaQhQkEtDhWVEgAgQASJABIgAEWgGCFCQawYPiVMkAkSACBABIkAEiEAaAhTk0lBhGREgAkSACBABIkAEmgECFOSawUPiFIkAESACRIAIEAEikIYABbk0VFhGBIgAESACRIAIEIFmgAAFuWbwkDhFIkAEiAARIAJEgAikIUBBLg0VlhEBIkAEiAARIAJEoBkgQEGuGTwkTpEIEAEiQASIABEgAmkIUJBLQ4VlRIAIEAEiQASIABFoBghQkGsGD4lTJAJEgAgQASJABIhAGgKt0wrzlPXu3Vt69OhhTQcMGCC//PJLHjZr06JFCzn22GOlffv2MnXqVDnnnHNKeFdYYQXZfvvtS8qyLj788EN54IEHUqvXWmstWW+99WTVVVeV+eefX37++Wd5/fXX5d5775WhQ4eW8Cy22GKy9tpryxprrCHdu3eXueeeW4YNGyZff/213HbbbTJo0KCS9n6x+eabG49fpx2BD/pxqtX9eX/VHLfbbjtZccUVU1muu+46wyi1koVEgAgQASJABIhAk0Qg6KxyfVq2bBl22WWX8N5774U4qWCQi9/HOfTQQyP2iRMnlvHus88+UX1dJ/369SvjV0ExqHCYydq/f/8ynsGDB2e2nzZtWrj++usD7t/vwY+XX355Jp9XqLBXwlff+/Oxixxvvvlmn1bZcZVVVimZZ5H+yZPvb4k4ESeuAa4BrgGugVqsgdwauU033VSuvPJKWXLJJXVckfHjx8tss81m59V8zTvvvHL++eeLCnAy66yzprJC+3X66aen1qGwQ4cOctxxx1n9PffcU9ZOhRVRYUlUUpEbbrhBXnzxRRkyZIgstNBCsvHGG8ukSZPKeDCfxx57TJ5++mn55ptvTMO45ppryjbbbCMbbLCBHHTQQfL999/LWWedVcaLgrffflseffTR1Lq4Ng4N6nt/qYPkLIT2Elg4zTPPPPL3v//dL3kkAkSACBABIkAEmhkCubQwl156qWlwfvrpp3DMMccEaG+c1FSYqw/FJahZM0ALd9555xn7hAkTcvOCH58DDzzQeL/99tsyLdnyyy9vdZMnTw677757at/Q2HlffmzTpk1ZmdddcMEF1ueYMWPKxnONnAq5mfzeT95jpfvL20fedmoet3vDFzVy/HWYd92wHdcK1wDXANdA01gDuTVy3333nRx++OFy4403mkZrqaWW0mdYHcE/a6eddpKzzz7btF7Vcf+vNbRjoFtuuUX+/PPP/1XomQqZdn3XXXfJnXfeWVLnFyqz+Gl0nDJlSnSePEE/J5xwgsw+++ymkfz888+TTWp6Xen+ajpQjs66detmmtNff/1Vxo4dK9Cowu8QGsw333zT/Ajr6ma55ZYz3NDXb7/9JiqAmwZTTdZ1sbKeCBABIkAEiAARqAOBQpokFeQiTU4ejZyaQ4OaJoMGGQQ1yYYDDjjA+KvVyPXs2dP4VIALiy66aMnc1VQb1Gxq9WoWLalTDApfawBEdK8aFFHST601cpXurz73kMVbl0Zu4MCBdu8HH3xwgNYxSbj/Vq1alWDiY6kZPqhZO8li1yrQha222iqVz/l5LL5miR2x4xrgGuAamDnWQG6NnC6IetG5554rCyywgGnk4F9XlFxb9fLLL5f4eqE/RKa2bdvWNIZvvPGGaZLWWWcdWXfddS0aExGur732WtVDH3300cbzxRdfZGoScW9HHXWUzDfffALt5aeffmoRstBcVUOV7q+afmrd9vjjj5fFF1/ctJzwB1x66aXND/Ef//iH+Szuv//+JUPCf/LBBx+0yGb4HD733HPy/vvvy1xzzSXQ0EE7C8xIRIAIEAEiQASIQP0QKKQVqUYjB+0YIj+feuqpaKwiGjlo3KDJAe27775RX3r7dr7++utbnQoOAfNTc6Bdx780oCGoia+M1/vQgIig5t+AyNKbbropwCcQpEJIWGmllcr4XCMXH8PPVfALaoYs4/Gxkse67i/ZvhbXeTVyuCc1rZfci6agCdCM4tlC+xafzyabbGIwqMk6LLLIIiV1aKfpXYIKhmXl8T54PnP8muRz5nPmGuAa4Bqo1xooxpxXkEMQgWrCzOQZf9kXEeT23HNPEw5Gjx4dNAddmRCw1157WT0EKKQT+fHHH8OJJ55oKVPOPPPMgGAFkGrrQlrAAxZSWmqQa665pizIwRcdBDkEXWgOtvDPf/4znHHGGeHuu+8OCLYAQdDp1atX2VydP36s6/7ibWt1nleQg0k8DbOXXnrJ7hM4xOd02GGHWbn6E5aUx9vwvNjfHnEjblwDXANcA1wDsTVQDIy8gtzJJ59sL3REqcYGLeQj9/zzz1tfmlKkpC/v14UHNBo+fHiZ5g1RmRCsQLvuumtqH5oUOGhAR7j99tsD/MPc505Ng6FLly5lPGrOTRVw1PRo/oAY65NPPgmVomJ9/nXdn7er5TGvIHfVVVeV3TvmoUEguEXzhYvPa4sttrByfO29996pGMXb87zY3yFxI25cA1wDXAMz/RooBkAeQW6JJZYICGZAkENSg1atRg5mOBfCsjRcSFbsdNJJJ6UKHk888YQ10YjX1PrkHwTMgu7wD81ilmN/kg/XcWGmruCLPPeXNkZ9y/IKctA2po0FIQ2kuelK6oGT+tJZHb50Vw3TVCJ1TdeuXUvapvXLsmJ/l8SNuHENcA1wDcxca6BB91q96KKLLOBA87CZQzzST/hnzjnn1LUmoua6qGyWWWaxsrQvza1mbb/88ktRwSqtiYwYMSIqf+utt6Lz+MlHH31kl9iSKw+pv53svPPOogKpaESpqLCYh83aPPPMM+JpTZZZZpmKfHnur2IHDVz5+++/p44watQoK0di4TghtQgSKePZI/gDzx3YXXzxxRakgrXRqVOnOAvPiQARIAJEgAgQgSoRaFBBzqMSr7jiCosaxV6n/rnkkktsqhDevAy7R6RR69atZb/99rMq7NqQRXFBDnnP0mjkyJFWnBQ80tp6GeaHiFcQ9m3NS9hH1ueE/GtZlPf+svjrU44oX6e0HS+8rnPnzn5acvRyNWWXlONi3LhxoppRWXjhhS2P3P/93//JBx98YDuCYK9d9asr42EBESACRIAIEAEikB+BBk0/ogEHlg4kbTrQxiBdiFrdRH3IrIkGI6Q1tW2yoNGBlufWW29NbYNCaH6Q7gNbf0GIdOErzoB+QEhKWw1B2AJV0hom+2vXrp0l0EX5V199layOrrENWJ77ixhqeKLRo1FvGqEbnSdPFlxwwWSRXeMZgurCE/fft29f+6i/nSWX3mGHHUzLijVAIgJEgAgQASJABIohUMhfKY+PnE4ns+9qfOSQMgQE/7ZKfaLuP//5j7W97LLLUtu+8847Vn/11Ven1qf1r0KhbSsGRs3zlpsPbZ3UtJrJV839pc2vrjIkGc5qc8QRR9gUVXuW2sb9A4cNGxZUmC1r435wajItq8sa09PEILJXNYK5+bL6Y3n23xmxITZcA1wDXAMz/BoodoPTS5BTTZDlKYO0kRVpGl+kap41wQRBFpoMuERI0KS1Voegifi+oqoZCueff35qXjOkTEG6EpBuURW6d+8e9YkccQgCUG1aVOZzUb+6oP5jxqcb1ZfVe7tq78/5qjk++eSTQZPzBgikcT41i1pELSb58MMPl9R5Oxfk0AYpXLwcR0/3glxxaj4tqdt2222DahpTg0Puu+8+dGe5+eL98bzY3yJxI25cA1wDXAMz9RrIf/ODBg0KeGn7x97G+uXXOL777rslL/SsxZVXI3faaafZMEgErGbNOvtu2bKlJfIFEzQ+Dz30ULj00kvDs88+a/3gq1+/fiX9uOYMAp6aZy2VBgQfJAFWP7eIr0+fPiV8O+64o9XhvjUIwxIeQ2uoARIRD3LZVYrSrPb+svCsVA5BDoT7Q469O+64I0C4VP+9aJ7q+1dyb96fC3KuyUTeOA1UCI8++mgkYOPa2/sR+fRAiFi+5557gu7sYc8F+IKQRBhRvd6ex/x/h8SKWHENcA1wDXANxNZAfjCQD60ugrAX6zzzPI8gB6EMyXZBGjCR2VfaeGeddVbQSMuS6UKjpttoleU0gxADwcQTBpcw6QWEGd3mq2x88KnzfpQWJc4HIRLm3TnmmKOMz+dbn/vzPvIcsacp7s+TFMfnCQF0o402ypyjC3IQdiF0qg9ixI7zrDQvGPPNN98sEYSdUSOHg27RlTlmnntim/x/t8SKWHENcA1wDcy4a6DFXw9XDzMeIbUJ9gfVfHa2Ryoc7hFJmkUIaEBaEgQedOzYUeD8r/nRRLWBWSxWromCRU2uto+oJv61wAYEelQaq2KHDVTZoUMHWXTRRQWBCwgswRxVY2gBJ1lDqiAnmiRZDj74YNFEzBbssfrqq1tQiQrtosJhFquVI80M8EfUrgrSojtE2EeFuop8rCQCRIAIEAEiQATqRmCGFuTqvn22qAuBpCBXV3vWEwEiQASIABEgAtMPgQbNIzf9boMjEQEiQASIABEgAkRg5kOAgtzM98x5x0SACBABIkAEiMAMggAFuRnkQTbUbcCXTaNdG6p79ksEiAARIAJEgAjUAwH6yNUDPLISASJABIgAESACRKAxEaBGrjHR59hEgAgQASJABIgAEagHAhTk6gEeWYkAESACRIAIEAEi0JgIUJBrTPQ5NhEgAkSACBABIkAE6oEABbl6gEdWIkAEiAARIAJEgAg0JgIU5BoTfY5NBIgAESACRIAIEIF6IEBBrh7gkZUIEAEiQASIABEgAo2JAAW5xkSfYxMBIkAEiAARIAJEoB4IUJCrB3hkJQJEgAgQASJABIhAYyJAQa4x0efYRIAIEAEiQASIABGoBwIU5OoBHlmJABEgAkSACBABItCYCFCQa0z0OTYRIAJEgAgQASJABOqBAAW5eoBHViJABIgAESACRIAINCYCFOQaE32OTQSIABEgAkSACBCBeiBAQa4e4JGVCBABIkAEiAARIAKNiUDrooP37t1bevToYewDBgyQX375JXdXLVq0kGOPPVbat28vU6dOlXPOOaci71prrSXrrbeerLrqqjL//PPLzz//LK+//rrce++9MnTo0BLexRZbTNZee21ZY401pHv37jL33HPLsGHD5Ouvv5bbbrtNBg0aVNI+eQG+vfbaSxZffHGZY445ZMiQIfLWW2/J9ddfL5MmTUo2T73Oe3+Y57bbbmtj4b5++ukn+fLLL+WWW26Rzz//PLXvIoV4TrvuumsJK3D/4YcfDL933nlHxo0bV1LPi6aBwAYbbCArrriiTeaLL76QJ554omxiK6ywgmy44YZW/ttvv9k6L2vEAiJABIgAEZhhEQh6Z7k+LVu2DLvsskt47733Qpz0RZOL38c59NBDI/aJEydm8qpAFFTIi9omT/r371/GO3jw4GSz6HratGlBBbKA+/C5xI833HBD1DZ5ogJjWH755VP54n3gvK7769ChQ1DBMjlEdD1lypRw0UUX5RorOXba9Y477hj1nXYyfPjwcPTRR2fiktYny/L9zdQXpyuuuCJ6ZD/++GPqM7r77rujNh9//HHN1k19507+6bNGiDNx5hqY6ddAPgA23XTToBqB6IWhGpzovBpBbt555w2jRo0KEyZMMP5KgpxqpqzNn3/+Ga677rqw5557hjXXXDOodin069cvXH755WUvrU8++SQ8+uij4cgjjwzbbLONtYeQ8txzzwUIcqDTTjutjO+oo46yOnzdeOONYZNNNgmq0QvHHXdcUK2c1amWLMw222xlvPE/ojz317lzZ+sPOOBFvd9++wXVOobtttsuPPLII1aHL9xDvO+i53FB7uSTTw7HHHNMOOGEE2xsCKhOJ510Uk3GKzpP8pX/Lbogh78TkGqmS57R7LPPHsaPHx+8noJcOYZcV8SEa4BrYAZfA/ke8KWXXmovEjX/mSCwyiqr2DW+1LRT8nKpBJiaQ+2lc9555xk/BLq09tB+gSZPnhx233331DbQ2CV527RpU1bmbS644ALrc8yYMWWajQ8//NDq1MxYxo/xnSDQen9pxzz3pybbcOKJJwYcs/rAeGPHjg2tWrVKbZPGl1UWF+SgDYy3m2WWWcLjjz9utwdN4IILLlhSH2/L83x/K7XEyQU5CPj4IXLVVVeVPB/8uAE9+OCDdqQgN/2fUS2fN/vi8+Ma4Bqodg3k9pH77rvv5PDDDxfVVpmv2FJLLaVjVUeqcZKddtpJzj77bPnmm28qMqvWyOrvuusuufPOO1Pb6purrFyFkbIyL0A/qokS1WLIkksuGfmhtW7dOvL3SxtLX6KiWg9RbZz07NlTnnnmGe+y5Jj3/kaPHi0qVJbwxi+uvfZawwk+hEsvvbSoljFeXdNz+P2pJk622GILAQ4qoMv333+fOoYKgaICtmGF9fDBBx/IiBEjUtvGC5dbbjnDu1u3bgIfrm+//VbefvttUcEk3qzsHD6O8P+aa6655KOPPjIcVPAva4cCtJl11lnljz/+SPX3m2eeeez+Ro4cKaq9KusDcwM/5qeCvtXPN998stFGG4n+mDCfzCxc0HjOOeeUZZdd1rCBvyF8HIFPJaoGT/hPvvzyy7LzzjuLamoj7HbbbTdRgV8ee+wxwfrLooUWWsjmB19MtAee8MfM+nsBXljvwAvrtW3btrLaaqsJ/u4//fRTgV8l/CyzqNrxvB/9YSErr7yy4Qh/VmCIdYLnqy4RolrszHGrwdPHq+9z9354JAJEgAg0JgIlv/B1Irmu9R+6aQDwlUcjB02QvggDTHkwTx5wwAHGn6aR0xdqUAHD6mFKzTunutppIIP1iS8Niijp9/fff7e6NLNrp06dovlg3mnjVHN/afzxspVWWimapwZ4pI4Xb1/XeSWNHHiBtxNMrsn+9CUeLrzwwsg07W1h8oYvX5YWVIXl8OKLL3rzkqMKTGGrrbYqGwtjwzydxqcCRaZ21rWKMKMn549rdwvYfvvtU+tfeuklmx/8GzXQJagAUTJfaCsPOeSQMl4V4AJ8NdMIWl4NaCnjqQZP18jBlcB9L2H2xz117NjR1uUdd9wRNEDHppDUyKmAHlzbnJwjNL5777132fzQdxxPuDLAfBsnFSqDCntlvEXHw5hwL9AfBvFhggbkmIuDCuhWrsJk2ZjV4Ilx4p+izz3eB89LMSUexINrYPqugdwaOX0w9aJzzz1XFlhgAdM0QbtViaA1gAYA2qI33njDNCXrrLOOrLvuuhaxqi8mee211yp1kVqnL3krR/RfUiOopilRXzVRU5WcddZZJfzQgmA+0AY99dRTJXV+Uc39OU/WcfXVV7cq4FSXVierj2rKoXlyQkRwnKClevXVV01TB83MrbfeKl999ZVFBO+7774WfQwtjfojxtlMmwNMETELrNVHUd5//33TrEBDB+0R1kOSunTpYvcMjRC0furIb1q/9ddfX1TwExVaBFqUvn37Jllrcg0t6P333y+LLrqoPP/883avwAdrDxHRccL8ET2NIzRFDzzwgGm6oD2CVglaTmix4mu1KJ4Y97777pMrr7xSoIV79tlnZYcddrB1Ca015p1G+qPAtMgaoGTR13h20GxB06kuAxbhivs688wz09hNI7nZZpsJtNJYi4jm7tOnj+EBzboKtyV8RcfDmgfewAdzxdrB3xzm+PTTT9t5yUB/XdQHz3h/1Tz3OB/PiQARIAJNAYGSX6g6oVzX1WjkoFWDf48KQVHflTRy+tK2X98qAASM8+uvv5b8SseFmpKCvtCj/pLzVtNOUDNu2GeffcJNN90U4NsHUmEiQOOVbA/twsMPP2xtoG1QM3LYfPPNLcoV2jpNYRKg2Ury4bra+0vrw8vgE6fpTmweauZNHc/b5j3WpZFD0AgIASwqtJSMecopp1gdomyT/nMqcAc1vVm9ChUlfNAagaDJWmSRRUrqMG9NC2Oar+Q9uB+jChxlz/eMM86wPqHNS/oXxjVIyT5xnVcjh7WmZt+yOatwFnr16lVyH9CEgdRMWdYeY+qPj7D11luX8FSLZ1wjhz7xN4T7hxYU59BUwc8xSyOn6UuCCkklc3B8EAwEgrYN9+flODqeqEff8TpoJkHQpiPYIl5X3/GefPJJux/vE+vEnx3GTN5LtXh6v350jVw1z915ecz3riBOxIlroMHXQLEB8gpyeOHAtANTKUxt/kArCXL+UsI/cKQTQdoFBAcg9YlqDgKCFUCqrQtpAQ8YAwJckq655pqyIAefjx/333//MhMizHwwY3mb+LHI/cX5k+f+YtK8fKFr166pYyZ56rqOC3KIkFWNTthjjz2C5vILqtkxmCBwHXjggSXjIboW5jcQXtBp48C0CoLwG68/7LDDrByRvvHySueqXYnGSzNjQmBxoR5RxvG+XPCor2kVOMC0Gu877RwmbycIbGltkmVF8EwKcv53g/WNuaqG1Mb2v5mkaTU5h+Q13B1ASYHT8YRQm+SBKRNjg9QvsKw+2T5+nTae+oFaX/hKcyVwkzLq44JcETzjc8G5C3J5n3uSn9fF3h/EjbhxDdRuDTS4afX444830875559vztX68OokJOIFISABzvQwAyGpL+iee+4R1ZyZszyS96pwZ+Y3q4x9IQGwauLMJKMaIUsmrC8E6xPmmmQCYxXIRCNz5eCDDzZnagQYwFwGB3aY9QYOHCjqT2TmwdgwUuT+4vzxcyQ+Vh89K8JcNb9bvLom58AkTvpuFPW/Ek3vYiateB3MZDA5ITgA+Gy88cZWjYTHIBxhqgOhLUx26jdn1+oLaUeYXYEbkkZjrEqE4AY3EcK0liSY2pEQF/3huTQEaeoaSx5dV9+qhbUmCBqA6TkPFcEz2S/MtwiGgWkZwSkwq+YlFXxEtaqiPxDsWYHPAzuQODuNsO6ThOAP/D3CpAw3iKxgnLzjIYAIBLM+giiSpEJlssiui+Dp6zPZYd7nnuTjNREgAkSgsRFoUEFuiSWWkFNPPdV2EIA/TV5SrUvUFMKVC3Fe+O6775qvmpo+zW8KflRJgl9S3DcJwtztt99uPj/w18JLIB41iZ0b4POFiDx1iI8EFAgw8JlDZOcrr7wi8O9yIaXo/SXnimsIPPBD8vHgD9UQhF0j8CKGHxciMjWQQ7bccksTjpPjQZAGwQ8JfkqVCJHA8CXDbhEgtMdLGbtxYEcNDZYw/ODzCKEuTUhdeOGFjVe1I2WCtlXol2pn7RRCX0MQ/CfzkGPjgmw1PNXgmexXzfyGLfwFcZ4VQe18ELbh06YabVlmmWW8uOyIaNE0cryTde7nisjWOBUZz5971ljJv38fz59BNXj6+vQ+/Jj3uXt7HokAESACTQWBBhXk1OxmQgBSbSA1AD5OSNcAwj9+OK+D8GKC1iWe0gLbY6URNCEQ5JIO6GltUQaHewQtqKnWNITQ5HmqEbwQ1FRlrGoSjIQ4FECo0CS6ovnjzOEfAh20ZaCi92fMsS9oNiD4QIMBgfL000+P1db29B//+EekhVF/PFG/M1Fzrmk1sRUUNJlO0LaAkHYDGtW6CKk/nCAkqznWBHk14wrSUQBzfP71r3+JmrltazY8cycEOICgCc3S3nl7b+u8tTpmveiT/Ts28bWabJO8dp4ieMb70h1IbK1AiINQXomwdvEjCngiUAeCNObsP2I04bUFMECbmkZY/9VQkfHwowKEYJo0wj3i/0JS2KwVnhgz73NPmx/LiAARIAKNiUCDCnIQUEDq52OftBvFP2ePlETkI0wc8ZdjXDsX50d+K1A1L3SMg4hXmGShKXJBDucQKJEXK67F8/HwElRfGhPkEIXoVPT+nB9HRGnihQxBB3vHQpCcXoSXOTSmMJnCrAuBG3n+nJDvDQRz1NVXX+3FuY/IpwbBFx9oL6FFgtYTAiP22oWJD9oiJ18H0BLGzbRejyOEXZC3tYscX0khIIulUm60OI9jE4/4jdennTtPUTy9T5id00zPXu9HrE9okzEeIlzhkpAkj+ROlhe5LjqeC1FYD2mEH4Bpz69WeGLMvM89bX4sIwJEgAg0JgINKshB+4UUAmmElzV+UUNIch8b99dB2gn4ZcFkgpcDhK8kuRbP/5kn67Ou4VcEir8YNJDByiDYZPnQuObD24Kh6P3ZYPoFraRG6VnSX2hL1GE90pR4m+lxhJ8f/Lw0KEKQBsK1oEgYC3Kfqixs8swRJkj4deGjuxNYcmkIFxCgXfvmzxLPSHPJRWbUeP8QeEHe1uuQ5BYU1/p6HYRCF7gwXi3IsUHC5rzkPLXAM8+YSO6Me9cAiFQhDhpZuBzUioqO564KeLb4f+F/az6vLK379MbT58MjESACRKApIZBuT6nRDDWRqJkx4cyc/LhTP0wmXgetFwiaHDh1g3r37m3H5BfyyoGq8VGCUAgfNxCyxjt99tlndgrhzuu9zo/ICwZyoRPnRe8PvPAtgvYR/cL3DkJU8gWGdtOD4NCukbk2VNysi7xhMJdCoEaAQa3IfRrx0oZPoBOEMzedAtskwQ8P/nygZH49969C/rckIQdcfJxkfZFrCL4QbGGW14jPXF00FJ5Zg7vJEj8Y0kyneKbxHzRZ/eQtLzoezL0QxCGEwz81STDNp9H0xjNtDiwjAkSACDQ2Ag0qyNXn5jy6EglHXWjz/jRFiJk5ocnRrPpebOYj+HIhaWmS8MKF6RIvLgiKSKjqhASkbqrVnGriUbNejwSsSIoKqsu53HkqHSHAIJgB94WAAAgC7jxeia8h63TvW+segpKbj+Gr5gI3Eh57pGZ8Hu3atRNNiRH5GHrdtttua0mCofVJEraYAkEojguvOEdwCwi+W+7Mjmto0hAwgZc9nN8RtBEn+EyC4AeJyEwnaH4rbYfm7ao9QssFf0YQkvRCG5UkuArAJ9CpPnh6H9UcHRPgAbN2nGDexjOtJRUdD397iJwGXXLJJSVBGQjIOeKII1KnOb3xTJ0EC4kAESACTQAB5ITI9VEtluWPQs4lfJz8GkeNKM3Vl+fDStuiC/NRDUJQYc6G0Bd8eOihh4K+5KO8Z6jAtkXxuR900EHWXjUlQc2zts2T+hJZEmD1gbE6fKlfVgkf+ojnWkPy4JtvvjmoGTBotvmIT7VWdeah8/lUur/4VmGYa6UPcmh5n0WP8XtTQSizPzw7EDZo97GQoNhziqnpOagga7hcdtllAclbVYNmPCoIRjzg1SAKK0feME0ZE1RosOeJ5wJCX9jOycfxIxL9qpbV2iDZsEa42nP3uYEPufC8vR9VoIxyzCEHH54fcqyppi6o5jMMGTLE+kwmLnZ+zydWDd7qrxdtf6WaZcMDefWwZZcK6DZeMt9dtXgm88j5fJPHrDxySBoMwhpTLaI9B/0RYcl8X3jhhWieyPsX79OfebV5+YqOByz9GeNvFYm7VTC0eV988cWW+Bj3kdyiq1o84/eI8yLPPdkHr/O9P4gTceIaaLA1kL9j1aDgf2lFgrCX52FVEnTi/OqsHQkLPjCS1OIFqVqakrGQTBQvbU8Y7O39qCbEoGa2Ep74WOr0by8Qb+9H7HiARMSa4yyTN94PzivdX1yQ8zGyjtUIFsk5+HVeQU61WdE0VMNUcq9I0KtBKFG9n2D/U+xAgd0tfDwcVQMU3nzzzRAXoJ0HL2jdoqukfZwXwhx2TUjyQgjEM4q3jZ9jX1PfwQNj4YcFhFLs7eu7A+TZazXeZ13nql0NGoVbtuYgOGkkcuY+xHnxrK8gp8E0QXPNOfR2hNCJHzjAJUuQKSrIFR0POOPvCz/OvtEdXUDq8hBUw24/nvA3CNIt31Kff148k88z6/6T7Xid/z1BrIgV18D0XQPw/MY/xiZNMKvBXIrIR/0nb35x+pLPnDOc5eEgjYAIBCfoy11UIyO6tVEmT7wCjvYYDyZWBDRgTPjykcQwRTJemEyRRgP4xM2jSYzgn4XnBkzhBwXHdnz0nZxsWnYNsy18FuF7BVOm+8GVNYwVwGwNHphUVZC0MWPVDXaKNYp8aNhbFvcJ382s/GfxSWCNVoNnnLeacwQW+dyw521Dr+f6jodnj72NQVhDnpIGCaO9PO3+pxeeaWOzjAgQASLQGAg0C0GuMYDhmESACDQNBOCfiqhu/HDwqOWmMTPOgggQASLQ+Ag02WCHxoeGMyACRGB6IQDtN7bHS6aPQZ7Fc845x6aB1DUkIkAEiAARKEWAGrlSPHhFBIhAIyCA3HowRSN6G3kMYbLH/q+I7EYSaA2EEPWBrGjGb4Rpc0giQASIQKMjQEGu0R8BJ0AEiAByBGLrsfXXXz/ask8DRizxs0Yfm1ZOg1cIFBEgAkSACCQQoCCXAISXRIAINC4CEOqgjRs+fHjFwIbGnSVHJwJEgAg0DQQoyDWN58BZEAEiQASIABEgAkSgagQY7FA1ZGQgAkSACBABIkAEiEDTQICCXNN4DpwFESACRIAIEAEiQASqRoCCXNWQkYEIEAEiQASIABEgAk0DAQpyTeM5cBZEgAgQASJABIgAEagaAQpyVUNGBiJABIgAESACRIAINA0EKMg1jefAWRABIkAEiAARIAJEoGoEKMhVDRkZiAARIAJEgAgQASLQNBCgINc0ngNnQQSIABEgAkSACBCBqhGgIFc1ZGQgAkSACBABIkAEiEDTQICCXNN4DpwFESACRIAIEAEiQASqRoCCXNWQkYEIEAEiQASIABEgAk0DAQpyTeM5cBZEgAgQASJABIgAEagagdZVc5CBCBABIjAdEFhmmWWkVatWMnjwYBk/fvx0GJFDEAEiQASaHwItdMqhyLR79+4tPXr0MNYBAwbIL7/8krubFi1ayLHHHivt27eXqVOnyjnnnFPCu8IKK8j2229fUpZ18eGHH8oDDzwQVW+++eayxhprRNdpJ5jv119/XVJVlM87wZh77bWXLL744jLHHHPIkCFD5K233pLrr79eJk2a5M1Sj2uttZast956suqqq8r8888vP//8s7z++uty7733ytChQ1N5ihYutthisvXWW8uaa64p88wzj7z99tsycOBAeeSRR4p2OVPy7bbbbrL00kuX3PvkyZPlu+++k2+++UbeeecdwXVzow022EBWXHFFm/YXX3whTzzxRNkt4O9zww03tPLffvtNbrvttrI2tSgYOXKkdOrUSfD38cYbb9SiS/ZBBIgAEZghEYAgl+vTsmXLsMsuu4T33nsvxEn/8efi93EOPfTQiH3ixIllvPvss09UX9dJv379Svgvv/zyuliCCm0lPJhXUT7w3nDDDZljqiAWll9++bLxwKcCbVAhNpO3f//+qXyOY7XHXr16hd9//z11vOuuuy7g+Vbb58za/sEHH0zF0QtVkA977LFHs8Pziiuu8FsIP/74Y+qauPvuu6M2H3/8cYPdowpyNo7+6GiwMWbW9cv7zvfOI07EqTmsgdym1U033VSuvPJKWXLJJfW+xEwds802m51X8zXvvPPK+eefLyrAyayzzprKOmjQIDn99NNT61DYoUMHOe6446z+nnvuSW0HTdOjjz6aWpfUxsUbVct31FFHyYEHHmhd3HTTTfKf//zHtH0777yzHH744bLIIouIvvhk5ZVXLjMP3XzzzaJCq+jbSlQYlBdffNE0eQsttJBsvPHGdWry4vOu67xnz57yzDPPSLt27eS5556Tyy67TPRFLdCsnnXWWXLwwQebdhRzJuVH4KOPPhI8R9Ass8wi0Hji2eO5Yy1AG3v//fdbfXP6wrznm28+WWeddeTll1+Opj777LObRhf1uN+GJBUqbb3+9NNPDTkM+yYCRIAINHsEcv3avfTSS+3Xsf5TDcccc0xYZZVVol/lamrJ1YciFdRcGKCFO++884x/woQJuXnBj48KTsb77bfflmkMXLOmQmdV/RblU9OuzUVNaWXj7b777hFGKgiX1ENLB1LzW0A7v7f4ERq7+HV9zq+++mobTwWPoCbtkn6POOIIq8NzUVNWSV19xpyReV0jh/WcvE81WYcvv/zSMFWXg9CmTZuyNkmepnLtGjk1tYdp06aFq666qmTue+65p92X339DauSaCiacB7UyXANcA015DeSOWoXvj2uYLrnkEhk7dqzeV3W03XbbyU477SQXXnihfPXVV9Uxx1ofdNBBdnXLLbfIn3/+GauZvqetW7eO/ATvvPPOssHhd+ZO2tCIxUmFYbu86667JI0XlfrGjLMUPofmU818xg/N37hx40r6gh8f5gkNi76oS+rmmmsu08zAnzGN4GcHzU2WdhU83bt3Fzz7/fff3/wAoRWsi7p162Z80L46YZy9995bdt11V1lwwQW92I5F5tm1a1cbA/cNTfO+++4ryy67bNQvfMX2228/ST67qEHGyYgRI+Sf//yn1c4999yyxBJLpLbEvam5W7CeN9tsM/NZTG2YKCzCVy2e0IJBEwftIgIOnOAbiL/9xx57zItSj9Aqb7HFFnZv+kPFcFWBNrWtF6IeeCU/+DvLIqw/rC/4pYLatm1rmB5wwAHmB1qJN6tPlhMBIkAEmhsCJb+4dfK5rpdaain7ZY6vPBo5ffmE77//PgxVnzE1yQb9R2v81Wrk9KVqfCrAhUUXXbRsrkU1a0X53OfstNNOK5sLtFtqgrL54n4dWxV6ovLp4f+jQoLNAV8aCRjNw+eDozq1W5unnnqqpP7xxx+38qOPPrqk3HnVId7qNTilrF7N6EHNxVYf/xo9enSmFtL7femll4wF/pQaQBI++OCDeBdhypQp4ZBDDonGLDLPJ5980vqEthnaJyc1M4czzjjDLwPWGvw2fW44ukYqTSOHehUMI/4ddtihhFeFjaA/ZkrGRGOMc9FFF2Vq8IryYT558XSNHHxP3Zd1k002sfl37NjR1u0dd9wRNLDH7i+pkVPhLbiWOgLgrxMVAIMK4iVYxDHdaqutkix2XelvJP7cVcAP+oOkpA8VRgM0pPFxeJ7vfzxxIk5cA81jDWT/1NUnWEs699xzZYEFFjCNnGupivTv2jhoCxAZmkUYC/5r0OJAm/jpp59aJCh88ypRtXz6QjetDTRZ8DWLE7QZ0BCosCoqIEVViExFOfyMEI0HbRZ8kdZdd12LWEUk7muvvRa1r+8JMHBCJGIaff7554LI3XjbtHZ5y7p06SIqfJmWCfjDTxCaqvXXX1/0hS0qDAi0RH379q3YJTSB8DFToV2ef/550+RijsAK/mi1IGiaMQ9EHkNDBt8sDfyQa665xsaAtgwatltvvTX3cNAqOSGy0wnP+tVXXxV1TRAVaK1PaKehVYJGENHc+iNJttlmG2exY1G+kk70oho877vvPvOLhRbu2WefFRVIbd1Ci5yloV1ppZVMg6kBURa1jXsDloh0hWYOEa54bmeeeWZyavZ3qgJkVA4NLv5O8tBGG21kWk1owbHuED3ep08fWydnn322qNCfpxu2IQJEgAg0SwQK/VqtRiOHX9TQeMS1PUU0ctBk6UvRfnHrSy913q5ZK/lZ/tcFtEea5qOmfPi1//DDD9sI+PWvQoFFxaq50iJEhw0bFnbccceSMVWYsfaapiIAx19//fWvGf7voKaroIJOCZ+urkLXJ510knU8ZsyYTH7XQKmwVdImrvFIGz9LI3fBBRfYmPoiL7sPHwvPUk1iJeP5GK5BAjYagBI0eKCknZpSA6JwvX2RebpG7pRTTrF+4JPoGlZEE3vf0CSDVICMyurSyLlPIvhUqIv4MBZIA26CmoejcoylAn7wSM2kFq8on99DXjzjGjnw4m8Wzwl+fjj/448/gpqiMzVymr4krL766iX35XNQ4dTuHVozPD8vzzo6Fnk0cugYWsJ4X9DYgqD11yCNkrp4O54X+79C3Igb10CTWQPFJpJXkMMLAKYWmBhhbvIHX0SQc0drmOZUIxD15X3iCEEOQRBIp6FaFDORIV0CggpAMF/FBQDnLcrn/Ko9KDOVwawIc5S38aObpSAEabJTS/Nw4oknWmoX1VQECFwg1dZZihLnK3r0QBUIJFl9wHQKAj7qVxS1KyIgQeCGGQ0UN3/62BAEXHhVrWk0ltfj6IIHTKgwrcbr0s6LzNMFubjQBMxB8QAUjfK1MtU2RfNIE+TUlyyotikAb+AIghnS59u5c+cIFwg8Xh4/wrQKwo8CLy/K5/w45sUzKcj53ylMy3gWqpW0efkaTppW42OmnbtQrLkMo/tLa4eyagQ5CPvJfmCKxpxB6vtYVp9sz+ti7wLiRty4Bhp3DTS4afX44483UwtSjmgknz7v4uRmVZjpkg773qtqgsykqv+7vciOSN6qL25ZeOGFRYU8S3qq/+SjNkX54KCtL+4ofccnn3wio0aNMudumBGRbBcO+u+//340ljtmw8Ee5kaYnVRzZ/VIp6IaPkvUC1Of5u0zs2TEXODE08TAlJtFXodkzWgPs19RgpnQTW8wPScJYyHRLHCJBxck2+EaKWQqpYtJ46m2LB6442b/tDJ/bvH+VdsaJf5FUADMiE4wkcfTucDsCFxg3se6QYoZEDD3owcBoS36UoFQivJZp4mvavFEsu1rr73WTM8IHIBZNS+pAGpBKQgqcVz0R4qxx03Pefur1A5/Z0lCQmb8XcFdAu4M+NskEQEiQARmNAQaVJBDtN6pp54qP/zwg8BPpT4EnxfVYlgXyNeWRciNlkbwATvssMNENTeCrX/goxTPFl+UDxGf8G2CDx52o/AXMV7U8JlTs6a88sorstxyy4kGetjUVBsVTRFCoAtxXvjuu++aTx181uBPBsG1PuS7bqQJIt6v10Fw8Jet11V7hLAMgqDsYyf7cLwh9FWiLJ++SjzV1sX9Jv3cj+jLhVzkUEsSfjCo24AVg8d3dsCuHPAHA55OENxB8Hd7+umnvTj1iLHgC4i/naJ8aR1Xi6eamm2uWIc4Ry7CSgShFL5pqmG2v7OstogUriX5ekr26YK5/5hJ1vOaCBABItDcEWhQQU7NRPbSgrYLKRPwcZpzzjntFP/44fQOwovCX5pWEPtC0l20hVYv7dd3rGnmKV5CEC4gZEGYiwtymUxakcWHFywS+oIgJLoQh2uMc/LJJwsSKUNohECnUYCoMgcgWS8AAEAASURBVC2cnegXtvFKIySahSBXC4f+4cOH2xBq5k0bqqQOmrikNjOTKaMCKSFA0Exm9YVnDfK2dpHyBUGmoSkubPm5HzG2n7vmLD4faKwQ1JKHoBUCqXnRkmLXxaP+aNakKF9a/0XwRMoaaNfwd1DXtmNY8/jRhueOAB/8jUHr7MIuEnnjR5lr6NLmWKQsrl0vwk8eIkAEiEBzRaBBBTmYNECIAsQnjfDLHHuLghCpl7YbA0w6+2k+L9DNN99sxyJf2NcVLxW8GLHDRF7K4sPeqHi5oz4tyhQvM/VNMkFutdVWi4bDHJzi2jkvw1H9g+yyLkEnzpN17oIcBFho3tLMpm7qqjaLfppmxZ8n9sl082BybhAMQN42We/XwLYWlDbPWvRbTR/qu2nNIRhqMERu1qJ8aQMUwRPm8TQTebJ//L1DC437Q4QrXASSpL6YySJeEwEiQASIQD0QaFBBTh35M9MH4CUPgQrCjvuuZJn0IOBBa4df9dWkgEjigkS0LsDFtWfJdsnrLD7XcGFerrVJ8roGw9uiHuY3mOFgYsPLD75USXItpb/Ek/XVXKtDetQcaTvSkrki/QkIqTHi5L5icW2q10NI83QlcW2VzxkCOPBOM3shYSzI23qfRY9F5ll0rKJ87iPqPmNZaybZf1G+ZD8NfQ3NM9YE1luaEAcfQmxdRiICRIAIEIHaIfA/z+za9Rn1hAz8yIqf9tEEutYOplSvh/YqjTzIAaadNKEgjSetTCPtIpNOXLhJaxsvy+L77LPPrBm0PfCBSyPssQpyYRXnCNSASQ6EvU7TyAWragTOtH5QBv897CELQrb9JHVXPzUEg4A00taO/uV4I49bkiAUQsuXJAhnbjrFGkgS/L+23HJLK0bOr1pQkXnWYtxq+sC9wlwKAR6BHnmpKF/e/mvVDrtrgOA2kWY6xT03Bc1ore6X/RABIkAEmgICDSrI1eIGsRUTfMVAlYIcUK854ixxq2uzUOYEPyb47IFgJoJw41SUD0lP3QSq6UuibYK8XyRSRTJZEITQOPm9IFGpC21ej0So0G5AW9m/f38vrtfxxhtvNP6//e1vopn6o77wYh0wYIBdI8EyksDGCb56IOAX3xYLGlX4PqYRtJAI4gDBJ8qd9XENzR22aIOGD0Ee2GatFlRknrUYt5o+4DPoP2CQIFvzo5WxQ/urKT8i30s0KMpX1nkDF/gzwDpBcEScsN0Z7plEBIgAESACtUWgKtPqoEGDUiPRdMP4aFYwE0IIqRVBqMGvewhMDz30UMVu4ecFR+szzjhDNNmufWC+grYJWicQfMA86MAK9KsoH7Qrup2TCT9INYLIWEQj4sW7/PLLy4YbbmhDQNOom4/7cHbU3GTm7wffP+xYgHQcEKSgnfS0FIiIRQRrLQi+hZq7y16wGAsaOmixMG/swgDfqSOPPLLMmR07MPz73/82Z3cIrjDL4nlgjkipApzTzGWXXXaZCSNwbIfDO8aEbyCEZmgp8Vz+3//7f7brRS3ur+g8azF2NX1gHeCHCTSjCNrBs4e2FgIudnRAyhmY4ZGuJ05F+eJ9NPQ5/g9g/ePHC/5W4TeKHVhwX9DAYh3AJzLt/wPWSfKHgUcJn3feedEPJtwDUqDUN5K7obFg/0SACBCB6YlA7kSZ+sJRJVFlUmEvV3+eaLTSXqsqMFhyX4yIRKUKSsWPBh/YnpwqJJRNUrVEQYWL1J0EivL5fFSoCSrUlI2pJtSABL9ZyYvBr87h0W4C3oH6ewUkytWXe8X79fHzHtVnzRIlo/84ARsVOjPHWnvttYMKwBGLRggG3QrJ9szN2tkBc9LACkuIq0JixIsT9REMwKzSvD2BLfb7rNQuXlftPD0hcDxBtAbb2Fx1y6doXCSUBsWT2KpW18qy9lqNzyvtHImSVbC1PuJfSHZ95513hqzdDIry5cUzmRA4be4oy0oIrD8Kggpa8VuyZODAC3ssZ81Dg4FKeCpdnH766dGzKZIIOuueWF75/yvxIT5cA01zDbT468HoYcYhaJiggYPPDny44GeGwIu6IvaK8jlycOyHZgGRoRgP2qqsdCrOgyO0MeBD3j3wYL51zTXOX+05nM7h04dEs9CcYb5IMQGza5YDPva8BA9Mqm+++aZ4cEGesWEuBC+eB3wT3Z8tD2+1beozz2rHqkV7uAEgKTKeCdKSYN14gEyl/ovyVeqzlnUIZOrRo4etE2hu8/wd1HJ89kUEiAARmFkQmCEFuZnl4dXiPlWLZeYw7DgA8yTy4jWkEFmLObMPIkAEiAARIAJE4L8INPlgBz6ohkUAfkxI7wIfRPg4ZWnkGnYW7J0IEAEiQASIABEoggA1ckVQmwF5kBIjvi3VDHiLvCUiQASIABEgAjMcAhTkZrhHyhsiAkSACBABIkAEZhYEaFqdWZ4075MIEAEiQASIABGY4RCgIDfDPVLeEBEgAkSACBABIjCzIEBBbmZ50rxPIkAEiAARIAJEYIZDgILcDPdIeUNEgAgQASJABIjAzIIABbmZ5UnzPokAESACRIAIEIEZDgEKcjPcI+UNEQEiQASIABEgAjMLAhTkZpYnzfskAkSACBABIkAEZjgEKMjNcI+UN0QEiAARIAJEgAjMLAhQkJtZnjTvkwgQASJABIgAEZjhEKAgN8M9Ut4QESACRIAIEAEiMLMgQEFuZnnSvE8iQASIABEgAkRghkOAgtwM90h5Q0SACBABIkAEiMDMggAFuZnlSfM+iQARIAJEgAgQgRkOAQpyM9wj5Q0RASJABIgAESACMwsCFORmlifN+yQCRIAIEAEiQARmOARaF72j3r17S48ePYx9wIAB8ssvv+TuqkWLFnLsscdK+/btZerUqXLOOedU5F1rrbVkvfXWk1VXXVXmn39++fnnn+X111+Xe++9V4YOHVrCu/nmm8saa6xRUpa8wHy//vrrqHiFFVaQ7bffPrqudPLhhx/KAw88kNqkmnkutthisvbaa9tcu3fvLnPPPbcMGzbM5nXbbbfJoEGDUscoUrjyyivLNttsI3/++af861//Su1i4403lnXWWUd+/fVXueqqq8raYL5bb721rLnmmjLPPPPI22+/LQMHDpRHHnmkrC0LshHYbbfdZOmlly5pMHnyZPnuu+/km2++kXfeeUdwTSICRIAIEAEikBeBoA1zfVq2bBl22WWX8N5774U4rbjiirn4fZxDDz00Yp84cWImrwp8QYW8qG3ypH///mW8l19+ebJZ2bUKeyV8++yzT1mbrIJ+/fqV8OKeisxz8ODBWUOEadOmheuvvz4Ab8esPseDDjrIxpoyZUpmf+eff761+eyzz8ra9OrVK/z++++p873uuutqNs/63GNz4X3wwQdTcfTCIUOGhD322KPsGTSX++M88/0vJU7EiWuAa6BWayC3Rm7TTTeVK6+8UpZcckkdW2T8+PEy22yz2Xk1X/POO6+o0CAqwMmss85akfXmm28WFbJEX3Jyww03yIsvvij6opOFFlpIoEGaNGlSJj80Ro8++mhqfVwbhwbQfp1++umpbVHYoUMHOe6446z+nnvuKWtXZJ64/8cee0yefvpp08RAowltFzRnG2ywgajwJd9//72cddZZZeNNz4KePXvKM888I+3atZPnnntOLrvsMvnxxx8FGlnM7eCDDzat6uGHHz49p9Xsx/roo48E6wY0yyyzCDSeO++8syyyyCLyn//8x9b2/fffb/X8IgJEgAgQASJQCYFcv/4vvfRSUxr89NNP4ZhjjgmrrLKKKxGCmiZz9aGTCGoODdDCnXfeecY/YcKEVN7ll1/e6tXMFHbffffUNtCEoc/4xzVyKnSWlMfbVHt+4IEH2ly+/fbbMu1T0Xm2adMmc34XXHCBjTdmzJiy8aqdO9rXRyN39dVX21xU8AhqCi+Z8xFHHGF1eJ6dOnUqqSsyz5mBxzVy+DtI3q+arMOXX35pmKpgHyqtkSQvr0v/DxAP4sE1wDUws6yB3MEO8OGB1gUag0suuUTGjh2rGFVH2223ney0005y4YUXyldffVWRWYVFq7/rrrvkzjvvTG2rb7zU8loXQjsGuuWWW8zPLN5/0XmqmTPeTcm53+/ss88eaUBLGkynC2hM1cxno0EjOm7cuJKR1fxrmllolPbcc8+Surnmmkvmm28+84MsqfjrAn52qK+klYXvINbM/vvvb/6R0ArWRd26dRPwQYvqhHH23ntv2XXXXWXBBRf0YjsWmWfXrl1tDNw3NNT77ruvLLvsslG/6mog++23n0CbWQ2NGDFC/vnPfxoLfCaXWGKJVHbcm5q7TWu72Wabmc9iasNEYRG+avFMDMlLIkAEiAARmA4IlGkGdMw6y5ZaainTHOArj0ZOXyJBTYVBgxOCmmTDAQccYPxpGjl9uQc1m1q9mhvrnEt8vrXWyOnL2OahgQJh0UUXLZlLfeYZn3PyXIM1bEx8qcmtZMxk2zzXRTVyKiRE81hmmWVS5/HEE09Ym6eeeqqk/vHHH7fyo48+uqTc5/vFF19YvQaZlNWr+T2oGT0a209Gjx6dqZ31fl966SVrDj/MxRdfPHzwwQfObkf4CR5yyCHRmEXm+eSTT1pf0FLDn9FJzczhjDPO8MuANQP/S58bjpU0cqhXwTDi32GHHUp427ZtG/RHUMmYaIxxLrrookwNXlE+zKdaPOP3yvO6/48SI2LENcA1UN81kNtHTgeqF5177rmywAILmEYO/nWVCJGp+vIxP6E33njDtDaIqFx33XUtYhWRo6+99lqlLmyso446yrQ+0CZ++umnFukK37RqyLVxL7/8svnnxXlrMc94f36uwo+dqrBj/nNePr2P0GQ5YS5p9PnnnwsiheNt09rlLevSpYuo8GVaJjy3u+++W6CpWn/99WWrrbaSO+64Q6Al6tu3b8UuERENHzMVvuX55583DTDmiDUEf7RaEDTUmAeipKEhu+KKK0QDVOSaa66xMaAtg4bt1ltvzT0cNHFOv/32m5/a38Crr74q6tIgKtBan9BqQ/sIjSCiwPXHlflYRkx6Ao1nEb54HzifHngmx+Q1ESACRIAI5EOg5Fe/suS6rkYjB60aNBdxrU0ljZy+tE0roekYAsbRlBh2Hf/SQIGgL/SyubpGLt7Wz6EF0jQmZTxZ9wyNm75MjV1flmV89Zmnj6mBG0HNzaa5uemmmwJ8EEHvv/9+WGmllcrGdL5qjq6RQ78aBJL60ZQuqA7xqNWTTjrJyuCrlzWea6BU2CppU0TThTHcP1CFlLLn62Phmcwxxxwl4/n8XIOENYN7VVeAknZqSg2IwvX2RebpGrlTTjnF+oGvpkf1Isra+4YGGqQCZFRWl0bOfRLBp0JdxIexQBqoE9Q8HJVjLP1BEUaOHGn1SS1eUT6/h2rxdD4e8/0fJU7EiWuAa6AGa6AYiHkFOThsqwbNTKUwG/mEKwlye+21l72UIHghTYdGSYYTTzzRUp+ceeaZAYIFSLV1lvrD+8QRghyCEpAWQ7UhZupSrU5A0AQIZqj4izzOmzxXvy/jgUkv6eiPtvWZp4+VlvpENTo1CXLwMeKCnN1Qha+4IOcBLhBIvK/kEaZTEHBt3bp11K6IgATBWX0vrb+4+dPHVJ+0SKhXbWs0ltfj6IIHTKgwrcbr0s6LzNMFubjQhLUIigfmaJSvlcUF8jRBrlWrVmZCB97AEaSax2junTt3jnDRiOaoPH4/MK2CVHMc1Rfli/dbLZ5xXp4X+99K3Igb1wDXQDVroMFNq8cff7w5fSPliEbk6dzqJtW2WCM4ksOshoS9SJYLQvqPhx9+2BLSwqSlee3M/GaV+qUaHYFJVd9pXmRHJGHVF7AsvPDCokKewCG9UsABmNysCvNe0tEf9fWZJ/hBSIWimjgzJSOQBEmP1b/LnOhVKKgq0fJ/e8z+Vq2orL766qkNjjzySDPRxSs9vUylNC9ep1opS0cDs19RgpkQJjyQCjxl3WAs9cmzwIV4cEFZQy1A6plkmpm0dvUpiwf8uLtAWpmvk/hYO+64Y5T4VwU5M8l6PVwH4ulcVBA0XOAWoD+MLPUO2gJzP3rwENrCvKsCoRTls04TX9MDz8SQvCQCRIAIEIEcCDSoIIeou1NPPVV++OEHOfvss3NM579NsLuAk2opIiHOy959911RM635ZsFvCoKWE3KcpRF8uQ477DBRDYyo4775GsH/LotUmyOq/bBqCFppVJ95en/w9Yv7+0GYu/3222WjjTayvG14GUMAqwVBuNVkzqlduaAcr/TdOtIEEW/ndRAcVFPqxYWOELJBELB97GRH/nwh9FWiLJ++SjzV1sX9Lf3cj+jLhVxEHycJz8KfK3h8ZwfsVoKdPYCnE37QgODvhryDlQhjwRcQf3NF+dL6nx54po3LMiJABIgAEaiMQIMKcmrusZcPtGRIfYCP05xzzmmn0CrAeR2kfkb28oMWzumtt97y05IjEqrCyb4ax3UktoWQAK0GhLlKgpzmjjONB7SI2IoqjRpinuoXaIlh1aRsmkxoHD0dSdocGrJs+PDh1n3Hjh0zh/E6aOKSWtBMpowKpCQBjRo1KrMvrBGQt7WLlC8IMg1NcWHLz/2Isf3cNWfx+WCbNyQAzkMIqgEhQTQ023XRH3/8YU2K8qX1Pz3wTBuXZUSACBABIlAZgQYV5BClCkI0Hz5phFxc2DsVhF0NYMKJC0hxrVecX5277bKuF3qcB/u6om+84LDDRBapr5flAUO9Z99Pa9tQ8wQeMK/BdAxTa2MLchB8oXlLM5t6lKUGaaRBlFmG554kXweaXDgyDybbqN+XFXnbZL1f41nXgtLmWYt+q+lDfT6tOQRDDYbIzVqUL22AWuGZ1jfLiAARIAJEoDgCDSrIQauENCJphJc1BCpocT755BNr4qY5mJlgboIpCcIghJokuRbPX1bJ+rRrJJR1Ac59itLaQaBE/zB9VUod0VDzxJwgTIIaU5D4+OOPbQ74QtoObCmWJKSFASHFRZzcVyyuhfV6+HB5upK4tsqfJe4dz8nNqM6HI7ZnA3lbu6jHV5F51mO4QqzuW4pExO7/lqejonx5+mYbIkAEiAARaBoI5N7Zoch0kUkf2e3TPqeddpp1CT8ir9cIOStDYAFMTyDs6ZlGLkBUEsiSfBplGjmVx4WUZDsPcoApNk2Y8PYNNU8Ir8stt5wNg31gG4uQew971oK22GKLsmnATw1BJCBN4GtH/3LckMctSRAKoeVLEoQzN51i7SQJ/l9bbrmlFSPXXC2oyDxrMW41feBeYS7FDxvsUJGXivLl7Z/tiAARIAJEoPERaFBBrj635wEGmoZCXGjz/rBlExKjQpvXv39/LxbNEWcJWF1bF1XoCfyR4LMHQkQkhJQ0whZO8L0D+RzS2nmZt6lmnpq2wnydEFCRJDiow+EdmjgIis8++2yyyXS9vvHGG228v/3tb7LJJptEY2N+AwYMsOshQ4bIfffdF9XhBD6MIOAe3xYLmlj4TKaRpogRBLeAjjvuuMhZH9fQ3GFrN2j4EJiB7dJqQUXmWYtxq+kDPoP+wweJtTUvYxk7tM2a0kc0nU1UV5Qv6oAnRIAIEAEi0CwQiPJO6Wwrnqt2KCA/l39UkDLyaxw1orRiHz5GpTxyaKMmpKBCkvWPHHAPPfRQQJ4tFWz+O6h+9+vXr2QsTelgdZiHmpUsATG2kNIAgohHNTBBTVQlfD4nHPWFaW2RdFaFlcx2zlNknp7XTX2egppnbTsq5BdDEmD1RYrm2qdPnzrH93lUOvp4wCWrnTrR27jxPHJoi9xu6rdodeDXCNugKWCC+gdGZRo5XNavChZRzjdsAK++hkHN1JYTEP2p8Gf88VxsGE998QKSAYOQ5FaFRXvuWFcgNXcH3ce0bDy/L897hi26vKzSscg8PY9cPB+hY6TRxtG4yF8I2nrrraOytDxylebndcg15znvgIFqi4PuKhEuu+yygPl4QuLzzjsvGgu8Rfl83GrxdD4eK/8vJT7Eh2uAa6CGayA/mOrLZi+mSl8Q9vJMri5Bzvs466yzopeUj6t+TQEJYVVLUzKWBgbY3poQkJIEYRAvPQgK3nfyCKFMzXvGqsEZme2SfLiudp548Xti4+RcNUo2qPmxqvHT5uRl9RHk0If6rFmCZeAeJ2C64YYbZs5z7bXXjnaqAB8EwUceecT22kWyZ1DaXqt4RkiIGxdq0RZC78Ybb5w5HuZaRPCodp6NIcj5s0SiZBeigYkTklZrUEzI2pu4KF8RPH2uPOb/30qsiBXXANdA0TXQ4i9GPTRdglkNZkjkpVPtmu2bWSmKDvt1wn9Lt2MyXyz40SHwohJPLe6+2nnCqR/pU2AKRhoPRH7CTBnfY7MW86pVH0hcC9895LZTodgiWW+44QaB2dVTbSTHQrALeGBSffPNN8WDC5Lt0q5hLgQvniN8Gt2fLa1tfcvqM8/6jl2EH2sGSZHxTJCWBOsbpum6qChfXf2ynggQASJABBoHgWYhyDUONBy1EgKqxbLktNiJARvZwzeroQXlSvNhHREgAkSACBCBmRGBmghyrRS5BVu1kO6ztpJu+pmrTWuZrVVLaduyhbRSbRppxkRggYXmle322Etee+F5+fDd9zVdC6yeJCJABIgAEZiZEZimgYiT/wwyftqfMnLKVBk2cZoM1c/3+o6ozT5FMzO65fdeWJADI4S3VTq0kR4dZpVF2s8i88/aRuZu21rmbNNK2v0lyLUUCnLlsLOECBABIkAEiMCMicCf6u4GQW6CCnJ/TJkmv06eKj9OnCLfjJskn42ZKO+OmWJCHX/61+b5FxLkFmvdQtbrNKus3qm9LDdHO1moXVsT3GozJfZCBIgAESACRIAIzGgIQLD7bsJk+Xj0BHnr93Hy8u8TZfBUinP1fc5VCXKdtPWGc7aVzbrOYULcfKqBg8YNj2GUqk9/mDBFhk+aIr+p9D126p8qkf8psLbxMdX3MZGfCBABIkAEiEDTRwBChRrr1LWqpczeuqV0Vitd11nayALt2khHdbtCPTR2P6mGDsLc08NHywt/TJbfKSgUfrjANBd8S+kD2XHe2WWLrnPKYmpGbaO+bxNVUPtm/GT56I/x8sVYlazHTZbvJ0yTYSq9jVK1Kna7zNV54emTkQgQASJABIgAEWhKCECwwCaTHdVPvptKdQu2a6VyQ1tZavZZpeecs8kis7WVWVXQm6K+dIPV3PrE8D/k/p/HyheqACJVj0CdghwarK4BDH0W7CgbdplDuqh0DfCHKPgDR46V138bJ2+pvftnFdxIRIAIEAEiQASIABFIQ2BeFexWV7/6tTq3l15zzS6L/qUU+kWteC/8Mlpu+36UvKVBEZQm0tDLLqsoyKGy12yt5JDunWWdzrPL7JqzChEob4wcJ48MGyUvjposvxHxbHRZQwSIABEgAkSACJQg0FmFiw06tpVtunWUNedqb5kuxk6bJq/+NlauG/qbDBxPYa4EsDoukDnkjKw2a6gm7rBFOsv6nTtIeyQeVSfFh34eJTd8+7u8NG6qjM9iZDkRIAJEgAgQASJABFIQmKBln6vmbfAfE8zLHj50Xdq20cwXbWXuWVrJTxrZ+iODIFKQSy/KFOTgE3fwwp1k43nmMCHum/GT5I4fR8pNP46RwcwXlo4mS4kAESACRIAIEIFcCIxQl6wvRk+SEKbK/Jr9oosKdN00iHI29asbrOW/0WUrF46pghyiU/vM30G2m7eTdNIoE2jiIMTd+vM4AfAkIkAEiAARIAJEgAjUF4ExKlJ8NW6KtA7TZOHZZjHN3DwqzE35c5p8MmaSTKzvADMBf6ogt6Xarvss1FkWVgkZPnEwp0ITRyFuJlgRvEUiQASIABEgAtMRgfEqzH2rwlxHDXVFAAQ2Fuikn+HjJ8pnaoIlVUagZbIayX6RJw4pRhCdisCGu38czajUJFC8JgJEgAgQASJABGqCwE9q7YOsAZkDsgdkEJNFVCYhVUagRJADXL5jA/LEIcUIolM/nsLcLpVhZC0RIAJEgAgQASJQHwQga0DmgOwBGQS7R0EmoShXGdUSQQ57pwI47NiAZL/IE4cUI/SKqwwia4kAESACRIAIEIH6IQBZAzIHZA/IIJBFIJNANiFlI1AiyK2iifqwdyq23cKODUj2yzxx2eCxhggQASJABIgAEagdApA5IHtABoEsApkEsgkpG4FIkEPUQ48Os8pCGuAAqRjbbmHHBhIRIAJEgAgQASJABKYXApA9IINAFoFMAtkEMgopHYFIkIPqchF1LmzXqqWM0khV7J3KbbfSQWMpESACRIAIEAEi0DAIQPaADAJZBDIJZBOaV7Oxxr62RovoLg7zqz0a9MOEKbqR7WQ75xcRaA4IzDHHHLL88strYskgAwcObLJTXm655aRjx44yePBg+fnnnxtlnssss4y00p1aMIfx47k/S6M8BA5KBIhARQQgg0AWQS5byCbdVUYZqjtKkcoRiAS5bgoScreAhk+aokmAK+du6d27t/To0cPaDxgwQH755Rc7z/PVQqNRjj32WGnfvr1MnTpVzjnnnDK2zTffXNZYY42y8ngBxv3666/jRdE5ePfaay9ZfPHFBS/5IUOGyFtvvSXXX3+9TJo0KWqHkxVWWEG23377krKsiw8//FAeeOCBqLroPBdbbDFZe+217R67d+8uc889twwbNszu57bbbpNBgwZFY9TyBC/xPn36yJJLLinzzTefjBgxQr755ht55pln5Pnnn5cJE7B5SvOjnj17yiuvvCJ/qoMshJRqaXrh0rdvX9l4443l73//u1x99dXVTrMm7V999VXp1KmTrLXWWvLGG2/UpE92QgSIABGoJQKQQSCL9JR2JptARhEKcpkQwwwdDu/WPnzRa5EwYoMlwhVLdA5dWrawctT5p2XLlmGXXXYJ7733nio+/kcrrrhi1MbbVjoeeuihEfPEiRNTeS+//PKoTdaJClGpvDfccEMWSxg6dGhQzU0J3z777JPZPlnRr1+/Et6i81RtSLLr6HratGlBBc4AvCvhWE2dCs/h4osvDlOmaIaeDPrss89qNl41c6tF2169etldAbtq+pveuDz77LM2z8MPP7yqeVZzT3W1HTlypM3h/7d3HeBSVEn3Ss5IEpAgmANmTKsiZjHnHDCucfUTcwIxoP/qIoZ1zajrCq5ZzAEDBowoJkygKKKIBAGR4P3r1FptT0/PTE/PvHnp1PfNdPftG0/fN31e3aq6m266aaI+yD8V/rPPPvNCdhPlL9Q+7//5m0osiAXnQPwcAAcBFwEnATcBRyFW8VgFGrmWsrdqC1mLhsxb8rubHdmKa/vtt3fXX3+9anKQB0syLVq0wGlR0rVrV3fFFVc4IXCuWbNmBcu+9dZbbsyYMbH54rRxp556qjv66KM1/x133OH+85//qJZr3333dfLydL1793b33Xef22CDDYJlJWi/Bg8eHNsGElu3bu3OOOMMvf/f//43Nl+x/cT4H3/8cffMM8+oRgwaTXmxut12283179/fHXPMMW7q1Klu6NChse0Vm3jaaae5008/3QmRUzzR9ssvv6xaOWizjjvuONe4cf3zDKqPuFx33XWuefPmbtq0aYmmEbTa+Ftv2rRpovzMRASIABEoFQFwEHARCLgJOAolNwLKcs/r0cZP77+yst8hK7TNYr7Dhw/X/+Llx98LIfAbbrihXuNLliaz8ktzsWn333+/hxZu2LBhWl6W8mLzmaZLyGPs/Vz1y9Kn1vv2229nlTvwwAP1Hr6EmGbdz1WnEEMt9/XXX2dpydL2U0hTzvavvPJKbe+XX37Jai9XH/Oly0tbMUelGEtcXmj/tt5669h7cflrWloajVx14FITNHLFPrv58+frfFx//fVr7fwodszMH//7TVyISyXnALgINHLgJuAolWy7NrUVaOQait0aYrZAIso4Tfvmm29Uo3X77berjdlqq62m6cV87bHHHm6fffZxl156qWqhiimbJG+jRo0Cu71Ro0ZlFXnssccCTSK0ULALSyLQjkHuvPNOtcFKUqZQHmjGcgn6ftZZZ7lWrVqpBvTTTz/NlTVROsYKbQpsA++6667YMrAtGzt2bNa9Ll26qOb0p59+cvPmzXPQqPbr1081quPHj1e7vqxCoYSePXu6tdZay3Xr1k3LT5w40ckynWoGQ9myTq3dmTNnOiG0eh82fdtss41btEhiHL7+umosswrmSIBWtUOHDnoXmijUUQou7du3V1zmzJnjhOhktbrccss5zEdZxlSssjL8kYB8wBP4A8/vvvsuK2vnzp1VgwbniBVWWEFt2+QfFffRRx9pXjFtcPi88847DvhGBZrWtm3bRpPd7Nmz1UY1egM2pRifiZB8PQX+s2bNsmQ9Qmssy9kZabwgAkSACJQDAeMi4CbgKJTcCCjLvbDn/5gv2C/OJXvejxA5/S8dX0k0cvIi9fKjrzZqskzjjzrqKC1fbo2cvGi03osuuiir/2Lg7YXM6H20X2iMuC8ve80vL1q/4oorZpVJq5HL17Y4amib+BKniKw285WNuyfkWeuDfZwQh6LqEw9QLXvsscd6aEejgvGLc0FWnQMGDPCmHY2WEULoDz300Kwy4b6/9NJLWgz2lLK05ydMmJBRDcYiy8FBHfk0cuJM4sXZRcvfdtttgZazFFyeeOIJrU+WZoM+hPs/adIkvS9ONBn3TSMnzg7etNzhgcG+M6qtfeqppzQL8sMG0ATPZMiQIXbpMUdh7xnuB8532WWXIE/4JJeNnPwTEc6W91xIZlZ70fZ5nf+3lPgQH86B+DlQLC+przgGGjkBoErl8ssvd927d1eNXDEhD1AGdm/QBkAr+PHHH6s2BjZmcfLwww+7gQMHuoMPPjjLvgx2ck2aNFHPzKeffjqueFaaaeNgTwbP11xSbD9z1YN02G1BhAyURXNptoTQEAmBVRtFbaCIrzPPPFM9gKEthD3g6quv7oQ0uFNOOUVtCI888siM2mQZTjVe4hij3sKff/65g2YHHsKyxO3gmQvP3YsvvjijXPQCns0PPvigExKtXrWoB3Nhyy231PLR/NFreOc+//zzOvdgG4a5JMxEs5UDl2h7Sa/Rj1VWWUXtNaGJQz+BJ+w74VEKzXVUYOMJr1d4ZAtxdRgPML3xxhsVix122MGdf/75WVpX/N2Ik05QHZ4V/g5yCZ6vOMYEt9FXzJ1///vf7ocffgjScVLM33JGQV4QASJABIhA2RDQ/6iLZb7FaOTwnz80CUKegv/ek2rk4tQB0HbIclRQlyARnEPj9Oijj2oxIV8e3oHwboUXKLR1EuLD77333kH+cNnouThjeFna07qOOOKI2DKmkSu2n9aWLD16aIagSRHnDA8bRMh7773ny2WTBPs3Cb0SdFHIrj/ooIMSaedMI4fCUU9LCUGjWiA8WyEiGfiIw4bfeOONM9JszOLQoX0REuBlCS82j2nkZEnXC7Hw4qSSkQ/loIWzOuM0crKk62U5UtsSB5sgr5UpBZdSNXLoVFSbBxtF07jBBtX6aRq5Cy64QNPgaWuaZwndE+SDxhsiRDdIszrCx2K9Vmkj9+fvSxhHnhMXzoGqnQPF8pJ6/Dz+9yCKBSwpkcMyEZbYsKQZftknIXJwLrj55pu9aBl0CUm8Tb3YNunLCstI4Rd59AGK1iF4KWoB+XrxxRe9BGPN+5IL1yNaPS06d+5cL5qh2HIgcqX0EwQuKqJhCZb/wv0p5RzPS2yqok15hJY455xzvNi+xY7PiBzCtoBARPtghAs4RO/luzbSseuuu8aWs3qxhIql1Xx14V6UyIEEiyewjvfCCy/MWT4tLqUSObGFi12Sxj87ELFlDPpsRG6vvfYK0iT+m+aDA49hI5pHTSv0DwCJXNW+fOx58EicOQdKmwPF8pJ6jHfVErnzzjtPXy7wUg2DXIjIiXF8LHGQJT21s0OlICZReyJcw5YLxBEfxLyTQLdeloS0HyhT6EVn/UQ5COyWLC16TNtPq0eCAntxIPGybOVBmsyGDy/lTp065WzXyhdzFIcHD9sskCTT/OgA5Quax9133z2rPSNyN9xwQ9Y9tG32VCDJufoiTgYesQahwYPtHD6yRK5NyzJ4bDkjchJ8OfZ+tK0wkYONoWmszj333ILl0+BSKpGDhjg6BlzLUrXiIo4LwX0jcmFPa5ubYSIszjxadquttgrKxrVBIlfayyUOU6YRU86B8s8BErlkmFZpYBbYAIk2xH377bfqqSoTPbHAe0/eSln54cF5wgknaDqi8csSVEYe7NyAqPmwf8J2SIgXB09H2LAhfh3KYAcAMYDPKBe9QOwsWR7UZMSjyyVp+2n1vfbaa2q3Jsb/avcE2zOkoc+w7UqzS4HVHT0KSXRCyJy86HUnCSFuutMF7JzgpYj4erBbi5NcMccsHd6pYRHtndp8wbMSHq+yVOyEkDghQPqxXUEKxSaDnWAxApsxeCNjGywIbOsKSSm4FKo7133DLXrftu2Cd2pUwnahdm5H5MU4IPB2phABIkAEiED9QKBKidxVV12lIRokLpoaxCOkhH0sHAJe+JZW6KVujwQvagvfAWJmYgbjuAbZg2G8CfKLdlBDNMCAXpYT7VbsEUbn6BtCZYhWKjZPocRc/cxXDttlwSkDW2UhPIbspJEve+p7orFyCMeCQMBwQEA4DuBvgY+jFSN/nCCEBQRhNMICrBGuBYQNjiVwagDBFi9U/ZijAYhXPsE/AcUKxoFAytj+Dc4q+++/f+IqisUlccWRjLnwtHQ4PESxQYgSEzu3I9LtHPOWQgSIABEgAvUDgfxv0RIxgBYMAu86aBrCn3/84x96Dy9dS8fuEUkEL2jsEQpBXDOTvn37KvnCfWi1ogINnyzZafJGG20UvR1cw0MPnq+QkSNH6jHNV65+FqoLeGBPVwjGVNUCUgVtGQQx3+LEYrBF71l62JsRzx1ECsQCe9hiP9ohQ4bo3qLwnsQH2CSRpPnCdSFeIXbqsF0xxM7S9SqggQ2Xt/MkuFje6BHzOp8YbtE8lg48jZhF8/CaCBABIkAEiIAhUKXhR2Q/0ZxhDqBxQJBYkCssv0Es8Kt1LtcR2wsZgQtr3Ww5Tey/cr4EoXmCWN64NrBNFrSEqCdXAN24ctG0XP2M5ou7BpmEFCIEcWXTpGG5GUutCJwbJz169IhL1meIG+LwEdzHcje0SR9++KETD+Ig3U6wXIyt0qpCQH6MlCLkDUJybLHFFu7ee+/VkCXFEsNcuCA4MiQOL4wdIVIgubRjhfBEyJCaImbiENUQ1pT+sR9EgAgQgfqMQKxGbpkyIYIlLSwPxn0kYK+2Arseu2/askLNH3LIIcGyE8iCiWz6rqcgP7CPixPYzEGMPMblsdhxWBqNi7QfVyYuLVc/4/KG06DRsv5jH9hSBXjkixuG+gvhApJn5DLcH/Gk1EvYwJnYrgBYPo97+cMesBIEFUQczwDLv9jH9pJLLrEu6rEUXGxexNngIcadON1ktBW9ECeF2GcioXE0K3ZuqCkiIXu0K9Hl85rSP/aDCBCBuolAubhI3UTnz1EFRE7ixbvf1UHCuQbVjB62LEJgU2jFogL7MdjeQRD8FwGCTRB8FlsiQSQchsNWQ2E54IADVEODNJC0OIGmBEuBkHxODriftp8gP3C8gENFVGDnJ/vRKtHB1k+yE0A0S9HXcESAdvTkk09Wm8VwBdAYwR4QQXohuXDBNlFwXAkLSBKWfqHlAt4mtk0UsJRdBSxZj9hKCpqySgk0W7DLg2Dbs+222y5ouhRcbIyYj2HtGjTNsAktJFhCjQZDhj0ktIcgoAj8W1PEtN6YJ4UIak3pM/tBBIhA7UYANKThH1wE3AQchZIbAaDjz+wuW2j1W0k3qB3Wu50XfYKm4559EHMMcb3sI0suKnaNYzhsgpWLO+YLP4KAvRDUJ84GGkj4ySef9OIIoOn4Eo2Ij9seyMoiD4Lrio2bl5eihiBBGgShMkRTFIwr3D9s7QVBOA7R2MTmsfzWVrH9FI2ftiHLgF6IhvYHQXoRBFhIkd7D12GHHZa3fetHoaN4Dwd1IriraHu87KzgEZcP+JogkHK0Lgs/gjIQhAURIu3HjBkThDDBdbScxUPDGMeNG+eFvPkHHnjAY0u2sWPHah9QnzilZJVFXRZ+BFt0ReuOuw6HH4m7j3kAEfvDIBByKbjIsrlHsGII4tWhfsR+w7wENrYlWDj2G/plW3QhyDFElm4VT2Bvzz4ak8/Cj4TjJqINiHg3B/jgeULCIUkQgw+4hz8WixHPIZwuGvSgrjCG2267rdaLL/xN4e8HzxcfIa6xZcLlef7nbyixIBacA8nmADgIuAi2Df1GuMkZ3VrztybExyLz6H+gntilpZ+0eW8F7bpVOvhODbKDvyIGWyEB2Ys0EHudj8iJlkf31gQJiApeQiNGjPCibYutF23jxQNSFBWQGNGC5AzuC3KH4L4QcdDIWb+NL20/UQ4vYrEJjHZRr0GeZHmuYPvWj0JHBDNGUFzE1IsTEJFBgwZ5kJNoXUbkQD5BciXcRVAFzhFMOFoG14iBN3r06CAvTmQZ3YOwYq/dQkSt0P1om4WInITk8OK8oP1BDDjRROo8SIsL2kcMQBAbExB6xHLD+LD7CCTXXqvYJUO2PfPY3cIEeKI/0bGVQuTEqceqL3gcPHhwVtvWF7E1VBKKQM5GOFGhaM1zlrGyPCZ7cREn4sQ58OccAAcBFwGRAzcBRyE+f+ITxgKKS4DjDuzQ1J2+UmfXq0VT99yMuW7YZzPcxMV/hjtAnkqLkAH1NoTNFZZ0sMSDJUIs5SUROERg+RJLrCgnGr0g1laS8knzpO0nbM4Qtw1LyHC+QGwx7Ocq2sCkTRedr2PHjg5LinA0gcE+MEGIj1yYIvSKEBYnG7Q7CYysS76y9ZZD/DLY75nzSK6OoB2EIEFbsKOzWGe58ldXerG4WD9hewh7RiypYs9Uc4Kw+4WOKA8PaiGBbsKECQXxLFQf7xMBIkAE6gICazdu4M5dtZPbrlMbN2XBb+4fX/7gRs38X6zMujC+co9BWW7/lo38E+str+z3+Q26+53bNCb7/R/Jrdc4hDVyMvHqNRYcP58/5wDnAOdAZeYAOAi4CDRy4CbgKMQ+HvvA2WHKwqXuu4WLBSfnujdv7FZq2UTP+UUEiAARIAJEgAgQgUoiAA4CLgIBNwFHocQjEBC5qUu9mzz/N/fr0t/dso0budVaNXNdq9t9Nb7PTCUCRIAIEAEiQATqKALgHuAg4CLgJOAm4CiUeAQCIgeu+8kvC903vy5yMJxbu20Lt3Hr/LGw4qtkal1CQOzZcwZXrkvj5FiIABEgAkSgZiAA7gEOAi4CTgJuQn1c7meTsbPDO78sdh/O/dWt0qqp692iidusQ0s3bu4iN5NEODeCdfwO4ppRiAARIAJEgAhUAoEOwt7APcBBED8OnATchJIbgUAjhyxQXb45a76bJuvRzWSboc3bt3L9l22irDh3FbxDBIgAESACRIAIEIHSEIAGDpwD3AMcBFwEnITLqvlxzSByULy9PGuhArdYltRWbNnU7dZlWddH3IApRIAIEAEiQASIABGoKgTANcA5wD3AQUDiwEm4KJgf8SyG9uUS7575Ya77UowLG8v2TZu2b+n279aGjg/5ceRdIkAEiAARIAJEICUCy4uDA7gGOAe4BziIchHhJJT8CDSU20OiWab/ttQtK3dWFq+Rjk0auc5NGzvvl7jP5y92C4hpFC5eEwEiQASIABEgAikR6Cgk7pCuLd0+y7dzXYRvzFi0xD04bZa7f8YCtzBlnfWpWCyRA3AzFix2yzVp4FaQWC6dmjR23Zo3cY38UjdFyNw8krn6NEc4ViJABIgAESACVYIANHEgcQd0a+9WkJ2l5i1d6p79ca67c+pc9+3vJBtJQI8lcig4UwCcuWCR69KskevWTMicsGSAvKz4uf40f5GbQYCT4Ms8RIAIEAEiQASIQAQBDXMmNnEDe7RVTRz4BWLGvTJznrv161nu/UXVu0VopLs1+jInkUOvp8na9Iz5C13Hpg2F0DVWzRyMEHtKtOWGSxe7H2UJ9tcaPTx2jggQASJABIgAEahJCCDEyIB2TdzAnu3djp3b6HIqNHEgcTdPmene+JVR44p5XnmJHCqauti7aRKMr0XDZdxyQuZgM9dLyByiLvdo1tC1/P13N3fx71xuLQZ15iUCRIAIEAEiUM8QwI4N27Zp4g5Yvo04NrR3fdu1dK0aNlSbOCynQhMHEscF1eImBrSbiTBbrVEDt3fXVm5A57ayD2tT9SpZKCRusiy/TpyzwE2at1C8TBa5qfIQpks8utmy9MoQfsU9DOYmAkSACBABIlAXEMC+UMsKcesiSqAezRvq/u1QAGHHBgT7RZw4hBiBd+qTP8xxD34/z01awuXUNM8+MZFD5e0k99Ztm7gdRBW6sTDp5UVD10DCBYMJzl68xH3762L3w2+L3UzxOJknD+Q3IXowpUvEFNP0nmWIABEgAkSACBCBGoMASIXwN9dUiForUQB1+CPyRXcxycLeqbiPHRss2C9CjIyds8jNIlFI/QyBadHwrdRoGdevXTMlc33aNBebuSauecOskHSpO8WCRIAIEAEiQASIQN1CAM4M2DsV225ZsF/ErqWUhkAqIocmUbCHqEw3lM1t12jdzPWW5dZuf9jQtW3cUIldE6Hl0NhRiAARIAJEgAgQgfqBADRui2Q5DsRtzuKl7idZpftOttuaLMuon4jNPfZOxbZbpHDlmQ+piVy4eXhMgNT1EueHLvJpL+rTFqKhA5FrKBGaKUSACBABIkAEiED9QGCp2L6ByC0QIvezmF1NXygxaOUD8kZ/1PLPgbIQufJ3izUSgeIQaNOmjVtnnXVkBxLvXn311eIKVzB3nz593LLLLuu+/PJL9/3331ew5T+bWnPNNV1D8RRDHxYsWPDnDZ4RASJABIhArUMgNZHbcccd3RprrKEDvueee9yMGTMSD34Z0dINGjTItWzZ0i1ZssRddtllectuttlmrl+/fq5v376uW7du+gJ8/fXX3f333++mTJmSs2zaclZhVfZzp512cptssok1FXsErl988UXsvbSJeIkfdthhbtVVV3XLL7+8+/HHH93kyZPds88+61544QX366+1MzLg5ptv7saNG+d+FwcbkJRipVK4PPfcc27bbbd1J510kvvnP/9ZbDfLkv/nn3927dq1c/j7eOONN8pSJyshAkSACBCB6kMAy9SJPg0aNPD77beff/fdd0Xx8aest956icpbO8cff3xQeOHChTnLCpHyQvKCvNGT2267LbZs2nLWPztWZT+vvfba6HCyroXsxY7P+lfMEZhcffXVfvFicfjOIZ988knZ2iumb+XIK0ROR7V0qejuE85n5Ks0LkLktJ8nnnhiUf0sZkyF8gqR0z5suummifrw/vvv+88++8wL2U2Uv1D7vJ/s95Y4ESfOAc6BJHNANtxKJttvv727/vrrVZODEliSadGiRbLCoVxdu3Z1V1xxhRMC55o1axa6k306cuRId/jhh+ty2a233upefPFF99VXX7mePXuqVuO3337LLiQpacuFK6tEP9HeW2+95caMGRNuOjgvpzbutNNOc6effroTIqftPf744+7ll19Wrdzaa6/tjjvuONe4MSL/1C+pj7hcd911rnnz5m7atGmJHvbKK6+sf+tNmzZNlJ+ZiAARIAJEoLIIJPove/jw4fpfvPz4eyEEfsMNN9RrfK277rqJ6pBheVkO9dDCDRs2TMvLUl5sWbF30vuLFi3yBx54YGweaFNQZ/iTtly4jkr00zRyQo4z+h/tRzmu5aWtmAPQo48+OrY9aFu33nrr2Hvl6ENV15FGI1cduNQEjVyxz2L+/Pn6t7j++uvX2vlR7JiZP/N3lXgQD86BmjsHEmvkvvnmGyfLQe7222930IStttpq8lyLkz322MPts88+7tJLL1W7rHyloT2CjB492o0aNSo2q7xdstLTlgtXVIl+htur6nNo3KBNwXO76667YpuDbdnYsWOz7nXp0kU1pz/99JObN2+eg6YS9orQqI4fP95Nnz49q0w4AdrTtdZaS20bUX7ixIlOlulUMxjOFz23dmfOnOl++eUXvQ2bvm222cYJuXewkZw6dWq0WM7r1q1buw4dOuh9aKJQRym4tG/fXnGZM2eOE6KT1e5yyy3nGjVq5GCPBqxyCfIBT+APPL/77rusrJ07d1YNGpwjVlhhBbVte/vtt91HH32kecW0weHzzjvvKL7RCqBpbdu2bTTZzZ49W21UozfgOILxmQjJ11PgP2vWLEvWI56BLGdnpPGCCBABIkAEKotAqv+yhcjpf+n4SqKRkxeplx99L84JXpZk/VFHHaXl4zRysuTqhXTo/aR2PAKZT1sOZe1TiX6irUpq5IQ8K5awjxPiEIzVxpzvKB6gWvbYY4/10B5GBeMQ54KsOgcMGOA/+OCDaHa9FkLnDz300Kwy4X689NJLmhd2irK05ydMmJBRF8Yiy8FBHfk0cr169fKyJK/lYVcJ7SPaKgWXJ554QuuTpdmgD+H+T5o0Se/vueeeGfdNIyfODt603OGBiQmBF+KVUeapp57SLMgPG0ATPJMhQ4bYpRcy6MUUIaMs+rTLLrsEecInuf62zjrrrHC2vOdCMrPaC+PA8z9/W4gFseAc4ByoijmQWCMnjZckl19+uevevbtq5AqFPIBnapMmTVSDBK862NJtscUWbsstt1SPVSEI7rXXXsvqT9py4Yoq0c9we8Dk1FNPVVs1aD0//vhj1Tbl0+KEyyc5N1s7aIiEQKuNYpJy4Txnnnmmg60UtKOw61t99dXVfvGUU05x0HYdeeSR4exOluFU4yWOMe7NN990n3/+uYNmR0i/k6Vyd/fdd7uVVlrJXXzxxRnlohfwbH7wwQfdiiuuqF61qAeaIcwFlC8k8M59/vnnde7BNgxYCzPRYuXApVD7ue6jH6ussoq77777VBOHfsIeVJa+1aMUmuuoQCN+zTXXqLczvHQxHmB64403KhY77LCDO//887O0rphXN910U1AdnhX+vnIJnq84xgS30VfMnX//+9/uhx9+CNJxUuhvOSMzL4gAESACRKBKEEj1H3UxGjn85w9NwtNPPx20lU8jt9VWW6kWQMJieLQjy3pZWgEx1vey/BbUJ8j4tOVQFp9K9RNtmUYua2CSAG2OLLdljM36mOYIDZSQqaCphx9+2B900EGJtHOmkUPhqKelhKBRLRCerRCRjP7279/fb7zxxhlp1vfddttN+yIkwMsSXmwe08jh2Qux8L17987Ih3LQwlmdcRo5WdL1shypbYmDTZDXypSCS6kaOXQqqs2DjaJp3GCDav00jdwFF1ygabANlSVOHRe8ui0fNN4QIbpBmt0LH4v1WqWNHLUI4fnDc84HzoEaNwfSdSgpkcMyEZbYsFQaftnnI3KHHHKIvpBAaCRoqRe7IX/22Wdr6BPR4HixmdL7oq3T8BE2qdKWQ/lK9hPtgch9/fXX/uabb/aiRdElMtHOeDh3QLBMFiYqNsa0RzwvsanSusNfCC1xzjnneLF9i335G5HDknicc4kRLoynmL4Z6dh1111jy1m9WELF0mqhuqNEDob5EttQh3rhhRfmLJ8Wl1KJHOZ03JI0/tmBiC1j0GcjcnvttVeQhrkPCTsCieZR0wo5JZDIpfvNKzQHeZ+4cg5wDlTTHEgHfFIid9555+nLBV6q4QHmI3InnHCClsGXLOVkad6grQDRgey///5BvWnLoV+V7Cfak2XgWGIkS5ZqR4ixgXhF7aXCGBZ7Lg4PHrZZIEmm+UE7EHEq8LvvvnuApdVtRO7sGiwcAAAqPUlEQVSGG27Iuoc8Zk8loWFi7yOPOBl4xBqEBg+2c/jIErK2O3DgwNhyRuQeeuih2PvWPzuGiZwEWg40Vueee27B8mlwKZXI3XLLLbH9kqVqxUUcF4L7RuQkBFCQJsGbNV+YCD/22GOaBs204RJ3JJFL95sXhyXTiCXnAOdAdc+B/7mjSS+qQmADJNoQ9+2336qnatI24CFpIgbeWZ6R8M4TzYVmEUNuy+rSlqt0P9FheCfKWzfou518+umnTgipXmK3ASGtdqvkI7xWhZA5edG7jh07OiFuTgiF2jnBSxH2WrnsznLFHLN0eKeGRbR3avMFz0o8l/fee88JIXFCgPRju4IUik0mWtlwtQXPYTOGXSqwDRYEtnWFpBRcCtWd677hFr1v23bBOzUqYbtJO7cj8mIckFatWumRX0SACBABIlD3EahSInfVVVepo8KVV16pBvEIKWEfC4eAF76l2Usd20aZwFA+ThDGAhImHmnLVbqfceMJp4GIIHAvBGSuKgRhJESDo4GA4YCAcBzA/4wzzohtLhp2wjIhhAUEYTTCIhpOd+edd+o2biDdcGrAtlTihaofczQA8con+CegWME4hg4dqqE1jjnmGCda28RVFItL4oojGXPhaenYQiuKDUKUmNi5HZFu5/ibohABIkAEiED9QKBKvVbhkQmBdx0+cYKXrmkhxAhedx0IE7Kwli1cHvG5IGECkbZcpfsZHkfcOfafxVjghYu4bVUtIFXQlkFDh5hvcWIx2KL3LD3szQg8QaRALMSuyz366KPRYg47KiQRYFGsIA4gxoOy6IfYIarnrNj5FVVVElxyVYh5nU8Mt2geSweeRsyieXhNBIgAESACRMAQqFIiJ44KOcMcQOMAooLlRQtsaoFfES4BS0YIOwJSgHAjUYEWDyIOA8GttOUq3c+gwzlOsH2SETiE26iEvPLKK0rkEEokTnr06BGXrM8QN8LPAcvB0CZ9+OGHsSQOm9qLF2psfaUmgvyAxEEQSgYhORC65t5779WQJcUSw1y4ILgxJA4vjB0hUiC5tGOF8MRcriliJgBRDWFN6R/7QQSIABGozwjkX9cqERksaSF6ftznoosu0tph12P3xcBd0xApX4zc9VwM5GN7gZczJEx00pardD9jBxRKFO/bYFkNZKhUgXYoX9ww1L/BBhtoM0aqo21CW4dYYlGBxg0CGzgT2xUAy+dxL38JBqzLuJa/qo7i0OGAJZZ/JbSMu+SSSzKaKgUX24EhzgYPMe7ESSWjreiFOCnEPpO9995bs2LnhpoitntHWPtdU/rGfhABIkAE6jsCVUrkSgH3jjvu0OLYzN1Im9WHgKbQ+kBTIJH6LVmPactlVFLERZr2sCUTAreaVjHc3L777utgsweReG8aIDh8P805HBGgdTz55JNVyxmuAxojBKFFkF4I7PPiBNtEwXElLCBJffv21SVMCT8S3DL7RWidws4oyICtpKApq5RAswW7PIh42LrtttsuaLoUXGyMeF5h7Ro0zbAJLSRYQo0GQ95vv/10roOAIvBvTRH7ZwnzpBBBrSl9Zj+IABEgAvUJgbyhCgSI4D5ijiGul32ESKnYNY7hsAnhstHzfOFHkFc0OV5IktaP2GqPPPKIbmlkWxzhhkSrD/pm9actZ+Wjx6rop2hddFzAS/Yd1UDJTz75pEcAZBPEGSvX9kfilWvVegR3FW2Pl50VPOLWoX0TsWXLwtPCj6AMBGFBhGj6MWPGBCFMcB3FzeKhyVKnHzdunBfy5h944AGPLdnGjh2rfUB9CBkTLYtrCz+CLbri7kfTwuFHovdwPXLkSDSnAYJtm7JScJHl7yBQNeLVoX7EfsNzAza2JVg49hv6YfMXQY4hsnSreAJ7WfbVtGhMPlkq1vRwXEG0AZG9ZwN88Dwh4ZAkiMEH3MMfi1WI5xBOD4fyCWO47bbbar34Em9bj1AzeL74CHEN2g+X4fmfv5vEglhwDnAOVPEcSA4w4poVEpC9JB0uRJCsDjFWD2KCWdvYq1O2DYqNw1ZqOStvx6rop2ixdO9QkJyo4CU7YsQILxuXJ8LR+pnvKNtceQTFle2yos3pNYjIoEGDPMhJtB4jcuL96WU53IvtYlAHzhFMOFoG1506dfKjR48O8uJEltE9dpXAXruFiFqh+9E2CxE5CcnhxXlB+4MYcKKJ9KXggvb/8pe/KLGxQYKYI5Ybxodg1pBce61ilwzZ9sxjdwsT4BkXvLgUIrfRRhtZ9QWPgwcPjn2WGKvYGioJRSBnI5yoULTKOctEnxGvk//WEitixTnAOZB0DiBOAX6Ia7Rg+Q/7fCLem2it1C4uidF62nJpwSi2PSE7rlevXg42ZViywhIWlkCTjC1tHxE/DkuKcDSBwT7wRIiPXG0KkXNCWJxs0O5kQ3e1bZOtt9QZRUi7hi3J1xe0g5hxaAt2dBbrLF+Z6rhXLC7WR9ge9unTR/dHHT9+vI7T7iU5oryQLQ03M2HChIJ4JqmTeYgAESACRKD+IFAriFz9eRw1b6RRIlfzesgeEQEiQASIABGovwjUWGeH+vtIOHIiQASIABEgAkSACCRDgEQuGU7MRQSIABEgAkSACBCBGocAiVyNeyQ1q0Niz84dBmrWI2FviAARIAJEgAgECNBGLoCCJ0SACBABIkAEiAARqF0IUCNXu54Xe0sEiAARIAJEgAgQgQABErkACp4QASJABIgAESACRKB2IUAiV7ueF3tLBIgAESACRIAIEIEAARK5AAqeEAEiQASIABEgAkSgdiFAIle7nhd7SwSIABEgAkSACBCBAAESuQAKnhABIkAEiAARIAJEoHYhQCJXu54Xe0sEiAARIAJEgAgQgQABErkACp4QASJABIgAESACRKB2IUAiV7ueF3tLBIgAESACRIAIEIEAARK5AAqeEAEiQASIABEgAkSgdiFAIle7nhd7SwSIABEgAkSACBCBAAESuQAKnhABIkAEiAARIAJEoHYhQCJXu54Xe0sEiAARIAJEgAgQgQCBRsEZT4hAHUNgzTXXdA0bNnRffvmlW7BgQR0bHYdDBIgAESACRMC5ZQQEnwaIHXfc0a2xxhpa9J577nEzZsxIXM0yyyzjBg0a5Fq2bOmWLFniLrvssrxlN9tsM9evXz/Xt29f161bN/f999+7119/3d1///1uypQpGWV32mknt8kmm2SkRS/Q3y+++CKarNe77bab23777R1IAF7+b775pnv++ee1vdgCocRK9jPUbMHTDTbYwGFcv//+u7vkkkti82+77bZuiy22cD/99JO74YYbNA+e7/7775+RH8/r22+/VdzffvttN3/+/Iz7Neni559/du3atXN4Lm+88UZN6prOr8MOO8ytuuqqbvnll3c//vijmzx5snv22WfdCy+84H799dca1V92hggQASJABGouAiByiT4NGjTw++23n3/33Xd9WNZbb71E5a2d448/Pii+cOHCnGWF8HkheUHe6Mltt92WVfbaa6+NZsu6FrKXVU5IpR81alRWXiQIAfKnnnpqVhkbTyX7aW0WczzmmGN0XIsXL845hiuuuELzfPLJJ0GevffeW9Nyff3www/+tNNO85gXxfSnUnmFyGnXN9100xrTP8yVq6++2uNZ5JLwM6gUVmwn2W8gcSJOnAOcAzVtDiReWoWW6vrrr1cNggxCtVUtWrTAaVHStWtXJ6TBCYFzzZo1y1t25MiR7vDDD3fywnO33nqre/HFF91XX33levbs6aBB+u2333KWf+utt9yYMWNi78dp48477zx3wAEHaL/OOussLYtlOWikhg4d6q655hod8y233JJVZyX7mdV4hRLOP/98xaZRo0auR48equFbYYUV3PDhw/U54pnWNLnuuutc8+bN3bRp02pM14T4utNPP90JkdM59vjjj7uXX35ZtXJrr722O+6441zjxo1rTH/ZESJABIgAEaj5CCTSVsgLWxUI8lL08iLyG264YaBQWHfddRPVIVB4WQ710MINGzZMy8sSUmzZddZZR+8vWrTIH3jggbF5oN1AneGPaeSEdGakh/NEzzt37uzRD8jJJ5+cVU6Ind6bOHFi1r1K9jPa76TX5dDItW7dOmPsTZs29U888YTiAu2SkLuM+0n7Vp/yCanUuQ/Qjj766Fi8oN3ceuutY+/VJ6w41szfNeJBPDgHOAdyzYHEGrlvvvnGnXjiie72229XTdhqq60mdRYne+yxh9tnn33cpZdeqvZA+UpDawEZPXq0kyXP2KzyPoxNLzZx/fXXV63S0qVLnSzXZhWHzRj63KdPHycE1r3zzjtBnkr2M2i0BpxAG3rOOee4AQMGOGjpgMvUqVNjeyYk0AnhVZtKzKMJEyaoTVhs5j8ShSg62PbBTu/999/XMng+7du3d0J23OzZs9W+MlwHNFlt27YNJ+l5XN6sTJLQq1cvJ/+UaBtC2t1HH32U01ZtueWWc9BIww5v7ty5rkmTJm6jjTZy+Lv4+OOPHewHYU8YFmjcMC5gd9ddd4VvBeewYxw7dmxwHXeSBs8uXbroHJ85c6b75ZdftFrY5m2zzTZO/llSG1B7ftCao5/hvHH9gEZW/ply06dPV21tNE9V9zPaHq+JABEgAvUVgVT//csLS7Ux+EqikYNGR14UfsqUKV5egP6oo47S8nEaOVly9fKy0/vF2jel0chBCwcRI/6cWMhyrOa54IILgjyV7qdM0KDtYs6rQiOH9jF+E2gto30ScuP//ve/eyFglk2PsDm86qqrvBCvrDKoQ5wTvBj/Z5TBsxGi5efMmaPpQpqyyu6yyy4ZZeyi0BwS4uJl2d6yB0chaDm1waaNhI2gLL97cYwJyuFElku9kL2MPso/MZoHGszovSh2cddp8URdL730krYN+9SVV17ZC5nWa/tCn2RZV/t78803a7KYDGT0P9wnIaWaBxrzDh06ZOSrVD/D/eF5ut8G4kbcOAdq/xxIrJGTh12SXH755a579+6qkSsUCgKeqdBwQHMBb0PY0sGjcsstt1SP1Q8++MC99tprefuDtsRBQW2PoAWClgSerrDNiwrsqCBx9yyv3YNmw6TS/bR2a8oRGh0TeBKHBc9s3LhxqqmDxgoaqM8//1y1XkcccYR6LUN7BW/asGy88cbqtYny4lTjHn74YZ0LsrzunnnmGT0P5w+f4znfdNNNQdKRRx6ZNz8ydurUSbV90LCh/H333afawq222soJMXT33nuvwzOHjWScQKO1ww47uMcee0zrEZLk4I2KuQotLmzeTMw2ExpM+UdGbUXtXqFjWjyj9cJT/MEHH3Qrrrii4oxngueI/q600kqa/T//+Y879thj3V577eX++te/6t9htJ6DDjpIk55++mnV3Nn9SvbT2uSRCBABIlDfEcj4b1rASHRdjEYOGhFoZeRHP6g7n0ZOXqL6376EY/BoR0Ji6HX4S4zEvbxgg/qs36aRC+e180mTJnkJY5JVxrwzoR2Ms7tDmixHaTXyog/KV7qfNsZij6aRwwDECST2I0RMxxf2mDRccAMa1Wi7hrWEIPFCBjLuQ3MJgSYzaj8nBNibR6mQhYxypul66qmnPOzwrM2OHTt6PD8TIXzBPcsTPVob+TRyV155pVYphCZrPg0ZMkTvyRKjb9OmTUZ71k9kOOSQQzLuQbMFwXxq1apVcA/2bxLORu/hS0iqF0KUSDuXFk/DxDRy+FvCHOjdu3fQL+SRJWu/+eabaxrmO7TnkOjzsfrE6UjvR+1XK9lP6wuPyX6ziRNx4hyos3Mg3cCSEjksn4kGTZdKJWZW8PLIR+TwYoTgxS3BXP13333nzz77bA19cvHFFwekSrR1WcQL5OLrr7/2WB4ST0uPlzHIF5aAIFjWsxeWTWqxw9J7+IoLTYKXmQmW4Kxcpftp7RZ7DBM5G0euYy4iN3DgQC9evUo8JAagf+6557QKLMlFDfex1DZv3jy9379//wCvcL+xtArBEqSlr7766pqGL4kZGKTb/XDYmnIQOdEeBf20ZUVrC0cQSfsnIhp+xogcSFG4DM6xtAhcIGuttVbGffzdiO2d3gt/iR2gF5tDj2XeaH1p8QzXY0QO/cLSavhe3Pn//d//affERjUrr8Rp1Hv45wZmEla+OvppbfOY7necuBE3zoE6MQfSDSIpkZOwHvqjDy/V8ITJR+ROOOGE4B2HWGVRzRs8ZkHIILBPCtcLbU+cVg0kAfZ5ELxIo/ZZjz76qN4DeQwTTrQF7QS0TpDx48cH7VVHP8NjTXpuRE6M7704EMR+YA8FyUXk9GboC/j/61//0rqi/dhuu+00JzRSErbGS6gY/SAdH6TJkp3mARmwOHSIUQiBZ3S0TlxL2Bm9j69yELkwccxls3b33Xdrm/jHINwnI3Ky5JqRbnlMoyXLrln3QRBPOukktVuL2g9C+7f77rtnlEmLp/UFRyNyDz30UEbd4Tzhc9i9QmD7F9YqIg/GDJHl8oy6qqOf4T7zPN1vOXEjbpwDtX4OpBtAEiK3yiqr6PISXmoIuBueLPmInL3Q8bKAliJczs6ffPJJ3PZ33nln7H3LFz6Kh6WWwVd0uQ3kDZo/CF6uIHTm4PDpp58GgYnDL8Lq6Gd4PEnPjchBG5OrTKGAwCB6IDMIH2NLlmJT5nfeeeesOsW7WXFM+iX2jFrHGWecoUXitFzoNzRdJuUgcrI7iVYHbW0c+UebhovY52WM04jcmWeemZFu+GL+QPbcc8/Y+5ZPdp7wYieo2No/CwjPI/ZqQbm0eFobOBqRw3jC6fnOP/zwQx3DwQcfHJQB6QbRhgC/cPnq6me4DzxP93tO3Igb50DtnQNV6uwgy2fqqCB2SA6hCPAxsTAR8gJVY3Kkz5o1Sw2rsV2RCbbIihOEh8B2XGagHZcnmobtj4TMaMBVbMEV3rbps88+cwgPIV6WTuJ4OSGh6lghRFEDAosGRavD9lQm1dFPa7vSx1NOOSUIW4FAybJk7cQeSp0DZGePjC3P4AQCEQKfyKBfPFE1P0KLQOAcEScIkwEHGITGKIfAwQGC8CTCS2KrxJyEWN5oJsynUgT1w1ECH1nO1JAnGJ+QWicaX606LZ5x/QrP37j74TRsZQcnJTg2wAECIkvlDuFJRFPuZHk9nF23z0NCsc89o5I/LorpZ1x5phEBIkAE6gsCVUrk4DkKQYR9fOIELy3zeIQHI3ZjCBMk7P0ZJ4jfBcn1go0rg7heqBsvRryMooI6xd5Lk+HJKkuDQRZ4+UHCL5jq6mfQqWo6EY2lu/DCC3V3DexjCqKO+IAmYqOop7L86v75z39acsGjYSsBmmPz4h+BcpE4NGDzDvuxIjYd+hsVsfvSJMsbvV/Oa3i1ipOHk6VVJ7Z1QdVp8QwqCJ1EY9uFbmWdgrxhH2TsqwyMQDrhPQxBfEfMg7BUVz/DfeA5ESACRKC+IdCgKgcsjgpOlmdiP7KMqU1DE2J5LFApwkBYuA8jg9F+WhgQe3lE78ddg5wZgUPYhXwSJnHiMamBb5E/HPakJvQz3xiq+p4sK2oT4t3qZKkzaA7aTQgIGQhSUhEbRs2KLdgQfiYqxWhfo2Xjrm3uIByIzYtoPvQFYnmj98t9/corr2iVYe11WjxL7RvG/Oqrr6oGG0QdAZeNsENbF5Xq6me0H7wmAkSACNQnBJK/ZVOggn1KsVwZ97nooou0RiyV2X2x49E0sRVyYoum59AGxAniykEKEbJwWfEyDYgFyGNSwbIiNEGI1m8vWpStaf1MOp5y5cNLXrx4tbrBgwcH1WLnBiyXIqbYoYceGqQXOsFSt3i76hK82JZlZbfYZVk3UiaAqNjSKeZqVMTI34kNoCZjTKUK5lAcQQ3Xi90sINhVwiQtnla+lKMRNmji8LeI5W/8zcWZPFRnP0sZI8sSASJABGo7AhkGyzKYRNdJnB3y1ZXP2QHl4NkIgeejkLaMPkmgV70Hz0l4lVo7iBGHkCNRL1fc33fffb3YQmm5sMOClUWss2hYEhh2m9ctCkZjZlVHP62/xRzL4ewgGqIA53Db8Mo0Ce+28Le//U2TZbk0y7EE5bHvKObA4YcfnlGvhSVBObFjDO5J4N3AcxgVl8PZAf2QJWLtJxxdwt7KcH648cYb9R5i7KG/4XGbswN2dgin23mcswOcf+D4g51EEPrE8uKI9hDGBXMaIkGTM+6nxdPaMGcHhHCxtCRHhBSBMwgcgCzkDEL65CpbXf3M1R+mJ/s9J07EiXOgVs+B5J1HrCt4PtpH3zjyZdc4yj6kOX/kwxOlEJEDibrjjju0CbxIHnnkET98+PDgZYIbEsU/oy0LYIt+yDKPBiCGd+vkyZO1HnzhhS1Lfhnl0C+QOAjywkPxhRde8NiiyUSMvmM9GyvdzzCGSc+rksihD3jmEDHYD3AVhwhvZAckQBxNNGzFiBEjPIL9iiZMy0TD0oA4WH0Il/Lee+95cWxRgnP11Vfn3KILsdEeeOCBjA/mDWTs2LEZ6eGQNQj0i2DAEHjjigZK55n1AX1HDL0o1ja2YomcNiRf8FAVDa9HeBPEOcR8NUEonGh7afG0etISOZS30DzWvzDhtfrtWJ39tD7wmPw3nVgRK86BOjEHkg8iLpCp/bjbEWQvycQoROSsjqFDhwYvfWsDwWYRoDUaMgJBZGV5J9BqWH4c8VIHiYhG6Ld2EFMMwYejgjRZHiw4pkr10/pbzLGqiRy0nSZhDSn6iEC74hRit4MjSPKoUaNitXUIVQOSbgQcse0QNgOk2UJ0IIhzGANoA5OKLANnlMWckK24PIhjWBBeBTHwwu3YeRoih3FBAyhbj4WbCc5nzJjhEWw5qv2zNnFMgyfKlULkEAjaBDtThPuT67w6+pmrL0xP/htPrIgV50DtmwPL/PHQ5FBzBSFKsIclQoLIy11tdPJ532H/zF69eqk9Dwy0YdMDx4t8ZWz0aAdlIdjr07xjNaHAVyX7WaArNe42nFPgiYnQJQhPgech5LpgP+GgYo4nCFljoUKwZ6ilF6wkYQa01adPH503sKE0h5yExYvKBgcaOFLAgxp2gZjX8NpNMkfRUFo8i+pkGTLXln6WYaisgggQASJQLQjUCiJXLciw0RqHADanxybtIILmTVrjOskOEQEiQASIABGoIAJV6rVawXGwqTqCgCxzumOPPTYjeDSGBi0rYppBZIsoPfKLCBABIkAEiEB9R4Aaufo+A2rY+BF7bvr06U72+NQQF1iCxTIkws0gOK84Ibi//OUviZZla9jQ2B0iQASIABEgAmVHgESu7JCywlIQQOy2W2+91W211VbB1m3YcQEx32STdtXKiVdyKU2wLBEgAkSACBCBOoMAiVydeZR1byAgddDGYV/Pcjs21D20OCIiQASIABGojwiQyNXHp84xEwEiQASIABEgAnUCATo71InHyEEQASJABIgAESAC9REBErn6+NQ5ZiJABIgAESACRKBOIEAiVyceIwdBBIgAESACRIAI1EcESOTq41PnmIkAESACRIAIEIE6gQCJXJ14jBwEESACRIAIEAEiUB8RIJGrj0+dYyYCRIAIEAEiQATqBAIkcnXiMXIQRIAIEAEiQASIQH1EgESuPj51jpkIEAEiQASIABGoEwiQyNWJx8hBEAEiQASIABEgAvURARK5+vjUOWYiQASIABEgAkSgTiBAIlcnHiMHQQSIABEgAkSACNRHBEjk6uNT55iJABEgAkSACBCBOoFAozoxCg6i1iDQsmVLt9JKK7k2bdponydPnuy+++67oP9IX2eddZz33r366qtBOk+IABEgAkSACBCBbARSE7kdd9zRrbHGGlrjPffc42bMmJFde46UZZZZxg0aNMjhpb5kyRJ32WWXZeRcd9113Z577pmRluvigw8+cA899FBwe6eddnKbbLJJcB13gv5+8cUXcbfcbrvt5rbffnu35pprugULFrg333zTPf/88+7111+PzR+XWGh84TLlaC9cX9z5BhtsoOP6/fff3SWXXBKXxaHPJ554ouvYsaObO3euu/baa93SpUtj86ZJ7NChg7vuuuvcQQcdlFH8rLPOcn//+9+DtLXXXtu98sorDn1t2LBhkM4TIkAEiAARIAJEIB4BL8mJPg0aNPD77beff/fdd0Vh8qest956icpbO8cff3xQeOHChVllDz/88OB+oZObbropo7wQkEJFvJC9jDLol5BKP2rUqNiyQir8qaeemlXGxhM9FhpfuduLth+9PuaYY3RcixcvzjmGESNGaB4hr75fv34580XrTno9cuTIoP7HH3/cDx8+XD9bb711Rlubb7655hMSmZGetB3mS/a3TJyIE+cA5wDnQN2YA4k1ctBSXX/99W7VVVeVZ+9UW9WiRQs9L+ara9eu7oorrnBC4FyzZs1ii77//vtu8ODBsfeQ2Lp1a3fGGWfo/f/+97+x+d566y03ZsyY2Htx2rjzzjvPHXDAAdovaIlQFhqh/fff3w0dOtRdc801OuZbbrkltk5LTDI+5C1Xe9ZuKcdLL73U/e1vf3OLFi1ye+21l3v55ZdLqS6rbJMmTdxhhx2m6XvssYd79tlns/IwgQgQASJABIgAEUiHQCLNBzQokGnTpvnTTz/db7jhhnqNL1kKTVSHdM/ff//9Hlq4YcOGaflff/01cVmUx+foo4/Wsl9//bWHltDScTSNnJDOjPRwnuh5586dPfoBOfnkk7PKCbHTexMnTsy6F60ryfjK2V60/bjrfBq5c845R8cGbZ2QuILji6u/UJqQf21DiKJv3rx53jaokasb/yEWmhO8z+fMOcA5wDlQnjmQWCP3zTffqA3V7bff7n777Te32mqryTMoTqCN2WeffRw0QDByTytCTLTonXfeqbZUaeuxcuuvv75qB2ETdtttt1lycLzhhhu0z3369HFCYN0777wT3AufJB1fudoLt53m/KSTTnJCqBXDgQMHZtgaRuvr2bOnW2uttVy3bt3cvHnznJBa99lnnzkhgNGser3ccss509iaLSXmjZDYjPw///yz2uRlJOa5gDYW9nYQ+adCtYjh7MX2M1yW50SACBABIkAEaiMCeTUkMqDY+0LkVMuCryQaOXkB+6lTp/opU6Z4ecH7o446SssXq5ETY3gtB7u1FVdcMatvaTRy0MJBvv3226z6bPyyHKt5Lrjggtg8xYyvHO1Zv5Ic4zRyQtw8MIQcd9xxsWNC3QMGDPDiUKL5ol9C6Pyhhx4aW/aJJ56IZo+9liXyjPL5NHK9evXyX331ldYjhDtDG5u2n0nwY5743wDiQlw4BzgHOAeqfw4k1sjJwypJLr/8cte9e3fVyMEbNK2YNg52XPJSz1kN2hIHBbf88ss7aBM//vhj9TyFbV5UZLlPk+LuWV6716VLF0vKOBYzvnK0l9F4kRfisOJuvfVW9VSF9/DNN9+cswZoD+FJKg4u6sH7+eefO1nOdvAsPvDAA93dd9+t4UQuvvjijDoefPBBxRyJsBs8+OCDVXsGz9WwvP322+HLnOewzYT3MJ4r6sCzFUYX5E/bz6ACnhABIkAEiAARqKUIZGhEZAyJrovRyG266aYeXohPP/10UHcajZw4R/iZM2eqRuaII44I6gr32TRyceqfSZMmxXpk7r333pod2kEJw5FVL9J++eUXzXPfffdl3S92fKW2Fx5vkvOwRm7nnXf2sFWD3HjjjVljidbXv39/v/HGG8fmk9ApWg88Xdu3bx+bB/VttNFGmm/OnDk581i7cRo5WdL133//vdYhjjKxdZSjn9YHHpP9BhAn4sQ5wDnAOVAj5kC6TiQlco0bN9alObGP8jB6t4eehsiJVkdf5hLnTMOFWF3hI4gcnCBEy+TPP/98P2TIEA/yZeQFy4kgC+EyYsOl9eIrLjQJnABMXnzxxYyyacZXSnvhfic9NyKHsZtTB8YzefJk36pVq4zxJK3T8mG5HLLrrrvmrKcUIieaNi8xCrWNCy+8MGcb1p9cxyT9zFWW6el+I4gbceMc4BzgHKjIHEjXSFIiJ2E29CUML9XwA01D5F544QWtS5YFM+oK1yvG+LFatdVXX13t81DBRx995EHAwuUeffRRrRtauzDhhHcuSMD8+fP1/vjx4zPKpR1f2vbCfU56bkROByBf//rXv/ysWbP0MhqHL1+d4mTgETNQgkGr7Rzs0mTJWuuBzV2usmmJnAR2Dvp57rnn5qw/2m7afkbr4XW63wbiRtw4BzgHOAcqOgfSNZaEyK2yyiqqAQIRQsDd8IMtlsitvPLKgXF+VKMWrjffOYiHCZZDw3lB3mSrKL2NZWAQOnNw+PTTT73sPqH3ZBeJoFwp40vTXri/xZyHiRxIHMoa/hgUiFmu+rCsjADNIL/55K9//WvOOtIQObQFzauJxO/LWT/6Xo5+5sKA6el+I4gbceMc4BzgHKj6OdBAQK4yueqqqzSsx5VXXqlBfOEoYJ+2bdtqu/ICDtKaNm2asy8SO06N8xHyIu0enAhEa+EysAVXWFAvjPoRXkWWZp2QNAenBIQ4EbuyIHixeLYGxUoZX5r2goZTniC8CrbhgmCczz33nJ7D8WHZZZfV8+gXAhcDA4QQERtHB6cGhC2R3Sv0Y8GV4QBRbsF8QDBmbOMmZFSDM+dqozr7matPTCcCRIAIEAEiUAkE8mo6pAOx95No5CTemilUEh1z2Vk1atQoMHYvZoktru8IMQKB/VzcfUuLBq6FJg5y9tlnB+XKNT60maQ961uxR9PIRbfo6t27t0cIEYiQtWBcVr94iKqTCjSUu+++e9Z95Pvkk0+0/AknnBB7H3nSauTMXhG2cZDZs2d7hCCx/tmxXP20+niM/5snLsSFc4BzgHOg5s2BKg0/8uWXXzpszxQn7dq10+Cy8n52smynWcQzNC6rbvgOTR40SnfddVdsniSJ0LAhFAYEYTTyiTgFBLexkbwsy+r1a6+9FqSXa3yoMEl7QcNlOhFnByeEVrcfk+VTh5AhjzzySFA7gh9D0/bhhx86sekL0u0EW5gJGbTLsh7FMcM99dRTWidCu+ywww5uiy22cPfee6/bcsstVUtnDVZnP60PPBIBIkAEiAARqC4EsjQc0pGCaUk0cvnqMRsteFHmy4d72GQd8uSTTxbMm68u00yhLllaTVyXLCeiiJf9WxOXKWZ80T6naS9aR/jaxh3VyCEPtjgTcqrjmz59uoejgJU98sgjNV3i8GUE37X7CAFjUm6NHLSA1g6OsmND4PgQdZwpVz/D7fG88G8AMSJGnAOcA5wDNWIOpOtEpYhcjx49dHkPhEE2sM94uUcnUL9+/XTJVLR3Wfn23XdfXZpDPWGHBasD7USdKEByzCsV5SQAbla9Vj56LETkyt1etP3wdT4ih3wIh4L9byGjR48Oxti3b19NwxdixoXrhPeqOYfgflUTObR9wAEHoCmdD9ttt13Qn3L1Mzw+nqf7XSBuxI1zgHOAc6DicyB5g++//76HVsc++laVL7vGEXZjSR5iIaJjdVx00UXaDAIBi/F73rot0C76Ic4EGoAYWjzESzMB+cCm9Va/HS0QLfI+88wzHqFOwl6TsrwXG9bEykePhcZX7vai7YevCxE55IXNoEmYMCOIMwQx6MaNG+eBwwMPPKDeyGPHjvWyM4PerwSRQz9Hjhyp7SFAsOznGjzHcvQzjBnPk/8uECtixTnAOcA5UK1zIHnjhUJQ4A0LspfkgRYiOqgDGjEE94XItkwF64VmZsKECUGYEi34xxcCAo8YMcK3adMmth7EmRObt3ARPUdarv1E842z0PjK3V6+viQhcnAoee+993TMP/30U0B2O3XqpFq6MDAI7vzwww/rnrkvvfSS3hIv1lhc0a80zg7RpVUbHwIYW1gY7OeKsCO4V45+Whs8Jv9NIFbEinOAc4BzoHrnwDJ/PAA51B2Rl7oT70Yn20Y5Cfyrjg1wTEAYi0Ii8eq0LPJhf9Gff/65UJGS7le6vbSdlUDLGoJEvFydED4nZC5tVVVarrb0s0pBYOVEgAgQASJQbxCok0Su3jw9DpQIEAEiQASIABGo1wiUP4prvYaTgycCRIAIEAEiQASIQOUQIJGrHNZsiQgQASJABIgAESACZUWARK6scLIyIkAEiAARIAJEgAhUDgESucphzZaIABEgAkSACBABIlBWBEjkygonKyMCRIAIEAEiQASIQOUQIJGrHNZsiQgQASJABIgAESACZUWARK6scLIyIkAEiAARIAJEgAhUDgESucphzZaIABEgAkSACBABIlBWBEjkygonKyMCRIAIEAEiQASIQOUQIJGrHNZsiQgQASJABIgAESACZUWARK6scLIyIkAEiAARIAJEgAhUDgESucphzZaIABEgAkSACBABIlBWBEjkygonKyMCRIAIEAEiQASIQOUQIJGrHNZsiQgQASJABIgAESACZUXg/wFMwpZ5q8NEJAAAAABJRU5ErkJggg==)"
      ],
      "metadata": {
        "id": "Olt3dbtW1CLr"
      }
    },
    {
      "cell_type": "markdown",
      "source": [
        "To kill your spark process:"
      ],
      "metadata": {
        "id": "-QOV_1kp1ERM"
      }
    },
    {
      "cell_type": "code",
      "execution_count": null,
      "metadata": {
        "cell_id": "00036-317e204d-c3ec-4549-9285-2dee794a1e0e",
        "deepnote_cell_type": "code",
        "id": "FQXJ7tHosU_-"
      },
      "outputs": [],
      "source": [
        "sc.stop()"
      ]
    },
    {
      "cell_type": "code",
      "execution_count": null,
      "metadata": {
        "cell_id": "00037-30a3c2e8-b122-46be-b62c-efe14c2e71df",
        "deepnote_cell_type": "code",
        "id": "dlDKOKCqsU_-"
      },
      "outputs": [],
      "source": []
    }
  ],
  "metadata": {
    "deepnote_execution_queue": [],
    "deepnote_notebook_id": "34558ca3-99ac-48c4-8d6f-270fc26fe9dc",
    "jupytext": {
      "encoding": "# -*- coding: utf-8 -*-"
    },
    "kernelspec": {
      "display_name": "Python 3",
      "name": "python3"
    },
    "colab": {
      "provenance": []
    },
    "language_info": {
      "name": "python"
    },
    "gpuClass": "standard"
  },
  "nbformat": 4,
  "nbformat_minor": 0
}